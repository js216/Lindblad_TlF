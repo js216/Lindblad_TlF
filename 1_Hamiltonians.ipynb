{
 "cells": [
  {
   "cell_type": "markdown",
   "metadata": {},
   "source": [
    "# TlF ground state spectrum\n",
    "\n",
    "For the X state, we use the Hamiltonian from Table 1 of [D.A. Wilkening, N.F. Ramsey, and D.J. Larson, Phys Rev A **29**, 425 (1984)](https://journals.aps.org/pra/abstract/10.1103/PhysRevA.29.425).\n",
    "\n",
    "For the B state, the Hamiltonian was derived by Oskari Timgren."
   ]
  },
  {
   "cell_type": "code",
   "execution_count": 1,
   "metadata": {},
   "outputs": [],
   "source": [
    "import pickle\n",
    "import numpy as np\n",
    "from tqdm.notebook import tqdm\n",
    "from sympy.physics.wigner import wigner_3j\n",
    "\n",
    "from utils.states import CoupledBasisState, UncoupledBasisState, State"
   ]
  },
  {
   "cell_type": "markdown",
   "metadata": {},
   "source": [
    "### Units and constants\n",
    "\n",
    "For the X state:"
   ]
  },
  {
   "cell_type": "code",
   "execution_count": null,
   "metadata": {},
   "outputs": [],
   "source": [
    "Jmax = 6      # max J value in Hamiltonian\n",
    "I_Tl = 1/2    # I1 in Ramsey's notation\n",
    "I_F = 1/2     # I2 in Ramsey's notation\n",
    "\n",
    "# TlF constants. Data from D.A. Wilkening, N.F. Ramsey,\n",
    "# and D.J. Larson, Phys Rev A 29, 425 (1984). Everything in Hz.\n",
    "\n",
    "B_rot_X = 6689920000 # superseeded below\n",
    "c1 = 126030.0\n",
    "c2 = 17890.0\n",
    "c3 = 700.0\n",
    "c4 = -13300.0\n",
    "\n",
    "D_TlF = 4.2282 * 0.393430307 *5.291772e-9/4.135667e-15 # [Hz/(V/cm)]\n",
    "\n",
    "# Constants from Wilkening et al, in Hz/Gauss, for 205Tl\n",
    "\n",
    "mu_J = 35\n",
    "mu_Tl = 1240.5\n",
    "mu_F = 2003.63\n",
    "\n",
    "# Values for rotational constant are from \"Microwave Spectral tables: Diatomic molecules\" by Lovas & Tiemann (1974). \n",
    "# Note that Brot differs from the one given by Ramsey by about 30 MHz.\n",
    "\n",
    "B_ϵ = 6.689873e9\n",
    "α = 45.0843e6\n",
    "B_rot_X = B_ϵ - α/2"
   ]
  },
  {
   "cell_type": "markdown",
   "metadata": {},
   "source": [
    "For the B state:"
   ]
  },
  {
   "cell_type": "code",
   "execution_count": null,
   "metadata": {},
   "outputs": [],
   "source": [
    "Jmin = 1\n",
    "Omegas = [1, -1]\n",
    "B_rot_B = 6687.879e6\n",
    "D_rot_B = 0.010869e6\n",
    "H_const_B = -8.1e-2\n",
    "h1_Tl = 28789e6\n",
    "h1_F = 861e6\n",
    "q = 2.423e6\n",
    "c_Tl = -7.83e6\n",
    "c1p_Tl = 11.17e6\n",
    "μ_B = 100\n",
    "gL = 1\n",
    "gS = 2"
   ]
  },
  {
   "cell_type": "markdown",
   "metadata": {},
   "source": [
    "### Representing the states\n",
    "\n",
    "A state, in general, can be written as a weighted superposition of the basis states. Some of the operations we can define on the basis states are:\n",
    "\n",
    "- construction\n",
    "- equality testing;\n",
    "- inner product, returning either 0 or 1;\n",
    "- superposition and scalar multiplication, returning a `State` object\n",
    "- a convenience function to print out all quantum numbers\n",
    "\n",
    "In particular, two bases are useful when dealing with TlF molecules. The so-called coupled basis consists of kets of form $|F, m_F, F_1, J, I_1, I_2, \\Omega\\rangle$, whereas the uncoupled basis consists of kets of form $|J, m_J, I_1, m_1, I_2, m_2\\rangle$."
   ]
  },
  {
   "cell_type": "markdown",
   "metadata": {},
   "source": [
    "A general state `State` can have any number of components, so let's represent it as an list of pairs `(amp, psi)`, where `amp` is the relative amplitude of a component, and `psi` is a basis state. The same component must not appear twice on the list.\n",
    "\n",
    "There are three operations we can define on the states:\n",
    "\n",
    "- construction\n",
    "- superposition: concatenate component arrays and return a `State`\n",
    "- scalar multiplication `a * psi` and `psi * a`, division, negation\n",
    "- component-wise inner product `psi1 @ psi2`, where `psi1` is a bra, and `psi2` a ket, returning a complex number\n",
    "\n",
    "In addition, I define an iterator method to loop through the components, and the `__getitem__()` method to access the components (which are not necessarily in any particular order!). See [Classes/Iterators](https://docs.python.org/3/tutorial/classes.html#iterators) for details.\n",
    "\n",
    "The state classes are defined in `utils/states.py` (already imported above)."
   ]
  },
  {
   "cell_type": "markdown",
   "metadata": {},
   "source": [
    "### Operators in Python\n",
    "\n",
    "Define QM operators as Python functions that take `BasisState` objects, and return `State` objects. Since we are interested in finding matrix elements, we only need the action of operators on the basis states (but it'd be easy to generalize using a `for` loop).\n",
    "\n",
    "The easiest operators to define are the diagonal ones $J^2, J^4, J^6, J_z, I_{1z}, I_{2z}$, which just multiply the state by their eigenvalue:"
   ]
  },
  {
   "cell_type": "code",
   "execution_count": 4,
   "metadata": {},
   "outputs": [],
   "source": [
    "def J2(psi):\n",
    "    return State([(psi.J*(psi.J+1),psi)])\n",
    "\n",
    "def J4(psi):\n",
    "    return State([( (psi.J*(psi.J+1))**2, psi)])\n",
    "\n",
    "def J6(psi):\n",
    "    return State([( (psi.J*(psi.J+1))**3, psi)])\n",
    "\n",
    "def Jz(psi):\n",
    "    return State([(psi.mJ,psi)])\n",
    "\n",
    "def I1z(psi):\n",
    "    return State([(psi.m1,psi)])\n",
    "\n",
    "def I2z(psi):\n",
    "    return State([(psi.m2,psi)])"
   ]
  },
  {
   "cell_type": "markdown",
   "metadata": {},
   "source": [
    "The other angular momentum operators we can obtain through the ladder operators\n",
    "\n",
    "$$ J_\\pm=J_x\\pm iJ_y. $$\n",
    "\n",
    "These are defined through their action on the basis states as (Sakurai eqns 3.5.39-40)\n",
    "\n",
    "$$ J_\\pm|J,m\\rangle=\\sqrt{(j\\mp m)(j\\pm m+1)}|jm\\pm1\\rangle. $$\n",
    "\n",
    "Similarly, $I_{1\\pm},I_{2\\pm}$ act on the $|I_1,m_1\\rangle$ and $|I_2,m_2\\rangle$ subspaces in the same way."
   ]
  },
  {
   "cell_type": "code",
   "execution_count": 5,
   "metadata": {},
   "outputs": [],
   "source": [
    "def Jp(psi):\n",
    "    amp = np.sqrt((psi.J-psi.mJ)*(psi.J+psi.mJ+1))\n",
    "    ket = UncoupledBasisState(psi.J, psi.mJ+1, psi.I1, psi.m1, psi.I2, psi.m2)\n",
    "    return State([(amp,ket)])\n",
    "\n",
    "def Jm(psi):\n",
    "    amp = np.sqrt((psi.J+psi.mJ)*(psi.J-psi.mJ+1))\n",
    "    ket = UncoupledBasisState(psi.J, psi.mJ-1, psi.I1, psi.m1, psi.I2, psi.m2)\n",
    "    return State([(amp,ket)])\n",
    "\n",
    "def I1p(psi):\n",
    "    amp = np.sqrt((psi.I1-psi.m1)*(psi.I1+psi.m1+1))\n",
    "    ket = UncoupledBasisState(psi.J, psi.mJ, psi.I1, psi.m1+1, psi.I2, psi.m2)\n",
    "    return State([(amp,ket)])\n",
    "\n",
    "def I1m(psi):\n",
    "    amp = np.sqrt((psi.I1+psi.m1)*(psi.I1-psi.m1+1))\n",
    "    ket = UncoupledBasisState(psi.J, psi.mJ, psi.I1, psi.m1-1, psi.I2, psi.m2)\n",
    "    return State([(amp,ket)])\n",
    "\n",
    "def I2p(psi):\n",
    "    amp = np.sqrt((psi.I2-psi.m2)*(psi.I2+psi.m2+1))\n",
    "    ket = UncoupledBasisState(psi.J, psi.mJ, psi.I1, psi.m1, psi.I2, psi.m2+1)\n",
    "    return State([(amp,ket)])\n",
    "\n",
    "def I2m(psi):\n",
    "    amp = np.sqrt((psi.I2+psi.m2)*(psi.I2-psi.m2+1))\n",
    "    ket = UncoupledBasisState(psi.J, psi.mJ, psi.I1, psi.m1, psi.I2, psi.m2-1)\n",
    "    return State([(amp,ket)])"
   ]
  },
  {
   "cell_type": "markdown",
   "metadata": {},
   "source": [
    "In terms of the above-defined ladder operators, we can write\n",
    "\n",
    "$$J_x=\\frac{1}{2}(J_++J_-);\\quad\n",
    "J_y=\\frac{1}{2i}(J_+-J_-),$$\n",
    "\n",
    "and similarly for $I_{1x}, I_{1y}$ and $I_{2x}, I_{2y}$."
   ]
  },
  {
   "cell_type": "code",
   "execution_count": 6,
   "metadata": {},
   "outputs": [],
   "source": [
    "def Jx(psi):\n",
    "    return (1/2)*( Jp(psi) + Jm(psi) )\n",
    "\n",
    "def Jy(psi):\n",
    "    return -(1/2)*1j*( Jp(psi) - Jm(psi) )\n",
    "\n",
    "def I1x(psi):\n",
    "    return (1/2)*( I1p(psi) + I1m(psi) )\n",
    "\n",
    "def I1y(psi):\n",
    "    return -(1/2)*1j*( I1p(psi) - I1m(psi) )\n",
    "\n",
    "def I2x(psi):\n",
    "    return (1/2)*( I2p(psi) + I2m(psi) )\n",
    "\n",
    "def I2y(psi):\n",
    "    return -(1/2)*1j*( I2p(psi) - I2m(psi) )"
   ]
  },
  {
   "cell_type": "markdown",
   "metadata": {},
   "source": [
    "### Composition of operators\n",
    "\n",
    "All operators defined above can only accept `UncoupledBasisStates` as their inputs, and they all return `States` as output. To allow composition of operators,\n",
    "\n",
    "$$\\hat A\\hat B|\\psi\\rangle=\\hat A(\\hat B(|\\psi\\rangle)),$$\n",
    "\n",
    "define the following function."
   ]
  },
  {
   "cell_type": "code",
   "execution_count": 7,
   "metadata": {},
   "outputs": [],
   "source": [
    "def com(A, B, psi):\n",
    "    ABpsi = State()\n",
    "    # operate with A on all components in B|psi>\n",
    "    for amp,cpt in B(psi):\n",
    "        ABpsi += amp * A(cpt)\n",
    "    return ABpsi"
   ]
  },
  {
   "cell_type": "markdown",
   "metadata": {},
   "source": [
    "### Rotational term\n",
    "\n",
    "The simplest term in the Hamiltonian simply gives the rotational levels:\n",
    "\n",
    "$$H_\\text{rot}=B_\\text{rot}\\vec J^2.$$"
   ]
  },
  {
   "cell_type": "code",
   "execution_count": 8,
   "metadata": {},
   "outputs": [],
   "source": [
    "def Hrot_X(psi):\n",
    "    return B_rot_X * J2(psi)"
   ]
  },
  {
   "cell_type": "markdown",
   "metadata": {},
   "source": [
    "For the B state, the expression is"
   ]
  },
  {
   "cell_type": "code",
   "execution_count": 9,
   "metadata": {},
   "outputs": [],
   "source": [
    "def Hrot_B(psi):        \n",
    "    return B_rot_B * J2(psi) - D_rot_B * J4(psi) + H_const_B * J6(psi)"
   ]
  },
  {
   "cell_type": "markdown",
   "metadata": {},
   "source": [
    "### Terms with ang. momentum dot products\n",
    "\n",
    "Note that the dot product of two angular momentum operators can be written in terms of the ladder operators as\n",
    "\n",
    "$$\\vec A\\cdot\\vec B=A_zB_z+\\frac{1}{2}(A_+B_-+A_-B_+).$$\n",
    "\n",
    "We have the following terms (from Table 1 of Ramsey's paper):\n",
    "\n",
    "$$\n",
    "H_\\text{c1}=c_1\\vec I_1\\cdot\\vec J;\\quad\n",
    "H_\\text{c2}=c_2\\vec I_2\\cdot\\vec J;\\quad\n",
    "H_\\text{c4}=c_4\\vec I_1\\cdot\\vec I_2\\\\\n",
    "H_\\text{c3a}=15c_3\\frac{(\\vec I_1\\cdot\\vec J)(\\vec I_2\\cdot\\vec J)}{(2J+3)(2J-1)}\n",
    "=\\frac{15c_3}{c_1c_2}\\frac{H_\\text{c1}H_\\text{c2}}{(2J+3)(2J-1)}\\\\\n",
    "H_\\text{c3b}=15c_3\\frac{(\\vec I_2\\cdot\\vec J)(\\vec I_1\\cdot\\vec J)}{(2J+3)(2J-1)}\n",
    "=\\frac{15c_3}{c_1c_2}\\frac{H_\\text{c2}H_\\text{c1}}{(2J+3)(2J-1)}\\\\\n",
    "H_\\text{c3c}=-10c_3\\frac{(\\vec I_1\\cdot\\vec I_2)\\vec J^2}{(2J+3)(2J-1)}\n",
    "=\\frac{-10c_3}{c_4 B_\\text{rot}}\\frac{H_\\text{c4}H_\\text{rot}}{(2J+3)(2J-1)}\n",
    "$$"
   ]
  },
  {
   "cell_type": "code",
   "execution_count": 10,
   "metadata": {},
   "outputs": [],
   "source": [
    "def Hc1(psi):\n",
    "    return c1 * ( com(I1z,Jz,psi) + (1/2)*(com(I1p,Jm,psi)+com(I1m,Jp,psi)) )\n",
    "\n",
    "def Hc2(psi):\n",
    "    return c2 * ( com(I2z,Jz,psi) + (1/2)*(com(I2p,Jm,psi)+com(I2m,Jp,psi)) )\n",
    "\n",
    "def Hc4(psi):\n",
    "    return c4 * ( com(I1z,I2z,psi) + (1/2)*(com(I1p,I2m,psi)+com(I1m,I2p,psi)) )\n",
    "\n",
    "def Hc3a(psi):\n",
    "    return 15*c3/c1/c2 * com(Hc1,Hc2,psi) / ((2*psi.J+3)*(2*psi.J-1))\n",
    "\n",
    "def Hc3b(psi):\n",
    "    return 15*c3/c1/c2 * com(Hc2,Hc1,psi) / ((2*psi.J+3)*(2*psi.J-1))\n",
    "\n",
    "def Hc3c(psi):\n",
    "    return -10*c3/c4/B_rot_X * com(Hc4,Hrot_X,psi) / ((2*psi.J+3)*(2*psi.J-1))"
   ]
  },
  {
   "cell_type": "markdown",
   "metadata": {},
   "source": [
    "The overall field-free Hamiltonian for the X state is"
   ]
  },
  {
   "cell_type": "code",
   "execution_count": 11,
   "metadata": {},
   "outputs": [],
   "source": [
    "def Hff_X(psi):\n",
    "    return Hrot_X(psi) + Hc1(psi) + Hc2(psi) + Hc3a(psi) + Hc3b(psi) \\\n",
    "            + Hc3c(psi) + Hc4(psi)"
   ]
  },
  {
   "cell_type": "markdown",
   "metadata": {},
   "source": [
    "### $\\Lambda$-doubling term\n",
    "Couples terms with opposite values of $\\Omega$ and shifts e-parity terms up in energy and f-parity down in energy"
   ]
  },
  {
   "cell_type": "code",
   "execution_count": 12,
   "metadata": {},
   "outputs": [],
   "source": [
    "def H_LD(psi):\n",
    "    J = psi.J\n",
    "    mJ = psi.mJ\n",
    "    I1 = psi.I1\n",
    "    m1 = psi.m1\n",
    "    I2 = psi.I2\n",
    "    m2 = psi.m2\n",
    "    Omega = psi.Omega\n",
    "    Omegaprime = -Omega\n",
    "    \n",
    "    amp = (q*(-1)**(J-Omegaprime)/(2*np.sqrt(6)) * wigner_3j(J,2,J,-Omegaprime,Omegaprime-Omega, Omega)\n",
    "           *np.sqrt((2*J-1)*2*J*(2*J+1)*(2*J+2)*(2*J+3)) )\n",
    "    ket = UncoupledBasisState(J, mJ, I1, m1, I2, m2, Omegaprime)\n",
    "    \n",
    "    return State([(amp,ket)])"
   ]
  },
  {
   "cell_type": "markdown",
   "metadata": {},
   "source": [
    "### C'(Tl) - term\n",
    "Coding up the C'(Tl) -term from Brown 1978 \"A determination of fundamental Zeeman parameters for the OH radical\".\n",
    "\n",
    "First as given by Brown in eqn A12:"
   ]
  },
  {
   "cell_type": "code",
   "execution_count": 13,
   "metadata": {},
   "outputs": [],
   "source": [
    "def H_c1p(psi):\n",
    "    #Find the quantum numbers of the input state\n",
    "    J = psi.J\n",
    "    mJ = psi.mJ\n",
    "    I1 = psi.I1\n",
    "    m1 = psi.m1\n",
    "    I2 = psi.I2\n",
    "    m2 = psi.m2\n",
    "    Omega = psi.Omega\n",
    "    \n",
    "    #I1, I2 and m2 must be the same for non-zero matrix element\n",
    "    I1prime = I1\n",
    "    m2prime = m2\n",
    "    I2prime = I2\n",
    "    \n",
    "    #To have non-zero matrix element need OmegaPrime = -Omega\n",
    "    Omegaprime = -Omega\n",
    "    \n",
    "    #q is chosen such that q == Omegaprime\n",
    "    q = Omega\n",
    "    \n",
    "    #Initialize container for storing states and matrix elements\n",
    "    data = []\n",
    "    \n",
    "    #Loop over the possible values of quantum numbers for which the matrix element can be non-zero\n",
    "    #Need Jprime = J+1 ... |J-1|\n",
    "    for Jprime in range(np.abs(J-1), J+2):    \n",
    "        #Loop over possible values of mJprime and m1prime\n",
    "        for mJprime in np.arange(-Jprime,Jprime+1):\n",
    "            #Must have mJ+m1 = mJprime + m1prime\n",
    "            m1prime = mJ+m1-mJprime\n",
    "            if np.abs(m1prime <= I1):\n",
    "                #Evaluate the matrix element\n",
    "\n",
    "                #Matrix element for T(J)T(I)\n",
    "                term1 = ((-1)**(Jprime-Omegaprime+I1-m1-q+mJprime)*np.sqrt(Jprime*(Jprime+1)*(2*Jprime+1)**2*(2*J+1)*I1*(I1+1)\n",
    "                                                                           *(2*I1+1))\n",
    "                         * complex(wigner_3j(Jprime,1,J,-mJprime,mJprime-mJ, mJ)) * complex(wigner_3j(I1,1,I1,-m1prime, m1prime-m1, m1))\n",
    "                         * complex(wigner_3j(Jprime, 1, J, 0, -q, Omega)) * complex(wigner_3j(Jprime, 1, Jprime, -Omegaprime, -q, 0)))\n",
    "\n",
    "                #Matrix element for T(I)T(J)\n",
    "                term2 = ((-1)**(mJprime+J-Omegaprime+I1-m1-q)*np.sqrt(J*(J+1)*(2*J+1)**2*(2*Jprime+1)*I1*(I1+1)\n",
    "                                                                                   *(2*I1+1))\n",
    "                        *complex(wigner_3j(Jprime,1,J,-mJprime,mJprime-mJ,mJ)) * complex(wigner_3j(Jprime,1,J,-Omegaprime,-q,0))\n",
    "                        *complex(wigner_3j(J,1,J,0,-q,Omega)) * complex(wigner_3j(I1,1,I1,-m1prime, m1prime-m1, m1)))\n",
    "\n",
    "                amp = c_Tl_p *0.5*(term1+term2)\n",
    "\n",
    "                basis_state = UncoupledBasisState(Jprime, mJprime, I1prime, m1prime, I2prime, m2prime, Omegaprime)\n",
    "\n",
    "                if amp != 0:\n",
    "                        data.append((amp, basis_state))\n",
    "                    \n",
    "    return State(data)"
   ]
  },
  {
   "cell_type": "markdown",
   "metadata": {},
   "source": [
    "### Electron magnetic hyperfine operator\n",
    "Since the B state is a triplet pi state, it has electron magnetic hyperfine structure. The coupling is described by the Hamiltonian $ H_{\\mathrm{mhf}} = a\\, \\mathbf{I} \\cdot \\mathbf{L} + b\\, \\mathbf{I} \\cdot \\mathbf{S} +c \\,I_z\\, S_z  $ which reduces to $ H_{\\mathrm{mhf}}^{eff} =  [a \\,L_z + (b+c)\\, S_z]\\,I_z = h_\\Omega \\, I_z $ since the raising and lowering operators for L and S (electron orbital and spin angular momentum) only couple different electronic states which are very far in energy and thus the effect of the off-diagonal elements is strongly suppressed. The z-direction in $I_z$ is along the internuclear axis of the molecule and therefore when evaluating the matrix elements one needs to rotate the spin operator to the lab fixed frame. This results in non-zero matrix elements between states with different J.\n",
    "\n",
    "In the uncoupled basis these matrix elements are given by\n",
    "\n",
    "\\begin{equation*}\n",
    "\\mathrm{<J, m_J, \\Omega, I_1, m_1, I_2, m_2 |\\, I_z(Tl)\\, | J', m'_J, \\Omega', I'_1, m'_1, I'_2, m'_2>} \\\\\n",
    "= - \n",
    "\\begin{pmatrix}\n",
    "J & 1 & J' \\\\\n",
    "-\\Omega & 0 & \\Omega'\n",
    "\\end{pmatrix}\n",
    "\\lbrack (2J+1)(2J'+1)I_1(I_1+1)(2I_1+1) \\rbrack^{\\frac{1}{2}} \\delta_{I_2,I'_2} \\delta_{m_2,m'_2} \\\\\n",
    "\\sum_{p=\\,-1}^{+1} (-1)^{p-m_J+I_1-m_1}\n",
    "\\begin{pmatrix}\n",
    "J & 1 & J' \\\\\n",
    "-m_J & -p & m'_J\n",
    "\\end{pmatrix}\n",
    "\\begin{pmatrix}\n",
    "I_1 & 1 & I'_1 \\\\\n",
    "-m_1 & p & m'_1\n",
    "\\end{pmatrix}\n",
    "\\end{equation*}\n",
    "\n",
    "for Tl and \n",
    "\n",
    "\\begin{equation*}\n",
    "\\mathrm{<J, m_J, \\Omega, I_1, m_1, I_2, m_2 |\\, I_z(Tl)\\, | J', m'_J, \\Omega', I'_1, m'_1, I'_2, m'_2>} \\\\\n",
    "= - \n",
    "\\begin{pmatrix}\n",
    "J & 1 & J' \\\\\n",
    "-\\Omega & 0 & \\Omega'\n",
    "\\end{pmatrix}\n",
    "\\lbrack (2J+1)(2J'+1)I_2(I_2+1)(2I_2+1) \\rbrack^{\\frac{1}{2}} \\delta_{I_1,I'_1} \\delta_{m_1,m'_1} \\\\\n",
    "\\sum_{p=\\,-1}^{+1} (-1)^{p-m_J+I_2-m_2}\n",
    "\\begin{pmatrix}\n",
    "J & 1 & J' \\\\\n",
    "-m_J & -p & m'_J\n",
    "\\end{pmatrix}\n",
    "\\begin{pmatrix}\n",
    "I_2 & 1 & I'_2 \\\\\n",
    "-m_2 & p & m'_2\n",
    "\\end{pmatrix}\n",
    "\\end{equation*}\n",
    "\n",
    "for F"
   ]
  },
  {
   "cell_type": "code",
   "execution_count": 14,
   "metadata": {},
   "outputs": [],
   "source": [
    "def H_mhf_Tl(psi):\n",
    "    #Find the quantum numbers of the input state\n",
    "    J = psi.J\n",
    "    mJ = psi.mJ\n",
    "    I1 = psi.I1\n",
    "    m1 = psi.m1\n",
    "    I2 = psi.I2\n",
    "    m2 = psi.m2\n",
    "    Omega = psi.Omega\n",
    "    \n",
    "    #I1, I2 and m2 must be the same for non-zero matrix element\n",
    "    I2prime = I2\n",
    "    m2prime = m2\n",
    "    I1prime = I1\n",
    "    \n",
    "    #Initialize container for storing states and matrix elements\n",
    "    data = []\n",
    "    \n",
    "    #Loop over the possible values of quantum numbers for which the matrix element can be non-zero\n",
    "    #Need Jprime = J+1 ... |J-1|\n",
    "    for Jprime in np.arange(np.abs(J-1), J+2):\n",
    "        #Evaluate the part of the matrix element that is common for all p\n",
    "        common_coefficient = h1_Tl*wigner_3j(J, 1, Jprime, -Omega, 0, Omega)*np.sqrt((2*J+1)*(2*Jprime+1)*I1*(I1+1)*(2*I1+1))\n",
    "        \n",
    "        #Loop over the spherical tensor components of I1:\n",
    "        for p in np.arange(-1,2):\n",
    "            #To have non-zero matrix element need mJ-p = mJprime\n",
    "            mJprime = mJ + p\n",
    "            \n",
    "            #Also need m2 - p = m2prime\n",
    "            m1prime = m1 - p\n",
    "            \n",
    "            #Check that mJprime and m2prime are physical\n",
    "            if np.abs(mJprime) <= Jprime and np.abs(m1prime) <= I1prime:\n",
    "                #Calculate rest of matrix element\n",
    "                p_factor = ((-1)**(p-mJ+I1-m1-Omega)*wigner_3j(J, 1, Jprime, -mJ, -p, mJprime)\n",
    "                               *wigner_3j(I1, 1, I1prime, -m1, p, m1prime))\n",
    "                               \n",
    "                amp = Omega*common_coefficient*p_factor\n",
    "                basis_state = UncoupledBasisState(Jprime, mJprime, I1prime, m1prime, I2prime, m2prime, psi.Omega)\n",
    "                if amp != 0:\n",
    "                    data.append((amp, basis_state))\n",
    "    \n",
    "    return State(data)"
   ]
  },
  {
   "cell_type": "code",
   "execution_count": 15,
   "metadata": {},
   "outputs": [],
   "source": [
    "def H_mhf_F(psi):\n",
    "    #Find the quantum numbers of the input state\n",
    "    J = psi.J\n",
    "    mJ = psi.mJ\n",
    "    I1 = psi.I1\n",
    "    m1 = psi.m1\n",
    "    I2 = psi.I2\n",
    "    m2 = psi.m2\n",
    "    Omega = psi.Omega\n",
    "    \n",
    "    #I1, I2 and m1 must be the same for non-zero matrix element\n",
    "    I1prime = I1\n",
    "    m1prime = m1\n",
    "    I2prime = I2\n",
    "    \n",
    "    #Initialize container for storing states and matrix elements\n",
    "    data = []\n",
    "    \n",
    "    #Loop over the possible values of quantum numbers for which the matrix element can be non-zero\n",
    "    #Need Jprime = J+1 ... |J-1|\n",
    "    for Jprime in np.arange(np.abs(J-1), J+2):\n",
    "        #Evaluate the part of the matrix element that is common for all p\n",
    "        common_coefficient = h1_F*wigner_3j(J, 1, Jprime, -Omega, 0, Omega)*np.sqrt((2*J+1)*(2*Jprime+1)*I2*(I2+1)*(2*I2+1))\n",
    "        \n",
    "        #Loop over the spherical tensor components of I2:\n",
    "        for p in np.arange(-1,2):\n",
    "            #To have non-zero matrix element need mJ-p = mJprime\n",
    "            mJprime = mJ + p\n",
    "            \n",
    "            #Also need m2 - p = m2prime\n",
    "            m2prime = m2 - p\n",
    "            \n",
    "            #Check that mJprime and m2prime are physical\n",
    "            if np.abs(mJprime) <= Jprime and np.abs(m2prime) <= I2prime:\n",
    "                #Calculate rest of matrix element\n",
    "                p_factor = ((-1)**(p-mJ+I2-m2-Omega)*wigner_3j(J, 1, Jprime, -mJ, -p, mJprime)\n",
    "                               *wigner_3j(I2, 1, I2prime, -m2, p, m2prime))\n",
    "                               \n",
    "                amp = Omega*common_coefficient*p_factor\n",
    "                basis_state = UncoupledBasisState(Jprime, mJprime, I1prime, m1prime, I2prime, m2prime, psi.Omega)\n",
    "                if amp != 0:\n",
    "                    data.append((amp, basis_state))\n",
    "        \n",
    "        \n",
    "    return State(data)"
   ]
  },
  {
   "cell_type": "markdown",
   "metadata": {},
   "source": [
    "The overall field-free Hamiltonian for the B state is"
   ]
  },
  {
   "cell_type": "code",
   "execution_count": 16,
   "metadata": {},
   "outputs": [],
   "source": [
    "def Hff_B(psi):\n",
    "    return Hrot_B(psi) + H_mhf_Tl(psi) + H_mhf_F(psi) + H_c1p(psi) + H_LD(psi)"
   ]
  },
  {
   "cell_type": "markdown",
   "metadata": {},
   "source": [
    "### Zeeman Hamiltonian\n",
    "\n",
    "In order to separate the task of finding the matrix elements and the eigenvalues, the Hamiltonian\n",
    "\n",
    "$$H^\\text{Z}=-\\frac{\\mu_J}{J}(\\vec J\\cdot\\vec B)-\\frac{\\mu_1}{I_1}(\\vec I_1\\cdot\\vec B)-\\frac{\\mu_2}{I_2}(\\vec I_2\\cdot\\vec B)$$\n",
    "\n",
    "is best split into three matrices:\n",
    "\n",
    "$$H^\\text{Z}=B_xH^\\text{Z}_x+B_yH^\\text{Z}_y+B_zH^\\text{Z}_z,$$\n",
    "\n",
    "where\n",
    "\n",
    "$$ H^\\text{Z}_x = -\\frac{\\mu_J}{J}J_x -\\frac{\\mu_1}{I_1}I_{1x} -\\frac{\\mu_2}{I_2}I_{2x} $$\n",
    "$$ H^\\text{Z}_y = -\\frac{\\mu_J}{J}J_y -\\frac{\\mu_1}{I_1}I_{1y} -\\frac{\\mu_2}{I_2}I_{2y} $$\n",
    "$$ H^\\text{Z}_z = -\\frac{\\mu_J}{J}J_z -\\frac{\\mu_1}{I_1}I_{1z} -\\frac{\\mu_2}{I_2}I_{2z} $$\n",
    "\n",
    "Note that we are using the convention $\\mu_1=\\mu_\\text{Tl}$ and $\\mu_2=\\mu_\\text{F}$. The terms involving division by $J$ are only valid for states with $J\\ne0$ (of course!).\n",
    "\n",
    "Thus we can write the Zeeman functions for the X state:"
   ]
  },
  {
   "cell_type": "code",
   "execution_count": 17,
   "metadata": {},
   "outputs": [],
   "source": [
    "def HZx_X(psi):\n",
    "    if psi.J != 0:\n",
    "        return -mu_J/psi.J*Jx(psi) - mu_Tl/psi.I1*I1x(psi) - mu_F/psi.I2*I2x(psi)\n",
    "    else:\n",
    "        return -mu_Tl/psi.I1*I1x(psi) - mu_F/psi.I2*I2x(psi)\n",
    "\n",
    "def HZy_X(psi):\n",
    "    if psi.J != 0:\n",
    "        return -mu_J/psi.J*Jy(psi) - mu_Tl/psi.I1*I1y(psi) - mu_F/psi.I2*I2y(psi)\n",
    "    else:\n",
    "        return -mu_Tl/psi.I1*I1y(psi) - mu_F/psi.I2*I2y(psi)\n",
    "    \n",
    "def HZz_X(psi):\n",
    "    if psi.J != 0:\n",
    "        return -mu_J/psi.J*Jz(psi) - mu_Tl/psi.I1*I1z(psi) - mu_F/psi.I2*I2z(psi)\n",
    "    else:\n",
    "        return -mu_Tl/psi.I1*I1z(psi) - mu_F/psi.I2*I2z(psi)"
   ]
  },
  {
   "cell_type": "markdown",
   "metadata": {},
   "source": [
    "For the B state, only defining for B-field along z for now, we have"
   ]
  },
  {
   "cell_type": "code",
   "execution_count": null,
   "metadata": {},
   "outputs": [],
   "source": [
    "def HZx_B(psi):\n",
    "    # TODO\n",
    "    return psi\n",
    "\n",
    "def HZy_B(psi):\n",
    "    # TODO\n",
    "    return psi"
   ]
  },
  {
   "cell_type": "code",
   "execution_count": 18,
   "metadata": {},
   "outputs": [],
   "source": [
    "def HZz_B(psi):\n",
    "    #Find the quantum numbers of the input state\n",
    "    J = psi.J\n",
    "    mJ = psi.mJ\n",
    "    I1 = psi.I1\n",
    "    m1 = psi.m1\n",
    "    I2 = psi.I2\n",
    "    m2 = psi.m2\n",
    "    Omega = psi.Omega\n",
    "    S = 1\n",
    "    \n",
    "    #The other state must have the same value for I1,m1,I2,m2,mJ and Omega\n",
    "    I1prime = I1\n",
    "    m1prime = m1\n",
    "    I2prime = I2\n",
    "    m2prime = m2\n",
    "    Omegaprime = Omega\n",
    "    mJprime = mJ\n",
    "    \n",
    "    #Initialize container for storing states and matrix elements\n",
    "    data = []\n",
    "    \n",
    "    #Loop over possible values of Jprime\n",
    "    for Jprime in range(np.abs(J-1),J+2):\n",
    "        \n",
    "        #Electron orbital angular momentum term\n",
    "        L_term = (gL * Omega *np.sqrt((2*J+1)*(2*Jprime+1)) * (-1)**(mJprime-Omegaprime)\n",
    "                  * complex(wigner_3j(Jprime,1,J,-mJprime,0,mJ)) * complex(wigner_3j(Jprime,1,J,-Omegaprime,0,Omega)))\n",
    "        \n",
    "        #Electron spin term\n",
    "        S_term = (gS * np.sqrt((2*J+1)*(2*Jprime+1)) * (-1)**(mJprime-Omegaprime)\n",
    "                  * complex(wigner_3j(Jprime,1,J,-mJprime,0,mJ)) * complex(wigner_3j(Jprime,1,J,-Omegaprime,0,Omega))\n",
    "                  * (-1)**(S)*complex(wigner_3j(S,1,S,0,0,0)) * np.sqrt(S*(S+1)*(2*S+1)))\n",
    "        \n",
    "        amp = L_term+S_term\n",
    "        basis_state = UncoupledBasisState(Jprime, mJprime, I1prime, m1prime, I2prime, m2prime, Omegaprime)\n",
    "        \n",
    "        \n",
    "        if amp != 0:\n",
    "            data.append((amp, basis_state))\n",
    "                  \n",
    "                  \n",
    "    return State(data)    "
   ]
  },
  {
   "cell_type": "markdown",
   "metadata": {},
   "source": [
    "### Stark Hamiltonian\n",
    "\n",
    "Again splitting the Hamiltonian into the three spatial components, we have\n",
    "\n",
    "$$H^\\text{S}=-\\vec d\\cdot\\vec E\n",
    "= E_xH^\\text{S}_x+E_yH^\\text{S}_y+E_zH^\\text{S}_z\n",
    "= e(E_{-1}r_{-1} + E_{0}r_{0} + E_{1}r_{1})\n",
    "$$\n",
    "\n",
    "The matrix elements are given by \n",
    "\n",
    "$$\n",
    "\\langle J', m_J', \\Omega |d_p| J, m_J, \\Omega\\rangle = \\langle d \\rangle (-1)^{m_J'- \\Omega'}\\left[(2J+1)(2J'+1)\\right]^{1/2} \\mathrm{ThreeJ(J',1,J,-m_j',p,m_J) }\\mathrm{ThreeJ(J',1',J,-\\Omega',\\Omega'-\\Omega,\\Omega)}\n",
    "$$\n",
    "\n",
    "These $d_p$ operators can be written in Python as the functions:"
   ]
  },
  {
   "cell_type": "code",
   "execution_count": 19,
   "metadata": {},
   "outputs": [],
   "source": [
    "def d_p(p,psi):\n",
    "    #Find the quantum numbers of the input state\n",
    "    J = psi.J\n",
    "    mJ = psi.mJ\n",
    "    I1 = psi.I1\n",
    "    m1 = psi.m1\n",
    "    I2 = psi.I2\n",
    "    m2 = psi.m2\n",
    "    Omega = psi.Omega\n",
    "    \n",
    "    #The other state must have the same value for I1,m1,I2,m2,mJ and Omega\n",
    "    I1prime = I1\n",
    "    m1prime = m1\n",
    "    I2prime = I2\n",
    "    m2prime = m2\n",
    "    Omegaprime = Omega\n",
    "    mJprime = mJ+p\n",
    "    q = Omegaprime - Omega\n",
    "    \n",
    "    #Initialize container for storing states and matrix elements\n",
    "    data = []\n",
    "    \n",
    "    #Loop over possible values of Jprime\n",
    "    for Jprime in range(np.abs(J-1),J+2):\n",
    "        amp = ((-1)**(mJprime - Omegaprime) * np.sqrt((2*J+1)*(2*Jprime+1))\n",
    "               * complex(wigner_3j(Jprime,1,J,-mJprime,p, mJ)) * complex(wigner_3j(Jprime,1,J,-Omegaprime,q, Omega)))\n",
    "\n",
    "        basis_state = UncoupledBasisState(Jprime, mJprime, I1prime, m1prime, I2prime, m2prime, Omegaprime)\n",
    "\n",
    "\n",
    "        if amp != 0:\n",
    "            data.append((amp, basis_state))\n",
    "\n",
    "                  \n",
    "    return State(data)    "
   ]
  },
  {
   "cell_type": "markdown",
   "metadata": {},
   "source": [
    "In terms of the operators\n",
    "\n",
    "$$\n",
    "R_{\\pm}\\equiv \\mp\\frac{x\\pm iy}{\\sqrt2r} = 2\\sqrt{\\frac{\\pi}{3}}Y_1^{\\pm M} \\\\\n",
    "R_{0}\\equiv \\frac{z}{r} = 2\\sqrt{\\frac{\\pi}{3}}Y_1^{0}\n",
    "$$\n",
    "and the molecular dipole moment $d_\\text{TlF}$, the three Stark Hamiltonians are\n",
    "\n",
    "$$\n",
    "\\begin{align}\n",
    "H^\\text{S}_x&=-d_\\text{TlF}(R^{-1}_1-R^1_1)/\\sqrt2\\\\\n",
    "H^\\text{S}_y&=-d_\\text{TlF}i(+R^{-1}_1+R^1_1)/\\sqrt2\\\\\n",
    "H^\\text{S}_z&=-d_\\text{TlF}R^0_1\n",
    "\\end{align}\n",
    "$$\n",
    "\n",
    "In Python:"
   ]
  },
  {
   "cell_type": "code",
   "execution_count": 20,
   "metadata": {},
   "outputs": [],
   "source": [
    "def HSx(psi):\n",
    "    return -D_TlF * ( d_p(-1,psi) - d_p(+1,psi) ) / np.sqrt(2)\n",
    "\n",
    "def HSy(psi):\n",
    "    return -D_TlF * 1j * ( d_p(-1,psi) + d_p(+1,psi) ) / np.sqrt(2)\n",
    "\n",
    "def HSz(psi):\n",
    "    return -D_TlF * d_p(0,psi)"
   ]
  },
  {
   "cell_type": "markdown",
   "metadata": {},
   "source": [
    "### Finding the matrix elements\n",
    "\n",
    "Define a function to evaluate the numerical matrix elements of a given operator `H` over a given basis `QN`:"
   ]
  },
  {
   "cell_type": "code",
   "execution_count": 21,
   "metadata": {
    "scrolled": true
   },
   "outputs": [],
   "source": [
    "def HMatElems(H, QN):\n",
    "    result = np.zeros((len(QN), len(QN)), dtype=complex)\n",
    "    for i,a in tqdm(enumerate(QN), total=len(QN)):\n",
    "        for j,b in enumerate(QN):\n",
    "            result[i,j] = (1*a)@H(b)\n",
    "    return result"
   ]
  },
  {
   "cell_type": "markdown",
   "metadata": {},
   "source": [
    "Write down the basis as a list of `UncoupledBasisState` components, and evaluate the X-state matrix elements for the Hamiltonian operators, storing the result of the calculation as Python `pickle`s:"
   ]
  },
  {
   "cell_type": "code",
   "execution_count": 22,
   "metadata": {},
   "outputs": [
    {
     "data": {
      "application/vnd.jupyter.widget-view+json": {
       "model_id": "a98d74c84177490a8c9753b7c4299698",
       "version_major": 2,
       "version_minor": 0
      },
      "text/plain": [
       "HBox(children=(IntProgress(value=0, max=196), HTML(value='')))"
      ]
     },
     "metadata": {},
     "output_type": "display_data"
    },
    {
     "name": "stdout",
     "output_type": "stream",
     "text": [
      "\n"
     ]
    },
    {
     "data": {
      "application/vnd.jupyter.widget-view+json": {
       "model_id": "c70c2d5c34834248bb31159f4e51be5f",
       "version_major": 2,
       "version_minor": 0
      },
      "text/plain": [
       "HBox(children=(IntProgress(value=0, max=196), HTML(value='')))"
      ]
     },
     "metadata": {},
     "output_type": "display_data"
    },
    {
     "name": "stdout",
     "output_type": "stream",
     "text": [
      "\n"
     ]
    },
    {
     "data": {
      "application/vnd.jupyter.widget-view+json": {
       "model_id": "d997a270b21a4488a25e4d827c86a517",
       "version_major": 2,
       "version_minor": 0
      },
      "text/plain": [
       "HBox(children=(IntProgress(value=0, max=196), HTML(value='')))"
      ]
     },
     "metadata": {},
     "output_type": "display_data"
    },
    {
     "name": "stdout",
     "output_type": "stream",
     "text": [
      "\n"
     ]
    },
    {
     "data": {
      "application/vnd.jupyter.widget-view+json": {
       "model_id": "aba7141a369f41c3a10c8fe0c715261b",
       "version_major": 2,
       "version_minor": 0
      },
      "text/plain": [
       "HBox(children=(IntProgress(value=0, max=196), HTML(value='')))"
      ]
     },
     "metadata": {},
     "output_type": "display_data"
    },
    {
     "name": "stdout",
     "output_type": "stream",
     "text": [
      "\n"
     ]
    },
    {
     "data": {
      "application/vnd.jupyter.widget-view+json": {
       "model_id": "0878c56598a1483dab8c784f3835afc4",
       "version_major": 2,
       "version_minor": 0
      },
      "text/plain": [
       "HBox(children=(IntProgress(value=0, max=196), HTML(value='')))"
      ]
     },
     "metadata": {},
     "output_type": "display_data"
    },
    {
     "name": "stdout",
     "output_type": "stream",
     "text": [
      "\n"
     ]
    },
    {
     "data": {
      "application/vnd.jupyter.widget-view+json": {
       "model_id": "3641bd13ba91482193dffd7e44931a2e",
       "version_major": 2,
       "version_minor": 0
      },
      "text/plain": [
       "HBox(children=(IntProgress(value=0, max=196), HTML(value='')))"
      ]
     },
     "metadata": {},
     "output_type": "display_data"
    },
    {
     "name": "stdout",
     "output_type": "stream",
     "text": [
      "\n"
     ]
    },
    {
     "data": {
      "application/vnd.jupyter.widget-view+json": {
       "model_id": "84ece28574644255bab460fbd87f56d1",
       "version_major": 2,
       "version_minor": 0
      },
      "text/plain": [
       "HBox(children=(IntProgress(value=0, max=196), HTML(value='')))"
      ]
     },
     "metadata": {},
     "output_type": "display_data"
    },
    {
     "name": "stdout",
     "output_type": "stream",
     "text": [
      "\n"
     ]
    }
   ],
   "source": [
    "QN_X = np.array([UncoupledBasisState(J,mJ,I_Tl,m1,I_F,m2)\n",
    "      for J in range(Jmax+1)\n",
    "      for mJ in range(-J,J+1)\n",
    "      for m1 in np.arange(-I_Tl,I_Tl+1)\n",
    "      for m2 in np.arange(-I_F,I_F+1)])\n",
    "\n",
    "with open(\"data/1_Hamiltonians/X.pickle\", 'wb') as f:\n",
    "    pickle.dump(\n",
    "        {\n",
    "            \"Hff\" :  HMatElems(Hff_X, QN_X),\n",
    "            \"HSx\" :  HMatElems(HSx, QN_X),\n",
    "            \"HSy\" :  HMatElems(HSy, QN_X),\n",
    "            \"HSz\" :  HMatElems(HSz, QN_X),\n",
    "            \"HZx\" :  HMatElems(HZx_X, QN_X),\n",
    "            \"HZy\" :  HMatElems(HZy_X, QN_X),\n",
    "            \"HZz\" :  HMatElems(HZz_X, QN_X),\n",
    "        },\n",
    "        f\n",
    "    )"
   ]
  },
  {
   "cell_type": "markdown",
   "metadata": {},
   "source": [
    "Similarly, for the B state we have:"
   ]
  },
  {
   "cell_type": "code",
   "execution_count": 23,
   "metadata": {},
   "outputs": [
    {
     "data": {
      "application/vnd.jupyter.widget-view+json": {
       "model_id": "5b77db3d87524666a454b81fcaa61639",
       "version_major": 2,
       "version_minor": 0
      },
      "text/plain": [
       "HBox(children=(IntProgress(value=0, max=48), HTML(value='')))"
      ]
     },
     "metadata": {},
     "output_type": "display_data"
    },
    {
     "ename": "NameError",
     "evalue": "name 'c_Tl_p' is not defined",
     "output_type": "error",
     "traceback": [
      "\u001b[1;31m---------------------------------------------------------------------------\u001b[0m",
      "\u001b[1;31mNameError\u001b[0m                                 Traceback (most recent call last)",
      "\u001b[1;32m<ipython-input-23-658ff12feec7>\u001b[0m in \u001b[0;36m<module>\u001b[1;34m\u001b[0m\n\u001b[0;32m     12\u001b[0m     pickle.dump(\n\u001b[0;32m     13\u001b[0m         {\n\u001b[1;32m---> 14\u001b[1;33m             \u001b[1;34m\"Hff_B\"\u001b[0m \u001b[1;33m:\u001b[0m \u001b[0mHMatElems\u001b[0m\u001b[1;33m(\u001b[0m\u001b[0mHff_B\u001b[0m\u001b[1;33m,\u001b[0m \u001b[0mQN_B\u001b[0m\u001b[1;33m)\u001b[0m\u001b[1;33m,\u001b[0m\u001b[1;33m\u001b[0m\u001b[1;33m\u001b[0m\u001b[0m\n\u001b[0m\u001b[0;32m     15\u001b[0m             \u001b[1;34m\"HSx_B\"\u001b[0m \u001b[1;33m:\u001b[0m \u001b[0mHMatElems\u001b[0m\u001b[1;33m(\u001b[0m\u001b[0mHSx\u001b[0m\u001b[1;33m,\u001b[0m \u001b[0mQN_B\u001b[0m\u001b[1;33m)\u001b[0m\u001b[1;33m,\u001b[0m\u001b[1;33m\u001b[0m\u001b[1;33m\u001b[0m\u001b[0m\n\u001b[0;32m     16\u001b[0m             \u001b[1;34m\"HSy_B\"\u001b[0m \u001b[1;33m:\u001b[0m \u001b[0mHMatElems\u001b[0m\u001b[1;33m(\u001b[0m\u001b[0mHSy\u001b[0m\u001b[1;33m,\u001b[0m \u001b[0mQN_B\u001b[0m\u001b[1;33m)\u001b[0m\u001b[1;33m,\u001b[0m\u001b[1;33m\u001b[0m\u001b[1;33m\u001b[0m\u001b[0m\n",
      "\u001b[1;32m<ipython-input-21-35edcd0c05b6>\u001b[0m in \u001b[0;36mHMatElems\u001b[1;34m(H, QN)\u001b[0m\n\u001b[0;32m      3\u001b[0m     \u001b[1;32mfor\u001b[0m \u001b[0mi\u001b[0m\u001b[1;33m,\u001b[0m\u001b[0ma\u001b[0m \u001b[1;32min\u001b[0m \u001b[0mtqdm\u001b[0m\u001b[1;33m(\u001b[0m\u001b[0menumerate\u001b[0m\u001b[1;33m(\u001b[0m\u001b[0mQN\u001b[0m\u001b[1;33m)\u001b[0m\u001b[1;33m,\u001b[0m \u001b[0mtotal\u001b[0m\u001b[1;33m=\u001b[0m\u001b[0mlen\u001b[0m\u001b[1;33m(\u001b[0m\u001b[0mQN\u001b[0m\u001b[1;33m)\u001b[0m\u001b[1;33m)\u001b[0m\u001b[1;33m:\u001b[0m\u001b[1;33m\u001b[0m\u001b[1;33m\u001b[0m\u001b[0m\n\u001b[0;32m      4\u001b[0m         \u001b[1;32mfor\u001b[0m \u001b[0mj\u001b[0m\u001b[1;33m,\u001b[0m\u001b[0mb\u001b[0m \u001b[1;32min\u001b[0m \u001b[0menumerate\u001b[0m\u001b[1;33m(\u001b[0m\u001b[0mQN\u001b[0m\u001b[1;33m)\u001b[0m\u001b[1;33m:\u001b[0m\u001b[1;33m\u001b[0m\u001b[1;33m\u001b[0m\u001b[0m\n\u001b[1;32m----> 5\u001b[1;33m             \u001b[0mresult\u001b[0m\u001b[1;33m[\u001b[0m\u001b[0mi\u001b[0m\u001b[1;33m,\u001b[0m\u001b[0mj\u001b[0m\u001b[1;33m]\u001b[0m \u001b[1;33m=\u001b[0m \u001b[1;33m(\u001b[0m\u001b[1;36m1\u001b[0m\u001b[1;33m*\u001b[0m\u001b[0ma\u001b[0m\u001b[1;33m)\u001b[0m\u001b[1;33m@\u001b[0m\u001b[0mH\u001b[0m\u001b[1;33m(\u001b[0m\u001b[0mb\u001b[0m\u001b[1;33m)\u001b[0m\u001b[1;33m\u001b[0m\u001b[1;33m\u001b[0m\u001b[0m\n\u001b[0m\u001b[0;32m      6\u001b[0m     \u001b[1;32mreturn\u001b[0m \u001b[0mresult\u001b[0m\u001b[1;33m\u001b[0m\u001b[1;33m\u001b[0m\u001b[0m\n",
      "\u001b[1;32m<ipython-input-16-ccb39a9f4944>\u001b[0m in \u001b[0;36mHff_B\u001b[1;34m(psi)\u001b[0m\n\u001b[0;32m      1\u001b[0m \u001b[1;32mdef\u001b[0m \u001b[0mHff_B\u001b[0m\u001b[1;33m(\u001b[0m\u001b[0mpsi\u001b[0m\u001b[1;33m)\u001b[0m\u001b[1;33m:\u001b[0m\u001b[1;33m\u001b[0m\u001b[1;33m\u001b[0m\u001b[0m\n\u001b[1;32m----> 2\u001b[1;33m     \u001b[1;32mreturn\u001b[0m \u001b[0mHrot_B\u001b[0m\u001b[1;33m(\u001b[0m\u001b[0mpsi\u001b[0m\u001b[1;33m)\u001b[0m \u001b[1;33m+\u001b[0m \u001b[0mH_mhf_Tl\u001b[0m\u001b[1;33m(\u001b[0m\u001b[0mpsi\u001b[0m\u001b[1;33m)\u001b[0m \u001b[1;33m+\u001b[0m \u001b[0mH_mhf_F\u001b[0m\u001b[1;33m(\u001b[0m\u001b[0mpsi\u001b[0m\u001b[1;33m)\u001b[0m \u001b[1;33m+\u001b[0m \u001b[0mH_c1p\u001b[0m\u001b[1;33m(\u001b[0m\u001b[0mpsi\u001b[0m\u001b[1;33m)\u001b[0m \u001b[1;33m+\u001b[0m \u001b[0mH_LD\u001b[0m\u001b[1;33m(\u001b[0m\u001b[0mpsi\u001b[0m\u001b[1;33m)\u001b[0m\u001b[1;33m\u001b[0m\u001b[1;33m\u001b[0m\u001b[0m\n\u001b[0m",
      "\u001b[1;32m<ipython-input-13-79ebb169a3d9>\u001b[0m in \u001b[0;36mH_c1p\u001b[1;34m(psi)\u001b[0m\n\u001b[0;32m     45\u001b[0m                         *complex(wigner_3j(J,1,J,0,-q,Omega)) * complex(wigner_3j(I1,1,I1,-m1prime, m1prime-m1, m1)))\n\u001b[0;32m     46\u001b[0m \u001b[1;33m\u001b[0m\u001b[0m\n\u001b[1;32m---> 47\u001b[1;33m                 \u001b[0mamp\u001b[0m \u001b[1;33m=\u001b[0m \u001b[0mc_Tl_p\u001b[0m \u001b[1;33m*\u001b[0m\u001b[1;36m0.5\u001b[0m\u001b[1;33m*\u001b[0m\u001b[1;33m(\u001b[0m\u001b[0mterm1\u001b[0m\u001b[1;33m+\u001b[0m\u001b[0mterm2\u001b[0m\u001b[1;33m)\u001b[0m\u001b[1;33m\u001b[0m\u001b[1;33m\u001b[0m\u001b[0m\n\u001b[0m\u001b[0;32m     48\u001b[0m \u001b[1;33m\u001b[0m\u001b[0m\n\u001b[0;32m     49\u001b[0m                 \u001b[0mbasis_state\u001b[0m \u001b[1;33m=\u001b[0m \u001b[0mUncoupledBasisState\u001b[0m\u001b[1;33m(\u001b[0m\u001b[0mJprime\u001b[0m\u001b[1;33m,\u001b[0m \u001b[0mmJprime\u001b[0m\u001b[1;33m,\u001b[0m \u001b[0mI1prime\u001b[0m\u001b[1;33m,\u001b[0m \u001b[0mm1prime\u001b[0m\u001b[1;33m,\u001b[0m \u001b[0mI2prime\u001b[0m\u001b[1;33m,\u001b[0m \u001b[0mm2prime\u001b[0m\u001b[1;33m,\u001b[0m \u001b[0mOmegaprime\u001b[0m\u001b[1;33m)\u001b[0m\u001b[1;33m\u001b[0m\u001b[1;33m\u001b[0m\u001b[0m\n",
      "\u001b[1;31mNameError\u001b[0m: name 'c_Tl_p' is not defined"
     ]
    }
   ],
   "source": [
    "QN_B = []\n",
    "for Omega in Omegas:\n",
    "    for J in np.arange(Jmin, Jmax+1):\n",
    "        for m1 in np.arange(-I_Tl,I_Tl+1):\n",
    "            for m2 in np.arange(-I_F,I_F+1):\n",
    "                #mJ, m1 and m2 values all sum to zero so mF = 0\n",
    "                mJ = 0-m1-m2\n",
    "                if np.abs(mJ) <= J:\n",
    "                    QN_B.append(UncoupledBasisState(J,mJ,I_Tl,m1,I_F,m2, Omega))\n",
    "                    \n",
    "with open(\"data/1_Hamiltonians/B.pickle\", 'wb') as f:\n",
    "    pickle.dump(\n",
    "        {\n",
    "            \"Hff\" : HMatElems(Hff_B, QN_B),\n",
    "            \"HSx\" : HMatElems(HSx, QN_B),\n",
    "            \"HSy\" : HMatElems(HSy, QN_B),\n",
    "            \"HSz\" : HMatElems(HSz, QN_B),\n",
    "            \"HZx\" : HMatElems(HZx_B, QN_B),\n",
    "            \"HZy\" : HMatElems(HZy_B, QN_B),\n",
    "            \"HZz\" : HMatElems(HZz_B, QN_B),\n",
    "        },\n",
    "        f\n",
    "    )"
   ]
  },
  {
   "cell_type": "markdown",
   "metadata": {},
   "source": [
    "### Hamiltonian functions $H = H(E,B)$\n",
    "\n",
    "Define a function that imports the matrix elements calculated above, and returns a function mapping from external lab fields $E, B$ to a Hamiltonian matrix:"
   ]
  },
  {
   "cell_type": "code",
   "execution_count": 25,
   "metadata": {},
   "outputs": [],
   "source": [
    "def import_Hamiltonian(fname):\n",
    "    # import matrix elements\n",
    "    with open(fname, 'rb') as f:\n",
    "        H = pickle.load(f)\n",
    "    \n",
    "    # return the mapping\n",
    "    return lambda E,B: 2*np.pi*(H[\"Hff\"] + \\\n",
    "        E[0]*H[\"HSx\"]  + E[1]*H[\"HSy\"] + E[2]*H[\"HSz\"] + \\\n",
    "        B[0]*H[\"HZx\"]  + B[1]*H[\"HZy\"] + B[2]*H[\"HZz\"])"
   ]
  }
 ],
 "metadata": {
  "kernelspec": {
   "display_name": "Python 3",
   "language": "python",
   "name": "python3"
  },
  "language_info": {
   "codemirror_mode": {
    "name": "ipython",
    "version": 3
   },
   "file_extension": ".py",
   "mimetype": "text/x-python",
   "name": "python",
   "nbconvert_exporter": "python",
   "pygments_lexer": "ipython3",
   "version": "3.7.4"
  }
 },
 "nbformat": 4,
 "nbformat_minor": 2
}
