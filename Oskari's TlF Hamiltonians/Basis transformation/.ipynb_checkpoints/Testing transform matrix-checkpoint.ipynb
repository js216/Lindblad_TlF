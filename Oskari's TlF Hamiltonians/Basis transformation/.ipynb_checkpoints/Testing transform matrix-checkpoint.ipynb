{
 "cells": [
  {
   "cell_type": "code",
   "execution_count": 47,
   "metadata": {},
   "outputs": [
    {
     "name": "stdout",
     "output_type": "stream",
     "text": [
      "The autoreload extension is already loaded. To reload it, use:\n",
      "  %reload_ext autoreload\n"
     ]
    }
   ],
   "source": [
    "#Import packages\n",
    "%load_ext autoreload\n",
    "%autoreload 2\n",
    "import sys\n",
    "sys.path.append('../molecular-state-classes-and-functions/')\n",
    "\n",
    "import numpy as np\n",
    "import sympy\n",
    "import pickle\n",
    "import matplotlib.pyplot as plt\n",
    "%matplotlib notebook\n",
    "from tqdm.notebook import tqdm\n",
    "\n",
    "#Import custom functions and classes used to manipulate molecular states and Hamiltonian\n",
    "from functions import *\n",
    "from classes import *\n",
    "\n",
    "#Import basis transformation functions\n",
    "from basis_transform_functions import *\n",
    "\n",
    "#Define custom range function\n",
    "def ni_range(x0, x1, dx=1):\n",
    "    # sanity check arguments\n",
    "    if dx==0:\n",
    "        raise ValueError(\"invalid parameters: dx==0\")\n",
    "    if x0>x1 and dx>=0:\n",
    "        raise ValueError(\"invalid parameters: x0>x1 and dx>=0\")\n",
    "    if x0<x1 and dx<=0:\n",
    "        raise ValueError(\"invalid parameters: x0<x1 and dx<=0\")\n",
    "        \n",
    "    # generate range list\n",
    "    range_list = []\n",
    "    x = x0\n",
    "    while x < x1:\n",
    "        range_list.append(x)\n",
    "        x += dx\n",
    "    return range_list"
   ]
  },
  {
   "cell_type": "code",
   "execution_count": 19,
   "metadata": {},
   "outputs": [],
   "source": [
    "#Make list of quantum numbers that defines the basis for the matrices\n",
    "QN_uncoupled = make_QN(0,3,1/2,1/2)\n",
    "\n",
    "#Get H_0 from file (H_0 should be in rad/s)\n",
    "H_0_EB = make_hamiltonian(\"TlF_X_state_hamiltonian0to3_2020_03_03.py\")\n",
    "\n",
    "E = np.array((0,0,0))\n",
    "B = np.array((0,0,0.001))\n",
    "H0_uncoupled = H_0_EB(E,B)"
   ]
  },
  {
   "cell_type": "code",
   "execution_count": 38,
   "metadata": {},
   "outputs": [],
   "source": [
    "#Make list of quantum numbers for coupled basis\n",
    "Jmin = 0\n",
    "Jmax = 3\n",
    "I_F = 1/2\n",
    "I_Tl = 1/2\n",
    "QN_coupled = [CoupledBasisState(F,mF,F1,J,I_F,I_Tl)\n",
    "      for J  in ni_range(Jmin, Jmax+1)\n",
    "      for F1 in ni_range(np.abs(J-I_F),J+I_F+1)\n",
    "      for F in ni_range(np.abs(F1-I_Tl),F1+I_Tl+1)\n",
    "      for mF in ni_range(-F, F+1)\n",
    "     ]"
   ]
  },
  {
   "cell_type": "code",
   "execution_count": 39,
   "metadata": {},
   "outputs": [
    {
     "data": {
      "application/vnd.jupyter.widget-view+json": {
       "model_id": "c8d80564d69a417384271775a6f81e1a",
       "version_major": 2,
       "version_minor": 0
      },
      "text/plain": [
       "HBox(children=(FloatProgress(value=0.0, max=64.0), HTML(value='')))"
      ]
     },
     "metadata": {},
     "output_type": "display_data"
    },
    {
     "name": "stdout",
     "output_type": "stream",
     "text": [
      "\n"
     ]
    }
   ],
   "source": [
    "S = generate_transform_matrix(QN_uncoupled,QN_coupled)"
   ]
  },
  {
   "cell_type": "code",
   "execution_count": 43,
   "metadata": {},
   "outputs": [],
   "source": [
    "H0_coupled = S.conj().T @ H0_uncoupled @ S\n",
    "# H0_coupled = S @ H0_uncoupled @ S.conj().T "
   ]
  },
  {
   "cell_type": "code",
   "execution_count": 44,
   "metadata": {},
   "outputs": [
    {
     "name": "stdout",
     "output_type": "stream",
     "text": [
      "True\n"
     ]
    }
   ],
   "source": [
    "#Diagonalize both Hamiltonians\n",
    "D_uc, V_uc = np.linalg.eigh(H0_uncoupled)\n",
    "D_c, V_c = np.linalg.eigh(H0_coupled)\n",
    "\n",
    "print(np.allclose(D_c,D_uc))"
   ]
  },
  {
   "cell_type": "code",
   "execution_count": 46,
   "metadata": {},
   "outputs": [
    {
     "name": "stdout",
     "output_type": "stream",
     "text": [
      "Uncoupled:\n",
      "|30> = \n",
      "-1.0000+0.0000j x |J = 2, F1 = 5/2, F = 3, mF = 2, I1 = 1/2, I2 = 1/2>\n",
      "Coupled:\n",
      "|30> = \n",
      "-1.0000+0.0000j x |J = 2, F1 = 5/2, F = 3, mF = 2, I1 = 1/2, I2 = 1/2>\n"
     ]
    }
   ],
   "source": [
    "#Print some of the states\n",
    "index=30\n",
    "state_uc = vector_to_state(V_uc[:,index],QN_uncoupled)\n",
    "state_c = vector_to_state(V_c[:,index],QN_coupled)\n",
    "\n",
    "print(\"Uncoupled:\\n|{}> = \".format(index))\n",
    "state_uc.remove_small_components().transform_to_coupled().print_state()\n",
    "print(\"Coupled:\\n|{}> = \".format(index))\n",
    "state_c.print_state()"
   ]
  },
  {
   "cell_type": "code",
   "execution_count": 54,
   "metadata": {},
   "outputs": [],
   "source": [
    "#Testing function for picking out sub-space of Hamiltonian\n",
    "QN_reduced = make_QN(1,2,1/2,1/2)\n",
    "H_red = reduced_basis_hamiltonian(QN_uncoupled, H0_uncoupled, QN_reduced)"
   ]
  },
  {
   "cell_type": "code",
   "execution_count": 56,
   "metadata": {},
   "outputs": [
    {
     "data": {
      "text/plain": [
       "True"
      ]
     },
     "execution_count": 56,
     "metadata": {},
     "output_type": "execute_result"
    }
   ],
   "source": [
    "np.allclose(H_red, H0_uncoupled[4:36,4:36])"
   ]
  },
  {
   "cell_type": "code",
   "execution_count": null,
   "metadata": {},
   "outputs": [],
   "source": []
  }
 ],
 "metadata": {
  "kernelspec": {
   "display_name": "Python 3",
   "language": "python",
   "name": "python3"
  },
  "language_info": {
   "codemirror_mode": {
    "name": "ipython",
    "version": 3
   },
   "file_extension": ".py",
   "mimetype": "text/x-python",
   "name": "python",
   "nbconvert_exporter": "python",
   "pygments_lexer": "ipython3",
   "version": "3.7.6"
  }
 },
 "nbformat": 4,
 "nbformat_minor": 4
}
