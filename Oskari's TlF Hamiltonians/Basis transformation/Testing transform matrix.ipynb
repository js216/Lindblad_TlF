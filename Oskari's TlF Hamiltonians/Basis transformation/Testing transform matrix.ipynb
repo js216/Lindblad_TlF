{
 "cells": [
  {
   "cell_type": "code",
   "execution_count": 1,
   "metadata": {},
   "outputs": [],
   "source": [
    "#Import packages\n",
    "%load_ext autoreload\n",
    "%autoreload 2\n",
    "import sys\n",
    "sys.path.append('../molecular-state-classes-and-functions/')\n",
    "\n",
    "import numpy as np\n",
    "import sympy\n",
    "import pickle\n",
    "import matplotlib.pyplot as plt\n",
    "%matplotlib notebook\n",
    "from tqdm.notebook import tqdm\n",
    "\n",
    "#Import custom functions and classes used to manipulate molecular states and Hamiltonian\n",
    "from functions import *\n",
    "from classes import *\n",
    "\n",
    "#Import basis transformation functions\n",
    "from basis_transform_functions import *\n",
    "\n",
    "#Define custom range function\n",
    "def ni_range(x0, x1, dx=1):\n",
    "    # sanity check arguments\n",
    "    if dx==0:\n",
    "        raise ValueError(\"invalid parameters: dx==0\")\n",
    "    if x0>x1 and dx>=0:\n",
    "        raise ValueError(\"invalid parameters: x0>x1 and dx>=0\")\n",
    "    if x0<x1 and dx<=0:\n",
    "        raise ValueError(\"invalid parameters: x0<x1 and dx<=0\")\n",
    "        \n",
    "    # generate range list\n",
    "    range_list = []\n",
    "    x = x0\n",
    "    while x < x1:\n",
    "        range_list.append(x)\n",
    "        x += dx\n",
    "    return range_list"
   ]
  },
  {
   "cell_type": "code",
   "execution_count": 3,
   "metadata": {},
   "outputs": [],
   "source": [
    "#Make list of quantum numbers that defines the basis for the matrices\n",
    "QN_uncoupled = make_QN(0,4,1/2,1/2)\n",
    "\n",
    "#Get H_0 from file (H_0 should be in rad/s)\n",
    "H_0_EB = make_hamiltonian(\"TlF_X_state_hamiltonian_J0to4.pickle\")\n",
    "\n",
    "E = np.array((0,0,0))\n",
    "B = np.array((0,0,0.001))\n",
    "H0_uncoupled = H_0_EB(E,B)"
   ]
  },
  {
   "cell_type": "code",
   "execution_count": 4,
   "metadata": {},
   "outputs": [],
   "source": [
    "#Make list of quantum numbers for coupled basis\n",
    "Jmin = 0\n",
    "Jmax = 4\n",
    "I_F = 1/2\n",
    "I_Tl = 1/2\n",
    "QN_coupled = [CoupledBasisState(F,mF,F1,J,I_F,I_Tl)\n",
    "      for J  in ni_range(Jmin, Jmax+1)\n",
    "      for F1 in ni_range(np.abs(J-I_F),J+I_F+1)\n",
    "      for F in ni_range(np.abs(F1-I_Tl),F1+I_Tl+1)\n",
    "      for mF in ni_range(-F, F+1)\n",
    "     ]"
   ]
  },
  {
   "cell_type": "code",
   "execution_count": null,
   "metadata": {},
   "outputs": [
    {
     "data": {
      "application/vnd.jupyter.widget-view+json": {
       "model_id": "9a013ef54e4b4f7e8da46260c05c7bbb",
       "version_major": 2,
       "version_minor": 0
      },
      "text/plain": [
       "HBox(children=(FloatProgress(value=0.0), HTML(value='')))"
      ]
     },
     "metadata": {},
     "output_type": "display_data"
    }
   ],
   "source": [
    "S_trans = generate_transform_matrix(QN_coupled,QN_uncoupled).T"
   ]
  },
  {
   "cell_type": "code",
   "execution_count": null,
   "metadata": {},
   "outputs": [],
   "source": [
    "H0_coupled = S_trans.conj().T @ H0_uncoupled @ S_trans\n",
    "# H0_coupled = S @ H0_uncoupled @ S.conj().T "
   ]
  },
  {
   "cell_type": "code",
   "execution_count": null,
   "metadata": {},
   "outputs": [],
   "source": [
    "#Diagonalize both Hamiltonians\n",
    "D_uc, V_uc = np.linalg.eigh(H0_uncoupled)\n",
    "D_c, V_c = np.linalg.eigh(H0_coupled)\n",
    "\n",
    "print(np.allclose(D_c,D_uc))"
   ]
  },
  {
   "cell_type": "code",
   "execution_count": null,
   "metadata": {},
   "outputs": [],
   "source": [
    "#Print some of the states\n",
    "index=30\n",
    "state_uc = vector_to_state(V_uc[:,index],QN_uncoupled)\n",
    "state_c = vector_to_state(V_c[:,index],QN_coupled)\n",
    "\n",
    "print(\"Uncoupled:\\n|{}> = \".format(index))\n",
    "state_uc.remove_small_components().transform_to_coupled().print_state()\n",
    "print(\"Coupled:\\n|{}> = \".format(index))\n",
    "state_c.print_state()"
   ]
  },
  {
   "cell_type": "code",
   "execution_count": null,
   "metadata": {},
   "outputs": [],
   "source": [
    "#Testing function for picking out sub-space of Hamiltonian\n",
    "QN_reduced = make_QN(1,2,1/2,1/2)\n",
    "H_red = reduced_basis_hamiltonian(QN_uncoupled, H0_uncoupled, QN_reduced)"
   ]
  },
  {
   "cell_type": "code",
   "execution_count": null,
   "metadata": {},
   "outputs": [],
   "source": [
    "np.allclose(H_red, H0_uncoupled[4:36,4:36])"
   ]
  },
  {
   "cell_type": "code",
   "execution_count": null,
   "metadata": {},
   "outputs": [],
   "source": [
    "#Save the transformation matrix to file\n",
    "filename = \"UC_to_C_j0to4.pickle\"\n",
    "with open(filename,\"wb+\")as f:\n",
    "    pickle.dump(S_trans,f)"
   ]
  },
  {
   "cell_type": "code",
   "execution_count": 13,
   "metadata": {},
   "outputs": [
    {
     "data": {
      "text/plain": [
       "array([[ 0.        ,  1.        ,  0.        , ...,  0.        ,\n",
       "         0.        ,  0.        ],\n",
       "       [-0.70710678,  0.        ,  0.70710678, ...,  0.        ,\n",
       "         0.        ,  0.        ],\n",
       "       [ 0.70710678,  0.        ,  0.70710678, ...,  0.        ,\n",
       "         0.        ,  0.        ],\n",
       "       ...,\n",
       "       [ 0.        ,  0.        ,  0.        , ...,  0.        ,\n",
       "         0.35355339,  0.        ],\n",
       "       [ 0.        ,  0.        ,  0.        , ...,  0.        ,\n",
       "         0.35355339,  0.        ],\n",
       "       [ 0.        ,  0.        ,  0.        , ...,  0.        ,\n",
       "         0.        ,  1.        ]])"
      ]
     },
     "execution_count": 13,
     "metadata": {},
     "output_type": "execute_result"
    }
   ],
   "source": [
    "S_trans"
   ]
  },
  {
   "cell_type": "code",
   "execution_count": null,
   "metadata": {},
   "outputs": [],
   "source": []
  }
 ],
 "metadata": {
  "kernelspec": {
   "display_name": "Python 3",
   "language": "python",
   "name": "python3"
  },
  "language_info": {
   "codemirror_mode": {
    "name": "ipython",
    "version": 3
   },
   "file_extension": ".py",
   "mimetype": "text/x-python",
   "name": "python",
   "nbconvert_exporter": "python",
   "pygments_lexer": "ipython3",
   "version": "3.7.6"
  }
 },
 "nbformat": 4,
 "nbformat_minor": 4
}
