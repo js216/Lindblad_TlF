{
 "cells": [
  {
   "cell_type": "markdown",
   "metadata": {},
   "source": [
    "# Microwave transition matrix elements\n",
    "## Intro\n",
    "This notebook calculates matrix elements between the electronic ground state levels of TlF. The matrix elements are needed for calculations concerning microwave driven transitions between different energy levels, which are used for instance in the state preparation regions of the experiment.\n",
    "\n",
    "The method for calculating the electric dipole matrix elements is the same as Jakob's method for calculating the ground state Hamiltonian of TlF: I'll first define the electric dipole operator and then find its matrix elements.\n",
    "\n",
    "Note that the matrix elements are actually just the Stark matrix elements.\n",
    "## Code\n",
    "\n",
    "Import necessary packages:"
   ]
  },
  {
   "cell_type": "code",
   "execution_count": 23,
   "metadata": {},
   "outputs": [],
   "source": [
    "import numpy as np\n",
    "import sympy\n",
    "from sympy import sqrt\n",
    "import multiprocessing\n",
    "import pickle\n"
   ]
  },
  {
   "cell_type": "markdown",
   "metadata": {},
   "source": [
    "### Representing the states\n",
    "\n",
    "A state, in general, can be written as a weighted superposition of the basis states. We work in the basis $|J, m_J, I_1, m_1, I_2, m_2\\rangle$. The states are defined in the molecular-state-classes-and-functions/classes.py library."
   ]
  },
  {
   "cell_type": "code",
   "execution_count": 105,
   "metadata": {},
   "outputs": [],
   "source": [
    "import sys\n",
    "sys.path.append('../molecular-state-classes-and-functions/')\n",
    "from classes import UncoupledBasisState, CoupledBasisState, State"
   ]
  },
  {
   "cell_type": "markdown",
   "metadata": {},
   "source": [
    "### Electric dipole operator\n",
    "The electric dipole operator Hamiltonian is given by $ H_{ed} = - \\vec{d} \\cdot \\vec{E} = - d \\hat{\\vec{r}} \\cdot \\vec{E} = -dE \\, (\\hat{r_x}\\,\\hat{E_x} + \\hat{r_y}\\,\\hat{E_y} + \\hat{r_z}\\,\\hat{E_z})$ \n",
    "\n",
    "I'll use the usual definition for the spherical operators\n",
    "\n",
    "$$\n",
    "\\hat{r_{\\pm}}\\equiv \\mp\\frac{x\\pm iy}{\\sqrt2r} = 2\\sqrt{\\frac{\\pi}{3}}Y_1^{\\pm M} \\\\\n",
    "\\hat{r_{0}}\\equiv \\frac{z}{r} = 2\\sqrt{\\frac{\\pi}{3}}Y_1^{0}\n",
    "$$\n",
    "\n",
    "so that\n",
    "\n",
    "$$\n",
    "\\hat{r_x} = - \\frac{\\hat{r_+} - \\hat{r_-}}{\\sqrt{2}} \\\\\n",
    "\\hat{r_y} = i \\frac{\\hat{r_+} + \\hat{r_-}}{\\sqrt{2}} \\\\ \n",
    "\\hat{r_z} = \\hat{r_0} \n",
    "$$\n",
    "\n",
    "The electric dipole Hamiltonian is thus given by\n",
    "\n",
    "$$\n",
    "H^{ed}_x = d \\, \\frac{\\hat{r_+} - \\hat{r_-}}{\\sqrt{2}} \\\\\n",
    "H^{ed}_y = -i d \\,  \\frac{\\hat{r_+} + \\hat{r_-}}{\\sqrt{2}} \\\\\n",
    "H^{ed}_z = d \\,\\hat{r_0} \n",
    "$$\n",
    "\n",
    "The matrix elements for the spherical tensor operator $ r $ are found by using \n",
    "\n",
    "$$\n",
    "2\\sqrt{\\frac{\\pi}{3}}\n",
    "\\langle J',m'|Y_1^M||J,m\\rangle\n",
    "=(-1)^{M}\n",
    " \\sqrt{\\frac{(2 J' + 1)}{(2 J + 1)}}\n",
    "    \\langle J' \\, 0 \\, 1 \\, 0 | J \\, 0 \\rangle\n",
    "    \\langle J' \\, m' \\, 1 \\, -M | J \\, m \\rangle\n",
    "$$\n",
    "\n",
    "This can be partially evaluated using the following Mathematica function:\n",
    "\n",
    "```mathematica\n",
    "coeffs[M_] := Table[(-1)^M Sqrt[(2 Jp + 1)/((2 J + 1))]\n",
    "     ClebschGordan[{Jp, mp}, {1, -M}, {J, m}]\n",
    "     ClebschGordan[{Jp, 0}, {1, 0}, {J, 0}] // FullSimplify,\n",
    "   {mp, {m - 1, m, m + 1}}, {Jp, {J - 1, J + 1}}\n",
    "   ] // MatrixForm\n",
    "```\n",
    "\n",
    "The result for $M=0$ is nonzero for $m'=m$:\n",
    "\n",
    "$$\n",
    "\\begin{aligned}\n",
    "2\\sqrt{\\frac{(J-m)(J+m)}{8J^2-2}}&\\quad\\text{for $J'=J-1$}\\\\\n",
    "2\\sqrt{\\frac{(J-m+1)(J+m+1)}{6+8J(J+2)}}&\\quad\\text{for $J'=J+1$}\n",
    "\\end{aligned}\n",
    "$$\n",
    "\n",
    "For $M=-1$, we need $m'=m-1$:\n",
    "\n",
    "$$\n",
    "\\begin{aligned}\n",
    "-\\sqrt{\\frac{(J+m)(J-1+m)}{4J^2-1}}&\\quad\\text{for $J'=J-1$}\\\\\n",
    "\\sqrt{\\frac{(J+1-m)(J+2-m)}{3+4J(J+2)}}&\\quad\\text{for $J'=J+1$}\n",
    "\\end{aligned}\n",
    "$$\n",
    "\n",
    "For $M=1$, we need $m'=m+1$:\n",
    "\n",
    "$$\n",
    "\\begin{aligned}\n",
    "-\\sqrt{\\frac{(J-m)(J-1-m)}{4J^2-1}}&\\quad\\text{for $J'=J-1$}\\\\\n",
    "\\sqrt{\\frac{(J+1+m)(J+2+m)}{3+4J(J+2)}}&\\quad\\text{for $J'=J+1$}\n",
    "\\end{aligned}\n",
    "$$\n",
    "\n",
    "The spherical tensor operators can thus be written in Python as the operators:"
   ]
  },
  {
   "cell_type": "code",
   "execution_count": 106,
   "metadata": {},
   "outputs": [],
   "source": [
    "def R10(psi):\n",
    "    amp1 = sqrt(2)*sqrt((psi.J-psi.mJ)*(psi.J+psi.mJ)/(8*psi.J**2-2))\n",
    "    ket1 = UncoupledBasisState(psi.J-1, psi.mJ, psi.I1, psi.m1, psi.I2, psi.m2)\n",
    "    amp2 = sqrt(2)*sqrt((psi.J-psi.mJ+1)*(psi.J+psi.mJ+1)/(6+8*psi.J*(psi.J+2)))\n",
    "    ket2 = UncoupledBasisState(psi.J+1, psi.mJ, psi.I1, psi.m1, psi.I2, psi.m2)\n",
    "    return State([(amp1,ket1),(amp2,ket2)])\n",
    "\n",
    "def R1m(psi):\n",
    "    amp1 = sqrt((psi.J+psi.mJ)*(psi.J+psi.mJ-1)/(4*psi.J**2-1))/sqrt(2)\n",
    "    ket1 = UncoupledBasisState(psi.J-1, psi.mJ-1, psi.I1, psi.m1, psi.I2, psi.m2)\n",
    "    amp2 = -sqrt((psi.J-psi.mJ+1)*(psi.J-psi.mJ+2)/(3+4*psi.J*(psi.J+2)))/sqrt(2)\n",
    "    ket2 = UncoupledBasisState(psi.J+1, psi.mJ-1, psi.I1, psi.m1, psi.I2, psi.m2)\n",
    "    return State([(amp1,ket1),(amp2,ket2)])\n",
    "\n",
    "def R1p(psi):\n",
    "    amp1 = sqrt((psi.J-psi.mJ)*(psi.J-psi.mJ-1)/(4*psi.J**2-1))/sqrt(2)\n",
    "    ket1 = UncoupledBasisState(psi.J-1, psi.mJ+1, psi.I1, psi.m1, psi.I2, psi.m2)\n",
    "    amp2 = -sqrt((psi.J+psi.mJ+1)*(psi.J+psi.mJ+2)/(3+4*psi.J*(psi.J+2)))/sqrt(2)\n",
    "    ket2 = UncoupledBasisState(psi.J+1, psi.mJ+1, psi.I1, psi.m1, psi.I2, psi.m2)\n",
    "    return State([(amp1,ket1),(amp2,ket2)])"
   ]
  },
  {
   "cell_type": "markdown",
   "metadata": {},
   "source": [
    "And thus the electric dipole operator is "
   ]
  },
  {
   "cell_type": "code",
   "execution_count": 107,
   "metadata": {},
   "outputs": [],
   "source": [
    "def H_ED_x(psi):\n",
    "    return D_TlF * ( R1m(psi) - R1p(psi) ) / sqrt(2)\n",
    "\n",
    "def H_ED_y(psi):\n",
    "    return -D_TlF * sympy.I * ( R1m(psi) + R1p(psi) ) /sqrt(2)\n",
    "\n",
    "def H_ED_z(psi):\n",
    "    return -D_TlF *R10(psi)"
   ]
  },
  {
   "cell_type": "markdown",
   "metadata": {},
   "source": [
    "### Matrix elements"
   ]
  },
  {
   "cell_type": "markdown",
   "metadata": {},
   "source": [
    "With all the operators defined, we can evaluate the matrix elements for a given range of quantum numbers. We shall need to generate a non-integer range list (e.g., from -3/2 to +3/2):"
   ]
  },
  {
   "cell_type": "code",
   "execution_count": 108,
   "metadata": {},
   "outputs": [],
   "source": [
    "def ni_range(x0, x1, dx=1):\n",
    "    # sanity check arguments\n",
    "    if dx==0:\n",
    "        raise ValueError(\"invalid parameters: dx==0\")\n",
    "    if x0>x1 and dx>=0:\n",
    "        raise ValueError(\"invalid parameters: x0>x1 and dx>=0\")\n",
    "    if x0<x1 and dx<=0:\n",
    "        raise ValueError(\"invalid parameters: x0<x1 and dx<=0\")\n",
    "        \n",
    "    # generate range list\n",
    "    range_list = []\n",
    "    x = x0\n",
    "    while x < x1:\n",
    "        range_list.append(sympy.Number(x))\n",
    "        x += dx\n",
    "    return range_list"
   ]
  },
  {
   "cell_type": "markdown",
   "metadata": {},
   "source": [
    "Define constants for TlF:"
   ]
  },
  {
   "cell_type": "code",
   "execution_count": 109,
   "metadata": {},
   "outputs": [],
   "source": [
    "half = sympy.Rational(1,2)\n",
    "\n",
    "Jmax = sympy.Integer(6) # max J value in Hamiltonian\n",
    "I_Tl = half             # I1 in Ramsey's notation\n",
    "I_F  = half             # I2 in Ramsey's notation\n",
    "\n",
    "Brot = sympy.symbols('Brot')\n",
    "c1, c2, c3, c4 = sympy.symbols('c1 c2 c3 c4')\n",
    "D_TlF = sympy.symbols('D_TlF')\n",
    "mu_J, mu_Tl, mu_F = sympy.symbols('mu_J mu_Tl mu_F')"
   ]
  },
  {
   "cell_type": "markdown",
   "metadata": {},
   "source": [
    " Write down the basis as a list of `BasisState` components:"
   ]
  },
  {
   "cell_type": "code",
   "execution_count": 110,
   "metadata": {},
   "outputs": [],
   "source": [
    "QN = [UncoupledBasisState(J,mJ,I_Tl,m1,I_F,m2)\n",
    "      for J  in ni_range(0, Jmax+1)\n",
    "      for mJ in ni_range(-J,J+1)\n",
    "      for m1 in ni_range(-I_Tl,I_Tl+1)\n",
    "      for m2 in ni_range(-I_F,I_F+1)\n",
    "     ]"
   ]
  },
  {
   "cell_type": "markdown",
   "metadata": {},
   "source": [
    "The field-free and Stark/Zeeman components of the Hamiltonian then have the matrix elements (evaluate using `multiprocessing` to speed things up)"
   ]
  },
  {
   "cell_type": "code",
   "execution_count": 111,
   "metadata": {},
   "outputs": [
    {
     "name": "stdout",
     "output_type": "stream",
     "text": [
      "Wall time: 26.5 s\n"
     ]
    }
   ],
   "source": [
    "%%time\n",
    "\n",
    "def HMatElems(H, QN=QN):\n",
    "    result = sympy.zeros(len(QN),len(QN))\n",
    "    for i,a in enumerate(QN):\n",
    "        for j,b in enumerate(QN):\n",
    "            result[i,j] = (1*a)@H(b)\n",
    "    return result\n",
    "\n",
    "H_ops = [H_ED_x, H_ED_y, H_ED_z]\n",
    "H_ED_x_m, H_ED_y_m, H_ED_z_m = map(HMatElems, H_ops)"
   ]
  },
  {
   "cell_type": "markdown",
   "metadata": {},
   "source": [
    "Store the result of the calculation as text files and Python `pickle`s:"
   ]
  },
  {
   "cell_type": "code",
   "execution_count": 112,
   "metadata": {},
   "outputs": [],
   "source": [
    "with open(\"hamiltonians.py\", 'wb') as f:\n",
    "    pickle.dump(\n",
    "        {\n",
    "            \"H_ED_x\" : H_ED_x_m,\n",
    "            \"H_ED_y\" : H_ED_y_m,\n",
    "            \"H_ED_z\" : H_ED_z_m,\n",
    "        },\n",
    "        f\n",
    "    )"
   ]
  },
  {
   "cell_type": "code",
   "execution_count": 113,
   "metadata": {},
   "outputs": [],
   "source": [
    "with open(\"hamiltonians.txt\", 'w') as f:\n",
    "    f.write(\n",
    "        str(\n",
    "            {\n",
    "            \"H_ED_x\" : H_ED_x_m,\n",
    "            \"H_ED_y\" : H_ED_y_m,\n",
    "            \"H_ED_z\" : H_ED_z_m,\n",
    "            }\n",
    "        )\n",
    "    )"
   ]
  },
  {
   "cell_type": "markdown",
   "metadata": {},
   "source": [
    "Compare the electric dipole matrix elements found here to the Stark matrix elements found earlier:"
   ]
  },
  {
   "cell_type": "code",
   "execution_count": 114,
   "metadata": {},
   "outputs": [],
   "source": [
    "#Import Hamiltonian for comparison\n",
    "#Import Hamiltonian\n",
    "with open(\"hamiltonians_symbolic.py\", 'rb') as f:\n",
    "    hamiltonians = pickle.load(f)\n",
    "with open(\"Hff_alt_mat.py\", 'rb') as f:\n",
    "    Hff_alt_mat_m = pickle.load(f)[\"Hff_alt_mat\"]\n",
    "\n",
    "    \n",
    "Jmax = sympy.Integer(6) # max J value in Hamiltonian\n",
    "I_Tl = 1/2             # I1 in Ramsey's notation/\n",
    "I_F  = 1/2             # I2 in Ramsey's notation\n",
    "\n",
    "def ni_range(x0, x1, dx=1):\n",
    "    # sanity check arguments\n",
    "    if dx==0:\n",
    "        raise ValueError(\"invalid parameters: dx==0\")\n",
    "    if x0>x1 and dx>=0:\n",
    "        raise ValueError(\"invalid parameters: x0>x1 and dx>=0\")\n",
    "    if x0<x1 and dx<=0:\n",
    "        raise ValueError(\"invalid parameters: x0<x1 and dx<=0\")\n",
    "        \n",
    "    # generate range list\n",
    "    range_list = []\n",
    "    x = x0\n",
    "    while x < x1:\n",
    "        range_list.append(sympy.Number(x))\n",
    "        x += dx\n",
    "    return range_list"
   ]
  },
  {
   "cell_type": "code",
   "execution_count": 115,
   "metadata": {},
   "outputs": [],
   "source": [
    "#Compare the Hamiltonians\n",
    "HSx = hamiltonians['HSx']\n",
    "HSy = hamiltonians['HSy']\n",
    "HSz = hamiltonians['HSz']\n",
    "\n",
    "x_test = np.absolute(HSx - H_ED_x_m)\n",
    "x_test[x_test !=0]"
   ]
  },
  {
   "cell_type": "markdown",
   "metadata": {},
   "source": [
    "### Matrix elements for state prep 2 and 3\n",
    "In state preparation 2 and 3 we are using microwave transitions between the states $|J = 2, m_J = 0, m_1 = ?, m_2 = ?>$ and $|J = 1, m_J = \\pm1, m_1 = \\pm\\frac{1}{2}, m_2 = \\pm\\frac{1}{2}> $. This section calculates the matrix elements for these transitions.\n",
    "\n",
    "Start by finding the indices of the states of interest:"
   ]
  },
  {
   "cell_type": "code",
   "execution_count": 135,
   "metadata": {},
   "outputs": [],
   "source": [
    "#Define the states first:\n",
    "#e = |J = 1, mJ = -1, m1 =-1/2, m2 = -1/2>  and h =  |J = 1, mJ = +1, m1 = +1/2, m2 = +1/2>\n",
    "state_e = UncoupledBasisState(1,-1,1/2,-1/2,1/2,-1/2).make_state()\n",
    "state_h = UncoupledBasisState(1,1,1/2,1/2,1/2,1/2).make_state()\n",
    "\n",
    "#Define the lens states: |J = 2, mJ = -0, m1 =+/- 1/2, m2 = +/- 1/2> \n",
    "J = 2\n",
    "mJ = 0\n",
    "I1 = 1/2\n",
    "I2 = 1/2\n",
    "lens_states = []\n",
    "\n",
    "for m1 in np.arange(-I1,I1+1):\n",
    "    for m2 in np.arange(-I2,I2+1):\n",
    "        lens_states.append(UncoupledBasisState(J,mJ,I1,m1,I2,m2).make_state())\n",
    "        \n",
    "\n",
    "#Find the index in the QN list for each state\n",
    "lens_state_indices = []\n",
    "\n",
    "for lens_state in lens_states:\n",
    "    overlaps = np.zeros(len(QN))\n",
    "    for i,eigenstate in enumerate(QN):\n",
    "        overlaps[i] = np.absolute(eigenstate.make_state()@lens_state)\n",
    "    lens_state_indices.append(np.argmax(overlaps))\n",
    "\n",
    "#Find indices for the two states\n",
    "state_e_index = np.argmax(np.absolute(np.array([eigenstate.make_state()@state_e for eigenstate in QN])))\n",
    "state_h_index = np.argmax(np.absolute(np.array([eigenstate.make_state()@state_h for eigenstate in QN])))\n",
    "\n",
    "#Find the matrix elements\n",
    "state_e_matrix_elements = H_ED_z_m[state_e_index, lens_state_indices]\n",
    "state_h_matrix_elements = H_ED_z_m[state_h_index, lens_state_indices]"
   ]
  },
  {
   "cell_type": "code",
   "execution_count": 136,
   "metadata": {},
   "outputs": [
    {
     "data": {
      "text/plain": [
       "Matrix([[0, 0, 0, 0]])"
      ]
     },
     "execution_count": 136,
     "metadata": {},
     "output_type": "execute_result"
    }
   ],
   "source": [
    "state_e_matrix_elements"
   ]
  },
  {
   "cell_type": "code",
   "execution_count": 137,
   "metadata": {},
   "outputs": [
    {
     "data": {
      "text/plain": [
       "Matrix([[0, 0, 0, 0]])"
      ]
     },
     "execution_count": 137,
     "metadata": {},
     "output_type": "execute_result"
    }
   ],
   "source": [
    "state_h_matrix_elements"
   ]
  },
  {
   "cell_type": "code",
   "execution_count": null,
   "metadata": {},
   "outputs": [],
   "source": []
  }
 ],
 "metadata": {
  "kernelspec": {
   "display_name": "Python 3",
   "language": "python",
   "name": "python3"
  },
  "language_info": {
   "codemirror_mode": {
    "name": "ipython",
    "version": 3
   },
   "file_extension": ".py",
   "mimetype": "text/x-python",
   "name": "python",
   "nbconvert_exporter": "python",
   "pygments_lexer": "ipython3",
   "version": "3.6.5"
  }
 },
 "nbformat": 4,
 "nbformat_minor": 2
}
