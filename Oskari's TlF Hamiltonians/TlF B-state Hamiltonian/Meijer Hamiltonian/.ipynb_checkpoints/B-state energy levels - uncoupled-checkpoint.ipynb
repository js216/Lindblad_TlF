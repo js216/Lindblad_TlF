{
 "cells": [
  {
   "cell_type": "markdown",
   "metadata": {},
   "source": [
    "# B-state energy levels \n",
    "Calculating the energy levels and eigenstates of the B-state Hamiltonian\n",
    "\n",
    "Import the relevant packages and Hamiltonians"
   ]
  },
  {
   "cell_type": "code",
   "execution_count": 27,
   "metadata": {},
   "outputs": [],
   "source": [
    "import numpy as np\n",
    "import pickle\n",
    "import sys\n",
    "import sympy\n",
    "\n",
    "sys.path.append('../B-state-classes-and-functions/')\n",
    "\n",
    "from classes import CoupledBasisState, UncoupledBasisState, State\n",
    "from functions import matrix_to_states, vector_to_state, find_state_idx_from_state, find_closest_state\n",
    "\n",
    "with open(\"B_hamiltonians_symbolic.py\",'rb') as f:\n",
    "    hamiltonians = pickle.load(f)\n",
    "\n",
    "def ni_range(x0, x1, dx=1):\n",
    "    # sanity check arguments\n",
    "    if dx==0:\n",
    "        raise ValueError(\"invalid parameters: dx==0\")\n",
    "    if x0>x1 and dx>=0:\n",
    "        raise ValueError(\"invalid parameters: x0>x1 and dx>=0\")\n",
    "    if x0<x1 and dx<=0:\n",
    "        raise ValueError(\"invalid parameters: x0<x1 and dx<=0\")\n",
    "        \n",
    "    # generate range list\n",
    "    range_list = []\n",
    "    x = x0\n",
    "    while x < x1:\n",
    "        range_list.append(x)\n",
    "        x += dx\n",
    "    return range_list\n",
    "\n",
    "#Generate quantum numbers\n",
    "Jmin = 1\n",
    "Jmax = 4 # max J value in Hamiltonian\n",
    "#Jmax = 6\n",
    "I_Tl = 1/2             # I1 in Ramsey's notation\n",
    "I_F  = 1/2             # I2 in Ramsey's notation\n",
    "\n",
    "\n",
    "Omegas = [-1, 1]\n",
    "# QN = [UncoupledBasisState(J,mJ,I_Tl,m1,I_F,m2, Omega)\n",
    "#       for J  in ni_range(Jmin, Jmax+1)\n",
    "#       for Omega in Omegas\n",
    "#       for mJ in ni_range(-J,J+1)\n",
    "#       for m1 in ni_range(-I_Tl,I_Tl+1)\n",
    "#       for m2 in ni_range(-I_F,I_F+1)\n",
    "#      ]\n",
    "\n",
    "QN = []\n",
    "for Omega in Omegas:\n",
    "    for J in np.arange(Jmin, Jmax+1):\n",
    "        for m1 in np.arange(-I_Tl,I_Tl+1):\n",
    "            for m2 in np.arange(-I_F,I_F+1):\n",
    "                mJ = 0-m1-m2\n",
    "\n",
    "                if np.abs(mJ) <= J:\n",
    "                    QN.append(UncoupledBasisState(J,mJ,I_Tl,m1,I_F,m2, Omega))\n"
   ]
  },
  {
   "cell_type": "code",
   "execution_count": 28,
   "metadata": {},
   "outputs": [],
   "source": [
    "variables = [\n",
    "    *sympy.symbols('Brot Drot H_const'),\n",
    "    *sympy.symbols('h1_Tl h1_F'),\n",
    "    sympy.symbols('q'),\n",
    "    sympy.symbols('c1'),\n",
    "    sympy.symbols('c_Tl_p'),\n",
    "    *sympy.symbols('gL gS')\n",
    "]\n",
    "\n",
    "lambdified_hamiltonians = {\n",
    "    H_name : sympy.lambdify(variables, H_matrix)\n",
    "    for H_name, H_matrix in hamiltonians.items()\n",
    "}"
   ]
  },
  {
   "cell_type": "markdown",
   "metadata": {},
   "source": [
    "Insert the numerical constants:"
   ]
  },
  {
   "cell_type": "code",
   "execution_count": 29,
   "metadata": {},
   "outputs": [],
   "source": [
    "#Constants in MHz\n",
    "Brot = 6687.879e6\n",
    "Drot = 0.010869e6\n",
    "H_const = -8.1e-2\n",
    "h1_Tl = 28789e6\n",
    "h1_F = 861e6\n",
    "q = 2.423e6\n",
    "c1 = -7.83e6\n",
    "c_Tl_p = 11.17e6\n",
    "gL = 1\n",
    "gS = 2\n",
    "\n",
    "H = {\n",
    "    H_name : H_fn(\n",
    "        Brot, Drot, H_const,\n",
    "        h1_Tl, h1_F,\n",
    "        q,\n",
    "        c1,\n",
    "        c_Tl_p,\n",
    "        gL, gS\n",
    "    )\n",
    "    for H_name, H_fn in lambdified_hamiltonians.items()\n",
    "}\n",
    "\n"
   ]
  },
  {
   "cell_type": "markdown",
   "metadata": {},
   "source": [
    "Check that Hamiltonian is hermitian and diagonalize the Hamiltonian"
   ]
  },
  {
   "cell_type": "code",
   "execution_count": 30,
   "metadata": {},
   "outputs": [
    {
     "name": "stdout",
     "output_type": "stream",
     "text": [
      "True\n"
     ]
    }
   ],
   "source": [
    "Hff = H[\"Hrot\"]+H[\"H_mhf_Tl\"]+H[\"H_mhf_F\"]+H[\"Hc1\"]+H[\"H_LD\"]+H[\"H_c1_p\"]\n",
    "print(np.allclose(Hff, Hff.conj().T))\n",
    "D, V = np.linalg.eigh(Hff)"
   ]
  },
  {
   "cell_type": "code",
   "execution_count": 31,
   "metadata": {},
   "outputs": [],
   "source": [
    "states = matrix_to_states(V,QN)"
   ]
  },
  {
   "cell_type": "code",
   "execution_count": 32,
   "metadata": {
    "scrolled": false
   },
   "outputs": [
    {
     "name": "stdout",
     "output_type": "stream",
     "text": [
      "\n",
      "-0.7071+0.0000j x |J = 1, F1 = 1/2, F = 0, mF = 0, I1 = 1/2, I2 = 1/2, Omega = -1, P = None>\n",
      "+0.7071+0.0000j x |J = 1, F1 = 1/2, F = 0, mF = 0, I1 = 1/2, I2 = 1/2, Omega = 1, P = None>\n",
      "\n",
      "+0.7071+0.0000j x |J = 1, F1 = 1/2, F = 0, mF = 0, I1 = 1/2, I2 = 1/2, Omega = -1, P = None>\n",
      "+0.7071+0.0000j x |J = 1, F1 = 1/2, F = 0, mF = 0, I1 = 1/2, I2 = 1/2, Omega = 1, P = None>\n",
      "\n",
      "-0.7069+0.0000j x |J = 1, F1 = 1/2, F = 1, mF = 0, I1 = 1/2, I2 = 1/2, Omega = -1, P = None>\n",
      "-0.0142+0.0000j x |J = 1, F1 = 3/2, F = 1, mF = 0, I1 = 1/2, I2 = 1/2, Omega = -1, P = None>\n",
      "+0.0126+0.0000j x |J = 2, F1 = 3/2, F = 1, mF = 0, I1 = 1/2, I2 = 1/2, Omega = -1, P = None>\n",
      "+0.7069+0.0000j x |J = 1, F1 = 1/2, F = 1, mF = 0, I1 = 1/2, I2 = 1/2, Omega = 1, P = None>\n",
      "+0.0142+0.0000j x |J = 1, F1 = 3/2, F = 1, mF = 0, I1 = 1/2, I2 = 1/2, Omega = 1, P = None>\n",
      "+0.0126+0.0000j x |J = 2, F1 = 3/2, F = 1, mF = 0, I1 = 1/2, I2 = 1/2, Omega = 1, P = None>\n",
      "\n",
      "+0.7069+0.0000j x |J = 1, F1 = 1/2, F = 1, mF = 0, I1 = 1/2, I2 = 1/2, Omega = -1, P = None>\n",
      "+0.0142+0.0000j x |J = 1, F1 = 3/2, F = 1, mF = 0, I1 = 1/2, I2 = 1/2, Omega = -1, P = None>\n",
      "-0.0126+0.0000j x |J = 2, F1 = 3/2, F = 1, mF = 0, I1 = 1/2, I2 = 1/2, Omega = -1, P = None>\n",
      "+0.7069+0.0000j x |J = 1, F1 = 1/2, F = 1, mF = 0, I1 = 1/2, I2 = 1/2, Omega = 1, P = None>\n",
      "+0.0142+0.0000j x |J = 1, F1 = 3/2, F = 1, mF = 0, I1 = 1/2, I2 = 1/2, Omega = 1, P = None>\n",
      "+0.0126+0.0000j x |J = 2, F1 = 3/2, F = 1, mF = 0, I1 = 1/2, I2 = 1/2, Omega = 1, P = None>\n",
      "\n",
      "+0.0187+0.0000j x |J = 1, F1 = 1/2, F = 1, mF = 0, I1 = 1/2, I2 = 1/2, Omega = -1, P = None>\n",
      "-0.6023+0.0000j x |J = 1, F1 = 3/2, F = 1, mF = 0, I1 = 1/2, I2 = 1/2, Omega = -1, P = None>\n",
      "+0.3700+0.0000j x |J = 2, F1 = 3/2, F = 1, mF = 0, I1 = 1/2, I2 = 1/2, Omega = -1, P = None>\n",
      "+0.0187+0.0000j x |J = 1, F1 = 1/2, F = 1, mF = 0, I1 = 1/2, I2 = 1/2, Omega = 1, P = None>\n",
      "-0.6023+0.0000j x |J = 1, F1 = 3/2, F = 1, mF = 0, I1 = 1/2, I2 = 1/2, Omega = 1, P = None>\n",
      "-0.3700+0.0000j x |J = 2, F1 = 3/2, F = 1, mF = 0, I1 = 1/2, I2 = 1/2, Omega = 1, P = None>\n",
      "\n",
      "-0.0186+0.0000j x |J = 1, F1 = 1/2, F = 1, mF = 0, I1 = 1/2, I2 = 1/2, Omega = -1, P = None>\n",
      "+0.6025+0.0000j x |J = 1, F1 = 3/2, F = 1, mF = 0, I1 = 1/2, I2 = 1/2, Omega = -1, P = None>\n",
      "-0.3696+0.0000j x |J = 2, F1 = 3/2, F = 1, mF = 0, I1 = 1/2, I2 = 1/2, Omega = -1, P = None>\n",
      "+0.0186+0.0000j x |J = 1, F1 = 1/2, F = 1, mF = 0, I1 = 1/2, I2 = 1/2, Omega = 1, P = None>\n",
      "-0.6025+0.0000j x |J = 1, F1 = 3/2, F = 1, mF = 0, I1 = 1/2, I2 = 1/2, Omega = 1, P = None>\n",
      "-0.3696+0.0000j x |J = 2, F1 = 3/2, F = 1, mF = 0, I1 = 1/2, I2 = 1/2, Omega = 1, P = None>\n",
      "\n",
      "-0.5998+0.0000j x |J = 1, F1 = 3/2, F = 2, mF = 0, I1 = 1/2, I2 = 1/2, Omega = -1, P = None>\n",
      "+0.3744+0.0000j x |J = 2, F1 = 3/2, F = 2, mF = 0, I1 = 1/2, I2 = 1/2, Omega = -1, P = None>\n",
      "-0.5998+0.0000j x |J = 1, F1 = 3/2, F = 2, mF = 0, I1 = 1/2, I2 = 1/2, Omega = 1, P = None>\n",
      "-0.3744+0.0000j x |J = 2, F1 = 3/2, F = 2, mF = 0, I1 = 1/2, I2 = 1/2, Omega = 1, P = None>\n",
      "\n",
      "+0.6000+0.0000j x |J = 1, F1 = 3/2, F = 2, mF = 0, I1 = 1/2, I2 = 1/2, Omega = -1, P = None>\n",
      "-0.3740+0.0000j x |J = 2, F1 = 3/2, F = 2, mF = 0, I1 = 1/2, I2 = 1/2, Omega = -1, P = None>\n",
      "-0.6000+0.0000j x |J = 1, F1 = 3/2, F = 2, mF = 0, I1 = 1/2, I2 = 1/2, Omega = 1, P = None>\n",
      "-0.3740+0.0000j x |J = 2, F1 = 3/2, F = 2, mF = 0, I1 = 1/2, I2 = 1/2, Omega = 1, P = None>\n"
     ]
    }
   ],
   "source": [
    "for state in states[:8]:\n",
    "    print(\"\")\n",
    "    state.remove_small_components().transform_to_coupled().print_state(tol=0.01)"
   ]
  },
  {
   "cell_type": "code",
   "execution_count": 33,
   "metadata": {},
   "outputs": [
    {
     "data": {
      "text/plain": [
       "array([-1.44946348e+09, -1.43344748e+09, -8.85785272e+08, -8.69797942e+08,\n",
       "        1.26311663e+10,  1.26488710e+10,  1.29479952e+10,  1.29659700e+10,\n",
       "        3.96187852e+10,  3.96326908e+10,  3.98480859e+10,  3.98622043e+10,\n",
       "        4.02995954e+10,  4.03138940e+10,  4.08814646e+10,  4.08955035e+10,\n",
       "        7.98667511e+10,  7.98718302e+10,  8.00470530e+10,  8.00523005e+10,\n",
       "        8.04098559e+10,  8.04439801e+10,  8.07542992e+10,  8.07882157e+10,\n",
       "        1.33876561e+11,  1.33935533e+11,  1.34119936e+11,  1.34178729e+11,\n",
       "        1.36504535e+11,  1.36530679e+11,  1.36689512e+11,  1.36715632e+11])"
      ]
     },
     "execution_count": 33,
     "metadata": {},
     "output_type": "execute_result"
    }
   ],
   "source": [
    "D"
   ]
  },
  {
   "cell_type": "code",
   "execution_count": 34,
   "metadata": {},
   "outputs": [
    {
     "data": {
      "text/plain": [
       "array([1.60160000e+07, 5.47662204e+08, 1.59873304e+07, 1.35009642e+10,\n",
       "       1.77047268e+07, 2.99124178e+08, 1.79748440e+07, 2.66528152e+10,\n",
       "       1.39055564e+07, 2.15395145e+08, 1.41183892e+07, 4.37391096e+08,\n",
       "       1.42986036e+07, 5.67570529e+08, 1.40389616e+07, 3.89712476e+10,\n",
       "       5.07910788e+06, 1.75222747e+08, 5.24749156e+06, 3.57555410e+08,\n",
       "       3.41242492e+07, 3.10319041e+08, 3.39165140e+07, 5.30883451e+10,\n",
       "       5.89717953e+07, 1.84403537e+08, 5.87924369e+07, 2.32580661e+09,\n",
       "       2.61440715e+07, 1.58832527e+08, 2.61200000e+07])"
      ]
     },
     "execution_count": 34,
     "metadata": {},
     "output_type": "execute_result"
    }
   ],
   "source": [
    "np.diff(D)"
   ]
  },
  {
   "cell_type": "markdown",
   "metadata": {},
   "source": [
    "## $\\Omega$-splittings\n",
    "Calculating energy differences between states of opposite parity\n",
    "\n",
    "state = (J,F1,F)\n",
    "\n",
    "state1 = (1,1/2,0)\n",
    "\n",
    "state2 = (1,1/2,1)\n",
    "\n",
    "state3 = (1,3/2,1)\n",
    "\n",
    "state4 = (1,3/2,2)\n",
    "\n",
    "state5 = (2,5/2,2)\n",
    "\n",
    "state6 = (2,5/2,3)\n",
    "\n",
    "state7 = (2,3/2,1)\n",
    "\n",
    "state8 = (2,3/2,2)"
   ]
  },
  {
   "cell_type": "code",
   "execution_count": null,
   "metadata": {},
   "outputs": [
    {
     "name": "stdout",
     "output_type": "stream",
     "text": [
      "16.015999999999394\n"
     ]
    }
   ],
   "source": [
    "#Define the states of interest (approximately)\n",
    "state1e_appr = 1/np.sqrt(2)* ( 1*CoupledBasisState(F=0, mF = 0, F1 = 1/2, J = 1, I1 = 1/2, I2 = 1/2, Omega = +1) +\n",
    "                                    1*CoupledBasisState(F=0, mF = 0, F1 = 1/2, J = 1, I1 = 1/2, I2 = 1/2, Omega = -1))\n",
    "\n",
    "state1f_appr = 1/np.sqrt(2)* ( 1*CoupledBasisState(F=0, mF = 0, F1 = 1/2, J = 1, I1 = 1/2, I2 = 1/2, Omega = +1) -\n",
    "                                    1*CoupledBasisState(F=0, mF = 0, F1 = 1/2, J = 1, I1 = 1/2, I2 = 1/2, Omega = -1))\n",
    "\n",
    "state2e_appr = 1/np.sqrt(2)* ( 1*CoupledBasisState(F=1, mF = 0, F1 = 1/2, J = 1, I1 = 1/2, I2 = 1/2, Omega = +1) +\n",
    "                                    1*CoupledBasisState(F=1, mF = 0, F1 = 1/2, J = 1, I1 = 1/2, I2 = 1/2, Omega = -1))\n",
    "\n",
    "state2f_appr = 1/np.sqrt(2)* ( 1*CoupledBasisState(F=1, mF = 0, F1 = 1/2, J = 1, I1 = 1/2, I2 = 1/2, Omega = +1) -\n",
    "                                    1*CoupledBasisState(F=1, mF = 0, F1 = 1/2, J = 1, I1 = 1/2, I2 = 1/2, Omega = -1))\n",
    "\n",
    "state3e_appr = 1/np.sqrt(2)* ( 1*CoupledBasisState(F=1, mF = 0, F1 = 3/2, J = 1, I1 = 1/2, I2 = 1/2, Omega = +1) +\n",
    "                                    1*CoupledBasisState(F=1, mF = 0, F1 = 3/2, J = 1, I1 = 1/2, I2 = 1/2, Omega = -1))\n",
    "\n",
    "state3f_appr = 1/np.sqrt(2)* ( 1*CoupledBasisState(F=1, mF = 0, F1 = 3/2, J = 1, I1 = 1/2, I2 = 1/2, Omega = +1) -\n",
    "                                    1*CoupledBasisState(F=1, mF = 0, F1 = 3/2, J = 1, I1 = 1/2, I2 = 1/2, Omega = -1))\n",
    "\n",
    "state4e_appr = 1/np.sqrt(2)* ( 1*CoupledBasisState(F=2, mF = 0, F1 = 3/2, J = 1, I1 = 1/2, I2 = 1/2, Omega = +1) +\n",
    "                                    1*CoupledBasisState(F=2, mF = 0, F1 = 3/2, J = 1, I1 = 1/2, I2 = 1/2, Omega = -1))\n",
    "\n",
    "state4f_appr = 1/np.sqrt(2)* ( 1*CoupledBasisState(F=2, mF = 0, F1 = 3/2, J = 1, I1 = 1/2, I2 = 1/2, Omega = +1) -\n",
    "                                    1*CoupledBasisState(F=2, mF = 0, F1 = 3/2, J = 1, I1 = 1/2, I2 = 1/2, Omega = -1))\n",
    "\n",
    "state5e_appr = 1/np.sqrt(2)* ( 1*CoupledBasisState(F=2, mF = 0, F1 = 5/2, J = 2, I1 = 1/2, I2 = 1/2, Omega = +1) +\n",
    "                                    1*CoupledBasisState(F=2, mF = 0, F1 = 5/2, J = 2, I1 = 1/2, I2 = 1/2, Omega = -1))\n",
    "\n",
    "state5f_appr = 1/np.sqrt(2)* ( 1*CoupledBasisState(F=2, mF = 0, F1 = 5/2, J = 2, I1 = 1/2, I2 = 1/2, Omega = +1) -\n",
    "                                    1*CoupledBasisState(F=2, mF = 0, F1 = 5/2, J = 2, I1 = 1/2, I2 = 1/2, Omega = -1))\n",
    "\n",
    "state6e_appr = 1/np.sqrt(2)* ( 1*CoupledBasisState(F=3, mF = 0, F1 = 5/2, J = 2, I1 = 1/2, I2 = 1/2, Omega = +1) +\n",
    "                                    1*CoupledBasisState(F=3, mF = 0, F1 = 5/2, J = 2, I1 = 1/2, I2 = 1/2, Omega = -1))\n",
    "\n",
    "state6f_appr = 1/np.sqrt(2)* ( 1*CoupledBasisState(F=3, mF = 0, F1 = 5/2, J = 2, I1 = 1/2, I2 = 1/2, Omega = +1) -\n",
    "                                    1*CoupledBasisState(F=3, mF = 0, F1 = 5/2, J = 2, I1 = 1/2, I2 = 1/2, Omega = -1))\n",
    "\n",
    "state7e_appr = 1/np.sqrt(2)* ( 1*CoupledBasisState(F=1, mF = 0, F1 = 3/2, J = 2, I1 = 1/2, I2 = 1/2, Omega = +1) +\n",
    "                                    1*CoupledBasisState(F=1, mF = 0, F1 = 3/2, J = 2, I1 = 1/2, I2 = 1/2, Omega = -1))\n",
    "\n",
    "state7f_appr = 1/np.sqrt(2)* ( 1*CoupledBasisState(F=1, mF = 0, F1 = 3/2, J = 2, I1 = 1/2, I2 = 1/2, Omega = +1) -\n",
    "                                    1*CoupledBasisState(F=1, mF = 0, F1 = 3/2, J = 2, I1 = 1/2, I2 = 1/2, Omega = -1))\n",
    "\n",
    "state8e_appr = 1/np.sqrt(2)* ( 1*CoupledBasisState(F=2, mF = 0, F1 = 3/2, J = 2, I1 = 1/2, I2 = 1/2, Omega = +1) +\n",
    "                                    1*CoupledBasisState(F=2, mF = 0, F1 = 3/2, J = 2, I1 = 1/2, I2 = 1/2, Omega = -1))\n",
    "\n",
    "state8f_appr = 1/np.sqrt(2)* ( 1*CoupledBasisState(F=2, mF = 0, F1 = 3/2, J = 2, I1 = 1/2, I2 = 1/2, Omega = +1) -\n",
    "                                    1*CoupledBasisState(F=2, mF = 0, F1 = 3/2, J = 2, I1 = 1/2, I2 = 1/2, Omega = -1))\n",
    "\n",
    "E1 = D[find_state_idx_from_state(Hff,state1e_appr,QN)]/1e6 - D[find_state_idx_from_state(Hff,state1f_appr,QN)]/1e6\n",
    "print(E1)\n",
    "\n",
    "E2 = D[find_state_idx_from_state(Hff,state2e_appr,QN)]/1e6 - D[find_state_idx_from_state(Hff,state2f_appr,QN)]/1e6\n",
    "print(E2)\n",
    "\n",
    "E3 = D[find_state_idx_from_state(Hff,state3e_appr,QN)]/1e6 - D[find_state_idx_from_state(Hff,state3f_appr,QN)]/1e6\n",
    "print(E3)\n",
    "\n",
    "E4 = D[find_state_idx_from_state(Hff,state4e_appr,QN)]/1e6 - D[find_state_idx_from_state(Hff,state4f_appr,QN)]/1e6\n",
    "print(E4)\n",
    "\n",
    "E5 = D[find_state_idx_from_state(Hff,state5e_appr,QN)]/1e6 - D[find_state_idx_from_state(Hff,state5f_appr,QN)]/1e6\n",
    "print(E5)\n",
    "\n",
    "E6 = D[find_state_idx_from_state(Hff,state6e_appr,QN)]/1e6 - D[find_state_idx_from_state(Hff,state6f_appr,QN)]/1e6\n",
    "print(E6)\n",
    "\n",
    "E7 = D[find_state_idx_from_state(Hff,state7e_appr,QN)]/1e6 - D[find_state_idx_from_state(Hff,state7f_appr,QN)]/1e6\n",
    "print(E7)\n",
    "\n",
    "E8 = D[find_state_idx_from_state(Hff,state8e_appr,QN)]/1e6 - D[find_state_idx_from_state(Hff,state8f_appr,QN)]/1e6\n",
    "print(E8)"
   ]
  },
  {
   "cell_type": "code",
   "execution_count": null,
   "metadata": {},
   "outputs": [],
   "source": [
    "def calculate_splitting(state1,state2):\n",
    "    return D[find_state_idx_from_state(Hff,state2,QN)]/1e6 - D[find_state_idx_from_state(Hff,state1,QN)]/1e6"
   ]
  },
  {
   "cell_type": "markdown",
   "metadata": {},
   "source": [
    "## Splittings\n"
   ]
  },
  {
   "cell_type": "code",
   "execution_count": null,
   "metadata": {},
   "outputs": [],
   "source": [
    "ap = calculate_splitting(state1f_appr,state2f_appr)\n",
    "print(\"a_+ = {:.2f} MHz\".format(ap))\n",
    "\n",
    "am = calculate_splitting(state1e_appr,state2e_appr)\n",
    "print(\"a_- = {:.2f} MHz\".format(am))\n",
    "\n",
    "bp = calculate_splitting(state2f_appr,state3f_appr)\n",
    "print(\"b_+ = {:.2f} MHz\".format(bp))\n",
    "\n",
    "bm = calculate_splitting(state2e_appr,state3e_appr)\n",
    "print(\"b_- = {:.2f} MHz\".format(bm))\n",
    "\n",
    "cp = calculate_splitting(state3f_appr,state4f_appr)\n",
    "print(\"c_+ = {:.2f} MHz\".format(cp))\n",
    "\n",
    "cm = calculate_splitting(state3e_appr,state4e_appr)\n",
    "print(\"c_- = {:.2f} MHz\".format(cm))\n",
    "\n",
    "omega1 = calculate_splitting(state2f_appr,state2e_appr)\n",
    "print(\"omega1 = {:.2f} MHz\".format(omega1))\n",
    "\n",
    "omega2 = calculate_splitting(state3f_appr,state3e_appr)\n",
    "print(\"omega2 = {:.2f} MHz\".format(omega2))"
   ]
  }
 ],
 "metadata": {
  "kernelspec": {
   "display_name": "Python 3",
   "language": "python",
   "name": "python3"
  },
  "language_info": {
   "codemirror_mode": {
    "name": "ipython",
    "version": 3
   },
   "file_extension": ".py",
   "mimetype": "text/x-python",
   "name": "python",
   "nbconvert_exporter": "python",
   "pygments_lexer": "ipython3",
   "version": "3.7.6"
  }
 },
 "nbformat": 4,
 "nbformat_minor": 4
}
