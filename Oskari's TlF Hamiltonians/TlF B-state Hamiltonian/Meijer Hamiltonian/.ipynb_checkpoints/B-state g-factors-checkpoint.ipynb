{
 "cells": [
  {
   "cell_type": "markdown",
   "metadata": {},
   "source": [
    "# B-state energy levels \n",
    "Calculating the energy levels and eigenstates of the B-state Hamiltonian\n",
    "\n",
    "Import the relevant packages and Hamiltonians"
   ]
  },
  {
   "cell_type": "code",
   "execution_count": 574,
   "metadata": {},
   "outputs": [],
   "source": [
    "import numpy as np\n",
    "import pickle\n",
    "import sys\n",
    "import sympy\n",
    "\n",
    "sys.path.append('../B-state-classes-and-functions/')\n",
    "\n",
    "from classes import CoupledBasisState, UncoupledBasisState, State\n",
    "from functions import matrix_to_states, vector_to_state, find_state_idx_from_state\n",
    "\n",
    "with open(\"B_hamiltonians_symbolic.py\",'rb') as f:\n",
    "    hamiltonians = pickle.load(f)\n",
    "    \n",
    "with open(\"Cprime_term.py\", 'rb') as f:\n",
    "    H_dict = pickle.load(f)\n",
    "    H_c1_p_m = H_dict[\"H_c1_p\"]\n",
    "    H_c1_p_v2_m = H_dict[\"H_c1_p_v2\"]\n",
    "    \n",
    "hamiltonians[\"H_c1_p\"]=H_c1_p_m\n",
    "\n",
    "def ni_range(x0, x1, dx=1):\n",
    "    # sanity check arguments\n",
    "    if dx==0:\n",
    "        raise ValueError(\"invalid parameters: dx==0\")\n",
    "    if x0>x1 and dx>=0:\n",
    "        raise ValueError(\"invalid parameters: x0>x1 and dx>=0\")\n",
    "    if x0<x1 and dx<=0:\n",
    "        raise ValueError(\"invalid parameters: x0<x1 and dx<=0\")\n",
    "        \n",
    "    # generate range list\n",
    "    range_list = []\n",
    "    x = x0\n",
    "    while x < x1:\n",
    "        range_list.append(x)\n",
    "        x += dx\n",
    "    return range_list\n",
    "\n",
    "#Generate quantum numbers\n",
    "Jmin = 1\n",
    "Jmax = 4 # max J value in Hamiltonian\n",
    "#Jmax = 6\n",
    "I_Tl = 1/2             # I1 in Ramsey's notation\n",
    "I_F  = 1/2             # I2 in Ramsey's notation\n",
    "\n",
    "\n",
    "Omegas = [-1, 1]\n",
    "# QN = [UncoupledBasisState(J,mJ,I_Tl,m1,I_F,m2, Omega)\n",
    "#       for J  in ni_range(Jmin, Jmax+1)\n",
    "#       for Omega in Omegas\n",
    "#       for mJ in ni_range(-J,J+1)\n",
    "#       for m1 in ni_range(-I_Tl,I_Tl+1)\n",
    "#       for m2 in ni_range(-I_F,I_F+1)\n",
    "#      ]\n",
    "\n",
    "QN = []\n",
    "for Omega in Omegas:\n",
    "    for J in np.arange(Jmin, Jmax+1):\n",
    "        for m1 in np.arange(-I_Tl,I_Tl+1):\n",
    "            for m2 in np.arange(-I_F,I_F+1):\n",
    "                mJ = -m1-m2\n",
    "\n",
    "                if np.abs(mJ) <= J:\n",
    "                    QN.append(UncoupledBasisState(J,mJ,I_Tl,m1,I_F,m2, Omega))"
   ]
  },
  {
   "cell_type": "code",
   "execution_count": 575,
   "metadata": {},
   "outputs": [],
   "source": [
    "variables = [\n",
    "    *sympy.symbols('Brot Drot H_const'),\n",
    "    *sympy.symbols('h1_Tl h1_F'),\n",
    "    sympy.symbols('q'),\n",
    "    sympy.symbols('c1'),\n",
    "    sympy.symbols('c_Tl_p')\n",
    "]\n",
    "\n",
    "lambdified_hamiltonians = {\n",
    "    H_name : sympy.lambdify(variables, H_matrix)\n",
    "    for H_name, H_matrix in hamiltonians.items()\n",
    "}"
   ]
  },
  {
   "cell_type": "markdown",
   "metadata": {},
   "source": [
    "Insert the numerical constants:"
   ]
  },
  {
   "cell_type": "code",
   "execution_count": 576,
   "metadata": {},
   "outputs": [],
   "source": [
    "#Constants in MHz\n",
    "Brot = 6687.879e6\n",
    "Drot = 0.010869e6\n",
    "H_const = -8.1e-2\n",
    "h1_Tl = 28789e6\n",
    "h1_F = 861e6\n",
    "q = 2.423e6\n",
    "c1 = -7.83e6\n",
    "c_Tl_p = 11.17e6\n",
    "\n",
    "H = {\n",
    "    H_name : H_fn(\n",
    "        Brot, Drot, H_const,\n",
    "        h1_Tl, h1_F,\n",
    "        q,\n",
    "        c1,\n",
    "        c_Tl_p\n",
    "    )\n",
    "    for H_name, H_fn in lambdified_hamiltonians.items()\n",
    "}\n",
    "\n"
   ]
  },
  {
   "cell_type": "markdown",
   "metadata": {},
   "source": [
    "Check that Hamiltonian is hermitian and diagonalize the Hamiltonian"
   ]
  },
  {
   "cell_type": "code",
   "execution_count": 579,
   "metadata": {},
   "outputs": [
    {
     "name": "stdout",
     "output_type": "stream",
     "text": [
      "True\n"
     ]
    }
   ],
   "source": [
    "Hff = H[\"Hrot\"]+H[\"H_mhf_Tl\"]+H[\"H_mhf_F\"]+H[\"Hc1\"]+H[\"H_c1_p\"]+H[\"H_LD\"]\n",
    "print(np.allclose(Hff, Hff.conj().T))\n",
    "D, V = np.linalg.eigh(Hff)"
   ]
  },
  {
   "cell_type": "code",
   "execution_count": 566,
   "metadata": {},
   "outputs": [],
   "source": [
    "states = matrix_to_states(V,QN)"
   ]
  },
  {
   "cell_type": "code",
   "execution_count": 567,
   "metadata": {
    "scrolled": false
   },
   "outputs": [
    {
     "name": "stdout",
     "output_type": "stream",
     "text": [
      "\n",
      "+0.7071+0.0000j x |J = 1, F1 = 1/2, F = 0, mF = 0, I1 = 1/2, I2 = 1/2, Omega = -1>\n",
      "+0.7071+0.0000j x |J = 1, F1 = 1/2, F = 0, mF = 0, I1 = 1/2, I2 = 1/2, Omega = 1>\n",
      "\n",
      "-0.7071+0.0000j x |J = 1, F1 = 1/2, F = 0, mF = 0, I1 = 1/2, I2 = 1/2, Omega = -1>\n",
      "+0.7071+0.0000j x |J = 1, F1 = 1/2, F = 0, mF = 0, I1 = 1/2, I2 = 1/2, Omega = 1>\n",
      "\n",
      "+0.7069+0.0000j x |J = 1, F1 = 1/2, F = 1, mF = 0, I1 = 1/2, I2 = 1/2, Omega = -1>\n",
      "+0.7069+0.0000j x |J = 1, F1 = 1/2, F = 1, mF = 0, I1 = 1/2, I2 = 1/2, Omega = 1>\n",
      "\n",
      "-0.7069+0.0000j x |J = 1, F1 = 1/2, F = 1, mF = 0, I1 = 1/2, I2 = 1/2, Omega = -1>\n",
      "+0.7069+0.0000j x |J = 1, F1 = 1/2, F = 1, mF = 0, I1 = 1/2, I2 = 1/2, Omega = 1>\n",
      "\n",
      "+0.6006+0.0000j x |J = 1, F1 = 3/2, F = 1, mF = 0, I1 = 1/2, I2 = 1/2, Omega = -1>\n",
      "+0.3689+0.0000j x |J = 2, F1 = 3/2, F = 1, mF = 0, I1 = 1/2, I2 = 1/2, Omega = -1>\n",
      "+0.6042+0.0000j x |J = 1, F1 = 3/2, F = 1, mF = 0, I1 = 1/2, I2 = 1/2, Omega = 1>\n",
      "+0.3708+0.0000j x |J = 2, F1 = 3/2, F = 1, mF = 0, I1 = 1/2, I2 = 1/2, Omega = 1>\n",
      "\n",
      "-0.6042+0.0000j x |J = 1, F1 = 3/2, F = 1, mF = 0, I1 = 1/2, I2 = 1/2, Omega = -1>\n",
      "-0.3707+0.0000j x |J = 2, F1 = 3/2, F = 1, mF = 0, I1 = 1/2, I2 = 1/2, Omega = -1>\n",
      "+0.6006+0.0000j x |J = 1, F1 = 3/2, F = 1, mF = 0, I1 = 1/2, I2 = 1/2, Omega = 1>\n",
      "+0.3689+0.0000j x |J = 2, F1 = 3/2, F = 1, mF = 0, I1 = 1/2, I2 = 1/2, Omega = 1>\n",
      "\n",
      "+0.5982+0.0000j x |J = 1, F1 = 3/2, F = 2, mF = 0, I1 = 1/2, I2 = 1/2, Omega = -1>\n",
      "+0.3733+0.0000j x |J = 2, F1 = 3/2, F = 2, mF = 0, I1 = 1/2, I2 = 1/2, Omega = -1>\n",
      "+0.6016+0.0000j x |J = 1, F1 = 3/2, F = 2, mF = 0, I1 = 1/2, I2 = 1/2, Omega = 1>\n",
      "+0.3751+0.0000j x |J = 2, F1 = 3/2, F = 2, mF = 0, I1 = 1/2, I2 = 1/2, Omega = 1>\n",
      "\n",
      "-0.6016+0.0000j x |J = 1, F1 = 3/2, F = 2, mF = 0, I1 = 1/2, I2 = 1/2, Omega = -1>\n",
      "-0.3750+0.0000j x |J = 2, F1 = 3/2, F = 2, mF = 0, I1 = 1/2, I2 = 1/2, Omega = -1>\n",
      "+0.5982+0.0000j x |J = 1, F1 = 3/2, F = 2, mF = 0, I1 = 1/2, I2 = 1/2, Omega = 1>\n",
      "+0.3732+0.0000j x |J = 2, F1 = 3/2, F = 2, mF = 0, I1 = 1/2, I2 = 1/2, Omega = 1>\n",
      "\n",
      "+0.6613+0.0000j x |J = 2, F1 = 5/2, F = 2, mF = 0, I1 = 1/2, I2 = 1/2, Omega = -1>\n",
      "+0.2494+0.0000j x |J = 3, F1 = 5/2, F = 2, mF = 0, I1 = 1/2, I2 = 1/2, Omega = -1>\n",
      "-0.6616+0.0000j x |J = 2, F1 = 5/2, F = 2, mF = 0, I1 = 1/2, I2 = 1/2, Omega = 1>\n",
      "-0.2498+0.0000j x |J = 3, F1 = 5/2, F = 2, mF = 0, I1 = 1/2, I2 = 1/2, Omega = 1>\n",
      "\n",
      "-0.6615+0.0000j x |J = 2, F1 = 5/2, F = 2, mF = 0, I1 = 1/2, I2 = 1/2, Omega = -1>\n",
      "-0.2502+0.0000j x |J = 3, F1 = 5/2, F = 2, mF = 0, I1 = 1/2, I2 = 1/2, Omega = -1>\n",
      "-0.6612+0.0000j x |J = 2, F1 = 5/2, F = 2, mF = 0, I1 = 1/2, I2 = 1/2, Omega = 1>\n",
      "-0.2498+0.0000j x |J = 3, F1 = 5/2, F = 2, mF = 0, I1 = 1/2, I2 = 1/2, Omega = 1>\n"
     ]
    }
   ],
   "source": [
    "for state in states[:10]:\n",
    "    print(\"\")\n",
    "    state.remove_small_components().transform_to_coupled().print_state()"
   ]
  },
  {
   "cell_type": "code",
   "execution_count": 568,
   "metadata": {},
   "outputs": [
    {
     "data": {
      "text/plain": [
       "array([-1.44946348e+09, -1.43344748e+09, -8.85794032e+08, -8.69789149e+08,\n",
       "        1.26399801e+10,  1.26400613e+10,  1.29569416e+10,  1.29570277e+10,\n",
       "        3.96177010e+10,  3.96337752e+10,  3.98471947e+10,  3.98630955e+10,\n",
       "        4.03060387e+10,  4.03074466e+10,  4.08877849e+10,  4.08891790e+10,\n",
       "        7.98643019e+10,  7.98742905e+10,  8.00447063e+10,  8.00546580e+10,\n",
       "        8.04060280e+10,  8.04478080e+10,  8.07504549e+10,  8.07920599e+10,\n",
       "        1.33896942e+11,  1.33915141e+11,  1.34140201e+11,  1.34158452e+11,\n",
       "        1.36482250e+11,  1.36552965e+11,  1.36667172e+11,  1.36737972e+11])"
      ]
     },
     "execution_count": 568,
     "metadata": {},
     "output_type": "execute_result"
    }
   ],
   "source": [
    "D"
   ]
  },
  {
   "cell_type": "code",
   "execution_count": 569,
   "metadata": {},
   "outputs": [
    {
     "data": {
      "text/plain": [
       "array([1.60160000e+07, 5.47653444e+08, 1.60048834e+07, 1.35097692e+10,\n",
       "       8.12266410e+04, 3.16880286e+08, 8.61072715e+04, 2.66606733e+10,\n",
       "       1.60742400e+07, 2.13419490e+08, 1.59007798e+07, 4.42943240e+08,\n",
       "       1.40789126e+06, 5.80338244e+08, 1.39413464e+06, 3.89751229e+10,\n",
       "       9.98864498e+06, 1.70415840e+08, 9.95161237e+06, 3.51370048e+08,\n",
       "       4.17799955e+07, 3.02646861e+08, 4.16049912e+07, 5.31048820e+10,\n",
       "       1.81988593e+07, 2.25060115e+08, 1.82514565e+07, 2.32379820e+09,\n",
       "       7.07141547e+07, 1.14207132e+08, 7.08000000e+07])"
      ]
     },
     "execution_count": 569,
     "metadata": {},
     "output_type": "execute_result"
    }
   ],
   "source": [
    "np.diff(D)"
   ]
  },
  {
   "cell_type": "markdown",
   "metadata": {},
   "source": [
    "## $\\Omega$-splittings\n",
    "Calculating energy differences between states of opposite parity\n",
    "\n",
    "state = (J,F1,F)\n",
    "\n",
    "state1 = (1,1/2,0)\n",
    "\n",
    "state2 = (1,1/2,1)\n",
    "\n",
    "state3 = (1,3/2,1)\n",
    "\n",
    "state4 = (1,3/2,2)\n",
    "\n",
    "state5 = (2,5/2,2)\n",
    "\n",
    "state6 = (2,5/2,3)\n",
    "\n",
    "state7 = (2,3/2,1)\n",
    "\n",
    "state8 = (2,3/2,2)"
   ]
  },
  {
   "cell_type": "code",
   "execution_count": 570,
   "metadata": {},
   "outputs": [
    {
     "name": "stdout",
     "output_type": "stream",
     "text": [
      "16.016000000001668\n",
      "16.004883396597506\n",
      "0.0812266410302982\n",
      "0.08610727147424768\n",
      "16.07423999839375\n",
      "15.900779790550587\n",
      "-1.4078912645127275\n",
      "-1.3941346371284453\n"
     ]
    }
   ],
   "source": [
    "#Define the states of interest (approximately)\n",
    "state1e = 1/np.sqrt(2)* ( 1*CoupledBasisState(F=0, mF = 0, F1 = 1/2, J = 1, I1 = 1/2, I2 = 1/2, Omega = +1) -\n",
    "                                    1*CoupledBasisState(F=0, mF = 0, F1 = 1/2, J = 1, I1 = 1/2, I2 = 1/2, Omega = -1))\n",
    "\n",
    "state1f = 1/np.sqrt(2)* ( 1*CoupledBasisState(F=0, mF = 0, F1 = 1/2, J = 1, I1 = 1/2, I2 = 1/2, Omega = +1) +\n",
    "                                    1*CoupledBasisState(F=0, mF = 0, F1 = 1/2, J = 1, I1 = 1/2, I2 = 1/2, Omega = -1))\n",
    "\n",
    "state2e = 1/np.sqrt(2)* ( 1*CoupledBasisState(F=1, mF = 0, F1 = 1/2, J = 1, I1 = 1/2, I2 = 1/2, Omega = +1) -\n",
    "                                    1*CoupledBasisState(F=1, mF = 0, F1 = 1/2, J = 1, I1 = 1/2, I2 = 1/2, Omega = -1))\n",
    "\n",
    "state2f = 1/np.sqrt(2)* ( 1*CoupledBasisState(F=1, mF = 0, F1 = 1/2, J = 1, I1 = 1/2, I2 = 1/2, Omega = +1) +\n",
    "                                    1*CoupledBasisState(F=1, mF = 0, F1 = 1/2, J = 1, I1 = 1/2, I2 = 1/2, Omega = -1))\n",
    "\n",
    "state3e = 1/np.sqrt(2)* ( 1*CoupledBasisState(F=1, mF = 0, F1 = 3/2, J = 1, I1 = 1/2, I2 = 1/2, Omega = +1) -\n",
    "                                    1*CoupledBasisState(F=1, mF = 0, F1 = 3/2, J = 1, I1 = 1/2, I2 = 1/2, Omega = -1))\n",
    "\n",
    "state3f = 1/np.sqrt(2)* ( 1*CoupledBasisState(F=1, mF = 0, F1 = 3/2, J = 1, I1 = 1/2, I2 = 1/2, Omega = +1) +\n",
    "                                    1*CoupledBasisState(F=1, mF = 0, F1 = 3/2, J = 1, I1 = 1/2, I2 = 1/2, Omega = -1))\n",
    "\n",
    "state4e = 1/np.sqrt(2)* ( 1*CoupledBasisState(F=2, mF = 0, F1 = 3/2, J = 1, I1 = 1/2, I2 = 1/2, Omega = +1) -\n",
    "                                    1*CoupledBasisState(F=2, mF = 0, F1 = 3/2, J = 1, I1 = 1/2, I2 = 1/2, Omega = -1))\n",
    "\n",
    "state4f = 1/np.sqrt(2)* ( 1*CoupledBasisState(F=2, mF = 0, F1 = 3/2, J = 1, I1 = 1/2, I2 = 1/2, Omega = +1) +\n",
    "                                    1*CoupledBasisState(F=2, mF = 0, F1 = 3/2, J = 1, I1 = 1/2, I2 = 1/2, Omega = -1))\n",
    "\n",
    "state5e = 1/np.sqrt(2)* ( 1*CoupledBasisState(F=2, mF = 0, F1 = 5/2, J = 2, I1 = 1/2, I2 = 1/2, Omega = +1) +\n",
    "                                    1*CoupledBasisState(F=2, mF = 0, F1 = 5/2, J = 2, I1 = 1/2, I2 = 1/2, Omega = -1))\n",
    "\n",
    "state5f = 1/np.sqrt(2)* ( 1*CoupledBasisState(F=2, mF = 0, F1 = 5/2, J = 2, I1 = 1/2, I2 = 1/2, Omega = +1) -\n",
    "                                    1*CoupledBasisState(F=2, mF = 0, F1 = 5/2, J = 2, I1 = 1/2, I2 = 1/2, Omega = -1))\n",
    "\n",
    "state6e = 1/np.sqrt(2)* ( 1*CoupledBasisState(F=3, mF = 0, F1 = 5/2, J = 2, I1 = 1/2, I2 = 1/2, Omega = +1) +\n",
    "                                    1*CoupledBasisState(F=3, mF = 0, F1 = 5/2, J = 2, I1 = 1/2, I2 = 1/2, Omega = -1))\n",
    "\n",
    "state6f = 1/np.sqrt(2)* ( 1*CoupledBasisState(F=3, mF = 0, F1 = 5/2, J = 2, I1 = 1/2, I2 = 1/2, Omega = +1) -\n",
    "                                    1*CoupledBasisState(F=3, mF = 0, F1 = 5/2, J = 2, I1 = 1/2, I2 = 1/2, Omega = -1))\n",
    "\n",
    "state7e = 1/np.sqrt(2)* ( 1*CoupledBasisState(F=1, mF = 0, F1 = 3/2, J = 2, I1 = 1/2, I2 = 1/2, Omega = +1) +\n",
    "                                    1*CoupledBasisState(F=1, mF = 0, F1 = 3/2, J = 2, I1 = 1/2, I2 = 1/2, Omega = -1))\n",
    "\n",
    "state7f = 1/np.sqrt(2)* ( 1*CoupledBasisState(F=1, mF = 0, F1 = 3/2, J = 2, I1 = 1/2, I2 = 1/2, Omega = +1) -\n",
    "                                    1*CoupledBasisState(F=1, mF = 0, F1 = 3/2, J = 2, I1 = 1/2, I2 = 1/2, Omega = -1))\n",
    "\n",
    "state8e = 1/np.sqrt(2)* ( 1*CoupledBasisState(F=2, mF = 0, F1 = 3/2, J = 2, I1 = 1/2, I2 = 1/2, Omega = +1) +\n",
    "                                    1*CoupledBasisState(F=2, mF = 0, F1 = 3/2, J = 2, I1 = 1/2, I2 = 1/2, Omega = -1))\n",
    "\n",
    "state8f = 1/np.sqrt(2)* ( 1*CoupledBasisState(F=2, mF = 0, F1 = 3/2, J = 2, I1 = 1/2, I2 = 1/2, Omega = +1) -\n",
    "                                    1*CoupledBasisState(F=2, mF = 0, F1 = 3/2, J = 2, I1 = 1/2, I2 = 1/2, Omega = -1))\n",
    "\n",
    "E1 = D[find_state_idx_from_state(Hff,state1e,QN)]/1e6 - D[find_state_idx_from_state(Hff,state1f,QN)]/1e6\n",
    "print(E1)\n",
    "\n",
    "E2 = D[find_state_idx_from_state(Hff,state2e,QN)]/1e6 - D[find_state_idx_from_state(Hff,state2f,QN)]/1e6\n",
    "print(E2)\n",
    "\n",
    "E3 = D[find_state_idx_from_state(Hff,state3e,QN)]/1e6 - D[find_state_idx_from_state(Hff,state3f,QN)]/1e6\n",
    "print(E3)\n",
    "\n",
    "E4 = D[find_state_idx_from_state(Hff,state4e,QN)]/1e6 - D[find_state_idx_from_state(Hff,state4f,QN)]/1e6\n",
    "print(E4)\n",
    "\n",
    "E5 = D[find_state_idx_from_state(Hff,state5e,QN)]/1e6 - D[find_state_idx_from_state(Hff,state5f,QN)]/1e6\n",
    "print(E5)\n",
    "\n",
    "E6 = D[find_state_idx_from_state(Hff,state6e,QN)]/1e6 - D[find_state_idx_from_state(Hff,state6f,QN)]/1e6\n",
    "print(E6)\n",
    "\n",
    "E7 = D[find_state_idx_from_state(Hff,state7e,QN)]/1e6 - D[find_state_idx_from_state(Hff,state7f,QN)]/1e6\n",
    "print(E7)\n",
    "\n",
    "E8 = D[find_state_idx_from_state(Hff,state8e,QN)]/1e6 - D[find_state_idx_from_state(Hff,state8f,QN)]/1e6\n",
    "print(E8)"
   ]
  },
  {
   "cell_type": "code",
   "execution_count": 572,
   "metadata": {},
   "outputs": [],
   "source": [
    "def calculate_splitting(state1,state2):\n",
    "    return D[find_state_idx_from_state(Hff,state2,QN)]/1e6 - D[find_state_idx_from_state(Hff,state1,QN)]/1e6"
   ]
  },
  {
   "cell_type": "markdown",
   "metadata": {},
   "source": [
    "## Splittings\n"
   ]
  },
  {
   "cell_type": "code",
   "execution_count": 573,
   "metadata": {},
   "outputs": [
    {
     "name": "stdout",
     "output_type": "stream",
     "text": [
      "a_+ = 563.67 MHz\n",
      "a_- = 563.66 MHz\n",
      "b_+ = 13525.77 MHz\n",
      "b_- = 13509.85 MHz\n",
      "c_+ = 316.96 MHz\n",
      "c_- = 316.97 MHz\n",
      "omega1 = 16.00 MHz\n",
      "omega2 = 0.08 MHz\n"
     ]
    }
   ],
   "source": [
    "ap = calculate_splitting(state1f,state2f)\n",
    "print(\"a_+ = {:.2f} MHz\".format(ap))\n",
    "\n",
    "am = calculate_splitting(state1e,state2e)\n",
    "print(\"a_- = {:.2f} MHz\".format(am))\n",
    "\n",
    "bp = calculate_splitting(state2f,state3f)\n",
    "print(\"b_+ = {:.2f} MHz\".format(bp))\n",
    "\n",
    "bm = calculate_splitting(state2e,state3e)\n",
    "print(\"b_- = {:.2f} MHz\".format(bm))\n",
    "\n",
    "cp = calculate_splitting(state3f,state4f)\n",
    "print(\"c_+ = {:.2f} MHz\".format(cp))\n",
    "\n",
    "cm = calculate_splitting(state3e,state4e)\n",
    "print(\"c_- = {:.2f} MHz\".format(cm))\n",
    "\n",
    "omega1 = calculate_splitting(state2f,state2e)\n",
    "print(\"omega1 = {:.2f} MHz\".format(omega1))\n",
    "\n",
    "omega2 = calculate_splitting(state3f,state3e)\n",
    "print(\"omega2 = {:.2f} MHz\".format(omega2))"
   ]
  },
  {
   "cell_type": "code",
   "execution_count": null,
   "metadata": {},
   "outputs": [],
   "source": []
  }
 ],
 "metadata": {
  "kernelspec": {
   "display_name": "Python 3",
   "language": "python",
   "name": "python3"
  },
  "language_info": {
   "codemirror_mode": {
    "name": "ipython",
    "version": 3
   },
   "file_extension": ".py",
   "mimetype": "text/x-python",
   "name": "python",
   "nbconvert_exporter": "python",
   "pygments_lexer": "ipython3",
   "version": "3.7.6"
  }
 },
 "nbformat": 4,
 "nbformat_minor": 4
}
