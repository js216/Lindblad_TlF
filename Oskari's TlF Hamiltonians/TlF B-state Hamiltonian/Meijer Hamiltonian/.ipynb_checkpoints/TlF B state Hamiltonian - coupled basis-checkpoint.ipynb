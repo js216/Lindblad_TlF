{
 "cells": [
  {
   "cell_type": "markdown",
   "metadata": {},
   "source": [
    "# TlF B state Hamiltonian\n",
    "## Intro\n",
    "This notebook evaluates the Hamiltonian for the B state of thallium fluoride."
   ]
  },
  {
   "cell_type": "code",
   "execution_count": 1,
   "metadata": {},
   "outputs": [],
   "source": [
    "import numpy as np\n",
    "import sympy\n",
    "from numpy import sqrt\n",
    "import multiprocessing\n",
    "import pickle\n",
    "from sympy.physics.wigner import wigner_3j, wigner_6j\n",
    "\n",
    "\n",
    "def threej_f(j1,j2,j3,m1,m2,m3):\n",
    "    return complex(wigner_3j(j1,j2,j3,m1,m2,m3))\n",
    "\n",
    "def sixj_f(j1,j2,j3,j4,j5,j6):\n",
    "    return complex(wigner_6j(j1,j2,j3,j4,j5,j6))\n",
    "\n",
    "\n",
    "# def threej_f(j1,j2,j3,m1,m2,m3):\n",
    "#     return wigner3j(int(2*j1), int(2*j2), int(2*j3), int(2*m1), int(2*m2), int(2*m3))\n",
    "\n",
    "# def sixj_f(j1,j2,j3,j4,j5,j6):\n",
    "#     return wigner6j(int(2*j1),int(2*j2),int(2*j3),int(2*j4),int(2*j5),int(2*j6))\n",
    "\n",
    "def ni_range(x0, x1, dx=1):\n",
    "    # sanity check arguments\n",
    "    if dx==0:\n",
    "        raise ValueError(\"invalid parameters: dx==0\")\n",
    "    if x0>x1 and dx>=0:\n",
    "        raise ValueError(\"invalid parameters: x0>x1 and dx>=0\")\n",
    "    if x0<x1 and dx<=0:\n",
    "        raise ValueError(\"invalid parameters: x0<x1 and dx<=0\")\n",
    "        \n",
    "    # generate range list\n",
    "    range_list = []\n",
    "    x = x0\n",
    "    while x < x1:\n",
    "        range_list.append(x)\n",
    "        x += dx\n",
    "    return range_list"
   ]
  },
  {
   "cell_type": "markdown",
   "metadata": {},
   "source": [
    "### Representing the states\n",
    "\n",
    "Import class that represents molecular states from 'molecular-state-classes-and-functions'"
   ]
  },
  {
   "cell_type": "code",
   "execution_count": 2,
   "metadata": {},
   "outputs": [],
   "source": [
    "import sys\n",
    "sys.path.append('../B-state-classes-and-functions/')\n",
    "\n",
    "from classes import *\n",
    "from functions import *"
   ]
  },
  {
   "cell_type": "markdown",
   "metadata": {},
   "source": [
    "### Defining operators"
   ]
  },
  {
   "cell_type": "markdown",
   "metadata": {},
   "source": [
    "### Rotational term\n",
    "\n",
    "The simplest term in the Hamiltonian simply gives the rotational levels:\n",
    "\n",
    "$$H_\\text{rot}=B_\\text{rot}\\vec J^2.$$"
   ]
  },
  {
   "cell_type": "code",
   "execution_count": 3,
   "metadata": {},
   "outputs": [],
   "source": [
    "def J2(psi):\n",
    "    return State([(psi.J*(psi.J+1),psi)])\n",
    "\n",
    "def J4(psi):\n",
    "    return State([( (psi.J*(psi.J+1))**2, psi)])\n",
    "\n",
    "def J6(psi):\n",
    "    return State([( (psi.J*(psi.J+1))**3, psi)])\n",
    "\n",
    "def Hrot(psi):        \n",
    "    return Brot * J2(psi) - Drot * J4(psi) + H_const * J6(psi)"
   ]
  },
  {
   "cell_type": "markdown",
   "metadata": {},
   "source": [
    "### $\\Lambda$-doubling term\n",
    "Couples terms with opposite values of $\\Omega$ and shifts e-parity terms up in energy and f-parity down in energy"
   ]
  },
  {
   "cell_type": "code",
   "execution_count": 4,
   "metadata": {},
   "outputs": [],
   "source": [
    "def H_LD(psi):\n",
    "    J = psi.J\n",
    "    I1 = psi.I1\n",
    "    I2 = psi.I2\n",
    "    F1 = psi.F1\n",
    "    F = psi.F\n",
    "    mF = psi.mF\n",
    "    Omega = psi.Omega\n",
    "    Omegaprime = -Omega\n",
    "    \n",
    "    amp = (q*(-1)**(J-Omegaprime)/(2*np.sqrt(6)) * threej_f(J,2,J,-Omegaprime,Omegaprime-Omega, Omega)\n",
    "           *np.sqrt((2*J-1)*2*J*(2*J+1)*(2*J+2)*(2*J+3)) )\n",
    "    ket = CoupledBasisState(F, mF, F1, J, I1, I2, Omegaprime)\n",
    "    \n",
    "    return State([(amp,ket)])"
   ]
  },
  {
   "cell_type": "markdown",
   "metadata": {},
   "source": [
    "### Electron magnetic hyperfine operator\n",
    "Since the B state is a triplet pi state, it has electron magnetic hyperfine structure. The coupling is described by the Hamiltonian $ H_{\\mathrm{mhf}} = a\\, \\mathbf{I} \\cdot \\mathbf{L} + b\\, \\mathbf{I} \\cdot \\mathbf{S} +c \\,I_z\\, S_z  $ which reduces to $ H_{\\mathrm{mhf}}^{eff} =  [a \\,L_z + (b+c)\\, S_z]\\,I_z = h_\\Omega \\, I_z $ since the raising and lowering operators for L and S (electron orbital and spin angular momentum) only couple different electronic states which are very far in energy and thus the effect of the off-diagonal elements is strongly suppressed. The matrix elements are given in eqns 5 and 6 in Norggard et al 2017."
   ]
  },
  {
   "cell_type": "code",
   "execution_count": 5,
   "metadata": {},
   "outputs": [],
   "source": [
    "def H_mhf_Tl(psi):\n",
    "    #Find the quantum numbers of the input state\n",
    "    J = psi.J\n",
    "    I1 = psi.I1\n",
    "    I2 = psi.I2\n",
    "    F1 = psi.F1\n",
    "    F = psi.F\n",
    "    mF = psi.mF\n",
    "    Omega = psi.Omega\n",
    "    \n",
    "    #I1, I2, F1 and F and mF are the same for both states\n",
    "    I1prime = I1\n",
    "    I2prime = I2\n",
    "    F1prime = F1\n",
    "    mFprime = mF\n",
    "    Fprime = F\n",
    "    \n",
    "    #Container for the states and amplitudes\n",
    "    data = []\n",
    "    \n",
    "    #Loop over possible values of Jprime\n",
    "    for Jprime in range(np.abs(J-1),J+2):\n",
    "\n",
    "        #Check that the Jprime and Fprime values are physical\n",
    "        if np.abs(Fprime-Jprime) <= (I1+I2):\n",
    "            #Calculate matrix element\n",
    "            try:\n",
    "                amp = Omega*h1_Tl*((-1)**(J+Jprime+F1+I1-Omega) \n",
    "                       * sixj_f(I1, Jprime, F1, J, I1, 1) \n",
    "                       * threej_f(J, 1, Jprime, -Omega, 0, Omega)\n",
    "                       * sqrt((2*J+1)*(2*Jprime+1)*I1*(I1+1)*(2*I1+1)))\n",
    "\n",
    "            except ValueError: \n",
    "                amp = 0\n",
    "\n",
    "            basis_state = CoupledBasisState(Fprime, mFprime, F1prime, Jprime, I1prime, I2prime, psi.Omega)\n",
    "\n",
    "            #If matrix element is non-zero, add to list\n",
    "            if amp != 0:\n",
    "                data.append((amp, basis_state))\n",
    "                       \n",
    "    return State(data)\n",
    "            "
   ]
  },
  {
   "cell_type": "code",
   "execution_count": 6,
   "metadata": {},
   "outputs": [],
   "source": [
    "def H_mhf_F(psi):\n",
    "    #Find the quantum numbers of the input state\n",
    "    J = psi.J\n",
    "    I1 = psi.I1\n",
    "    I2 = psi.I2\n",
    "    F1 = psi.F1\n",
    "    F = psi.F\n",
    "    mF = psi.mF\n",
    "    Omega = psi.Omega\n",
    "    \n",
    "    #I1, I2, F and mF are the same for both states\n",
    "    I1prime = I1\n",
    "    I2prime = I2\n",
    "    Fprime = F\n",
    "    mFprime = mF\n",
    "    \n",
    "    #Initialize container for storing states and matrix elements\n",
    "    data = []\n",
    "    \n",
    "    #Loop over the possible values of quantum numbers for which the matrix element can be non-zero\n",
    "    #Need Jprime = J+1 ... |J-1|\n",
    "    for Jprime in range(np.abs(J-1), J+2):\n",
    "        \n",
    "        #Loop over possible values of F1prime\n",
    "        for F1prime in ni_range(np.abs(Jprime-I1), Jprime+I1+1):\n",
    "            try:\n",
    "                amp = Omega*h1_F*((-1)**(2*F1prime+F+2*J+1+I1+I2-Omega) \n",
    "                       * sixj_f(I2, F1prime, F, F1, I2, 1)\n",
    "                       * sixj_f(Jprime, F1prime, I1, F1, J, 1) \n",
    "                       * threej_f(J, 1, Jprime,-Omega,0,Omega)\n",
    "                       * sqrt((2*F1+1)*(2*F1prime+1)*(2*J+1)*(2*Jprime+1)*I2*(I2+1)*(2*I2+1)))\n",
    "\n",
    "            except ValueError: \n",
    "                amp = 0\n",
    "\n",
    "            basis_state = CoupledBasisState(Fprime, mFprime, F1prime, Jprime, I1prime, I2prime, psi.Omega)\n",
    "\n",
    "            #If matrix element is non-zero, add to list\n",
    "            if amp != 0:\n",
    "                data.append((amp, basis_state))\n",
    "\n",
    "        \n",
    "    return State(data)"
   ]
  },
  {
   "cell_type": "markdown",
   "metadata": {},
   "source": [
    "### C(Tl) - term\n",
    "The $c_1 I_{Tl}\\cdot J$ term as written down in Norrgard 2017."
   ]
  },
  {
   "cell_type": "code",
   "execution_count": 7,
   "metadata": {},
   "outputs": [],
   "source": [
    "def H_c_Tl(psi):\n",
    "    #Find the quantum numbers of the input state\n",
    "    J = psi.J\n",
    "    I1 = psi.I1\n",
    "    I2 = psi.I2\n",
    "    F1 = psi.F1\n",
    "    F = psi.F\n",
    "    mF = psi.mF\n",
    "    \n",
    "    #I1, I2, F and mF are the same for both states\n",
    "    Jprime = J\n",
    "    I1prime = I1\n",
    "    I2prime = I2\n",
    "    Fprime = F\n",
    "    F1prime = F1\n",
    "    mFprime = mF\n",
    "    \n",
    "    #Initialize container for storing states and matrix elements\n",
    "    data = []\n",
    "    \n",
    "    #Calculate matrix element\n",
    "    amp = c_Tl*(-1)**(J+F1+I1)*sixj_f(I1,J,F1,J,I1,1)*np.sqrt(J*(J+1)*(2*J+1)*I1*(I1+1)*(2*I1+1))\n",
    "\n",
    "    basis_state = CoupledBasisState(Fprime, mFprime, F1prime, Jprime, I1prime, I2prime, psi.Omega)\n",
    "\n",
    "    #If matrix element is non-zero, add to list\n",
    "    if amp != 0:\n",
    "        data.append((amp, basis_state))\n",
    "        \n",
    "        \n",
    "    return State(data)"
   ]
  },
  {
   "cell_type": "markdown",
   "metadata": {},
   "source": [
    "### C'(Tl) - term\n",
    "Coding up the C'(Tl) -term from Brown 1978 \"A determination of fundamental Zeeman parameters for the OH radical\".\n",
    "\n",
    "The matrix elements were derived by Eric Norrgard:"
   ]
  },
  {
   "cell_type": "code",
   "execution_count": 8,
   "metadata": {},
   "outputs": [],
   "source": [
    "def H_cp1_Tl(psi):\n",
    "    #Find the quantum numbers of the input state\n",
    "    J = psi.J\n",
    "    I1 = psi.I1\n",
    "    I2 = psi.I2\n",
    "    F1 = psi.F1\n",
    "    F = psi.F\n",
    "    mF = psi.mF\n",
    "    Omega = psi.Omega\n",
    "    \n",
    "    #I1, I2, F and mF are the same for both states\n",
    "    I1prime = I1\n",
    "    I2prime = I2\n",
    "    Fprime = F\n",
    "    F1prime = F1\n",
    "    mFprime = mF\n",
    "    \n",
    "    #Omegaprime is negative of Omega\n",
    "    Omegaprime = -Omega\n",
    "    \n",
    "    #Calculate the correct value of q\n",
    "    q = Omegaprime\n",
    "    \n",
    "    #Initialize container for storing states and matrix elements\n",
    "    data = []\n",
    "    \n",
    "    #Loop over the possible values of quantum numbers for which the matrix element can be non-zero\n",
    "    #Need Jprime = J+1 ... |J-1|\n",
    "    for Jprime in range(np.abs(J-1), J+2):\n",
    "        amp = (-0.5*c1p_Tl *(-1)**(Jprime-Omegaprime) * np.sqrt((2*Jprime+1)*(2*J+1)*I1*(I1+1)*(2*I1+1))\n",
    "               * (-1)**(J+F1+I1) * sixj_f(I1, J, F1, Jprime, I1, 1)\n",
    "               *(\n",
    "               (-1)**(J)*threej_f(Jprime,1,J,-Omegaprime,q,0)*threej_f(J,1,J,0,q,Omega)*np.sqrt(J*(J+1)*(2*J+1))\n",
    "                   + ((-1)**Jprime* threej_f(Jprime,1,Jprime,-Omegaprime,q,0)*threej_f(Jprime,1,J,0,q,Omega)\n",
    "                      *np.sqrt(Jprime*(Jprime+1)*(2*Jprime+1))\n",
    "               )\n",
    "               ))\n",
    "        ket = CoupledBasisState(Fprime, mFprime, F1prime, Jprime, I1prime, I2prime, Omegaprime)\n",
    "        \n",
    "        #If matrix element is non-zero, add to list\n",
    "        if amp != 0:\n",
    "            data.append((amp, ket))\n",
    "            \n",
    "    \n",
    "    return State(data)                   \n",
    "                   \n",
    "\n",
    "    "
   ]
  },
  {
   "cell_type": "code",
   "execution_count": 9,
   "metadata": {},
   "outputs": [],
   "source": [
    "def Hff(psi):\n",
    "    return Hrot(psi) + H_mhf_Tl(psi) + H_mhf_F(psi) + H_LD(psi) + H_cp1_Tl(psi)"
   ]
  },
  {
   "cell_type": "markdown",
   "metadata": {},
   "source": [
    "## Stark Hamiltonian\n",
    "The matrix elements for the Stark effect are given by\n",
    "\n",
    "\\begin{align}\n",
    "&\\langle J',\\Omega',F_1',F', m_F'|E_p d^{(1)}_p|J,\\Omega,F_1,F,m_F\\rangle \\\\\n",
    "&= E_p D_{TlF} (-1)^{F'+F+F_1'+F_1+I_1 + I_2 - \\Omega' - m_F'} \\left[(2F+1)(2F'+1)(2F_1+1)(2F_1'+1)(2J+1)(2J'+1)\\right]^{1/2} \\\\ \n",
    "&\\qquad SixJ(F_1,F,I_2,F',F_1',1)SixJ(J,F_1,I_1,F_1',J',1)ThreeJ(J',1,J,-\\Omega',\\Omega'-\\Omega,\\Omega)ThreeJ(F',1,F,-m_F',p,m_F)\n",
    "\\end{align}\n"
   ]
  },
  {
   "cell_type": "code",
   "execution_count": 10,
   "metadata": {},
   "outputs": [],
   "source": [
    "def d_p(p,psi):\n",
    "    #Find the quantum numbers of the input state\n",
    "    J = psi.J\n",
    "    I1 = psi.I1\n",
    "    I2 = psi.I2\n",
    "    F1 = psi.F1\n",
    "    F = psi.F\n",
    "    mF = psi.mF\n",
    "    Omega = psi.Omega\n",
    "    \n",
    "    #Set some quantum numbers for the other state\n",
    "    I1prime = I1\n",
    "    I2prime = I2\n",
    "    Omegaprime = Omega\n",
    "    mFprime = p+mF\n",
    "    q = Omegaprime - Omega\n",
    "    \n",
    "    #Initialize container for storing states and matrix elements\n",
    "    data = []\n",
    "    \n",
    "    #Loop over the possible values of quantum numbers for which the matrix element can be non-zero\n",
    "    #Need Jprime = J+1 ... |J-1|\n",
    "    for Jprime in ni_range(np.abs(J-1), J+2):\n",
    "        for F1prime in ni_range(np.abs(Jprime-I1), Jprime+I1+1):\n",
    "            for Fprime in ni_range(np.abs(F1prime-I2), F1prime+I2+1):\n",
    "                \n",
    "                if np.abs(F-Fprime) <= 1 and np.abs(F1-F1prime) <= 1:\n",
    "                    amp = ( (-1)**(Fprime+F+F1prime+F1+I1+I2-Omegaprime-mFprime)\n",
    "                           * np.sqrt((2*F+1)*(2*Fprime+1)*(2*F1+1)*(2*F1prime+1)*(2*J+1)*(2*Jprime+1))\n",
    "                           * sixj_f(F1,F,I2,Fprime,F1prime,1) * sixj_f(J,F1,I1,F1prime,Jprime,1)\n",
    "                           * threej_f(Jprime,1,J,-Omegaprime,q,Omega) * threej_f(Fprime,1,F,-mFprime,p,mF)\n",
    "                          )\n",
    "                    ket = CoupledBasisState(Fprime, mFprime, F1prime, Jprime, I1prime, I2prime, Omegaprime)\n",
    "\n",
    "                    #If matrix element is non-zero, add to list\n",
    "                    if amp != 0:\n",
    "                        data.append((amp, ket))\n",
    "                    \n",
    "                    \n",
    "    return State(data)    "
   ]
  },
  {
   "cell_type": "code",
   "execution_count": 11,
   "metadata": {},
   "outputs": [],
   "source": [
    "def HSx(psi):\n",
    "    return -D_TlF * ( d_p(-1,psi) - d_p(+1,psi) ) / np.sqrt(2)\n",
    "\n",
    "def HSy(psi):\n",
    "    return -D_TlF * 1j * ( d_p(-1,psi) + d_p(+1,psi) ) / np.sqrt(2)\n",
    "\n",
    "def HSz(psi):\n",
    "    return -D_TlF * d_p(0,psi)"
   ]
  },
  {
   "cell_type": "markdown",
   "metadata": {},
   "source": [
    "## Zeeman Hamiltonian"
   ]
  },
  {
   "cell_type": "code",
   "execution_count": 12,
   "metadata": {},
   "outputs": [],
   "source": [
    "def HZ_p(p,psi):\n",
    "    #Find the quantum numbers of the input state\n",
    "    J = psi.J\n",
    "    I1 = psi.I1\n",
    "    I2 = psi.I2\n",
    "    F1 = psi.F1\n",
    "    F = psi.F\n",
    "    mF = psi.mF\n",
    "    Omega = psi.Omega\n",
    "    S = 1\n",
    "    \n",
    "    #Set some quantum numbers for the other state\n",
    "    I1prime = I1\n",
    "    I2prime = I2\n",
    "    Omegaprime = Omega\n",
    "    mFprime = p+mF\n",
    "    q = Omegaprime - Omega\n",
    "    \n",
    "    #Initialize container for storing states and matrix elements\n",
    "    data = []\n",
    "    \n",
    "    #Loop over the possible values of quantum numbers for which the matrix element can be non-zero\n",
    "    #Need Jprime = J+1 ... |J-1|\n",
    "    for Jprime in ni_range(np.abs(J-1), J+2):\n",
    "        for F1prime in ni_range(np.abs(Jprime-I1), Jprime+I1+1):\n",
    "            for Fprime in ni_range(np.abs(F1prime-I2), F1prime+I2+1):\n",
    "                if np.abs(F-Fprime) <= 1 and np.abs(F1-F1prime) <= 1:\n",
    "                    amp = ( (-1)**(Fprime+F+F1prime+F1+I1+I2-Omegaprime-mFprime)\n",
    "                           * np.sqrt((2*F+1)*(2*Fprime+1)*(2*F1+1)*(2*F1prime+1)*(2*J+1)*(2*Jprime+1))\n",
    "                           * sixj_f(F1,F,I2,Fprime,F1prime,1) * sixj_f(J,F1,I1,F1prime,Jprime,1)\n",
    "                           * threej_f(Jprime,1,J,-Omegaprime,q,Omega) * threej_f(Fprime,1,F,-mFprime,p,mF)\n",
    "                           * (gS*(-1)**(S)*threej_f(S,1,S,0,0,0) * np.sqrt(S*(S+1)*(2*S+1))\n",
    "                             + gL * Omega)\n",
    "                          )\n",
    "                    ket = CoupledBasisState(Fprime, mFprime, F1prime, Jprime, I1prime, I2prime, Omegaprime)\n",
    "\n",
    "                    #If matrix element is non-zero, add to list\n",
    "                    if amp != 0:\n",
    "                        data.append((amp, ket))\n",
    "                    \n",
    "                    \n",
    "    return State(data)    "
   ]
  },
  {
   "cell_type": "code",
   "execution_count": 13,
   "metadata": {},
   "outputs": [],
   "source": [
    "def HZx(psi):\n",
    "    return mu_B * ( HZ_p(-1,psi) - HZ_p(+1,psi) ) / np.sqrt(2)\n",
    "\n",
    "def HZy(psi):\n",
    "    return mu_B * 1j * ( HZ_p(-1,psi) + HZ_p(+1,psi) ) / np.sqrt(2)\n",
    "\n",
    "def HZz(psi):\n",
    "    return mu_B * HZ_p(0,psi)"
   ]
  },
  {
   "cell_type": "markdown",
   "metadata": {},
   "source": [
    "### Finding the matrix elements\n",
    "\n",
    "With all the operators defined, we can evaluate the matrix elements for a given range of quantum numbers. We shall need to generate a non-integer range list (e.g., from -3/2 to +3/2):"
   ]
  },
  {
   "cell_type": "markdown",
   "metadata": {},
   "source": [
    "Define constants for TlF:"
   ]
  },
  {
   "cell_type": "code",
   "execution_count": 15,
   "metadata": {},
   "outputs": [],
   "source": [
    "# half = sympy.Rational(1,2)\n",
    "half = 0.5\n",
    "\n",
    "Jmin = 1\n",
    "Jmax = 5 # max J value in Hamiltonian\n",
    "#Jmax = 6\n",
    "I_Tl = half             # I1 in Ramsey's notation\n",
    "I_F  = half             # I2 in Ramsey's notation\n",
    "\n",
    "Brot, Drot, H_const = sympy.symbols('Brot Drot H_const')\n",
    "h1_Tl, h1_F = sympy.symbols('h1_Tl h1_F')\n",
    "q = sympy.symbols('q')\n",
    "c_Tl = sympy.symbols('c_Tl')\n",
    "c1p_Tl = sympy.symbols('c1p_Tl')\n",
    "D_TlF = sympy.symbols('D_TlF')\n",
    "mu_B = sympy.symbols('mu_B')\n",
    "gS, gL = sympy.symbols('gS gL')"
   ]
  },
  {
   "cell_type": "markdown",
   "metadata": {},
   "source": [
    " Write down the basis as a list of `BasisState` components:"
   ]
  },
  {
   "cell_type": "code",
   "execution_count": 16,
   "metadata": {},
   "outputs": [],
   "source": [
    "Omegas = [-1, 1]\n",
    "QN = [CoupledBasisState(F,mF,F1,J,I_F,I_Tl,Omega)\n",
    "      for J  in ni_range(Jmin, Jmax+1)\n",
    "      for F1 in ni_range(np.abs(J-I_F),J+I_F+1)\n",
    "      for F in ni_range(np.abs(F1-I_Tl),F1+I_Tl+1)\n",
    "      for mF in ni_range(-F, F+1)\n",
    "      for Omega in Omegas\n",
    "     ]\n",
    "\n",
    "# QN = [CoupledBasisState(F,0,F1,J,I_F,I_Tl,Omega)\n",
    "#       for J  in ni_range(Jmin, Jmax+1)\n",
    "#       for F1 in ni_range(np.abs(J-I_F),J+I_F+1)\n",
    "#       for F in ni_range(np.abs(F1-I_Tl),F1+I_Tl+1)\n",
    "# #       for mF in ni_range(-F, F+1)\n",
    "#       for Omega in Omegas\n",
    "#      ]"
   ]
  },
  {
   "cell_type": "markdown",
   "metadata": {},
   "source": [
    "The field-free and Stark/Zeeman components of the Hamiltonian then have the matrix elements (evaluate using `multiprocessing` to speed things up)"
   ]
  },
  {
   "cell_type": "code",
   "execution_count": 17,
   "metadata": {},
   "outputs": [
    {
     "data": {
      "application/vnd.jupyter.widget-view+json": {
       "model_id": "e2124ac9cd9a491aac9cba6ebde844ad",
       "version_major": 2,
       "version_minor": 0
      },
      "text/plain": [
       "HBox(children=(FloatProgress(value=1.0, bar_style='info', max=1.0), HTML(value='')))"
      ]
     },
     "metadata": {},
     "output_type": "display_data"
    },
    {
     "name": "stdout",
     "output_type": "stream",
     "text": [
      "\n"
     ]
    },
    {
     "data": {
      "application/vnd.jupyter.widget-view+json": {
       "model_id": "f446be543e4846b88a3a006610c30cbf",
       "version_major": 2,
       "version_minor": 0
      },
      "text/plain": [
       "HBox(children=(FloatProgress(value=1.0, bar_style='info', max=1.0), HTML(value='')))"
      ]
     },
     "metadata": {},
     "output_type": "display_data"
    },
    {
     "name": "stdout",
     "output_type": "stream",
     "text": [
      "\n"
     ]
    },
    {
     "data": {
      "application/vnd.jupyter.widget-view+json": {
       "model_id": "4e0d4fb180834ebab5ae8f87e1435894",
       "version_major": 2,
       "version_minor": 0
      },
      "text/plain": [
       "HBox(children=(FloatProgress(value=1.0, bar_style='info', max=1.0), HTML(value='')))"
      ]
     },
     "metadata": {},
     "output_type": "display_data"
    },
    {
     "name": "stdout",
     "output_type": "stream",
     "text": [
      "\n"
     ]
    },
    {
     "data": {
      "application/vnd.jupyter.widget-view+json": {
       "model_id": "e23aedc15b6c412abbb2caca13a7190f",
       "version_major": 2,
       "version_minor": 0
      },
      "text/plain": [
       "HBox(children=(FloatProgress(value=1.0, bar_style='info', max=1.0), HTML(value='')))"
      ]
     },
     "metadata": {},
     "output_type": "display_data"
    },
    {
     "name": "stdout",
     "output_type": "stream",
     "text": [
      "\n"
     ]
    },
    {
     "data": {
      "application/vnd.jupyter.widget-view+json": {
       "model_id": "45c4bdc36a3a48a1af3bd40c9023edf5",
       "version_major": 2,
       "version_minor": 0
      },
      "text/plain": [
       "HBox(children=(FloatProgress(value=1.0, bar_style='info', max=1.0), HTML(value='')))"
      ]
     },
     "metadata": {},
     "output_type": "display_data"
    },
    {
     "name": "stdout",
     "output_type": "stream",
     "text": [
      "\n"
     ]
    },
    {
     "data": {
      "application/vnd.jupyter.widget-view+json": {
       "model_id": "2aa6fc5ac0aa4502b27058a400aedfca",
       "version_major": 2,
       "version_minor": 0
      },
      "text/plain": [
       "HBox(children=(FloatProgress(value=1.0, bar_style='info', max=1.0), HTML(value='')))"
      ]
     },
     "metadata": {},
     "output_type": "display_data"
    },
    {
     "name": "stdout",
     "output_type": "stream",
     "text": [
      "\n"
     ]
    },
    {
     "data": {
      "application/vnd.jupyter.widget-view+json": {
       "model_id": "dd606dec2b20484994c1da53fe4b3570",
       "version_major": 2,
       "version_minor": 0
      },
      "text/plain": [
       "HBox(children=(FloatProgress(value=1.0, bar_style='info', max=1.0), HTML(value='')))"
      ]
     },
     "metadata": {},
     "output_type": "display_data"
    },
    {
     "name": "stdout",
     "output_type": "stream",
     "text": [
      "\n"
     ]
    },
    {
     "data": {
      "application/vnd.jupyter.widget-view+json": {
       "model_id": "3566ee457c9d43908e1ef6e57281121d",
       "version_major": 2,
       "version_minor": 0
      },
      "text/plain": [
       "HBox(children=(FloatProgress(value=1.0, bar_style='info', max=1.0), HTML(value='')))"
      ]
     },
     "metadata": {},
     "output_type": "display_data"
    },
    {
     "name": "stdout",
     "output_type": "stream",
     "text": [
      "\n"
     ]
    },
    {
     "data": {
      "application/vnd.jupyter.widget-view+json": {
       "model_id": "7c69776b4ef04d6b8d5a5a8e3f6316d8",
       "version_major": 2,
       "version_minor": 0
      },
      "text/plain": [
       "HBox(children=(FloatProgress(value=1.0, bar_style='info', max=1.0), HTML(value='')))"
      ]
     },
     "metadata": {},
     "output_type": "display_data"
    },
    {
     "name": "stdout",
     "output_type": "stream",
     "text": [
      "\n"
     ]
    },
    {
     "data": {
      "application/vnd.jupyter.widget-view+json": {
       "model_id": "e8771ec6b3ec4e7f81ce46a1d99f9acc",
       "version_major": 2,
       "version_minor": 0
      },
      "text/plain": [
       "HBox(children=(FloatProgress(value=1.0, bar_style='info', max=1.0), HTML(value='')))"
      ]
     },
     "metadata": {},
     "output_type": "display_data"
    },
    {
     "name": "stdout",
     "output_type": "stream",
     "text": [
      "\n"
     ]
    },
    {
     "data": {
      "application/vnd.jupyter.widget-view+json": {
       "model_id": "8ef13de90f994de29f3b29fa5d797237",
       "version_major": 2,
       "version_minor": 0
      },
      "text/plain": [
       "HBox(children=(FloatProgress(value=1.0, bar_style='info', max=1.0), HTML(value='')))"
      ]
     },
     "metadata": {},
     "output_type": "display_data"
    },
    {
     "name": "stdout",
     "output_type": "stream",
     "text": [
      "\n"
     ]
    },
    {
     "data": {
      "application/vnd.jupyter.widget-view+json": {
       "model_id": "a2cb5654d09c4176b36d85ecfcf11008",
       "version_major": 2,
       "version_minor": 0
      },
      "text/plain": [
       "HBox(children=(FloatProgress(value=1.0, bar_style='info', max=1.0), HTML(value='')))"
      ]
     },
     "metadata": {},
     "output_type": "display_data"
    },
    {
     "name": "stdout",
     "output_type": "stream",
     "text": [
      "\n",
      "Wall time: 1h 56min 47s\n"
     ]
    }
   ],
   "source": [
    "%%time\n",
    "from tqdm.notebook import tqdm\n",
    "\n",
    "def HMatElems(H, QN=QN):\n",
    "    result = sympy.zeros(len(QN),len(QN))\n",
    "    for i,a in tqdm(enumerate(QN)):\n",
    "        for j,b in enumerate(QN):\n",
    "            result[i,j] = (1*a)@H(b)\n",
    "            \n",
    "    return result\n",
    "\n",
    "H_ops = [HZx, HZy, HZz, HSx, HSy, HSz, Hrot, H_mhf_Tl, H_mhf_F, H_c_Tl, H_cp1_Tl, H_LD]\n",
    "\n",
    "HZx_m, HZy_m, HZz_m, HSx_m, HSy_m, HSz_m, Hrot_m, H_mhf_Tl_m, H_mhf_F_m, H_c_Tl_m, H_cp1_Tl_m, H_LD_m  = map(HMatElems, H_ops)"
   ]
  },
  {
   "cell_type": "markdown",
   "metadata": {},
   "source": [
    "Store the result of the calculation as text files and Python `pickle`s:"
   ]
  },
  {
   "cell_type": "code",
   "execution_count": 21,
   "metadata": {},
   "outputs": [],
   "source": [
    "with open(\"./Saved Hamiltonians/TlF_B_state_hamiltonian_J1to5.pickle\", 'wb') as f:\n",
    "    pickle.dump(\n",
    "        {\n",
    "            \"Hrot\" : Hrot_m,\n",
    "            \"H_mhf_Tl\": H_mhf_Tl_m,\n",
    "            \"H_mhf_F\": H_mhf_F_m,\n",
    "            \"H_LD\": H_LD_m,\n",
    "            \"H_cp1_Tl\": H_cp1_Tl_m,\n",
    "            \"H_c_Tl\": H_c_Tl_m,\n",
    "#             \"HSx\" : HSx_m,\n",
    "#             \"HSy\" : HSy_m,\n",
    "#             \"HSz\" : HSz_m,\n",
    "#             \"HZx\" : HZx_m,\n",
    "#             \"HZy\" : HZy_m,\n",
    "            \"HZz\" : HZz_m\n",
    "        },\n",
    "        f\n",
    "    )"
   ]
  },
  {
   "cell_type": "code",
   "execution_count": null,
   "metadata": {},
   "outputs": [],
   "source": []
  }
 ],
 "metadata": {
  "kernelspec": {
   "display_name": "Python 3",
   "language": "python",
   "name": "python3"
  },
  "language_info": {
   "codemirror_mode": {
    "name": "ipython",
    "version": 3
   },
   "file_extension": ".py",
   "mimetype": "text/x-python",
   "name": "python",
   "nbconvert_exporter": "python",
   "pygments_lexer": "ipython3",
   "version": "3.8.3"
  }
 },
 "nbformat": 4,
 "nbformat_minor": 4
}
