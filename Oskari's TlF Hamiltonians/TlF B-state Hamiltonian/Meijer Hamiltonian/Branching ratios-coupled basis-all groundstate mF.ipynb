{
 "cells": [
  {
   "cell_type": "markdown",
   "metadata": {},
   "source": [
    "# Branching ratios\n",
    "Checking the branching ratios using the Meijer Hamiltonian\n",
    "\n",
    "## Setting up"
   ]
  },
  {
   "cell_type": "code",
   "execution_count": 27,
   "metadata": {},
   "outputs": [],
   "source": [
    "import numpy as np\n",
    "import pickle\n",
    "import sys\n",
    "import sympy\n",
    "from tqdm.notebook import tqdm\n",
    "\n",
    "sys.path.append('../B-state-classes-and-functions/')\n",
    "\n",
    "from classes import CoupledBasisState, UncoupledBasisState, State\n",
    "from functions import matrix_to_states, vector_to_state, find_state_idx_from_state, find_closest_state\n",
    "\n",
    "from sympy.physics.wigner import wigner_3j, wigner_6j\n",
    "\n",
    "def threej_f(j1,j2,j3,m1,m2,m3):\n",
    "    return complex(wigner_3j(j1,j2,j3,m1,m2,m3))\n",
    "\n",
    "def sixj_f(j1,j2,j3,j4,j5,j6):\n",
    "    return complex(wigner_6j(j1,j2,j3,j4,j5,j6))\n",
    "\n",
    "\n",
    "# with open(\"B_hamiltonians_symbolic_coupled_mF_is_0.py\",'rb') as f:\n",
    "#     hamiltonians_B = pickle.load(f)\n",
    "    \n",
    "with open(\"./Saved Hamiltonians/B_state_hamiltonian_J1to10_mF0.py\",'rb') as f:\n",
    "    hamiltonians_B = pickle.load(f)\n",
    "    \n",
    "with open(\"TlF_X_state_hamiltonian0to6_2020_03_03.py\",'rb') as f:\n",
    "    hamiltonians_X = pickle.load(f)\n",
    "\n",
    "\n",
    "def ni_range(x0, x1, dx=1):\n",
    "    # sanity check arguments\n",
    "    if dx==0:\n",
    "        raise ValueError(\"invalid parameters: dx==0\")\n",
    "    if x0>x1 and dx>=0:\n",
    "        raise ValueError(\"invalid parameters: x0>x1 and dx>=0\")\n",
    "    if x0<x1 and dx<=0:\n",
    "        raise ValueError(\"invalid parameters: x0<x1 and dx<=0\")\n",
    "        \n",
    "    # generate range list\n",
    "    range_list = []\n",
    "    x = x0\n",
    "    while x < x1:\n",
    "        range_list.append(x)\n",
    "        x += dx\n",
    "    return range_list\n",
    "\n",
    "#Generate quantum numbers\n",
    "I_Tl = 1/2             # I1 in Ramsey's notation\n",
    "I_F  = 1/2             # I2 in Ramsey's notation\n",
    "\n",
    "#Generate list of ground states\n",
    "Jmin_g = 0\n",
    "Jmax_g = 6 # max J value in Hamiltonian\n",
    "\n",
    "# QN_g = []\n",
    "\n",
    "# for J in np.arange(Jmin_g, Jmax_g+1):\n",
    "#     for m1 in np.arange(-I_Tl,I_Tl+1):\n",
    "#         for m2 in np.arange(-I_F,I_F+1):\n",
    "#             mJ = 0-m1-m2\n",
    "#             if np.abs(mJ) <= J:\n",
    "#                 QN_g.append(UncoupledBasisState(J,mJ,I_Tl,m1,I_F,m2,0))\n",
    "                \n",
    "QN_g = [UncoupledBasisState(J,mJ,I_Tl,m1,I_F,m2,0)\n",
    "      for J  in ni_range(0, Jmax_g+1)\n",
    "      for mJ in ni_range(-J,J+1)\n",
    "      for m1 in ni_range(-I_Tl,I_Tl+1)\n",
    "      for m2 in ni_range(-I_F,I_F+1)\n",
    "     ]\n",
    "\n",
    "QN_g_coupled = [CoupledBasisState(F,mF,F1,J,I_F,I_Tl,0)\n",
    "      for J  in ni_range(Jmin_g, Jmax_g+1)\n",
    "      for F1 in ni_range(np.abs(J-I_F),J+I_F+1)\n",
    "      for F in ni_range(np.abs(F1-I_Tl),F1+I_Tl+1)\n",
    "      for mF in ni_range(-F,F+1)\n",
    "     ]\n",
    "                \n",
    "#Generate list of excited states\n",
    "Jmin_e = 1\n",
    "Jmax_e = 10\n",
    "\n",
    "QN_e = []\n",
    "\n",
    "Omegas = [-1, 1]\n",
    "QN_e = [CoupledBasisState(F,0,F1,J,I_F,I_Tl,Omega)\n",
    "      for J  in ni_range(Jmin_e, Jmax_e+1)\n",
    "      for F1 in ni_range(np.abs(J-I_F),J+I_F+1)\n",
    "      for F in ni_range(np.abs(F1-I_Tl),F1+I_Tl+1)\n",
    "      for Omega in Omegas\n",
    "     ]\n"
   ]
  },
  {
   "cell_type": "markdown",
   "metadata": {},
   "source": [
    "### Eigenstates for B"
   ]
  },
  {
   "cell_type": "code",
   "execution_count": 28,
   "metadata": {},
   "outputs": [],
   "source": [
    "variables = [\n",
    "    *sympy.symbols('Brot Drot H_const'),\n",
    "    *sympy.symbols('h1_Tl h1_F'),\n",
    "    sympy.symbols('q'),\n",
    "    sympy.symbols('c_Tl'),\n",
    "    sympy.symbols('c1p_Tl'),\n",
    "    *sympy.symbols('gL gS')\n",
    "]\n",
    "\n",
    "lambdified_hamiltonians_B = {\n",
    "    H_name : sympy.lambdify(variables, H_matrix)\n",
    "    for H_name, H_matrix in hamiltonians_B.items()\n",
    "}"
   ]
  },
  {
   "cell_type": "markdown",
   "metadata": {},
   "source": [
    "Insert the numerical constants:"
   ]
  },
  {
   "cell_type": "code",
   "execution_count": 29,
   "metadata": {},
   "outputs": [],
   "source": [
    "#Constants in MHz\n",
    "Brot = 6687.879e6\n",
    "Drot = 0.010869e6\n",
    "H_const = -8.1e-2\n",
    "h1_Tl = 28789e6\n",
    "h1_F = 861e6\n",
    "q = 2.423e6\n",
    "c_Tl = -7.83e6\n",
    "c_Tl_p = 11.17e6\n",
    "gL = 1\n",
    "gS = 2\n",
    "\n",
    "H = {\n",
    "    H_name : H_fn(\n",
    "        Brot, Drot, H_const,\n",
    "        h1_Tl, h1_F,\n",
    "        q,\n",
    "        c_Tl,\n",
    "        c_Tl_p,\n",
    "        gL, gS\n",
    "    )\n",
    "    for H_name, H_fn in lambdified_hamiltonians_B.items()\n",
    "}\n",
    "\n"
   ]
  },
  {
   "cell_type": "code",
   "execution_count": 30,
   "metadata": {},
   "outputs": [
    {
     "name": "stdout",
     "output_type": "stream",
     "text": [
      "True\n"
     ]
    }
   ],
   "source": [
    "Hff_e = H[\"Hrot\"]+H[\"H_mhf_Tl\"]+H[\"H_mhf_F\"]+H[\"H_c_Tl\"]+H[\"H_LD\"]+H[\"H_cp1_Tl\"]\n",
    "print(np.allclose(Hff_e, Hff_e.conj().T))\n",
    "D_e, V_e = np.linalg.eigh(Hff_e)"
   ]
  },
  {
   "cell_type": "code",
   "execution_count": 31,
   "metadata": {},
   "outputs": [],
   "source": [
    "excited_states = matrix_to_states(V_e,QN_e)"
   ]
  },
  {
   "cell_type": "code",
   "execution_count": 32,
   "metadata": {
    "scrolled": false
   },
   "outputs": [
    {
     "name": "stdout",
     "output_type": "stream",
     "text": [
      "\n",
      "+0.7071+0.0000j x |J = 1, F1 = 1/2, F = 0, mF = 0, I1 = 1/2, I2 = 1/2, Omega = -1, P = None>\n",
      "-0.7071+0.0000j x |J = 1, F1 = 1/2, F = 0, mF = 0, I1 = 1/2, I2 = 1/2, Omega = 1, P = None>\n",
      "\n",
      "+0.7071+0.0000j x |J = 1, F1 = 1/2, F = 0, mF = 0, I1 = 1/2, I2 = 1/2, Omega = -1, P = None>\n",
      "+0.7071+0.0000j x |J = 1, F1 = 1/2, F = 0, mF = 0, I1 = 1/2, I2 = 1/2, Omega = 1, P = None>\n",
      "\n",
      "+0.7069+0.0000j x |J = 1, F1 = 1/2, F = 1, mF = 0, I1 = 1/2, I2 = 1/2, Omega = -1, P = None>\n",
      "-0.7069+0.0000j x |J = 1, F1 = 1/2, F = 1, mF = 0, I1 = 1/2, I2 = 1/2, Omega = 1, P = None>\n",
      "+0.0142+0.0000j x |J = 1, F1 = 3/2, F = 1, mF = 0, I1 = 1/2, I2 = 1/2, Omega = -1, P = None>\n",
      "-0.0142+0.0000j x |J = 1, F1 = 3/2, F = 1, mF = 0, I1 = 1/2, I2 = 1/2, Omega = 1, P = None>\n",
      "-0.0126+0.0000j x |J = 2, F1 = 3/2, F = 1, mF = 0, I1 = 1/2, I2 = 1/2, Omega = -1, P = None>\n",
      "-0.0126+0.0000j x |J = 2, F1 = 3/2, F = 1, mF = 0, I1 = 1/2, I2 = 1/2, Omega = 1, P = None>\n",
      "\n",
      "-0.7069+0.0000j x |J = 1, F1 = 1/2, F = 1, mF = 0, I1 = 1/2, I2 = 1/2, Omega = -1, P = None>\n",
      "-0.7069+0.0000j x |J = 1, F1 = 1/2, F = 1, mF = 0, I1 = 1/2, I2 = 1/2, Omega = 1, P = None>\n",
      "-0.0142+0.0000j x |J = 1, F1 = 3/2, F = 1, mF = 0, I1 = 1/2, I2 = 1/2, Omega = -1, P = None>\n",
      "-0.0142+0.0000j x |J = 1, F1 = 3/2, F = 1, mF = 0, I1 = 1/2, I2 = 1/2, Omega = 1, P = None>\n",
      "+0.0126+0.0000j x |J = 2, F1 = 3/2, F = 1, mF = 0, I1 = 1/2, I2 = 1/2, Omega = -1, P = None>\n",
      "-0.0126+0.0000j x |J = 2, F1 = 3/2, F = 1, mF = 0, I1 = 1/2, I2 = 1/2, Omega = 1, P = None>\n",
      "\n",
      "-0.0187+0.0000j x |J = 1, F1 = 1/2, F = 1, mF = 0, I1 = 1/2, I2 = 1/2, Omega = -1, P = None>\n",
      "-0.0187+0.0000j x |J = 1, F1 = 1/2, F = 1, mF = 0, I1 = 1/2, I2 = 1/2, Omega = 1, P = None>\n",
      "+0.6023+0.0000j x |J = 1, F1 = 3/2, F = 1, mF = 0, I1 = 1/2, I2 = 1/2, Omega = -1, P = None>\n",
      "+0.6023+0.0000j x |J = 1, F1 = 3/2, F = 1, mF = 0, I1 = 1/2, I2 = 1/2, Omega = 1, P = None>\n",
      "-0.3700+0.0000j x |J = 2, F1 = 3/2, F = 1, mF = 0, I1 = 1/2, I2 = 1/2, Omega = -1, P = None>\n",
      "+0.3700+0.0000j x |J = 2, F1 = 3/2, F = 1, mF = 0, I1 = 1/2, I2 = 1/2, Omega = 1, P = None>\n",
      "\n",
      "+0.0186+0.0000j x |J = 1, F1 = 1/2, F = 1, mF = 0, I1 = 1/2, I2 = 1/2, Omega = -1, P = None>\n",
      "-0.0186+0.0000j x |J = 1, F1 = 1/2, F = 1, mF = 0, I1 = 1/2, I2 = 1/2, Omega = 1, P = None>\n",
      "-0.6025+0.0000j x |J = 1, F1 = 3/2, F = 1, mF = 0, I1 = 1/2, I2 = 1/2, Omega = -1, P = None>\n",
      "+0.6025+0.0000j x |J = 1, F1 = 3/2, F = 1, mF = 0, I1 = 1/2, I2 = 1/2, Omega = 1, P = None>\n",
      "+0.3696+0.0000j x |J = 2, F1 = 3/2, F = 1, mF = 0, I1 = 1/2, I2 = 1/2, Omega = -1, P = None>\n",
      "+0.3696+0.0000j x |J = 2, F1 = 3/2, F = 1, mF = 0, I1 = 1/2, I2 = 1/2, Omega = 1, P = None>\n",
      "\n",
      "-0.5998+0.0000j x |J = 1, F1 = 3/2, F = 2, mF = 0, I1 = 1/2, I2 = 1/2, Omega = -1, P = None>\n",
      "-0.5998+0.0000j x |J = 1, F1 = 3/2, F = 2, mF = 0, I1 = 1/2, I2 = 1/2, Omega = 1, P = None>\n",
      "+0.3744+0.0000j x |J = 2, F1 = 3/2, F = 2, mF = 0, I1 = 1/2, I2 = 1/2, Omega = -1, P = None>\n",
      "-0.3744+0.0000j x |J = 2, F1 = 3/2, F = 2, mF = 0, I1 = 1/2, I2 = 1/2, Omega = 1, P = None>\n",
      "\n",
      "+0.6000+0.0000j x |J = 1, F1 = 3/2, F = 2, mF = 0, I1 = 1/2, I2 = 1/2, Omega = -1, P = None>\n",
      "-0.6000+0.0000j x |J = 1, F1 = 3/2, F = 2, mF = 0, I1 = 1/2, I2 = 1/2, Omega = 1, P = None>\n",
      "-0.3740+0.0000j x |J = 2, F1 = 3/2, F = 2, mF = 0, I1 = 1/2, I2 = 1/2, Omega = -1, P = None>\n",
      "-0.3740+0.0000j x |J = 2, F1 = 3/2, F = 2, mF = 0, I1 = 1/2, I2 = 1/2, Omega = 1, P = None>\n"
     ]
    }
   ],
   "source": [
    "for state in excited_states[:8]:\n",
    "    print(\"\")\n",
    "    state.print_state(tol=0.01)"
   ]
  },
  {
   "cell_type": "markdown",
   "metadata": {},
   "source": [
    "### Eigenstates for X"
   ]
  },
  {
   "cell_type": "code",
   "execution_count": 7,
   "metadata": {},
   "outputs": [],
   "source": [
    "#Substitute values into hamiltonian\n",
    "variables = [\n",
    "    sympy.symbols('Brot'),\n",
    "    *sympy.symbols('c1 c2 c3 c4'),\n",
    "    sympy.symbols('D_TlF'),\n",
    "    *sympy.symbols('mu_J mu_Tl mu_F')\n",
    "]\n",
    "\n",
    "lambdified_hamiltonians_X = {\n",
    "    H_name : sympy.lambdify(variables, H_matrix)\n",
    "    for H_name, H_matrix in hamiltonians_X.items()\n",
    "}\n",
    "\n",
    "#Molecular constants\n",
    "\n",
    "# Values for rotational constant are from \"Microwave Spectral tables: Diatomic molecules\" by Lovas & Tiemann (1974). \n",
    "# Note that Brot differs from the one given by Ramsey by about 30 MHz.\n",
    "B_e = 6.689873e9\n",
    "c1 = 126030.0 \n",
    "c2 = 17890.0\n",
    "c3 = 700.0\n",
    "c4 = -13300.0\n",
    "alpha = 45.0843e6\n",
    "Brot = B_e - alpha/2\n",
    "D_TlF = 4.2282 * 0.393430307 *5.291772e-9/4.135667e-15 # [Hz/(V/cm)]\n",
    "mu_J = 35 # Hz/G\n",
    "mu_Tl = 1240.5 #Hz/G\n",
    "mu_F = 2003.63 #Hz/G\n",
    "\n",
    "H_g = {\n",
    "    H_name : H_fn(\n",
    "        Brot,\n",
    "        c1, c2, c3, c4,\n",
    "        D_TlF,\n",
    "        mu_J, mu_Tl, mu_F\n",
    "    )\n",
    "    for H_name, H_fn in lambdified_hamiltonians_X.items()\n",
    "    }"
   ]
  },
  {
   "cell_type": "code",
   "execution_count": 8,
   "metadata": {},
   "outputs": [
    {
     "name": "stdout",
     "output_type": "stream",
     "text": [
      "True\n"
     ]
    }
   ],
   "source": [
    "Hff_g = H_g[\"Hff\"]+0.001*H_g[\"HZz\"]\n",
    "print(np.allclose(Hff_g, Hff_g.conj().T))\n",
    "D_g, V_g = np.linalg.eigh(Hff_g)"
   ]
  },
  {
   "cell_type": "code",
   "execution_count": 9,
   "metadata": {},
   "outputs": [
    {
     "data": {
      "application/vnd.jupyter.widget-view+json": {
       "model_id": "0117dee51ba74b8980ce78c8eee46d6b",
       "version_major": 2,
       "version_minor": 0
      },
      "text/plain": [
       "HBox(children=(FloatProgress(value=0.0, max=196.0), HTML(value='')))"
      ]
     },
     "metadata": {},
     "output_type": "display_data"
    },
    {
     "name": "stdout",
     "output_type": "stream",
     "text": [
      "\n"
     ]
    }
   ],
   "source": [
    "#Transform ground state eigenstates to coupled basis\n",
    "ground_states = matrix_to_states(V_g,QN_g)\n",
    "for i, ground_state in enumerate(tqdm(ground_states)):\n",
    "    ground_states[i] = ground_state.remove_small_components(tol = 0.0001).transform_to_coupled()"
   ]
  },
  {
   "cell_type": "code",
   "execution_count": 10,
   "metadata": {
    "scrolled": false
   },
   "outputs": [
    {
     "name": "stdout",
     "output_type": "stream",
     "text": [
      "\n",
      "+1.0000+0.0000j x |J = 0, F1 = 1/2, F = 1, mF = 1, I1 = 1/2, I2 = 1/2, Omega = 0, P = None>\n",
      "\n",
      "-1.0000+0.0000j x |J = 0, F1 = 1/2, F = 1, mF = 0, I1 = 1/2, I2 = 1/2, Omega = 0, P = None>\n",
      "\n",
      "+1.0000+0.0000j x |J = 0, F1 = 1/2, F = 1, mF = -1, I1 = 1/2, I2 = 1/2, Omega = 0, P = None>\n",
      "\n",
      "+1.0000+0.0000j x |J = 0, F1 = 1/2, F = 0, mF = 0, I1 = 1/2, I2 = 1/2, Omega = 0, P = None>\n",
      "\n",
      "+1.0000+0.0000j x |J = 1, F1 = 1/2, F = 0, mF = 0, I1 = 1/2, I2 = 1/2, Omega = 0, P = None>\n",
      "\n",
      "-0.9961+0.0000j x |J = 1, F1 = 1/2, F = 1, mF = 1, I1 = 1/2, I2 = 1/2, Omega = 0, P = None>\n",
      "-0.0886+0.0000j x |J = 1, F1 = 3/2, F = 1, mF = 1, I1 = 1/2, I2 = 1/2, Omega = 0, P = None>\n",
      "\n",
      "+0.9961+0.0000j x |J = 1, F1 = 1/2, F = 1, mF = 0, I1 = 1/2, I2 = 1/2, Omega = 0, P = None>\n",
      "+0.0886+0.0000j x |J = 1, F1 = 3/2, F = 1, mF = 0, I1 = 1/2, I2 = 1/2, Omega = 0, P = None>\n",
      "\n",
      "-0.9961+0.0000j x |J = 1, F1 = 1/2, F = 1, mF = -1, I1 = 1/2, I2 = 1/2, Omega = 0, P = None>\n",
      "-0.0886+0.0000j x |J = 1, F1 = 3/2, F = 1, mF = -1, I1 = 1/2, I2 = 1/2, Omega = 0, P = None>\n"
     ]
    }
   ],
   "source": [
    "for state in ground_states[:8]:\n",
    "    print(\"\")\n",
    "    state.print_state(tol=0.01)"
   ]
  },
  {
   "cell_type": "markdown",
   "metadata": {},
   "source": [
    "## Electric dipole matrix elements\n",
    "Calculate the electric dipole matrix elements between uncoupled basis states in X and B state "
   ]
  },
  {
   "cell_type": "code",
   "execution_count": 33,
   "metadata": {},
   "outputs": [],
   "source": [
    "def ED_ME(ground_state, excited_state, pol_vec = np.array([0,0,1]), rme_only = True):\n",
    "    \"\"\"\n",
    "    Function for calculating electric dipole matrix elements between CoupledBasisStates.\n",
    "    \n",
    "    inputs:\n",
    "    ground_state = UncoupledBasisState object in the X-state of TlF\n",
    "    excited_state = UncoupledBasisState object in the B-state of TlF\n",
    "    pol_vec = polarization vector for the light that is driving the transition\n",
    "    rme_only = True if want to return reduced matrix element, False if want angular component also\n",
    "    \n",
    "    returns:\n",
    "    ME = (reduced) electric dipole matrix element between ground_state and excited_state\n",
    "    \"\"\"\n",
    "    \n",
    "    #Find quantum numbers for ground state\n",
    "    F = ground_state.F\n",
    "    mF = ground_state.mF\n",
    "    J = ground_state.J\n",
    "    F1 = ground_state.F1\n",
    "    I1 = ground_state.I1\n",
    "    I2 = ground_state.I2\n",
    "    Omega_g = ground_state.Omega\n",
    "    \n",
    "    #Find quantum numbers for excited state\n",
    "    Fp = excited_state.F\n",
    "    mFp = excited_state.mF\n",
    "    Jp = excited_state.J\n",
    "    F1p = excited_state.F1\n",
    "    I1p = excited_state.I1\n",
    "    I2p = excited_state.I2\n",
    "    Omega_e = excited_state.Omega\n",
    "    \n",
    "    #Calculate the reduced matrix element\n",
    "    q = Omega_g - Omega_e\n",
    "    ME = ((-1)**(-F1+J+Fp+F1p) * np.sqrt((2*F+1)*(2*Fp+1)*(2*F1p+1)*(2*F1+1)) * sixj_f(F1p,Fp,I2,F,F1,1) \n",
    "          * sixj_f(Jp,F1p,I1,F1,J,1) * (-1)**(J-Omega_g) *np.sqrt((2*J+1)*(2*Jp+1)) * threej_f(J,1,Jp,-Omega_g, q, Omega_e)\n",
    "          * float(np.abs(q) < 2))\n",
    "    \n",
    "    #If we want the complete matrix element, calculate angular part\n",
    "    if not rme_only:\n",
    "        \n",
    "        #Calculate elements of the polarization vector in spherical basis\n",
    "        p_vec = {}\n",
    "        p_vec[-1] = -1/np.sqrt(2) * (pol_vec[0] + 1j *pol_vec[1])\n",
    "        p_vec[0] = pol_vec[2]\n",
    "        p_vec[1] = +1/np.sqrt(2) * (pol_vec[0] - 1j *pol_vec[1])\n",
    "        \n",
    "        #Calculate the value of p that connects the states\n",
    "        p = mF-mFp\n",
    "        p = p*int(np.abs(p) <= 1)\n",
    "        #Multiply RME by the angular part\n",
    "        ME = ME * (-1)**(F-mF) * threej_f(F,1,Fp, -mF, p, mFp) * int(np.abs(p) <= 1)\n",
    "    \n",
    "    #Return the matrix element\n",
    "    return ME\n",
    "    \n",
    "    \n",
    "    "
   ]
  },
  {
   "cell_type": "code",
   "execution_count": 34,
   "metadata": {},
   "outputs": [
    {
     "data": {
      "application/vnd.jupyter.widget-view+json": {
       "model_id": "68cf0239254e48938045ea763b3f4fed",
       "version_major": 2,
       "version_minor": 0
      },
      "text/plain": [
       "HBox(children=(FloatProgress(value=1.0, bar_style='info', max=1.0), HTML(value='')))"
      ]
     },
     "metadata": {},
     "output_type": "display_data"
    },
    {
     "name": "stdout",
     "output_type": "stream",
     "text": [
      "\n"
     ]
    }
   ],
   "source": [
    "#Generate a matrix that contains the reduced electric dipole matrix elements between all excited and ground states of interest             \n",
    "def generate_ME_matrix(H, QN_g=QN_g_coupled, QN_e = QN_e):\n",
    "    #result = sympy.zeros(len(ground_states),len(excited_states))\n",
    "    result = np.zeros((len(QN_g),len(QN_e)),dtype = complex)\n",
    "    for i,a in tqdm(enumerate(QN_g)):\n",
    "        for j,b in enumerate(QN_e):\n",
    "            result[i,j] = H(a,b,rme_only=False)#/np.sqrt((2*a.J+1))\n",
    "            \n",
    "    return result\n",
    "\n",
    "MEs = generate_ME_matrix(ED_ME)\n",
    "MEs_states = V_g.conj().T @ MEs @ V_e\n",
    "\n",
    "def calculate_branching_ratio(ground_state, excited_state, MEs = MEs, QN_g = QN_g_coupled, \n",
    "                              QN_e = QN_e):\n",
    "    \n",
    "    #Get the ground_state and excited_state state vectors\n",
    "    vec_g = ground_state.state_vector(QN_g)\n",
    "    vec_e = excited_state.state_vector(QN_e)\n",
    "    \n",
    "    #Find the matrix element between ground_state and excited_state (for calculating partial width to ground_state)\n",
    "    ME_ge = vec_g.conj().T @ MEs @ vec_e\n",
    "    \n",
    "    #Find the matrix elements between the excited_state and all possible ground states\n",
    "    #so the total width of the excited state can be calculated\n",
    "    ME_e_all = V_g.conj().T @ MEs @ vec_e\n",
    "    \n",
    "    #Calculate branching ratio\n",
    "    branching_ratio = ME_ge*ME_ge.conj()/(ME_e_all.conj().T @ ME_e_all)\n",
    "    \n",
    "    return branching_ratio\n",
    "    \n"
   ]
  },
  {
   "cell_type": "code",
   "execution_count": 35,
   "metadata": {
    "scrolled": true
   },
   "outputs": [
    {
     "data": {
      "application/vnd.jupyter.widget-view+json": {
       "model_id": "9f668add489d4017b27673ec3c976d4d",
       "version_major": 2,
       "version_minor": 0
      },
      "text/plain": [
       "HBox(children=(FloatProgress(value=0.0, max=80.0), HTML(value='')))"
      ]
     },
     "metadata": {},
     "output_type": "display_data"
    },
    {
     "name": "stdout",
     "output_type": "stream",
     "text": [
      "**********\n",
      "|e> =\n",
      "+0.7071+0.0000j x |J = 1, F1 = 1/2, F = 0, mF = 0, I1 = 1/2, I2 = 1/2, Omega = -1, P = None>\n",
      "-0.7071+0.0000j x |J = 1, F1 = 1/2, F = 0, mF = 0, I1 = 1/2, I2 = 1/2, Omega = 1, P = None>\n",
      "\n",
      "Branching ratios:\n",
      "0.249085 to \n",
      "|g> =\n",
      "-0.9961+0.0000j x |J = 1, F1 = 1/2, F = 1, mF = 1, I1 = 1/2, I2 = 1/2, Omega = 0, P = None>\n",
      "-0.0886+0.0000j x |J = 1, F1 = 3/2, F = 1, mF = 1, I1 = 1/2, I2 = 1/2, Omega = 0, P = None>\n",
      "\n",
      "0.249085 to \n",
      "|g> =\n",
      "+0.9961+0.0000j x |J = 1, F1 = 1/2, F = 1, mF = 0, I1 = 1/2, I2 = 1/2, Omega = 0, P = None>\n",
      "+0.0886+0.0000j x |J = 1, F1 = 3/2, F = 1, mF = 0, I1 = 1/2, I2 = 1/2, Omega = 0, P = None>\n",
      "\n",
      "0.249084 to \n",
      "|g> =\n",
      "-0.9961+0.0000j x |J = 1, F1 = 1/2, F = 1, mF = -1, I1 = 1/2, I2 = 1/2, Omega = 0, P = None>\n",
      "-0.0886+0.0000j x |J = 1, F1 = 3/2, F = 1, mF = -1, I1 = 1/2, I2 = 1/2, Omega = 0, P = None>\n",
      "\n",
      "0.084249 to \n",
      "|g> =\n",
      "-0.0886+0.0000j x |J = 1, F1 = 1/2, F = 1, mF = -1, I1 = 1/2, I2 = 1/2, Omega = 0, P = None>\n",
      "+0.9961+0.0000j x |J = 1, F1 = 3/2, F = 1, mF = -1, I1 = 1/2, I2 = 1/2, Omega = 0, P = None>\n",
      "\n",
      "0.084249 to \n",
      "|g> =\n",
      "+0.0886+0.0000j x |J = 1, F1 = 1/2, F = 1, mF = 0, I1 = 1/2, I2 = 1/2, Omega = 0, P = None>\n",
      "-0.9961+0.0000j x |J = 1, F1 = 3/2, F = 1, mF = 0, I1 = 1/2, I2 = 1/2, Omega = 0, P = None>\n",
      "\n",
      "0.084248 to \n",
      "|g> =\n",
      "-0.0886+0.0000j x |J = 1, F1 = 1/2, F = 1, mF = 1, I1 = 1/2, I2 = 1/2, Omega = 0, P = None>\n",
      "+0.9961+0.0000j x |J = 1, F1 = 3/2, F = 1, mF = 1, I1 = 1/2, I2 = 1/2, Omega = 0, P = None>\n",
      "\n",
      "**********\n",
      "|e> =\n",
      "+0.7071+0.0000j x |J = 1, F1 = 1/2, F = 0, mF = 0, I1 = 1/2, I2 = 1/2, Omega = -1, P = None>\n",
      "+0.7071+0.0000j x |J = 1, F1 = 1/2, F = 0, mF = 0, I1 = 1/2, I2 = 1/2, Omega = 1, P = None>\n",
      "\n",
      "Branching ratios:\n",
      "0.222222 to \n",
      "|g> =\n",
      "+1.0000+0.0000j x |J = 0, F1 = 1/2, F = 1, mF = 1, I1 = 1/2, I2 = 1/2, Omega = 0, P = None>\n",
      "\n",
      "0.222222 to \n",
      "|g> =\n",
      "-1.0000+0.0000j x |J = 0, F1 = 1/2, F = 1, mF = 0, I1 = 1/2, I2 = 1/2, Omega = 0, P = None>\n",
      "\n",
      "0.222222 to \n",
      "|g> =\n",
      "+1.0000+0.0000j x |J = 0, F1 = 1/2, F = 1, mF = -1, I1 = 1/2, I2 = 1/2, Omega = 0, P = None>\n",
      "\n",
      "0.111111 to \n",
      "|g> =\n",
      "-1.0000+0.0000j x |J = 2, F1 = 3/2, F = 1, mF = -1, I1 = 1/2, I2 = 1/2, Omega = 0, P = None>\n",
      "\n",
      "0.111111 to \n",
      "|g> =\n",
      "+1.0000+0.0000j x |J = 2, F1 = 3/2, F = 1, mF = 0, I1 = 1/2, I2 = 1/2, Omega = 0, P = None>\n",
      "\n",
      "0.111111 to \n",
      "|g> =\n",
      "+1.0000+0.0000j x |J = 2, F1 = 3/2, F = 1, mF = 1, I1 = 1/2, I2 = 1/2, Omega = 0, P = None>\n",
      "\n",
      "\n"
     ]
    },
    {
     "ename": "KeyboardInterrupt",
     "evalue": "",
     "output_type": "error",
     "traceback": [
      "\u001b[1;31m---------------------------------------------------------------------------\u001b[0m",
      "\u001b[1;31mKeyboardInterrupt\u001b[0m                         Traceback (most recent call last)",
      "\u001b[1;32m<ipython-input-35-c702c1b709b4>\u001b[0m in \u001b[0;36m<module>\u001b[1;34m\u001b[0m\n\u001b[0;32m      7\u001b[0m     \u001b[1;31m#Loop over ground states\u001b[0m\u001b[1;33m\u001b[0m\u001b[1;33m\u001b[0m\u001b[1;33m\u001b[0m\u001b[0m\n\u001b[0;32m      8\u001b[0m     \u001b[1;32mfor\u001b[0m \u001b[0mground_state\u001b[0m \u001b[1;32min\u001b[0m \u001b[0mground_states\u001b[0m\u001b[1;33m:\u001b[0m\u001b[1;33m\u001b[0m\u001b[1;33m\u001b[0m\u001b[0m\n\u001b[1;32m----> 9\u001b[1;33m         \u001b[0mbr\u001b[0m \u001b[1;33m=\u001b[0m \u001b[0mnp\u001b[0m\u001b[1;33m.\u001b[0m\u001b[0mreal\u001b[0m\u001b[1;33m(\u001b[0m\u001b[0mcalculate_branching_ratio\u001b[0m\u001b[1;33m(\u001b[0m\u001b[0mground_state\u001b[0m\u001b[1;33m,\u001b[0m \u001b[0mexcited_state\u001b[0m\u001b[1;33m)\u001b[0m\u001b[1;33m)\u001b[0m\u001b[1;33m\u001b[0m\u001b[1;33m\u001b[0m\u001b[0m\n\u001b[0m\u001b[0;32m     10\u001b[0m         \u001b[1;32mif\u001b[0m \u001b[0mbr\u001b[0m \u001b[1;33m>\u001b[0m \u001b[1;36m0.0001\u001b[0m\u001b[1;33m:\u001b[0m\u001b[1;33m\u001b[0m\u001b[1;33m\u001b[0m\u001b[0m\n\u001b[0;32m     11\u001b[0m             \u001b[0mprint\u001b[0m\u001b[1;33m(\u001b[0m\u001b[1;34m\"{:5f} to \\n|g> =\"\u001b[0m\u001b[1;33m.\u001b[0m\u001b[0mformat\u001b[0m\u001b[1;33m(\u001b[0m\u001b[0mbr\u001b[0m\u001b[1;33m)\u001b[0m\u001b[1;33m)\u001b[0m\u001b[1;33m\u001b[0m\u001b[1;33m\u001b[0m\u001b[0m\n",
      "\u001b[1;32m<ipython-input-34-1641306584d3>\u001b[0m in \u001b[0;36mcalculate_branching_ratio\u001b[1;34m(ground_state, excited_state, MEs, QN_g, QN_e)\u001b[0m\n\u001b[0;32m     16\u001b[0m \u001b[1;33m\u001b[0m\u001b[0m\n\u001b[0;32m     17\u001b[0m     \u001b[1;31m#Get the ground_state and excited_state state vectors\u001b[0m\u001b[1;33m\u001b[0m\u001b[1;33m\u001b[0m\u001b[1;33m\u001b[0m\u001b[0m\n\u001b[1;32m---> 18\u001b[1;33m     \u001b[0mvec_g\u001b[0m \u001b[1;33m=\u001b[0m \u001b[0mground_state\u001b[0m\u001b[1;33m.\u001b[0m\u001b[0mstate_vector\u001b[0m\u001b[1;33m(\u001b[0m\u001b[0mQN_g\u001b[0m\u001b[1;33m)\u001b[0m\u001b[1;33m\u001b[0m\u001b[1;33m\u001b[0m\u001b[0m\n\u001b[0m\u001b[0;32m     19\u001b[0m     \u001b[0mvec_e\u001b[0m \u001b[1;33m=\u001b[0m \u001b[0mexcited_state\u001b[0m\u001b[1;33m.\u001b[0m\u001b[0mstate_vector\u001b[0m\u001b[1;33m(\u001b[0m\u001b[0mQN_e\u001b[0m\u001b[1;33m)\u001b[0m\u001b[1;33m\u001b[0m\u001b[1;33m\u001b[0m\u001b[0m\n\u001b[0;32m     20\u001b[0m \u001b[1;33m\u001b[0m\u001b[0m\n",
      "\u001b[1;32mD:\\Google Drive\\CeNTREX Oskari\\TlF Hamiltonians\\TlF B-state Hamiltonian\\B-state-classes-and-functions\\classes.py\u001b[0m in \u001b[0;36mstate_vector\u001b[1;34m(self, QN)\u001b[0m\n\u001b[0;32m    375\u001b[0m     \u001b[1;31m#Function that returns state vector in uncoupled basis\u001b[0m\u001b[1;33m\u001b[0m\u001b[1;33m\u001b[0m\u001b[1;33m\u001b[0m\u001b[0m\n\u001b[0;32m    376\u001b[0m     \u001b[1;32mdef\u001b[0m \u001b[0mstate_vector\u001b[0m\u001b[1;33m(\u001b[0m\u001b[0mself\u001b[0m\u001b[1;33m,\u001b[0m\u001b[0mQN\u001b[0m\u001b[1;33m)\u001b[0m\u001b[1;33m:\u001b[0m\u001b[1;33m\u001b[0m\u001b[1;33m\u001b[0m\u001b[0m\n\u001b[1;32m--> 377\u001b[1;33m         \u001b[0mstate_vector\u001b[0m \u001b[1;33m=\u001b[0m \u001b[1;33m[\u001b[0m\u001b[0mself\u001b[0m \u001b[1;33m@\u001b[0m \u001b[0mState\u001b[0m\u001b[1;33m(\u001b[0m\u001b[1;33m[\u001b[0m\u001b[1;33m(\u001b[0m\u001b[1;36m1\u001b[0m\u001b[1;33m,\u001b[0m\u001b[0mstate\u001b[0m\u001b[1;33m)\u001b[0m\u001b[1;33m]\u001b[0m\u001b[1;33m)\u001b[0m \u001b[1;32mfor\u001b[0m \u001b[0mstate\u001b[0m \u001b[1;32min\u001b[0m \u001b[0mQN\u001b[0m\u001b[1;33m]\u001b[0m\u001b[1;33m\u001b[0m\u001b[1;33m\u001b[0m\u001b[0m\n\u001b[0m\u001b[0;32m    378\u001b[0m         \u001b[1;32mreturn\u001b[0m \u001b[0mnp\u001b[0m\u001b[1;33m.\u001b[0m\u001b[0marray\u001b[0m\u001b[1;33m(\u001b[0m\u001b[0mstate_vector\u001b[0m\u001b[1;33m,\u001b[0m\u001b[0mdtype\u001b[0m \u001b[1;33m=\u001b[0m \u001b[0mcomplex\u001b[0m\u001b[1;33m)\u001b[0m\u001b[1;33m\u001b[0m\u001b[1;33m\u001b[0m\u001b[0m\n\u001b[0;32m    379\u001b[0m \u001b[1;33m\u001b[0m\u001b[0m\n",
      "\u001b[1;32mD:\\Google Drive\\CeNTREX Oskari\\TlF Hamiltonians\\TlF B-state Hamiltonian\\B-state-classes-and-functions\\classes.py\u001b[0m in \u001b[0;36m<listcomp>\u001b[1;34m(.0)\u001b[0m\n\u001b[0;32m    375\u001b[0m     \u001b[1;31m#Function that returns state vector in uncoupled basis\u001b[0m\u001b[1;33m\u001b[0m\u001b[1;33m\u001b[0m\u001b[1;33m\u001b[0m\u001b[0m\n\u001b[0;32m    376\u001b[0m     \u001b[1;32mdef\u001b[0m \u001b[0mstate_vector\u001b[0m\u001b[1;33m(\u001b[0m\u001b[0mself\u001b[0m\u001b[1;33m,\u001b[0m\u001b[0mQN\u001b[0m\u001b[1;33m)\u001b[0m\u001b[1;33m:\u001b[0m\u001b[1;33m\u001b[0m\u001b[1;33m\u001b[0m\u001b[0m\n\u001b[1;32m--> 377\u001b[1;33m         \u001b[0mstate_vector\u001b[0m \u001b[1;33m=\u001b[0m \u001b[1;33m[\u001b[0m\u001b[0mself\u001b[0m \u001b[1;33m@\u001b[0m \u001b[0mState\u001b[0m\u001b[1;33m(\u001b[0m\u001b[1;33m[\u001b[0m\u001b[1;33m(\u001b[0m\u001b[1;36m1\u001b[0m\u001b[1;33m,\u001b[0m\u001b[0mstate\u001b[0m\u001b[1;33m)\u001b[0m\u001b[1;33m]\u001b[0m\u001b[1;33m)\u001b[0m \u001b[1;32mfor\u001b[0m \u001b[0mstate\u001b[0m \u001b[1;32min\u001b[0m \u001b[0mQN\u001b[0m\u001b[1;33m]\u001b[0m\u001b[1;33m\u001b[0m\u001b[1;33m\u001b[0m\u001b[0m\n\u001b[0m\u001b[0;32m    378\u001b[0m         \u001b[1;32mreturn\u001b[0m \u001b[0mnp\u001b[0m\u001b[1;33m.\u001b[0m\u001b[0marray\u001b[0m\u001b[1;33m(\u001b[0m\u001b[0mstate_vector\u001b[0m\u001b[1;33m,\u001b[0m\u001b[0mdtype\u001b[0m \u001b[1;33m=\u001b[0m \u001b[0mcomplex\u001b[0m\u001b[1;33m)\u001b[0m\u001b[1;33m\u001b[0m\u001b[1;33m\u001b[0m\u001b[0m\n\u001b[0;32m    379\u001b[0m \u001b[1;33m\u001b[0m\u001b[0m\n",
      "\u001b[1;32mD:\\Google Drive\\CeNTREX Oskari\\TlF Hamiltonians\\TlF B-state Hamiltonian\\B-state-classes-and-functions\\classes.py\u001b[0m in \u001b[0;36m__matmul__\u001b[1;34m(self, other)\u001b[0m\n\u001b[0;32m    314\u001b[0m         \u001b[1;32mfor\u001b[0m \u001b[0mamp1\u001b[0m\u001b[1;33m,\u001b[0m\u001b[0mpsi1\u001b[0m \u001b[1;32min\u001b[0m \u001b[0mself\u001b[0m\u001b[1;33m.\u001b[0m\u001b[0mdata\u001b[0m\u001b[1;33m:\u001b[0m\u001b[1;33m\u001b[0m\u001b[1;33m\u001b[0m\u001b[0m\n\u001b[0;32m    315\u001b[0m             \u001b[1;32mfor\u001b[0m \u001b[0mamp2\u001b[0m\u001b[1;33m,\u001b[0m\u001b[0mpsi2\u001b[0m \u001b[1;32min\u001b[0m \u001b[0mother\u001b[0m\u001b[1;33m.\u001b[0m\u001b[0mdata\u001b[0m\u001b[1;33m:\u001b[0m\u001b[1;33m\u001b[0m\u001b[1;33m\u001b[0m\u001b[0m\n\u001b[1;32m--> 316\u001b[1;33m                 \u001b[0mresult\u001b[0m \u001b[1;33m+=\u001b[0m \u001b[0mamp1\u001b[0m\u001b[1;33m.\u001b[0m\u001b[0mconjugate\u001b[0m\u001b[1;33m(\u001b[0m\u001b[1;33m)\u001b[0m\u001b[1;33m*\u001b[0m\u001b[0mamp2\u001b[0m \u001b[1;33m*\u001b[0m \u001b[1;33m(\u001b[0m\u001b[0mpsi1\u001b[0m\u001b[1;33m@\u001b[0m\u001b[0mpsi2\u001b[0m\u001b[1;33m)\u001b[0m\u001b[1;33m\u001b[0m\u001b[1;33m\u001b[0m\u001b[0m\n\u001b[0m\u001b[0;32m    317\u001b[0m         \u001b[1;32mreturn\u001b[0m \u001b[0mresult\u001b[0m\u001b[1;33m\u001b[0m\u001b[1;33m\u001b[0m\u001b[0m\n\u001b[0;32m    318\u001b[0m \u001b[1;33m\u001b[0m\u001b[0m\n",
      "\u001b[1;32m~\\anaconda3\\lib\\site-packages\\sympy\\core\\decorators.py\u001b[0m in \u001b[0;36m__sympifyit_wrapper\u001b[1;34m(a, b)\u001b[0m\n\u001b[0;32m     86\u001b[0m                 \u001b[1;31m# with sympy objects. Otherwise, it must be converted.\u001b[0m\u001b[1;33m\u001b[0m\u001b[1;33m\u001b[0m\u001b[1;33m\u001b[0m\u001b[0m\n\u001b[0;32m     87\u001b[0m                 \u001b[1;32mif\u001b[0m \u001b[1;32mnot\u001b[0m \u001b[0mhasattr\u001b[0m\u001b[1;33m(\u001b[0m\u001b[0mb\u001b[0m\u001b[1;33m,\u001b[0m \u001b[1;34m'_op_priority'\u001b[0m\u001b[1;33m)\u001b[0m\u001b[1;33m:\u001b[0m\u001b[1;33m\u001b[0m\u001b[1;33m\u001b[0m\u001b[0m\n\u001b[1;32m---> 88\u001b[1;33m                     \u001b[0mb\u001b[0m \u001b[1;33m=\u001b[0m \u001b[0msympify\u001b[0m\u001b[1;33m(\u001b[0m\u001b[0mb\u001b[0m\u001b[1;33m,\u001b[0m \u001b[0mstrict\u001b[0m\u001b[1;33m=\u001b[0m\u001b[1;32mTrue\u001b[0m\u001b[1;33m)\u001b[0m\u001b[1;33m\u001b[0m\u001b[1;33m\u001b[0m\u001b[0m\n\u001b[0m\u001b[0;32m     89\u001b[0m                 \u001b[1;32mreturn\u001b[0m \u001b[0mfunc\u001b[0m\u001b[1;33m(\u001b[0m\u001b[0ma\u001b[0m\u001b[1;33m,\u001b[0m \u001b[0mb\u001b[0m\u001b[1;33m)\u001b[0m\u001b[1;33m\u001b[0m\u001b[1;33m\u001b[0m\u001b[0m\n\u001b[0;32m     90\u001b[0m             \u001b[1;32mexcept\u001b[0m \u001b[0mSympifyError\u001b[0m\u001b[1;33m:\u001b[0m\u001b[1;33m\u001b[0m\u001b[1;33m\u001b[0m\u001b[0m\n",
      "\u001b[1;31mKeyboardInterrupt\u001b[0m: "
     ]
    }
   ],
   "source": [
    "#Loop over all excited states and calculate their branching ratios to all ground states\n",
    "for excited_state in tqdm(excited_states):\n",
    "    print(10*\"*\")\n",
    "    print(\"|e> =\")\n",
    "    excited_state.print_state()\n",
    "    print(\"\\nBranching ratios:\")\n",
    "    #Loop over ground states\n",
    "    for ground_state in ground_states:\n",
    "        br = np.real(calculate_branching_ratio(ground_state, excited_state))\n",
    "        if br > 0.0001:\n",
    "            print(\"{:5f} to \\n|g> =\".format(br))\n",
    "            ground_state.print_state(tol = 0.01)\n",
    "            print(\"\")\n",
    "        "
   ]
  },
  {
   "cell_type": "code",
   "execution_count": 36,
   "metadata": {},
   "outputs": [],
   "source": [
    "def branching_ratio_table(excited_state, ground_states):\n",
    "    nominal_state = excited_state.find_largest_component()\n",
    "    nominal_J = nominal_state.J\n",
    "    I1 = 1/2\n",
    "    I2 = 1/2\n",
    "    print(10*\"*\")\n",
    "    print(\"|e> =\")\n",
    "    excited_state.print_state()\n",
    "    print(\"\\nBranching ratios:\")\n",
    "    \n",
    "    branching_ratios = {-3:0, -2:0,-1:0, 0:0, 1:0, 2:0, 3:0}\n",
    "    \n",
    "    for ground_state in ground_states:\n",
    "        J_g = ground_state.find_largest_component().J\n",
    "        DeltaJ = J_g-nominal_J\n",
    "        \n",
    "        if np.abs(DeltaJ) < 4:\n",
    "            br = np.real(calculate_branching_ratio(ground_state, excited_state))\n",
    "            branching_ratios[DeltaJ] += br\n",
    "            \n",
    "    for DeltaJ, BR in branching_ratios.items():\n",
    "        print(\"{:d}: {:.5f}\".format(DeltaJ, BR))"
   ]
  },
  {
   "cell_type": "code",
   "execution_count": 37,
   "metadata": {
    "scrolled": true
   },
   "outputs": [
    {
     "data": {
      "application/vnd.jupyter.widget-view+json": {
       "model_id": "f45d0bf9e27c42a3bf5bb598582c436e",
       "version_major": 2,
       "version_minor": 0
      },
      "text/plain": [
       "HBox(children=(FloatProgress(value=0.0, max=80.0), HTML(value='')))"
      ]
     },
     "metadata": {},
     "output_type": "display_data"
    },
    {
     "name": "stdout",
     "output_type": "stream",
     "text": [
      "**********\n",
      "|e> =\n",
      "+0.7071+0.0000j x |J = 1, F1 = 1/2, F = 0, mF = 0, I1 = 1/2, I2 = 1/2, Omega = -1, P = None>\n",
      "-0.7071+0.0000j x |J = 1, F1 = 1/2, F = 0, mF = 0, I1 = 1/2, I2 = 1/2, Omega = 1, P = None>\n",
      "\n",
      "Branching ratios:\n",
      "-3: 0.00000\n",
      "-2: 0.00000\n",
      "-1: 0.00000\n",
      "0: 1.00000\n",
      "1: 0.00000\n",
      "2: 0.00000\n",
      "3: 0.00000\n",
      "**********\n",
      "|e> =\n",
      "+0.7071+0.0000j x |J = 1, F1 = 1/2, F = 0, mF = 0, I1 = 1/2, I2 = 1/2, Omega = -1, P = None>\n",
      "+0.7071+0.0000j x |J = 1, F1 = 1/2, F = 0, mF = 0, I1 = 1/2, I2 = 1/2, Omega = 1, P = None>\n",
      "\n",
      "Branching ratios:\n",
      "-3: 0.00000\n",
      "-2: 0.00000\n",
      "-1: 0.66667\n",
      "0: 0.00000\n",
      "1: 0.33333\n",
      "2: 0.00000\n",
      "3: 0.00000\n",
      "**********\n",
      "|e> =\n",
      "+0.7069+0.0000j x |J = 1, F1 = 1/2, F = 1, mF = 0, I1 = 1/2, I2 = 1/2, Omega = -1, P = None>\n",
      "-0.7069+0.0000j x |J = 1, F1 = 1/2, F = 1, mF = 0, I1 = 1/2, I2 = 1/2, Omega = 1, P = None>\n",
      "\n",
      "Branching ratios:\n",
      "-3: 0.00000\n",
      "-2: 0.00000\n",
      "-1: 0.00000\n",
      "0: 0.99987\n",
      "1: 0.00000\n",
      "2: 0.00013\n",
      "3: 0.00000\n",
      "**********\n",
      "|e> =\n",
      "-0.7069+0.0000j x |J = 1, F1 = 1/2, F = 1, mF = 0, I1 = 1/2, I2 = 1/2, Omega = -1, P = None>\n",
      "-0.7069+0.0000j x |J = 1, F1 = 1/2, F = 1, mF = 0, I1 = 1/2, I2 = 1/2, Omega = 1, P = None>\n",
      "\n",
      "Branching ratios:\n",
      "-3: 0.00000\n",
      "-2: 0.00000\n",
      "-1: 0.66645\n",
      "0: 0.00000\n",
      "1: 0.33355\n",
      "2: 0.00000\n",
      "3: 0.00000\n",
      "**********\n",
      "|e> =\n",
      "+0.6023+0.0000j x |J = 1, F1 = 3/2, F = 1, mF = 0, I1 = 1/2, I2 = 1/2, Omega = -1, P = None>\n",
      "+0.6023+0.0000j x |J = 1, F1 = 3/2, F = 1, mF = 0, I1 = 1/2, I2 = 1/2, Omega = 1, P = None>\n",
      "-0.3700+0.0000j x |J = 2, F1 = 3/2, F = 1, mF = 0, I1 = 1/2, I2 = 1/2, Omega = -1, P = None>\n",
      "+0.3700+0.0000j x |J = 2, F1 = 3/2, F = 1, mF = 0, I1 = 1/2, I2 = 1/2, Omega = 1, P = None>\n",
      "\n",
      "Branching ratios:\n",
      "-3: 0.00000\n",
      "-2: 0.00000\n",
      "-1: 0.48412\n",
      "0: 0.00000\n",
      "1: 0.51588\n",
      "2: 0.00000\n",
      "3: 0.00000\n",
      "**********\n",
      "|e> =\n",
      "-0.6025+0.0000j x |J = 1, F1 = 3/2, F = 1, mF = 0, I1 = 1/2, I2 = 1/2, Omega = -1, P = None>\n",
      "+0.6025+0.0000j x |J = 1, F1 = 3/2, F = 1, mF = 0, I1 = 1/2, I2 = 1/2, Omega = 1, P = None>\n",
      "+0.3696+0.0000j x |J = 2, F1 = 3/2, F = 1, mF = 0, I1 = 1/2, I2 = 1/2, Omega = -1, P = None>\n",
      "+0.3696+0.0000j x |J = 2, F1 = 3/2, F = 1, mF = 0, I1 = 1/2, I2 = 1/2, Omega = 1, P = None>\n",
      "\n",
      "Branching ratios:\n",
      "-3: 0.00000\n",
      "-2: 0.00000\n",
      "-1: 0.00000\n",
      "0: 0.89071\n",
      "1: 0.00000\n",
      "2: 0.10929\n",
      "3: 0.00000\n",
      "**********\n",
      "|e> =\n",
      "-0.5998+0.0000j x |J = 1, F1 = 3/2, F = 2, mF = 0, I1 = 1/2, I2 = 1/2, Omega = -1, P = None>\n",
      "-0.5998+0.0000j x |J = 1, F1 = 3/2, F = 2, mF = 0, I1 = 1/2, I2 = 1/2, Omega = 1, P = None>\n",
      "+0.3744+0.0000j x |J = 2, F1 = 3/2, F = 2, mF = 0, I1 = 1/2, I2 = 1/2, Omega = -1, P = None>\n",
      "-0.3744+0.0000j x |J = 2, F1 = 3/2, F = 2, mF = 0, I1 = 1/2, I2 = 1/2, Omega = 1, P = None>\n",
      "\n",
      "Branching ratios:\n",
      "-3: 0.00000\n",
      "-2: 0.00000\n",
      "-1: 0.47966\n",
      "0: 0.00000\n",
      "1: 0.52032\n",
      "2: 0.00000\n",
      "3: 0.00002\n",
      "**********\n",
      "|e> =\n",
      "+0.6000+0.0000j x |J = 1, F1 = 3/2, F = 2, mF = 0, I1 = 1/2, I2 = 1/2, Omega = -1, P = None>\n",
      "-0.6000+0.0000j x |J = 1, F1 = 3/2, F = 2, mF = 0, I1 = 1/2, I2 = 1/2, Omega = 1, P = None>\n",
      "-0.3740+0.0000j x |J = 2, F1 = 3/2, F = 2, mF = 0, I1 = 1/2, I2 = 1/2, Omega = -1, P = None>\n",
      "-0.3740+0.0000j x |J = 2, F1 = 3/2, F = 2, mF = 0, I1 = 1/2, I2 = 1/2, Omega = 1, P = None>\n",
      "\n",
      "Branching ratios:\n",
      "-3: 0.00000\n",
      "-2: 0.00000\n",
      "-1: 0.00000\n",
      "0: 0.88801\n",
      "1: 0.00000\n",
      "2: 0.11199\n",
      "3: 0.00000\n",
      "**********\n",
      "|e> =\n",
      "+0.6613+0.0000j x |J = 2, F1 = 5/2, F = 2, mF = 0, I1 = 1/2, I2 = 1/2, Omega = -1, P = None>\n",
      "+0.6613+0.0000j x |J = 2, F1 = 5/2, F = 2, mF = 0, I1 = 1/2, I2 = 1/2, Omega = 1, P = None>\n",
      "-0.2501+0.0000j x |J = 3, F1 = 5/2, F = 2, mF = 0, I1 = 1/2, I2 = 1/2, Omega = -1, P = None>\n",
      "+0.2501+0.0000j x |J = 3, F1 = 5/2, F = 2, mF = 0, I1 = 1/2, I2 = 1/2, Omega = 1, P = None>\n",
      "\n",
      "Branching ratios:\n",
      "\n"
     ]
    },
    {
     "ename": "KeyboardInterrupt",
     "evalue": "",
     "output_type": "error",
     "traceback": [
      "\u001b[1;31m---------------------------------------------------------------------------\u001b[0m",
      "\u001b[1;31mKeyboardInterrupt\u001b[0m                         Traceback (most recent call last)",
      "\u001b[1;32m<ipython-input-37-3b1e3ceb5152>\u001b[0m in \u001b[0;36m<module>\u001b[1;34m\u001b[0m\n\u001b[0;32m      1\u001b[0m \u001b[1;32mfor\u001b[0m \u001b[0mexcited_state\u001b[0m \u001b[1;32min\u001b[0m \u001b[0mtqdm\u001b[0m\u001b[1;33m(\u001b[0m\u001b[0mexcited_states\u001b[0m\u001b[1;33m)\u001b[0m\u001b[1;33m:\u001b[0m\u001b[1;33m\u001b[0m\u001b[1;33m\u001b[0m\u001b[0m\n\u001b[1;32m----> 2\u001b[1;33m     \u001b[0mbranching_ratio_table\u001b[0m\u001b[1;33m(\u001b[0m\u001b[0mexcited_state\u001b[0m\u001b[1;33m,\u001b[0m\u001b[0mground_states\u001b[0m\u001b[1;33m)\u001b[0m\u001b[1;33m\u001b[0m\u001b[1;33m\u001b[0m\u001b[0m\n\u001b[0m",
      "\u001b[1;32m<ipython-input-36-023ec958751a>\u001b[0m in \u001b[0;36mbranching_ratio_table\u001b[1;34m(excited_state, ground_states)\u001b[0m\n\u001b[0;32m     16\u001b[0m \u001b[1;33m\u001b[0m\u001b[0m\n\u001b[0;32m     17\u001b[0m         \u001b[1;32mif\u001b[0m \u001b[0mnp\u001b[0m\u001b[1;33m.\u001b[0m\u001b[0mabs\u001b[0m\u001b[1;33m(\u001b[0m\u001b[0mDeltaJ\u001b[0m\u001b[1;33m)\u001b[0m \u001b[1;33m<\u001b[0m \u001b[1;36m4\u001b[0m\u001b[1;33m:\u001b[0m\u001b[1;33m\u001b[0m\u001b[1;33m\u001b[0m\u001b[0m\n\u001b[1;32m---> 18\u001b[1;33m             \u001b[0mbr\u001b[0m \u001b[1;33m=\u001b[0m \u001b[0mnp\u001b[0m\u001b[1;33m.\u001b[0m\u001b[0mreal\u001b[0m\u001b[1;33m(\u001b[0m\u001b[0mcalculate_branching_ratio\u001b[0m\u001b[1;33m(\u001b[0m\u001b[0mground_state\u001b[0m\u001b[1;33m,\u001b[0m \u001b[0mexcited_state\u001b[0m\u001b[1;33m)\u001b[0m\u001b[1;33m)\u001b[0m\u001b[1;33m\u001b[0m\u001b[1;33m\u001b[0m\u001b[0m\n\u001b[0m\u001b[0;32m     19\u001b[0m             \u001b[0mbranching_ratios\u001b[0m\u001b[1;33m[\u001b[0m\u001b[0mDeltaJ\u001b[0m\u001b[1;33m]\u001b[0m \u001b[1;33m+=\u001b[0m \u001b[0mbr\u001b[0m\u001b[1;33m\u001b[0m\u001b[1;33m\u001b[0m\u001b[0m\n\u001b[0;32m     20\u001b[0m \u001b[1;33m\u001b[0m\u001b[0m\n",
      "\u001b[1;32m<ipython-input-34-1641306584d3>\u001b[0m in \u001b[0;36mcalculate_branching_ratio\u001b[1;34m(ground_state, excited_state, MEs, QN_g, QN_e)\u001b[0m\n\u001b[0;32m     16\u001b[0m \u001b[1;33m\u001b[0m\u001b[0m\n\u001b[0;32m     17\u001b[0m     \u001b[1;31m#Get the ground_state and excited_state state vectors\u001b[0m\u001b[1;33m\u001b[0m\u001b[1;33m\u001b[0m\u001b[1;33m\u001b[0m\u001b[0m\n\u001b[1;32m---> 18\u001b[1;33m     \u001b[0mvec_g\u001b[0m \u001b[1;33m=\u001b[0m \u001b[0mground_state\u001b[0m\u001b[1;33m.\u001b[0m\u001b[0mstate_vector\u001b[0m\u001b[1;33m(\u001b[0m\u001b[0mQN_g\u001b[0m\u001b[1;33m)\u001b[0m\u001b[1;33m\u001b[0m\u001b[1;33m\u001b[0m\u001b[0m\n\u001b[0m\u001b[0;32m     19\u001b[0m     \u001b[0mvec_e\u001b[0m \u001b[1;33m=\u001b[0m \u001b[0mexcited_state\u001b[0m\u001b[1;33m.\u001b[0m\u001b[0mstate_vector\u001b[0m\u001b[1;33m(\u001b[0m\u001b[0mQN_e\u001b[0m\u001b[1;33m)\u001b[0m\u001b[1;33m\u001b[0m\u001b[1;33m\u001b[0m\u001b[0m\n\u001b[0;32m     20\u001b[0m \u001b[1;33m\u001b[0m\u001b[0m\n",
      "\u001b[1;32mD:\\Google Drive\\CeNTREX Oskari\\TlF Hamiltonians\\TlF B-state Hamiltonian\\B-state-classes-and-functions\\classes.py\u001b[0m in \u001b[0;36mstate_vector\u001b[1;34m(self, QN)\u001b[0m\n\u001b[0;32m    375\u001b[0m     \u001b[1;31m#Function that returns state vector in uncoupled basis\u001b[0m\u001b[1;33m\u001b[0m\u001b[1;33m\u001b[0m\u001b[1;33m\u001b[0m\u001b[0m\n\u001b[0;32m    376\u001b[0m     \u001b[1;32mdef\u001b[0m \u001b[0mstate_vector\u001b[0m\u001b[1;33m(\u001b[0m\u001b[0mself\u001b[0m\u001b[1;33m,\u001b[0m\u001b[0mQN\u001b[0m\u001b[1;33m)\u001b[0m\u001b[1;33m:\u001b[0m\u001b[1;33m\u001b[0m\u001b[1;33m\u001b[0m\u001b[0m\n\u001b[1;32m--> 377\u001b[1;33m         \u001b[0mstate_vector\u001b[0m \u001b[1;33m=\u001b[0m \u001b[1;33m[\u001b[0m\u001b[0mself\u001b[0m \u001b[1;33m@\u001b[0m \u001b[0mState\u001b[0m\u001b[1;33m(\u001b[0m\u001b[1;33m[\u001b[0m\u001b[1;33m(\u001b[0m\u001b[1;36m1\u001b[0m\u001b[1;33m,\u001b[0m\u001b[0mstate\u001b[0m\u001b[1;33m)\u001b[0m\u001b[1;33m]\u001b[0m\u001b[1;33m)\u001b[0m \u001b[1;32mfor\u001b[0m \u001b[0mstate\u001b[0m \u001b[1;32min\u001b[0m \u001b[0mQN\u001b[0m\u001b[1;33m]\u001b[0m\u001b[1;33m\u001b[0m\u001b[1;33m\u001b[0m\u001b[0m\n\u001b[0m\u001b[0;32m    378\u001b[0m         \u001b[1;32mreturn\u001b[0m \u001b[0mnp\u001b[0m\u001b[1;33m.\u001b[0m\u001b[0marray\u001b[0m\u001b[1;33m(\u001b[0m\u001b[0mstate_vector\u001b[0m\u001b[1;33m,\u001b[0m\u001b[0mdtype\u001b[0m \u001b[1;33m=\u001b[0m \u001b[0mcomplex\u001b[0m\u001b[1;33m)\u001b[0m\u001b[1;33m\u001b[0m\u001b[1;33m\u001b[0m\u001b[0m\n\u001b[0;32m    379\u001b[0m \u001b[1;33m\u001b[0m\u001b[0m\n",
      "\u001b[1;32mD:\\Google Drive\\CeNTREX Oskari\\TlF Hamiltonians\\TlF B-state Hamiltonian\\B-state-classes-and-functions\\classes.py\u001b[0m in \u001b[0;36m<listcomp>\u001b[1;34m(.0)\u001b[0m\n\u001b[0;32m    375\u001b[0m     \u001b[1;31m#Function that returns state vector in uncoupled basis\u001b[0m\u001b[1;33m\u001b[0m\u001b[1;33m\u001b[0m\u001b[1;33m\u001b[0m\u001b[0m\n\u001b[0;32m    376\u001b[0m     \u001b[1;32mdef\u001b[0m \u001b[0mstate_vector\u001b[0m\u001b[1;33m(\u001b[0m\u001b[0mself\u001b[0m\u001b[1;33m,\u001b[0m\u001b[0mQN\u001b[0m\u001b[1;33m)\u001b[0m\u001b[1;33m:\u001b[0m\u001b[1;33m\u001b[0m\u001b[1;33m\u001b[0m\u001b[0m\n\u001b[1;32m--> 377\u001b[1;33m         \u001b[0mstate_vector\u001b[0m \u001b[1;33m=\u001b[0m \u001b[1;33m[\u001b[0m\u001b[0mself\u001b[0m \u001b[1;33m@\u001b[0m \u001b[0mState\u001b[0m\u001b[1;33m(\u001b[0m\u001b[1;33m[\u001b[0m\u001b[1;33m(\u001b[0m\u001b[1;36m1\u001b[0m\u001b[1;33m,\u001b[0m\u001b[0mstate\u001b[0m\u001b[1;33m)\u001b[0m\u001b[1;33m]\u001b[0m\u001b[1;33m)\u001b[0m \u001b[1;32mfor\u001b[0m \u001b[0mstate\u001b[0m \u001b[1;32min\u001b[0m \u001b[0mQN\u001b[0m\u001b[1;33m]\u001b[0m\u001b[1;33m\u001b[0m\u001b[1;33m\u001b[0m\u001b[0m\n\u001b[0m\u001b[0;32m    378\u001b[0m         \u001b[1;32mreturn\u001b[0m \u001b[0mnp\u001b[0m\u001b[1;33m.\u001b[0m\u001b[0marray\u001b[0m\u001b[1;33m(\u001b[0m\u001b[0mstate_vector\u001b[0m\u001b[1;33m,\u001b[0m\u001b[0mdtype\u001b[0m \u001b[1;33m=\u001b[0m \u001b[0mcomplex\u001b[0m\u001b[1;33m)\u001b[0m\u001b[1;33m\u001b[0m\u001b[1;33m\u001b[0m\u001b[0m\n\u001b[0;32m    379\u001b[0m \u001b[1;33m\u001b[0m\u001b[0m\n",
      "\u001b[1;32mD:\\Google Drive\\CeNTREX Oskari\\TlF Hamiltonians\\TlF B-state Hamiltonian\\B-state-classes-and-functions\\classes.py\u001b[0m in \u001b[0;36m__matmul__\u001b[1;34m(self, other)\u001b[0m\n\u001b[0;32m    314\u001b[0m         \u001b[1;32mfor\u001b[0m \u001b[0mamp1\u001b[0m\u001b[1;33m,\u001b[0m\u001b[0mpsi1\u001b[0m \u001b[1;32min\u001b[0m \u001b[0mself\u001b[0m\u001b[1;33m.\u001b[0m\u001b[0mdata\u001b[0m\u001b[1;33m:\u001b[0m\u001b[1;33m\u001b[0m\u001b[1;33m\u001b[0m\u001b[0m\n\u001b[0;32m    315\u001b[0m             \u001b[1;32mfor\u001b[0m \u001b[0mamp2\u001b[0m\u001b[1;33m,\u001b[0m\u001b[0mpsi2\u001b[0m \u001b[1;32min\u001b[0m \u001b[0mother\u001b[0m\u001b[1;33m.\u001b[0m\u001b[0mdata\u001b[0m\u001b[1;33m:\u001b[0m\u001b[1;33m\u001b[0m\u001b[1;33m\u001b[0m\u001b[0m\n\u001b[1;32m--> 316\u001b[1;33m                 \u001b[0mresult\u001b[0m \u001b[1;33m+=\u001b[0m \u001b[0mamp1\u001b[0m\u001b[1;33m.\u001b[0m\u001b[0mconjugate\u001b[0m\u001b[1;33m(\u001b[0m\u001b[1;33m)\u001b[0m\u001b[1;33m*\u001b[0m\u001b[0mamp2\u001b[0m \u001b[1;33m*\u001b[0m \u001b[1;33m(\u001b[0m\u001b[0mpsi1\u001b[0m\u001b[1;33m@\u001b[0m\u001b[0mpsi2\u001b[0m\u001b[1;33m)\u001b[0m\u001b[1;33m\u001b[0m\u001b[1;33m\u001b[0m\u001b[0m\n\u001b[0m\u001b[0;32m    317\u001b[0m         \u001b[1;32mreturn\u001b[0m \u001b[0mresult\u001b[0m\u001b[1;33m\u001b[0m\u001b[1;33m\u001b[0m\u001b[0m\n\u001b[0;32m    318\u001b[0m \u001b[1;33m\u001b[0m\u001b[0m\n",
      "\u001b[1;32mD:\\Google Drive\\CeNTREX Oskari\\TlF Hamiltonians\\TlF B-state Hamiltonian\\B-state-classes-and-functions\\classes.py\u001b[0m in \u001b[0;36m__matmul__\u001b[1;34m(self, other)\u001b[0m\n\u001b[0;32m     49\u001b[0m     \u001b[1;32mdef\u001b[0m \u001b[0m__matmul__\u001b[0m\u001b[1;33m(\u001b[0m\u001b[0mself\u001b[0m\u001b[1;33m,\u001b[0m \u001b[0mother\u001b[0m\u001b[1;33m)\u001b[0m\u001b[1;33m:\u001b[0m\u001b[1;33m\u001b[0m\u001b[1;33m\u001b[0m\u001b[0m\n\u001b[0;32m     50\u001b[0m         \u001b[1;32mif\u001b[0m \u001b[0mother\u001b[0m\u001b[1;33m.\u001b[0m\u001b[0misCoupled\u001b[0m\u001b[1;33m:\u001b[0m\u001b[1;33m\u001b[0m\u001b[1;33m\u001b[0m\u001b[0m\n\u001b[1;32m---> 51\u001b[1;33m             \u001b[1;32mif\u001b[0m \u001b[0mself\u001b[0m \u001b[1;33m==\u001b[0m \u001b[0mother\u001b[0m\u001b[1;33m:\u001b[0m\u001b[1;33m\u001b[0m\u001b[1;33m\u001b[0m\u001b[0m\n\u001b[0m\u001b[0;32m     52\u001b[0m                 \u001b[1;32mreturn\u001b[0m \u001b[1;36m1\u001b[0m\u001b[1;33m\u001b[0m\u001b[1;33m\u001b[0m\u001b[0m\n\u001b[0;32m     53\u001b[0m             \u001b[1;32melse\u001b[0m\u001b[1;33m:\u001b[0m\u001b[1;33m\u001b[0m\u001b[1;33m\u001b[0m\u001b[0m\n",
      "\u001b[1;32mD:\\Google Drive\\CeNTREX Oskari\\TlF Hamiltonians\\TlF B-state Hamiltonian\\B-state-classes-and-functions\\classes.py\u001b[0m in \u001b[0;36m__eq__\u001b[1;34m(self, other)\u001b[0m\n\u001b[0;32m     40\u001b[0m     \u001b[1;31m# equality testing\u001b[0m\u001b[1;33m\u001b[0m\u001b[1;33m\u001b[0m\u001b[1;33m\u001b[0m\u001b[0m\n\u001b[0;32m     41\u001b[0m     \u001b[1;32mdef\u001b[0m \u001b[0m__eq__\u001b[0m\u001b[1;33m(\u001b[0m\u001b[0mself\u001b[0m\u001b[1;33m,\u001b[0m \u001b[0mother\u001b[0m\u001b[1;33m)\u001b[0m\u001b[1;33m:\u001b[0m\u001b[1;33m\u001b[0m\u001b[1;33m\u001b[0m\u001b[0m\n\u001b[1;32m---> 42\u001b[1;33m         \u001b[1;32mreturn\u001b[0m \u001b[0mself\u001b[0m\u001b[1;33m.\u001b[0m\u001b[0mF\u001b[0m\u001b[1;33m==\u001b[0m\u001b[0mother\u001b[0m\u001b[1;33m.\u001b[0m\u001b[0mF\u001b[0m \u001b[1;32mand\u001b[0m \u001b[0mself\u001b[0m\u001b[1;33m.\u001b[0m\u001b[0mmF\u001b[0m\u001b[1;33m==\u001b[0m\u001b[0mother\u001b[0m\u001b[1;33m.\u001b[0m\u001b[0mmF\u001b[0m\u001b[0;31m \u001b[0m\u001b[0;31m\\\u001b[0m\u001b[1;33m\u001b[0m\u001b[1;33m\u001b[0m\u001b[0m\n\u001b[0m\u001b[0;32m     43\u001b[0m                      \u001b[1;32mand\u001b[0m \u001b[0mself\u001b[0m\u001b[1;33m.\u001b[0m\u001b[0mI1\u001b[0m\u001b[1;33m==\u001b[0m\u001b[0mother\u001b[0m\u001b[1;33m.\u001b[0m\u001b[0mI1\u001b[0m \u001b[1;32mand\u001b[0m \u001b[0mself\u001b[0m\u001b[1;33m.\u001b[0m\u001b[0mI2\u001b[0m\u001b[1;33m==\u001b[0m\u001b[0mother\u001b[0m\u001b[1;33m.\u001b[0m\u001b[0mI2\u001b[0m\u001b[0;31m \u001b[0m\u001b[0;31m\\\u001b[0m\u001b[1;33m\u001b[0m\u001b[1;33m\u001b[0m\u001b[0m\n\u001b[0;32m     44\u001b[0m                      \u001b[1;32mand\u001b[0m \u001b[0mself\u001b[0m\u001b[1;33m.\u001b[0m\u001b[0mF1\u001b[0m\u001b[1;33m==\u001b[0m\u001b[0mother\u001b[0m\u001b[1;33m.\u001b[0m\u001b[0mF1\u001b[0m \u001b[1;32mand\u001b[0m \u001b[0mself\u001b[0m\u001b[1;33m.\u001b[0m\u001b[0mJ\u001b[0m\u001b[1;33m==\u001b[0m\u001b[0mother\u001b[0m\u001b[1;33m.\u001b[0m\u001b[0mJ\u001b[0m\u001b[0;31m \u001b[0m\u001b[0;31m\\\u001b[0m\u001b[1;33m\u001b[0m\u001b[1;33m\u001b[0m\u001b[0m\n",
      "\u001b[1;31mKeyboardInterrupt\u001b[0m: "
     ]
    }
   ],
   "source": [
    "for excited_state in tqdm(excited_states):\n",
    "    branching_ratio_table(excited_state,ground_states)"
   ]
  },
  {
   "cell_type": "code",
   "execution_count": 38,
   "metadata": {},
   "outputs": [
    {
     "name": "stdout",
     "output_type": "stream",
     "text": [
      "|e> =\n",
      "+0.6811+0.0000j x |J = 3, F1 = 7/2, F = 4, mF = 0, I1 = 1/2, I2 = 1/2, Omega = -1, P = None>\n",
      "+0.6811+0.0000j x |J = 3, F1 = 7/2, F = 4, mF = 0, I1 = 1/2, I2 = 1/2, Omega = 1, P = None>\n",
      "-0.1900+0.0000j x |J = 4, F1 = 7/2, F = 4, mF = 0, I1 = 1/2, I2 = 1/2, Omega = -1, P = None>\n",
      "+0.1900+0.0000j x |J = 4, F1 = 7/2, F = 4, mF = 0, I1 = 1/2, I2 = 1/2, Omega = 1, P = None>\n",
      "\n",
      "Branching ratios:\n"
     ]
    },
    {
     "data": {
      "application/vnd.jupyter.widget-view+json": {
       "model_id": "5e177793a4bb4f5c94744a3daed30e92",
       "version_major": 2,
       "version_minor": 0
      },
      "text/plain": [
       "HBox(children=(FloatProgress(value=0.0, max=196.0), HTML(value='')))"
      ]
     },
     "metadata": {},
     "output_type": "display_data"
    },
    {
     "name": "stdout",
     "output_type": "stream",
     "text": [
      "0.113602 to \n",
      "|g> =\n",
      "+1.0000+0.0000j x |J = 2, F1 = 5/2, F = 3, mF = 1, I1 = 1/2, I2 = 1/2, Omega = 0, P = None>\n",
      "\n",
      "0.302939 to \n",
      "|g> =\n",
      "-1.0000+0.0000j x |J = 2, F1 = 5/2, F = 3, mF = 0, I1 = 1/2, I2 = 1/2, Omega = 0, P = None>\n",
      "\n",
      "0.113602 to \n",
      "|g> =\n",
      "+1.0000+0.0000j x |J = 2, F1 = 5/2, F = 3, mF = -1, I1 = 1/2, I2 = 1/2, Omega = 0, P = None>\n",
      "\n",
      "0.000150 to \n",
      "|g> =\n",
      "+1.0000+0.0000j x |J = 4, F1 = 7/2, F = 3, mF = -1, I1 = 1/2, I2 = 1/2, Omega = 0, P = None>\n",
      "\n",
      "0.000399 to \n",
      "|g> =\n",
      "+1.0000+0.0000j x |J = 4, F1 = 7/2, F = 3, mF = 0, I1 = 1/2, I2 = 1/2, Omega = 0, P = None>\n",
      "\n",
      "0.000149 to \n",
      "|g> =\n",
      "-1.0000+0.0000j x |J = 4, F1 = 7/2, F = 3, mF = 1, I1 = 1/2, I2 = 1/2, Omega = 0, P = None>\n",
      "\n",
      "0.011933 to \n",
      "|g> =\n",
      "-0.9994+0.0000j x |J = 4, F1 = 7/2, F = 4, mF = 1, I1 = 1/2, I2 = 1/2, Omega = 0, P = None>\n",
      "-0.0333+0.0000j x |J = 4, F1 = 9/2, F = 4, mF = 1, I1 = 1/2, I2 = 1/2, Omega = 0, P = None>\n",
      "\n",
      "0.011933 to \n",
      "|g> =\n",
      "-0.9994+0.0000j x |J = 4, F1 = 7/2, F = 4, mF = -1, I1 = 1/2, I2 = 1/2, Omega = 0, P = None>\n",
      "-0.0333+0.0000j x |J = 4, F1 = 9/2, F = 4, mF = -1, I1 = 1/2, I2 = 1/2, Omega = 0, P = None>\n",
      "\n",
      "0.004695 to \n",
      "|g> =\n",
      "+0.0333+0.0000j x |J = 4, F1 = 7/2, F = 4, mF = -1, I1 = 1/2, I2 = 1/2, Omega = 0, P = None>\n",
      "-0.9994+0.0000j x |J = 4, F1 = 9/2, F = 4, mF = -1, I1 = 1/2, I2 = 1/2, Omega = 0, P = None>\n",
      "\n",
      "0.004693 to \n",
      "|g> =\n",
      "-0.0333+0.0000j x |J = 4, F1 = 7/2, F = 4, mF = 1, I1 = 1/2, I2 = 1/2, Omega = 0, P = None>\n",
      "+0.9994+0.0000j x |J = 4, F1 = 9/2, F = 4, mF = 1, I1 = 1/2, I2 = 1/2, Omega = 0, P = None>\n",
      "\n",
      "0.118884 to \n",
      "|g> =\n",
      "+1.0000+0.0000j x |J = 4, F1 = 9/2, F = 5, mF = 1, I1 = 1/2, I2 = 1/2, Omega = 0, P = None>\n",
      "\n",
      "0.198138 to \n",
      "|g> =\n",
      "-1.0000+0.0000j x |J = 4, F1 = 9/2, F = 5, mF = 0, I1 = 1/2, I2 = 1/2, Omega = 0, P = None>\n",
      "\n",
      "0.118882 to \n",
      "|g> =\n",
      "+1.0000+0.0000j x |J = 4, F1 = 9/2, F = 5, mF = -1, I1 = 1/2, I2 = 1/2, Omega = 0, P = None>\n",
      "\n",
      "\n"
     ]
    }
   ],
   "source": [
    "J = 3\n",
    "F = 4\n",
    "F1 = 7/2\n",
    "mF = 0\n",
    "P = -1\n",
    "\n",
    "excited_state_approx = (1/np.sqrt(2)\n",
    "                        *(1*CoupledBasisState(J = J, F1 = F1, F = F, mF = mF, I1 = 1/2, I2 = 1/2, Omega = +1)\n",
    "                          +P*(-1)**J * CoupledBasisState(J = J, F1 = F1, F = F, mF = mF, I1 = 1/2, I2 = 1/2, Omega = -1)))\n",
    "\n",
    "excited_state = find_closest_state(Hff_e,excited_state_approx,QN_e)\n",
    "print(\"|e> =\")\n",
    "excited_state.print_state()\n",
    "print(\"\\nBranching ratios:\")\n",
    "#Loop over ground states\n",
    "for ground_state in tqdm(ground_states):\n",
    "    br = np.real(calculate_branching_ratio(ground_state, excited_state))\n",
    "    if br > 0.0001:\n",
    "        print(\"{:5f} to \\n|g> =\".format(br))\n",
    "        ground_state.print_state(tol = 0.01)\n",
    "        print(\"\")"
   ]
  },
  {
   "cell_type": "code",
   "execution_count": 39,
   "metadata": {},
   "outputs": [
    {
     "name": "stdout",
     "output_type": "stream",
     "text": [
      "**********\n",
      "|e> =\n",
      "+0.6811+0.0000j x |J = 3, F1 = 7/2, F = 4, mF = 0, I1 = 1/2, I2 = 1/2, Omega = -1, P = None>\n",
      "+0.6811+0.0000j x |J = 3, F1 = 7/2, F = 4, mF = 0, I1 = 1/2, I2 = 1/2, Omega = 1, P = None>\n",
      "-0.1900+0.0000j x |J = 4, F1 = 7/2, F = 4, mF = 0, I1 = 1/2, I2 = 1/2, Omega = -1, P = None>\n",
      "+0.1900+0.0000j x |J = 4, F1 = 7/2, F = 4, mF = 0, I1 = 1/2, I2 = 1/2, Omega = 1, P = None>\n",
      "\n",
      "Branching ratios:\n",
      "-3: 0.00000\n",
      "-2: 0.00000\n",
      "-1: 0.53014\n",
      "0: 0.00000\n",
      "1: 0.46986\n",
      "2: 0.00000\n",
      "3: 0.00000\n"
     ]
    }
   ],
   "source": [
    "branching_ratio_table(excited_state,ground_states)"
   ]
  },
  {
   "cell_type": "code",
   "execution_count": null,
   "metadata": {},
   "outputs": [],
   "source": []
  }
 ],
 "metadata": {
  "kernelspec": {
   "display_name": "Python 3",
   "language": "python",
   "name": "python3"
  },
  "language_info": {
   "codemirror_mode": {
    "name": "ipython",
    "version": 3
   },
   "file_extension": ".py",
   "mimetype": "text/x-python",
   "name": "python",
   "nbconvert_exporter": "python",
   "pygments_lexer": "ipython3",
   "version": "3.8.3"
  }
 },
 "nbformat": 4,
 "nbformat_minor": 4
}
