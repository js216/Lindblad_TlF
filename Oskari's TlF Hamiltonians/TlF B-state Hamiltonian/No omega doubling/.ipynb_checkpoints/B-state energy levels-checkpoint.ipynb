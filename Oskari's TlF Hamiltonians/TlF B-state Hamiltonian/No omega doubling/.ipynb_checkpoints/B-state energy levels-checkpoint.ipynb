{
 "cells": [
  {
   "cell_type": "markdown",
   "metadata": {},
   "source": [
    "# B-state energy levels \n",
    "Calculating the energy levels and eigenstates of the B-state Hamiltonian\n",
    "\n",
    "Import the relevant packages and Hamiltonians"
   ]
  },
  {
   "cell_type": "code",
   "execution_count": 160,
   "metadata": {},
   "outputs": [],
   "source": [
    "import numpy as np\n",
    "import pickle\n",
    "import sys\n",
    "import sympy\n",
    "\n",
    "sys.path.append('../B-state-classes-and-functions/')\n",
    "\n",
    "from classes import CoupledBasisState, UncoupledBasisState, State\n",
    "from functions import matrix_to_states, vector_to_state\n",
    "\n",
    "with open(\"B_hamiltonians_symbolic.py\",'rb') as f:\n",
    "    H_dict = pickle.load(f)\n",
    "    Hff_m = H_dict[\"Hff\"]\n",
    "\n",
    "    \n",
    "hamiltonians = {\"Hff\": Hff_m}\n",
    "\n",
    "def ni_range(x0, x1, dx=1):\n",
    "    # sanity check arguments\n",
    "    if dx==0:\n",
    "        raise ValueError(\"invalid parameters: dx==0\")\n",
    "    if x0>x1 and dx>=0:\n",
    "        raise ValueError(\"invalid parameters: x0>x1 and dx>=0\")\n",
    "    if x0<x1 and dx<=0:\n",
    "        raise ValueError(\"invalid parameters: x0<x1 and dx<=0\")\n",
    "        \n",
    "    # generate range list\n",
    "    range_list = []\n",
    "    x = x0\n",
    "    while x < x1:\n",
    "        range_list.append(x)\n",
    "        x += dx\n",
    "    return range_list\n",
    "\n",
    "#Generate quantum numbers\n",
    "Jmin = 1\n",
    "Jmax = 3 # max J value in Hamiltonian\n",
    "#Jmax = 6\n",
    "I_Tl = 1/2             # I1 in Ramsey's notation\n",
    "I_F  = 1/2             # I2 in Ramsey's notation\n",
    "\n",
    "\n",
    "QN = [BasisState(J,mJ,I_Tl,m1,I_F,m2)\n",
    "      for J  in ni_range(Jmin, Jmax+1)\n",
    "      for mJ in ni_range(-J,J+1)\n",
    "      for m1 in ni_range(-I_Tl,I_Tl+1)\n",
    "      for m2 in ni_range(-I_F,I_F+1)\n",
    "     ]"
   ]
  },
  {
   "cell_type": "code",
   "execution_count": null,
   "metadata": {},
   "outputs": [],
   "source": []
  }
 ],
 "metadata": {
  "kernelspec": {
   "display_name": "Python 3",
   "language": "python",
   "name": "python3"
  },
  "language_info": {
   "codemirror_mode": {
    "name": "ipython",
    "version": 3
   },
   "file_extension": ".py",
   "mimetype": "text/x-python",
   "name": "python",
   "nbconvert_exporter": "python",
   "pygments_lexer": "ipython3",
   "version": "3.7.6"
  }
 },
 "nbformat": 4,
 "nbformat_minor": 4
}
