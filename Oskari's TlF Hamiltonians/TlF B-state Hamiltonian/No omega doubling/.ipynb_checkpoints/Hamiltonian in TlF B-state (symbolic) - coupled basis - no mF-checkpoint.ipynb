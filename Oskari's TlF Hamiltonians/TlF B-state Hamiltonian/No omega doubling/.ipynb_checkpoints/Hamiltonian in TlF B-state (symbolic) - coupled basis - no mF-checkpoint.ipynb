{
 "cells": [
  {
   "cell_type": "markdown",
   "metadata": {},
   "source": [
    "# TlF B state Hamiltonian\n",
    "## Intro\n",
    "This notebook evaluates the Hamiltonian for the B state of thallium fluoride."
   ]
  },
  {
   "cell_type": "code",
   "execution_count": 1,
   "metadata": {},
   "outputs": [],
   "source": [
    "import numpy as np\n",
    "import sympy\n",
    "from sympy import sqrt\n",
    "import multiprocessing\n",
    "import pickle"
   ]
  },
  {
   "cell_type": "markdown",
   "metadata": {},
   "source": [
    "### Representing the states\n",
    "\n",
    "Import class that represents molecular states from 'molecular-state-classes-and-functions'"
   ]
  },
  {
   "cell_type": "code",
   "execution_count": 2,
   "metadata": {},
   "outputs": [],
   "source": [
    "import sys\n",
    "sys.path.append('../molecular-state-classes-and-functions/')\n",
    "\n",
    "from classes import State\n",
    "from functions import *"
   ]
  },
  {
   "cell_type": "markdown",
   "metadata": {},
   "source": [
    "I'm using a definition for the coupled basis states that excludes the mF quantum number. The states with different mF but same linear combinations of |J, F1, F> are degenerate so ignoring mF simplifies the calculation while losing no information. "
   ]
  },
  {
   "cell_type": "code",
   "execution_count": 3,
   "metadata": {},
   "outputs": [],
   "source": [
    "class CoupledBasisState:\n",
    "    # constructor\n",
    "    def __init__(self, F, F1, J, I1, I2, electronic_state = 0, energy = 0):\n",
    "        self.F  = F\n",
    "        self.F1 = F1\n",
    "        self.J = J\n",
    "        self.I1 = I1\n",
    "        self.I2 = I2\n",
    "        self.isCoupled = True\n",
    "        self.isUncoupled = False\n",
    "        self.electronic_state = electronic_state\n",
    "        self.energy = energy\n",
    "        \n",
    "    \n",
    "    # equality testing\n",
    "    def __eq__(self, other):\n",
    "        return self.F==other.F \\\n",
    "                     and self.I1==other.I1 and self.I2==other.I2 \\\n",
    "                     and self.F1==other.F1 and self.J==other.J\n",
    "\n",
    "    # inner product\n",
    "    def __matmul__(self, other):\n",
    "        if other.isCoupled:\n",
    "            if self == other:\n",
    "                return 1\n",
    "            else:\n",
    "                return 0\n",
    "        else:\n",
    "            return State([(1,other)])@self.transform_to_uncoupled()\n",
    "\n",
    "    # superposition: addition\n",
    "    def __add__(self, other):\n",
    "        if self == other:\n",
    "            return State([ (2,self) ])\n",
    "        else:\n",
    "            return State([\n",
    "                (1,self), (1,other)\n",
    "            ])\n",
    "\n",
    "    # superposition: subtraction\n",
    "    def __sub__(self, other):\n",
    "        return self + (-1)*other\n",
    "\n",
    "    # scalar product (psi * a)\n",
    "    def __mul__(self, a):\n",
    "        return State([ (a, self) ])\n",
    "\n",
    "    # scalar product (a * psi)\n",
    "    def __rmul__(self, a):\n",
    "        return self * a\n",
    "    \n",
    "    \n",
    "    # methods\n",
    "    #Convenience function to print out the quantum numbers of the basis state\n",
    "    def print_quantum_numbers(self):\n",
    "        F  = S(str(self.F),rational = True)\n",
    "        F1 = S(str(self.F1),rational = True)\n",
    "        J = S(str(self.J),rational = True)\n",
    "        I1 = S(str(self.I1),rational = True)\n",
    "        I2 = S(str(self.I2),rational = True)\n",
    "        print(\"|F = %s, m_F = %s, F1 = %s, J = %s, I1 = %s, I2 = %s>\"%(F,mF,F1,J,I1,I2))\n",
    "    \n",
    "    #A method to transform from coupled to uncoupled basis\n",
    "    def transform_to_uncoupled(self):\n",
    "        F = self.F \n",
    "        F1 = self.F1\n",
    "        J = self.J\n",
    "        I1 = self.I1\n",
    "        I2 = self.I2\n",
    "        \n",
    "        mJs = np.arange(-J,J+1,1)\n",
    "        m1s = np.arange(-I1,I1+1,1)\n",
    "        m2s = np.arange(-I2,I2+1,1)\n",
    "    \n",
    "        uncoupled_state = State() \n",
    "        \n",
    "        for mJ in mJs:\n",
    "            for m1 in m1s:\n",
    "                for m2 in m2s:\n",
    "                    amp = CG(J, mJ, I1, m1, F1, mF1).doit()*CG(F1, mF1, I2, m2, F).doit()\n",
    "                    basis_state = UncoupledBasisState(J, mJ, I1, m1, I2, m2)\n",
    "                    uncoupled_state = uncoupled_state + State([(amp, basis_state)])\n",
    "\n",
    "        return uncoupled_state.normalize()\n",
    "    \n",
    "    #Makes the basis state into a state\n",
    "    def make_state(self):\n",
    "        return State([(1,self)])\n",
    "    \n",
    "    #Find energy of state given a list of energies and eigenvecotrs and basis QN\n",
    "    def find_energy(self,energies,V,QN):\n",
    "        energy = 0\n",
    "        \n",
    "        #Convert state to uncoupled basis\n",
    "        state = self.transform_to_uncoupled()\n",
    "        \n",
    "        #Convert to a vector that can be multiplied by the evecs to determine overlap \n",
    "        state_vec = np.zeros((1,len(QN)))\n",
    "        for i, basis_state in enumerate(QN):\n",
    "            amp = State([(1,basis_state)])@state\n",
    "            state_vec[0,i] = amp\n",
    "        \n",
    "        coeffs = np.multiply(np.dot(state_vec,V),np.conjugate(np.dot(state_vec,V)))\n",
    "        energy = np.dot(coeffs, energies)\n",
    "        \n",
    "        \n",
    "        self.energy = energy\n",
    "        return energy\n"
   ]
  },
  {
   "cell_type": "markdown",
   "metadata": {},
   "source": [
    "### Defining operators"
   ]
  },
  {
   "cell_type": "markdown",
   "metadata": {},
   "source": [
    "### Rotational term\n",
    "\n",
    "The simplest term in the Hamiltonian simply gives the rotational levels:\n",
    "\n",
    "$$H_\\text{rot}=B_\\text{rot}\\vec J^2.$$"
   ]
  },
  {
   "cell_type": "code",
   "execution_count": 4,
   "metadata": {},
   "outputs": [],
   "source": [
    "def J2(psi):\n",
    "    return State([(psi.J*(psi.J+1),psi)])\n",
    "\n",
    "def Hrot(psi):\n",
    "    return Brot * J2(psi)"
   ]
  },
  {
   "cell_type": "markdown",
   "metadata": {},
   "source": [
    "### Electron magnetic hyperfine operator\n",
    "Since the B state is a triplet pi state, it has electron magnetic hyperfine structure. The coupling is described by the Hamiltonian $ H_{\\mathrm{mhf}} = a\\, \\mathbf{I} \\cdot \\mathbf{L} + b\\, \\mathbf{I} \\cdot \\mathbf{S} +c \\,I_z\\, S_z  $ which reduces to $ H_{\\mathrm{mhf}}^{eff} =  [a \\,L_z + (b+c)\\, S_z]\\,I_z = h_\\Omega \\, I_z $ since the raising and lowering operators for L and S (electron orbital and spin angular momentum) only couple different electronic states which are very far in energy and thus the effect of the off-diagonal elements is strongly suppressed. The matrix elements are given in eqns 5 and 6 in Norrgard et al 2017."
   ]
  },
  {
   "cell_type": "code",
   "execution_count": 25,
   "metadata": {},
   "outputs": [],
   "source": [
    "#Import Wigner 3j symbol\n",
    "from sympy.physics.wigner import wigner_3j, wigner_6j\n",
    "\n",
    "def H_mhf_Tl(psi):\n",
    "    #Find the quantum numbers of the input state\n",
    "    J = psi.J\n",
    "    I1 = psi.I1\n",
    "    I2 = psi.I2\n",
    "    F1 = psi.F1\n",
    "    F = psi.F\n",
    "    omega = 1\n",
    "    \n",
    "    #I1, I2, F1 and F and mF are the same for both states\n",
    "    I1prime = I1\n",
    "    I2prime = I2\n",
    "    F1prime = F1\n",
    "    Fprime = F\n",
    "    \n",
    "    #Container for the states and amplitudes\n",
    "    data = []\n",
    "    \n",
    "    #Loop over possible values of Jprime\n",
    "    for Jprime in np.arange(np.abs(J-1),J+2):\n",
    "\n",
    "        #Check that the Jprime and Fprime values are physical\n",
    "        if np.abs(Fprime-Jprime) <= (I1+I2):\n",
    "            #Calculate matrix element\n",
    "            try:\n",
    "                amp = h1_Tl*((-1)**(J+Jprime+F1+I1-omega) \n",
    "                       * wigner_6j(I1, Jprime, F1, J, I1, 1) \n",
    "                       * wigner_3j(J, 1, Jprime, -omega, 0, omega)\n",
    "                       * sqrt((2*J+1)*(2*Jprime+1)*I1*(I1+1)*(2*I1+1)))\n",
    "\n",
    "            #If the 3j/6j symbols are not triangular, the function gives an error. In these cases the symbol should be zero.\n",
    "            except ValueError: \n",
    "                amp = 0\n",
    "\n",
    "            basis_state = CoupledBasisState(Fprime, F1prime, Jprime, I1prime, I2prime)\n",
    "\n",
    "            #If matrix element is non-zero, add to list\n",
    "            if amp != 0:\n",
    "                data.append((amp, basis_state))\n",
    "                       \n",
    "    return State(data)\n",
    "            "
   ]
  },
  {
   "cell_type": "code",
   "execution_count": 26,
   "metadata": {},
   "outputs": [],
   "source": [
    "def H_mhf_F(psi):\n",
    "    #Find the quantum numbers of the input state\n",
    "    J = psi.J\n",
    "    I1 = psi.I1\n",
    "    I2 = psi.I2\n",
    "    F1 = psi.F1\n",
    "    F = psi.F\n",
    "    omega = 1\n",
    "    \n",
    "    #I1, I2, F and mF are the same for both states\n",
    "    I1prime = I1\n",
    "    I2prime = I2\n",
    "    Fprime = F\n",
    "    \n",
    "    #Initialize container for storing states and matrix elements\n",
    "    data = []\n",
    "    \n",
    "    #Loop over the possible values of quantum numbers for which the matrix element can be non-zero\n",
    "    #Need Jprime = J+1 ... |J-1|\n",
    "    for Jprime in np.arange(np.abs(J-1), J+2):\n",
    "        \n",
    "        #Loop over possible values of F1prime\n",
    "        for F1prime in np.arange(np.abs(Jprime-I1), Jprime+I1+1):\n",
    "            try:\n",
    "                amp = h1_F*((-1)**(2*F1prime+F+2*J+1+I1+I2-omega) \n",
    "                       * wigner_6j(I2, F1prime, F, F1, I2, 1)\n",
    "                       * wigner_6j(Jprime, F1prime, I1, F1, J, 1) \n",
    "                       * wigner_3j(J, 1, Jprime,-omega,0,omega)\n",
    "                       * sqrt((2*F1+1)*(2*F1prime+1)*(2*J+1)*(2*Jprime+1)*I2*(I2+1)*(2*I2+1)))\n",
    "\n",
    "            except ValueError: \n",
    "                amp = 0\n",
    "\n",
    "            basis_state = CoupledBasisState(Fprime, F1prime, Jprime, I1prime, I2prime)\n",
    "\n",
    "            #If matrix element is non-zero, add to list\n",
    "            if amp != 0:\n",
    "                data.append((amp, basis_state))\n",
    "\n",
    "        \n",
    "    return State(data)"
   ]
  },
  {
   "cell_type": "code",
   "execution_count": 27,
   "metadata": {},
   "outputs": [],
   "source": [
    "def Hff(psi):\n",
    "    return Hrot(psi) + H_mhf_Tl(psi) + H_mhf_F(psi)"
   ]
  },
  {
   "cell_type": "markdown",
   "metadata": {},
   "source": [
    "### Finding the matrix elements\n",
    "\n",
    "With all the operators defined, we can evaluate the matrix elements for a given range of quantum numbers. We shall need to generate a non-integer range list (e.g., from -3/2 to +3/2):"
   ]
  },
  {
   "cell_type": "code",
   "execution_count": 28,
   "metadata": {},
   "outputs": [],
   "source": [
    "def ni_range(x0, x1, dx=1):\n",
    "    # sanity check arguments\n",
    "    if dx==0:\n",
    "        raise ValueError(\"invalid parameters: dx==0\")\n",
    "    if x0>x1 and dx>=0:\n",
    "        raise ValueError(\"invalid parameters: x0>x1 and dx>=0\")\n",
    "    if x0<x1 and dx<=0:\n",
    "        raise ValueError(\"invalid parameters: x0<x1 and dx<=0\")\n",
    "        \n",
    "    # generate range list\n",
    "    range_list = []\n",
    "    x = x0\n",
    "    while x < x1:\n",
    "        range_list.append(sympy.Number(x))\n",
    "        x += dx\n",
    "    return range_list"
   ]
  },
  {
   "cell_type": "markdown",
   "metadata": {},
   "source": [
    "Define constants for TlF:"
   ]
  },
  {
   "cell_type": "code",
   "execution_count": 43,
   "metadata": {},
   "outputs": [],
   "source": [
    "half = sympy.Rational(1,2)\n",
    "#half = 0.5\n",
    "\n",
    "Jmin = sympy.Integer(1)\n",
    "Jmax = sympy.Integer(11) # max J value in Hamiltonian\n",
    "#Jmax = 6\n",
    "I_Tl = half             # I1 in Ramsey's notation\n",
    "I_F  = half             # I2 in Ramsey's notation\n",
    "\n",
    "Brot = sympy.symbols('Brot')\n",
    "h1_Tl, h1_F = sympy.symbols('h1_Tl h1_F')"
   ]
  },
  {
   "cell_type": "markdown",
   "metadata": {},
   "source": [
    " Write down the basis as a list of `BasisState` components:"
   ]
  },
  {
   "cell_type": "code",
   "execution_count": 44,
   "metadata": {},
   "outputs": [],
   "source": [
    "QN = [CoupledBasisState(F,F1,J,I_F,I_Tl)\n",
    "      for J  in ni_range(Jmin, Jmax+1)\n",
    "      for F1 in ni_range(np.abs(J-I_F),J+I_F+1)\n",
    "      for F in ni_range(np.abs(F1-I_Tl),F1+I_Tl+1)\n",
    "     ]"
   ]
  },
  {
   "cell_type": "markdown",
   "metadata": {},
   "source": [
    "The field-free and Stark/Zeeman components of the Hamiltonian then have the matrix elements (evaluate using `multiprocessing` to speed things up)"
   ]
  },
  {
   "cell_type": "code",
   "execution_count": 45,
   "metadata": {},
   "outputs": [
    {
     "name": "stderr",
     "output_type": "stream",
     "text": [
      "44it [00:27,  1.65it/s]\n"
     ]
    },
    {
     "name": "stdout",
     "output_type": "stream",
     "text": [
      "Wall time: 27 s\n"
     ]
    }
   ],
   "source": [
    "%%time\n",
    "from tqdm import tqdm\n",
    "\n",
    "def HMatElems(H, QN=QN):\n",
    "    result = sympy.zeros(len(QN),len(QN))\n",
    "    for i,a in tqdm(enumerate(QN)):\n",
    "        for j,b in enumerate(QN):\n",
    "            result[i,j] = (1*a)@H(b)\n",
    "            \n",
    "    return result\n",
    "\n",
    "H_ops = [Hff]\n",
    "Hff_m = HMatElems(Hff)"
   ]
  },
  {
   "cell_type": "markdown",
   "metadata": {},
   "source": [
    "Store the result of the calculation as text files and Python `pickle`s:"
   ]
  },
  {
   "cell_type": "code",
   "execution_count": 46,
   "metadata": {},
   "outputs": [],
   "source": [
    "with open(\"hamiltonians_symbolic_coupled.py\", 'wb') as f:\n",
    "    pickle.dump(\n",
    "        {\n",
    "            \"Hff\" : Hff_m,\n",
    "        },\n",
    "        f\n",
    "    )"
   ]
  },
  {
   "cell_type": "code",
   "execution_count": 47,
   "metadata": {},
   "outputs": [],
   "source": [
    "with open(\"hamiltonians_symbolic_coupled.txt\", 'w') as f:\n",
    "    f.write(\n",
    "        str(\n",
    "            {\n",
    "                \"Hff\" : Hff_m,\n",
    "            }\n",
    "        )\n",
    "    )"
   ]
  },
  {
   "cell_type": "markdown",
   "metadata": {},
   "source": [
    "## Testing magnetic hyperfine"
   ]
  },
  {
   "cell_type": "code",
   "execution_count": 42,
   "metadata": {},
   "outputs": [
    {
     "name": "stdout",
     "output_type": "stream",
     "text": [
      "0\n",
      "-0.0962250448649376*sqrt(6)*h1_F\n"
     ]
    }
   ],
   "source": [
    "Ja = 1\n",
    "I1 = 1/2\n",
    "I2 = 1/2\n",
    "F1a = 1/2\n",
    "Fa = 1\n",
    "\n",
    "a = CoupledBasisState(Fa, F1a, Ja, I1, I2)\n",
    "\n",
    "Jb = 1\n",
    "I1 = 1/2\n",
    "I2 = 1/2\n",
    "F1b = 3/2\n",
    "Fb = 1\n",
    "b = CoupledBasisState(Fb, F1b, Jb, I1, I2)\n",
    "\n",
    "\n",
    "\n",
    "print((1*b) @ H_mhf_Tl(a))\n",
    "\n",
    "print((1*b) @ H_mhf_F(a))\n"
   ]
  },
  {
   "cell_type": "code",
   "execution_count": null,
   "metadata": {},
   "outputs": [],
   "source": []
  }
 ],
 "metadata": {
  "kernelspec": {
   "display_name": "Python 3",
   "language": "python",
   "name": "python3"
  },
  "language_info": {
   "codemirror_mode": {
    "name": "ipython",
    "version": 3
   },
   "file_extension": ".py",
   "mimetype": "text/x-python",
   "name": "python",
   "nbconvert_exporter": "python",
   "pygments_lexer": "ipython3",
   "version": "3.6.5"
  }
 },
 "nbformat": 4,
 "nbformat_minor": 2
}
