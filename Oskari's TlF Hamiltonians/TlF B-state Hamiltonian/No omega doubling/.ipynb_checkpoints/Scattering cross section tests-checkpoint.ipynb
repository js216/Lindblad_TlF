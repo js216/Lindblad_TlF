{
 "cells": [
  {
   "cell_type": "markdown",
   "metadata": {},
   "source": [
    "# Scattering cross section tests\n",
    "## Introduction\n",
    "This notebook is for testing the code that calculates scattering cross sections and branching ratios for the different R-branch transitions that we use for molecular beam characterization.\n",
    "\n",
    "I'm primarily comparing results to Table IV in Norrgard et al. 2017:\n",
    "![title](Pics/Table IV Norrgard et al.png)\n",
    "\n"
   ]
  },
  {
   "cell_type": "code",
   "execution_count": 2,
   "metadata": {},
   "outputs": [
    {
     "name": "stderr",
     "output_type": "stream",
     "text": [
      "C:\\Users\\Oskari\\Anaconda3\\lib\\site-packages\\h5py\\__init__.py:36: FutureWarning: Conversion of the second argument of issubdtype from `float` to `np.floating` is deprecated. In future, it will be treated as `np.float64 == np.dtype(float).type`.\n",
      "  from ._conv import register_converters as _register_converters\n"
     ]
    }
   ],
   "source": [
    "#Import packages\n",
    "import h5py\n",
    "import matplotlib.pyplot as plt\n",
    "%matplotlib notebook\n",
    "import numpy as np\n",
    "from scipy.signal import find_peaks\n",
    "from scipy.signal import find_peaks_cwt\n",
    "from scipy.integrate import simps\n",
    "from tqdm import tqdm_notebook\n",
    "from scipy.optimize import curve_fit\n",
    "import pandas as pd\n",
    "from datetime import datetime, timedelta\n",
    "import glob\n",
    "%load_ext autoreload\n",
    "%autoreload 2\n",
    "import sys\n",
    "sys.path.append('../beam-source-characterization-data-analysis/')\n",
    "\n",
    "from functions import *"
   ]
  },
  {
   "cell_type": "markdown",
   "metadata": {},
   "source": [
    "## |J' = 1, F1' = 1/2, F'= 0>\n",
    "First I'll compare the results for the decay from $J' = 1, \\, F_1' = 1/2, F' = 0$ to the ground state:"
   ]
  },
  {
   "cell_type": "code",
   "execution_count": 3,
   "metadata": {},
   "outputs": [
    {
     "name": "stdout",
     "output_type": "stream",
     "text": [
      "Branching ratio from |J' = 1, F1' = 1/2, F'= 0> to J = 0 is 0.667\n",
      "Branching ratio from |J' = 1, F1' = 1/2, F'= 0> to J = 2 is 0.333\n"
     ]
    }
   ],
   "source": [
    "#Input the quantum numbers for the excited state\n",
    "Jprime = 1\n",
    "F1prime = 1/2\n",
    "Fprime = 0\n",
    "Pprime = -1\n",
    "\n",
    "#For ground states, loop over possible quantum numbers:\n",
    "#Do J = 0 first\n",
    "J = 0\n",
    "F1 = 1/2\n",
    "branching_ratioJ0 = 0\n",
    "\n",
    "for F in np.arange(F1-1/2, F1+3/2):\n",
    "    branching_ratioJ0 += calculate_branching_ratio(J, F1, F, Jprime, F1prime, Fprime, Pprime)\n",
    "\n",
    "print(\"Branching ratio from |J' = 1, F1' = 1/2, F'= 0> to J = 0 is {:.3f}\".format(branching_ratioJ0))\n",
    "\n",
    "#Then branching ratio to J = 2\n",
    "J = 2\n",
    "branching_ratioJ2 = 0\n",
    "\n",
    "for F1 in np.arange(J-1/2, J+3/2):\n",
    "    for F in np.arange(F1-1/2, F1+3/2):\n",
    "        branching_ratioJ2 += calculate_branching_ratio(J, F1, F, Jprime, F1prime, Fprime, Pprime)\n",
    "\n",
    "print(\"Branching ratio from |J' = 1, F1' = 1/2, F'= 0> to J = 2 is {:.3f}\".format(branching_ratioJ2))\n"
   ]
  },
  {
   "cell_type": "markdown",
   "metadata": {},
   "source": [
    "so the results here agree with the table."
   ]
  },
  {
   "cell_type": "markdown",
   "metadata": {},
   "source": [
    "## |J' = 1, F1' = 1/2, F'= 1>\n",
    "As reported in the table this state is actually a superposition state: \n",
    "$ |J' = 1, F1' = 1/2, F'= 1> = 0.999\\,|J' = 1, F1' = 1/2, F'= 1> + 0.00203\\,|J' = 1, F1' = 3/2, F'= 1> - 0.00180\\,|J' = 2, F1' = 3/2, F'= 1>$\n",
    "\n",
    "If it were just |J' = 1, F1' = 1/2, F'= 1> then branching ratios would be:"
   ]
  },
  {
   "cell_type": "code",
   "execution_count": 4,
   "metadata": {},
   "outputs": [
    {
     "name": "stdout",
     "output_type": "stream",
     "text": [
      "Branching ratio from |J' = 1, F1' = 1/2, F'= 1> to J = 0 is 0.667\n",
      "Branching ratio from |J' = 1, F1' = 1/2, F'= 1> to J = 2 is 0.333\n"
     ]
    }
   ],
   "source": [
    "#Input the quantum numbers for the excited state\n",
    "Jprime = 1\n",
    "F1prime = 1/2\n",
    "Fprime = 1\n",
    "Pprime = -1\n",
    "\n",
    "#For ground states, loop over possible quantum numbers:\n",
    "#Do J = 0 first\n",
    "J = 0\n",
    "F1 = 1/2\n",
    "branching_ratioJ0 = 0\n",
    "\n",
    "for F in np.arange(F1-1/2, F1+3/2):\n",
    "    branching_ratioJ0 += calculate_branching_ratio(J, F1, F, Jprime, F1prime, Fprime, Pprime)\n",
    "\n",
    "print(\"Branching ratio from |J' = 1, F1' = 1/2, F'= 1> to J = 0 is {:.3f}\".format(branching_ratioJ0))\n",
    "\n",
    "#Then branching ratio to J = 2\n",
    "J = 2\n",
    "branching_ratioJ2 = 0\n",
    "\n",
    "for F1 in np.arange(J-1/2, J+3/2):\n",
    "    for F in np.arange(F1-1/2, F1+3/2):\n",
    "        branching_ratioJ2 += calculate_branching_ratio(J, F1, F, Jprime, F1prime, Fprime, Pprime)\n",
    "\n",
    "print(\"Branching ratio from |J' = 1, F1' = 1/2, F'= 1> to J = 2 is {:.3f}\".format(branching_ratioJ2))"
   ]
  },
  {
   "cell_type": "markdown",
   "metadata": {},
   "source": [
    "which broadly agrees with the values reported in the table.\n",
    "\n",
    "Taking into account the fact that the state is a superposition:"
   ]
  },
  {
   "cell_type": "code",
   "execution_count": 5,
   "metadata": {},
   "outputs": [
    {
     "name": "stdout",
     "output_type": "stream",
     "text": [
      "0.6664506528957888\n",
      "[0.31421007873196827, 0.6854021712680316, 0.07486325380624526, 0.42500496328422904, 0.0004239079095257004, 0.0]\n"
     ]
    }
   ],
   "source": [
    "#Input the quantum numbers for each basis state of the excited state as numpy arrays\n",
    "coefficients = np.array((0.9996, 0.0203, 0.018))\n",
    "Jprimes = np.array((1, 1, 2))\n",
    "F1primes = np.array((1/2, 3/2, 3/2))\n",
    "Fprimes = np.array((1, 1, 1))\n",
    "Pprime = -1\n",
    "\n",
    "#Input quantum numbers for groundstate\n",
    "J = 0\n",
    "F1 = 1/2\n",
    "\n",
    "Mrs = []\n",
    "#Calculate the reduced matrix element for decays to each of the ground states\n",
    "for F in np.arange(F1-1/2, F1+3/2):\n",
    "    Mr = 0\n",
    "    for i, Jprime in enumerate(Jprimes):\n",
    "        F1prime = F1primes[i]\n",
    "        Fprime = Fprimes[i]\n",
    "        Mr += coefficients[i]*calculate_matrix_element(J, F1, F, Jprime, F1prime, Fprime, Pprime)\n",
    "    Mrs.append(float(Mr**2))\n",
    "    \n",
    "sum1 = np.sum(Mrs)    \n",
    "#Calculate sum of all reduced matrix elements that are non-zero:\n",
    "J = 2\n",
    "for F1 in np.arange(J-1/2, J+3/2):\n",
    "    for F in np.arange(F1-1/2, F1+3/2):\n",
    "        Mr = 0\n",
    "        for i, Jprime in enumerate(Jprimes):\n",
    "            F1prime = F1primes[i]\n",
    "            Fprime = Fprimes[i]\n",
    "            Mr += coefficients[i]*calculate_matrix_element(J, F1, F, Jprime, F1prime, Fprime, Pprime)\n",
    "        Mrs.append(float(Mr**2))\n",
    "\n",
    "sum2 = np.sum(Mrs)\n",
    "\n",
    "branching_ratio = float(sum1/sum2)\n",
    "\n",
    "print(branching_ratio)\n",
    "print(Mrs)"
   ]
  },
  {
   "cell_type": "markdown",
   "metadata": {},
   "source": [
    "## |J' = 1, F1' = 3/2, F'= 1>\n",
    "As reported in the table this state is actually a superposition state: \n",
    "$ |J' = 1, F1' = 3/2, F'= 1> = 0.0267\\,|J' = 1, F1' = 3/2, F'= 1> - 0.8518\\,|J' = 1, F1' = 1/2, F'= 1> + 0.5232\\,|J' = 2, F1' = 3/2, F'= 1>$\n",
    "\n",
    "If it were just |J' = 1, F1' = 3/2, F'= 1> then branching ratios would be:"
   ]
  },
  {
   "cell_type": "code",
   "execution_count": 6,
   "metadata": {},
   "outputs": [
    {
     "name": "stdout",
     "output_type": "stream",
     "text": [
      "Branching ratio from |J' = 1, F1' = 3/2, F'= 1> to J = 0 is 0.667\n",
      "Branching ratio from |J' = 1, F1' = 3/2, F'= 1> to J = 2 is 0.333\n"
     ]
    }
   ],
   "source": [
    "#Input the quantum numbers for the excited state\n",
    "Jprime = 1\n",
    "F1prime = 3/2\n",
    "Fprime = 1\n",
    "Pprime = -1\n",
    "\n",
    "#For ground states, loop over possible quantum numbers:\n",
    "#Do J = 0 first\n",
    "J = 0\n",
    "F1 = 1/2\n",
    "branching_ratioJ0 = 0\n",
    "\n",
    "for F in np.arange(F1-1/2, F1+3/2):\n",
    "    branching_ratioJ0 += calculate_branching_ratio(J, F1, F, Jprime, F1prime, Fprime, Pprime)\n",
    "\n",
    "print(\"Branching ratio from |J' = 1, F1' = 3/2, F'= 1> to J = 0 is {:.3f}\".format(branching_ratioJ0))\n",
    "\n",
    "#Then branching ratio to J = 2\n",
    "J = 2\n",
    "branching_ratioJ2 = 0\n",
    "\n",
    "for F1 in np.arange(J-1/2, J+3/2):\n",
    "    for F in np.arange(F1-1/2, F1+3/2):\n",
    "        branching_ratioJ2 += calculate_branching_ratio(J, F1, F, Jprime, F1prime, Fprime, Pprime)\n",
    "\n",
    "print(\"Branching ratio from |J' = 1, F1' = 3/2, F'= 1> to J = 2 is {:.3f}\".format(branching_ratioJ2))"
   ]
  },
  {
   "cell_type": "markdown",
   "metadata": {},
   "source": [
    "which seems to be the wrong way round compared to the table: the branching ratio to J = 2 should be larger than to J = 0.\n",
    "\n",
    "Repeat, but taking into account the superposition:"
   ]
  },
  {
   "cell_type": "code",
   "execution_count": 15,
   "metadata": {},
   "outputs": [
    {
     "name": "stdout",
     "output_type": "stream",
     "text": [
      "0.4841771290413222\n"
     ]
    }
   ],
   "source": [
    "#Input the quantum numbers for each basis state of the excited state as numpy arrays\n",
    "coefficients = np.array((.0267, -0.8518, +0.5232))\n",
    "Jprimes = np.array((1, 1, 2))\n",
    "F1primes = np.array((1/2, 3/2, 3/2))\n",
    "Fprimes = np.array((1, 1, 1))\n",
    "Pprime = -1\n",
    "\n",
    "#Input quantum numbers for groundstate\n",
    "J = 0\n",
    "F1 = 1/2\n",
    "\n",
    "Mrs = []\n",
    "#Calculate the reduced matrix element for decays to each of the ground states\n",
    "for F in np.arange(F1-1/2, F1+3/2):\n",
    "    Mr = 0\n",
    "    for i, Jprime in enumerate(Jprimes):\n",
    "        F1prime = F1primes[i]\n",
    "        Fprime = Fprimes[i]\n",
    "        Mr += coefficients[i]*calculate_matrix_element(J, F1, F, Jprime, F1prime, Fprime, Pprime)\n",
    "    Mrs.append(Mr**2)\n",
    "    \n",
    "sum1 = np.sum(Mrs)    \n",
    "#Calculate sum of all reduced matrix elements that are non-zero:\n",
    "J = 2\n",
    "for F1 in np.arange(J-1/2, J+3/2):\n",
    "    for F in np.arange(F1-1/2, F1+3/2):\n",
    "        Mr = 0\n",
    "        for i, Jprime in enumerate(Jprimes):\n",
    "            F1prime = F1primes[i]\n",
    "            Fprime = Fprimes[i]\n",
    "            Mr += coefficients[i]*calculate_matrix_element(J, F1, F, Jprime, F1prime, Fprime, Pprime)\n",
    "        Mrs.append(Mr**2)\n",
    "\n",
    "sum2 = np.sum(Mrs)\n",
    "\n",
    "branching_ratio = float(sum1/sum2)\n",
    "\n",
    "print(branching_ratio)\n"
   ]
  },
  {
   "cell_type": "markdown",
   "metadata": {},
   "source": [
    "## |J' = 1, F1' = 3/2, F'= 1>"
   ]
  },
  {
   "cell_type": "code",
   "execution_count": 27,
   "metadata": {},
   "outputs": [
    {
     "name": "stdout",
     "output_type": "stream",
     "text": [
      "0.47966650652646786\n"
     ]
    }
   ],
   "source": [
    "#Input the quantum numbers for each basis state of the excited state as numpy arrays\n",
    "coefficients = np.array((.8482,-.5294,-.0138,0.0064))\n",
    "Jprimes = np.array((1, 2, 2,3))\n",
    "F1primes = np.array((3/2, 3/2, 5/2,5/2))\n",
    "Fprimes = np.array((2,2,2,2))\n",
    "Pprime = -1\n",
    "\n",
    "#Input quantum numbers for groundstate\n",
    "J = 0\n",
    "\n",
    "Mrs = []\n",
    "#Calculate the reduced matrix element for decays to each of the ground states (J=0)\n",
    "for F1 in np.arange(np.abs(J-1/2),J+3/2):\n",
    "    for F in np.arange(F1-1/2, F1+3/2):\n",
    "        Mr = 0\n",
    "        for i, Jprime in enumerate(Jprimes):\n",
    "            F1prime = F1primes[i]\n",
    "            Fprime = Fprimes[i]\n",
    "            Mr += coefficients[i]*calculate_matrix_element(J, F1, F, Jprime, F1prime, Fprime, Pprime)\n",
    "        Mrs.append(Mr**2)\n",
    "\n",
    "#Sum matrix elements^2 for decay into J=0\n",
    "sum1 = np.sum(Mrs)    \n",
    "#Calculate sum of all reduced matrix elements that are non-zero:\n",
    "J = 2\n",
    "for F1 in np.arange(J-1/2, J+3/2):\n",
    "    for F in np.arange(F1-1/2, F1+3/2):\n",
    "        Mr = 0\n",
    "        for i, Jprime in enumerate(Jprimes):\n",
    "            F1prime = F1primes[i]\n",
    "            Fprime = Fprimes[i]\n",
    "            Mr += coefficients[i]*calculate_matrix_element(J, F1, F, Jprime, F1prime, Fprime, Pprime)\n",
    "        Mrs.append(Mr**2)\n",
    "\n",
    "sum2 = np.sum(Mrs)\n",
    "\n",
    "branching_ratio = float(sum1/sum2)\n",
    "\n",
    "print(branching_ratio)\n"
   ]
  },
  {
   "cell_type": "markdown",
   "metadata": {},
   "source": [
    "### Testing\n",
    "Testing code for calculating reduced matrix elements here"
   ]
  },
  {
   "cell_type": "code",
   "execution_count": 9,
   "metadata": {},
   "outputs": [
    {
     "name": "stdout",
     "output_type": "stream",
     "text": [
      "0.3333333333333333\n",
      "0.333333333333333\n"
     ]
    }
   ],
   "source": [
    "J = 0\n",
    "F1 = 1/2\n",
    "F = 1\n",
    "\n",
    "Jprime = 1\n",
    "F1prime = 3/2\n",
    "Fprime = 1\n",
    "Pprime = -1\n",
    "\n",
    "print(calculate_partial_width(J, F1, F, Jprime, F1prime, Fprime, Pprime))\n",
    "print(calculate_matrix_element(J, F1, F, Jprime, F1prime, Fprime, Pprime)**2)"
   ]
  },
  {
   "cell_type": "code",
   "execution_count": 13,
   "metadata": {},
   "outputs": [
    {
     "name": "stdout",
     "output_type": "stream",
     "text": [
      "1.6666666666666665\n",
      "1.66666666666667\n"
     ]
    }
   ],
   "source": [
    "J = 0\n",
    "F1 = 1/2\n",
    "F = 1\n",
    "\n",
    "Jprime = 1\n",
    "F1prime = 3/2\n",
    "Fprime = 2\n",
    "Pprime = -1\n",
    "\n",
    "print(calculate_partial_width(J, F1, F, Jprime, F1prime, Fprime, Pprime))\n",
    "print(calculate_matrix_element(J, F1, F, Jprime, F1prime, Fprime, Pprime)**2)"
   ]
  }
 ],
 "metadata": {
  "kernelspec": {
   "display_name": "Python 3",
   "language": "python",
   "name": "python3"
  },
  "language_info": {
   "codemirror_mode": {
    "name": "ipython",
    "version": 3
   },
   "file_extension": ".py",
   "mimetype": "text/x-python",
   "name": "python",
   "nbconvert_exporter": "python",
   "pygments_lexer": "ipython3",
   "version": "3.6.5"
  }
 },
 "nbformat": 4,
 "nbformat_minor": 2
}
