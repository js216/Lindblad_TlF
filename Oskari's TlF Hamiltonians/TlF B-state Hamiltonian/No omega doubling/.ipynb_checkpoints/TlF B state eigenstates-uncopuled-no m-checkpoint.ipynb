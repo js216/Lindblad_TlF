{
 "cells": [
  {
   "cell_type": "markdown",
   "metadata": {},
   "source": [
    "# TlF B state eigenstates\n",
    "In the Norrgard 2017 paper it is mentioned that the eigenstates of the B-state Hamiltonian are in fact superpositions of the uncoupled basis states |J, F1, F>. In this notebook I'm calculating the eigenstates by diagonalizing the Hamiltonian for the B state. The Hamiltonian is generated in the uncoupled basis ($\\mathrm{|J, m_J, I_1, m_1, I_2, m_2>}$) so I'll also convert the relevant eigenstates into the coupled basis ($\\mathrm{|J,I_1, I_2, F_1, F, m_F>})$ so that I can use them to calculate rotatinal branching ratios for decays from the B state to the groundstate."
   ]
  },
  {
   "cell_type": "code",
   "execution_count": 1,
   "metadata": {},
   "outputs": [],
   "source": [
    "%load_ext autoreload\n",
    "%autoreload 2\n",
    "import sys\n",
    "sys.path.append('../molecular-state-classes-and-functions/')\n",
    "\n",
    "import numpy as np\n",
    "import sympy\n",
    "import pickle\n",
    "import matplotlib.pyplot as plt\n",
    "%matplotlib notebook\n",
    "from tqdm import tqdm_notebook\n",
    "\n",
    "from classes import *\n",
    "from functions import *\n",
    "\n",
    "\n",
    "with open(\"hamiltonians_symbolic.py\", 'rb') as f:\n",
    "    hamiltonians = pickle.load(f)\n",
    "\n",
    "Jmin = sympy.Integer(1)\n",
    "Jmax = sympy.Integer(6) # max J value in Hamiltonian\n",
    "I_Tl = 1/2             # I1 in Ramsey's notation/\n",
    "I_F  = 1/2             # I2 in Ramsey's notation\n",
    "\n",
    "def ni_range(x0, x1, dx=1):\n",
    "    # sanity check arguments\n",
    "    if dx==0:\n",
    "        raise ValueError(\"invalid parameters: dx==0\")\n",
    "    if x0>x1 and dx>=0:\n",
    "        raise ValueError(\"invalid parameters: x0>x1 and dx>=0\")\n",
    "    if x0<x1 and dx<=0:\n",
    "        raise ValueError(\"invalid parameters: x0<x1 and dx<=0\")\n",
    "        \n",
    "    # generate range list\n",
    "    range_list = []\n",
    "    x = x0\n",
    "    while x < x1:\n",
    "        range_list.append(sympy.Number(x))\n",
    "        x += dx\n",
    "    return range_list\n",
    "\n",
    "QN = [UncoupledBasisState(J,mJ,I_Tl,m1,I_F,m2)\n",
    "      for J  in ni_range(Jmin, Jmax+1)\n",
    "      for mJ in ni_range(-J,J+1)\n",
    "      for m1 in ni_range(-I_Tl,I_Tl+1)\n",
    "      for m2 in ni_range(-I_F,I_F+1)\n",
    "     ]"
   ]
  },
  {
   "cell_type": "code",
   "execution_count": 2,
   "metadata": {},
   "outputs": [
    {
     "name": "stdout",
     "output_type": "stream",
     "text": [
      "Wall time: 6.04 s\n"
     ]
    }
   ],
   "source": [
    "%%time\n",
    "variables = [\n",
    "    sympy.symbols('Brot'),\n",
    "    *sympy.symbols('h1_Tl h1_F'),\n",
    "    *sympy.symbols('c1 c2 c3 c4'),\n",
    "    sympy.symbols('D_TlF'),\n",
    "    *sympy.symbols('mu_J mu_Tl mu_F')\n",
    "]\n",
    "\n",
    "lambdified_hamiltonians = {\n",
    "    H_name : sympy.lambdify(variables, H_matrix)\n",
    "    for H_name, H_matrix in hamiltonians.items()\n",
    "}"
   ]
  },
  {
   "cell_type": "markdown",
   "metadata": {},
   "source": [
    "Insert numerical constants into Hamiltonian (all in units of Hz):"
   ]
  },
  {
   "cell_type": "code",
   "execution_count": 3,
   "metadata": {},
   "outputs": [
    {
     "name": "stdout",
     "output_type": "stream",
     "text": [
      "Wall time: 17 ms\n"
     ]
    }
   ],
   "source": [
    "%%time\n",
    "Brot = 6689920000\n",
    "h1_Tl = 28793e6\n",
    "h1_F = 871e6\n",
    "#h1_F = 0\n",
    "c1 = 0\n",
    "c2 = 0\n",
    "c3 = 0\n",
    "c4 = 0\n",
    "D_TlF = 4.2282 * 0.393430307 *5.291772e-9/4.135667e-15 # [Hz/(V/cm)]\n",
    "mu_J = 35\n",
    "mu_Tl = 1240.5\n",
    "mu_F = 2003.63\n",
    "\n",
    "H = {\n",
    "    H_name : H_fn(\n",
    "        Brot,\n",
    "        h1_Tl, h1_F,\n",
    "        c1, c2, c3, c4,\n",
    "        D_TlF,\n",
    "        mu_J, mu_Tl, mu_F\n",
    "    )\n",
    "    for H_name, H_fn in lambdified_hamiltonians.items()\n",
    "}"
   ]
  },
  {
   "cell_type": "code",
   "execution_count": 4,
   "metadata": {},
   "outputs": [],
   "source": [
    "#Find the eigenstates in zero field\n",
    "def spectrum(Ex_arr,Ey_arr,Ez_arr,Bx_arr,By_arr,Bz_arr):\n",
    "    energies_arr = []\n",
    "    energies_rot_arr = []\n",
    "    states_arr = []\n",
    "    for Ex,Ey,Ez,Bx,By,Bz in zip(Ex_arr,Ey_arr,Ez_arr,Bx_arr,By_arr,Bz_arr):\n",
    "        HamE = H[\"Hff\"] + \\\n",
    "            Ex*H[\"HSx\"]  + Ey*H[\"HSy\"] + Ez*H[\"HSz\"] + \\\n",
    "            Bx*H[\"HZx\"]  + By*H[\"HZy\"] + Bz*H[\"HZz\"]\n",
    "        D, V = np.linalg.eigh(HamE)\n",
    "        idx = D.argsort() \n",
    "        D = D[idx]\n",
    "        V = V[:,idx]\n",
    "        \n",
    "        # Subtract away rotational energy for easier viewing of substructure\n",
    "        hfs_mat = []\n",
    "        for i,state in enumerate(QN):\n",
    "            J = state.J\n",
    "            hfs_mat.append(D[i] - J*(J +1)*Brot)\n",
    "        hfs_kHz = np.array(hfs_mat)/1000\n",
    "\n",
    "        energies_arr.append(hfs_kHz)\n",
    "        energies_rot_arr.append(D)\n",
    "        states_arr.append(V)\n",
    "    return np.array(energies_arr), np.array(energies_rot_arr), np.array(states_arr)\n",
    "\n",
    "Ez = np.zeros(1)\n",
    "Bz = np.zeros(Ez.shape)\n",
    "Ex = np.zeros(Ez.shape)\n",
    "Ey = np.zeros(Ez.shape)\n",
    "Bx = np.zeros(Ez.shape)\n",
    "By = np.zeros(Ez.shape)\n",
    "\n",
    "eigenstates_mat = spectrum(Ex,Ey,Ez,Bx,By,Bz)[2]\n"
   ]
  },
  {
   "cell_type": "code",
   "execution_count": 5,
   "metadata": {},
   "outputs": [
    {
     "name": "stderr",
     "output_type": "stream",
     "text": [
      "100%|████████████████████████████████████████████████████████████████████████████████| 192/192 [00:02<00:00, 74.60it/s]\n"
     ]
    }
   ],
   "source": [
    "#Convert the matrix of eigenvectors into a list of eigenstates\n",
    "eigenstates_uncoupled = matrix_to_states(eigenstates_mat[0,:,:], QN)"
   ]
  },
  {
   "cell_type": "code",
   "execution_count": 6,
   "metadata": {},
   "outputs": [
    {
     "data": {
      "application/vnd.jupyter.widget-view+json": {
       "model_id": "313a051f21fe47b4ae2f8cda023d941e",
       "version_major": 2,
       "version_minor": 0
      },
      "text/plain": [
       "HBox(children=(IntProgress(value=0, max=16), HTML(value='')))"
      ]
     },
     "metadata": {},
     "output_type": "display_data"
    },
    {
     "name": "stdout",
     "output_type": "stream",
     "text": [
      "\n"
     ]
    }
   ],
   "source": [
    "#Convert the states into the coupled basis\n",
    "eigenstates_coupled = []\n",
    "for eigenstate_uncoupled in tqdm_notebook(eigenstates_uncoupled[0:16]):\n",
    "    eigenstates_coupled.append(eigenstate_uncoupled.remove_small_components().transform_to_coupled())"
   ]
  },
  {
   "cell_type": "code",
   "execution_count": 7,
   "metadata": {},
   "outputs": [],
   "source": [
    "#Pick the states of interest"
   ]
  },
  {
   "cell_type": "code",
   "execution_count": 8,
   "metadata": {},
   "outputs": [
    {
     "name": "stdout",
     "output_type": "stream",
     "text": [
      "+0.8483 x |J = 1, F1 = 3/2, F = 2, mF = -2, I1 = 1/2, I2 = 1/2>\n",
      "+0.5293 x |J = 2, F1 = 3/2, F = 2, mF = -2, I1 = 1/2, I2 = 1/2>\n",
      "+0.0138 x |J = 2, F1 = 5/2, F = 2, mF = -2, I1 = 1/2, I2 = 1/2>\n",
      "+0.0064 x |J = 3, F1 = 5/2, F = 2, mF = -2, I1 = 1/2, I2 = 1/2>\n",
      "\n",
      "-0.3381 x |J = 1, mJ = -1, I1 = 1/2, m1 = 1/2, I2 = 1/2, m2 = 1/2>\n",
      "-0.0011 x |J = 1, mJ = 0, I1 = 1/2, m1 = -1/2, I2 = 1/2, m2 = -1/2>\n",
      "-0.4782 x |J = 1, mJ = 0, I1 = 1/2, m1 = -1/2, I2 = 1/2, m2 = 1/2>\n",
      "-0.4782 x |J = 1, mJ = 0, I1 = 1/2, m1 = 1/2, I2 = 1/2, m2 = -1/2>\n",
      "+0.0910 x |J = 1, mJ = 0, I1 = 1/2, m1 = 1/2, I2 = 1/2, m2 = 1/2>\n",
      "-0.3381 x |J = 1, mJ = 1, I1 = 1/2, m1 = -1/2, I2 = 1/2, m2 = -1/2>\n",
      "+0.0643 x |J = 1, mJ = 1, I1 = 1/2, m1 = -1/2, I2 = 1/2, m2 = 1/2>\n",
      "+0.0643 x |J = 1, mJ = 1, I1 = 1/2, m1 = 1/2, I2 = 1/2, m2 = -1/2>\n",
      "-0.1306 x |J = 1, mJ = 1, I1 = 1/2, m1 = 1/2, I2 = 1/2, m2 = 1/2>\n",
      "+0.2891 x |J = 2, mJ = -1, I1 = 1/2, m1 = 1/2, I2 = 1/2, m2 = 1/2>\n",
      "-0.2238 x |J = 2, mJ = 0, I1 = 1/2, m1 = -1/2, I2 = 1/2, m2 = 1/2>\n",
      "+0.2238 x |J = 2, mJ = 0, I1 = 1/2, m1 = 1/2, I2 = 1/2, m2 = -1/2>\n",
      "-0.0449 x |J = 2, mJ = 0, I1 = 1/2, m1 = 1/2, I2 = 1/2, m2 = 1/2>\n",
      "-0.2891 x |J = 2, mJ = 1, I1 = 1/2, m1 = -1/2, I2 = 1/2, m2 = -1/2>\n",
      "+0.0531 x |J = 2, mJ = 1, I1 = 1/2, m1 = -1/2, I2 = 1/2, m2 = 1/2>\n",
      "-0.0164 x |J = 2, mJ = 1, I1 = 1/2, m1 = 1/2, I2 = 1/2, m2 = -1/2>\n",
      "+0.0372 x |J = 2, mJ = 1, I1 = 1/2, m1 = 1/2, I2 = 1/2, m2 = 1/2>\n",
      "+0.0367 x |J = 2, mJ = 2, I1 = 1/2, m1 = -1/2, I2 = 1/2, m2 = -1/2>\n",
      "-0.0725 x |J = 2, mJ = 2, I1 = 1/2, m1 = -1/2, I2 = 1/2, m2 = 1/2>\n",
      "-0.0019 x |J = 2, mJ = 2, I1 = 1/2, m1 = 1/2, I2 = 1/2, m2 = -1/2>\n",
      "-0.0033 x |J = 3, mJ = -1, I1 = 1/2, m1 = 1/2, I2 = 1/2, m2 = 1/2>\n",
      "+0.0029 x |J = 3, mJ = 0, I1 = 1/2, m1 = -1/2, I2 = 1/2, m2 = 1/2>\n",
      "+0.0029 x |J = 3, mJ = 0, I1 = 1/2, m1 = 1/2, I2 = 1/2, m2 = -1/2>\n",
      "-0.0033 x |J = 3, mJ = 1, I1 = 1/2, m1 = -1/2, I2 = 1/2, m2 = -1/2>\n"
     ]
    }
   ],
   "source": [
    "eigenstates_coupled[10].remove_small_components().print_state()\n",
    "print(\"\")\n",
    "eigenstates_uncoupled[11].remove_small_components().print_state()"
   ]
  },
  {
   "cell_type": "code",
   "execution_count": 46,
   "metadata": {},
   "outputs": [
    {
     "data": {
      "text/plain": [
       "0.0"
      ]
     },
     "execution_count": 46,
     "metadata": {},
     "output_type": "execute_result"
    }
   ],
   "source": [
    "residual = np.conjugate(H['Hff'].T)-H['Hff']\n",
    "np.set_printoptions(threshold=sys.maxsize)\n",
    "np.max(residual)"
   ]
  },
  {
   "cell_type": "code",
   "execution_count": 47,
   "metadata": {},
   "outputs": [
    {
     "data": {
      "text/plain": [
       "array([ 0.00000000e+00,  2.03603400e+10,  0.00000000e+00,  0.00000000e+00,\n",
       "        3.07945003e+08,  0.00000000e+00,  0.00000000e+00,  0.00000000e+00,\n",
       "        0.00000000e+00,  0.00000000e+00,  0.00000000e+00,  0.00000000e+00,\n",
       "        0.00000000e+00,  0.00000000e+00,  0.00000000e+00,  1.11514809e+10,\n",
       "        0.00000000e+00, -5.40707205e+09,  0.00000000e+00,  0.00000000e+00,\n",
       "       -1.37717192e+08,  0.00000000e+00,  0.00000000e+00,  0.00000000e+00,\n",
       "        0.00000000e+00,  0.00000000e+00,  0.00000000e+00,  0.00000000e+00,\n",
       "        0.00000000e+00,  0.00000000e+00,  0.00000000e+00,  0.00000000e+00,\n",
       "        0.00000000e+00,  0.00000000e+00,  0.00000000e+00,  0.00000000e+00,\n",
       "        0.00000000e+00,  0.00000000e+00,  0.00000000e+00,  0.00000000e+00,\n",
       "        0.00000000e+00,  0.00000000e+00,  0.00000000e+00,  0.00000000e+00,\n",
       "        0.00000000e+00,  0.00000000e+00,  0.00000000e+00,  0.00000000e+00,\n",
       "        0.00000000e+00,  0.00000000e+00,  0.00000000e+00,  0.00000000e+00,\n",
       "        0.00000000e+00,  0.00000000e+00,  0.00000000e+00,  0.00000000e+00,\n",
       "        0.00000000e+00,  0.00000000e+00,  0.00000000e+00,  0.00000000e+00,\n",
       "        0.00000000e+00,  0.00000000e+00,  0.00000000e+00,  0.00000000e+00,\n",
       "        0.00000000e+00,  0.00000000e+00,  0.00000000e+00,  0.00000000e+00,\n",
       "        0.00000000e+00,  0.00000000e+00,  0.00000000e+00,  0.00000000e+00,\n",
       "        0.00000000e+00,  0.00000000e+00,  0.00000000e+00,  0.00000000e+00,\n",
       "        0.00000000e+00,  0.00000000e+00,  0.00000000e+00,  0.00000000e+00,\n",
       "        0.00000000e+00,  0.00000000e+00,  0.00000000e+00,  0.00000000e+00,\n",
       "        0.00000000e+00,  0.00000000e+00,  0.00000000e+00,  0.00000000e+00,\n",
       "        0.00000000e+00,  0.00000000e+00,  0.00000000e+00,  0.00000000e+00,\n",
       "        0.00000000e+00,  0.00000000e+00,  0.00000000e+00,  0.00000000e+00,\n",
       "        0.00000000e+00,  0.00000000e+00,  0.00000000e+00,  0.00000000e+00,\n",
       "        0.00000000e+00,  0.00000000e+00,  0.00000000e+00,  0.00000000e+00,\n",
       "        0.00000000e+00,  0.00000000e+00,  0.00000000e+00,  0.00000000e+00,\n",
       "        0.00000000e+00,  0.00000000e+00,  0.00000000e+00,  0.00000000e+00,\n",
       "        0.00000000e+00,  0.00000000e+00,  0.00000000e+00,  0.00000000e+00,\n",
       "        0.00000000e+00,  0.00000000e+00,  0.00000000e+00,  0.00000000e+00,\n",
       "        0.00000000e+00,  0.00000000e+00,  0.00000000e+00,  0.00000000e+00,\n",
       "        0.00000000e+00,  0.00000000e+00,  0.00000000e+00,  0.00000000e+00,\n",
       "        0.00000000e+00,  0.00000000e+00,  0.00000000e+00,  0.00000000e+00,\n",
       "        0.00000000e+00,  0.00000000e+00,  0.00000000e+00,  0.00000000e+00,\n",
       "        0.00000000e+00,  0.00000000e+00,  0.00000000e+00,  0.00000000e+00,\n",
       "        0.00000000e+00,  0.00000000e+00,  0.00000000e+00,  0.00000000e+00,\n",
       "        0.00000000e+00,  0.00000000e+00,  0.00000000e+00,  0.00000000e+00,\n",
       "        0.00000000e+00,  0.00000000e+00,  0.00000000e+00,  0.00000000e+00,\n",
       "        0.00000000e+00,  0.00000000e+00,  0.00000000e+00,  0.00000000e+00,\n",
       "        0.00000000e+00,  0.00000000e+00,  0.00000000e+00,  0.00000000e+00,\n",
       "        0.00000000e+00,  0.00000000e+00,  0.00000000e+00,  0.00000000e+00,\n",
       "        0.00000000e+00,  0.00000000e+00,  0.00000000e+00,  0.00000000e+00,\n",
       "        0.00000000e+00,  0.00000000e+00,  0.00000000e+00,  0.00000000e+00,\n",
       "        0.00000000e+00,  0.00000000e+00,  0.00000000e+00,  0.00000000e+00,\n",
       "        0.00000000e+00,  0.00000000e+00,  0.00000000e+00,  0.00000000e+00,\n",
       "        0.00000000e+00,  0.00000000e+00,  0.00000000e+00,  0.00000000e+00,\n",
       "        0.00000000e+00,  0.00000000e+00,  0.00000000e+00,  0.00000000e+00,\n",
       "        0.00000000e+00,  0.00000000e+00,  0.00000000e+00,  0.00000000e+00])"
      ]
     },
     "execution_count": 47,
     "metadata": {},
     "output_type": "execute_result"
    }
   ],
   "source": [
    "H['Hff'][:,1]"
   ]
  },
  {
   "cell_type": "code",
   "execution_count": 48,
   "metadata": {},
   "outputs": [
    {
     "data": {
      "text/plain": [
       "array([ 0.00000000e+00,  2.03603400e+10,  0.00000000e+00,  0.00000000e+00,\n",
       "        3.07945003e+08,  0.00000000e+00,  0.00000000e+00,  0.00000000e+00,\n",
       "        0.00000000e+00,  0.00000000e+00,  0.00000000e+00,  0.00000000e+00,\n",
       "        0.00000000e+00,  0.00000000e+00,  0.00000000e+00,  1.11514809e+10,\n",
       "        0.00000000e+00, -5.40707205e+09,  0.00000000e+00,  0.00000000e+00,\n",
       "       -1.37717192e+08,  0.00000000e+00,  0.00000000e+00,  0.00000000e+00,\n",
       "        0.00000000e+00,  0.00000000e+00,  0.00000000e+00,  0.00000000e+00,\n",
       "        0.00000000e+00,  0.00000000e+00,  0.00000000e+00,  0.00000000e+00,\n",
       "        0.00000000e+00,  0.00000000e+00,  0.00000000e+00,  0.00000000e+00,\n",
       "        0.00000000e+00,  0.00000000e+00,  0.00000000e+00,  0.00000000e+00,\n",
       "        0.00000000e+00,  0.00000000e+00,  0.00000000e+00,  0.00000000e+00,\n",
       "        0.00000000e+00,  0.00000000e+00,  0.00000000e+00,  0.00000000e+00,\n",
       "        0.00000000e+00,  0.00000000e+00,  0.00000000e+00,  0.00000000e+00,\n",
       "        0.00000000e+00,  0.00000000e+00,  0.00000000e+00,  0.00000000e+00,\n",
       "        0.00000000e+00,  0.00000000e+00,  0.00000000e+00,  0.00000000e+00,\n",
       "        0.00000000e+00,  0.00000000e+00,  0.00000000e+00,  0.00000000e+00,\n",
       "        0.00000000e+00,  0.00000000e+00,  0.00000000e+00,  0.00000000e+00,\n",
       "        0.00000000e+00,  0.00000000e+00,  0.00000000e+00,  0.00000000e+00,\n",
       "        0.00000000e+00,  0.00000000e+00,  0.00000000e+00,  0.00000000e+00,\n",
       "        0.00000000e+00,  0.00000000e+00,  0.00000000e+00,  0.00000000e+00,\n",
       "        0.00000000e+00,  0.00000000e+00,  0.00000000e+00,  0.00000000e+00,\n",
       "        0.00000000e+00,  0.00000000e+00,  0.00000000e+00,  0.00000000e+00,\n",
       "        0.00000000e+00,  0.00000000e+00,  0.00000000e+00,  0.00000000e+00,\n",
       "        0.00000000e+00,  0.00000000e+00,  0.00000000e+00,  0.00000000e+00,\n",
       "        0.00000000e+00,  0.00000000e+00,  0.00000000e+00,  0.00000000e+00,\n",
       "        0.00000000e+00,  0.00000000e+00,  0.00000000e+00,  0.00000000e+00,\n",
       "        0.00000000e+00,  0.00000000e+00,  0.00000000e+00,  0.00000000e+00,\n",
       "        0.00000000e+00,  0.00000000e+00,  0.00000000e+00,  0.00000000e+00,\n",
       "        0.00000000e+00,  0.00000000e+00,  0.00000000e+00,  0.00000000e+00,\n",
       "        0.00000000e+00,  0.00000000e+00,  0.00000000e+00,  0.00000000e+00,\n",
       "        0.00000000e+00,  0.00000000e+00,  0.00000000e+00,  0.00000000e+00,\n",
       "        0.00000000e+00,  0.00000000e+00,  0.00000000e+00,  0.00000000e+00,\n",
       "        0.00000000e+00,  0.00000000e+00,  0.00000000e+00,  0.00000000e+00,\n",
       "        0.00000000e+00,  0.00000000e+00,  0.00000000e+00,  0.00000000e+00,\n",
       "        0.00000000e+00,  0.00000000e+00,  0.00000000e+00,  0.00000000e+00,\n",
       "        0.00000000e+00,  0.00000000e+00,  0.00000000e+00,  0.00000000e+00,\n",
       "        0.00000000e+00,  0.00000000e+00,  0.00000000e+00,  0.00000000e+00,\n",
       "        0.00000000e+00,  0.00000000e+00,  0.00000000e+00,  0.00000000e+00,\n",
       "        0.00000000e+00,  0.00000000e+00,  0.00000000e+00,  0.00000000e+00,\n",
       "        0.00000000e+00,  0.00000000e+00,  0.00000000e+00,  0.00000000e+00,\n",
       "        0.00000000e+00,  0.00000000e+00,  0.00000000e+00,  0.00000000e+00,\n",
       "        0.00000000e+00,  0.00000000e+00,  0.00000000e+00,  0.00000000e+00,\n",
       "        0.00000000e+00,  0.00000000e+00,  0.00000000e+00,  0.00000000e+00,\n",
       "        0.00000000e+00,  0.00000000e+00,  0.00000000e+00,  0.00000000e+00,\n",
       "        0.00000000e+00,  0.00000000e+00,  0.00000000e+00,  0.00000000e+00,\n",
       "        0.00000000e+00,  0.00000000e+00,  0.00000000e+00,  0.00000000e+00,\n",
       "        0.00000000e+00,  0.00000000e+00,  0.00000000e+00,  0.00000000e+00,\n",
       "        0.00000000e+00,  0.00000000e+00,  0.00000000e+00,  0.00000000e+00])"
      ]
     },
     "execution_count": 48,
     "metadata": {},
     "output_type": "execute_result"
    }
   ],
   "source": [
    "H['Hff'][1,:]"
   ]
  }
 ],
 "metadata": {
  "kernelspec": {
   "display_name": "Python 3",
   "language": "python",
   "name": "python3"
  },
  "language_info": {
   "codemirror_mode": {
    "name": "ipython",
    "version": 3
   },
   "file_extension": ".py",
   "mimetype": "text/x-python",
   "name": "python",
   "nbconvert_exporter": "python",
   "pygments_lexer": "ipython3",
   "version": "3.6.5"
  }
 },
 "nbformat": 4,
 "nbformat_minor": 2
}
