{
 "cells": [
  {
   "cell_type": "markdown",
   "metadata": {},
   "source": [
    "# TlF B state Hamiltonian\n",
    "## Intro\n",
    "This notebook evaluates the Hamiltonian for the B state of thallium fluoride."
   ]
  },
  {
   "cell_type": "code",
   "execution_count": 1,
   "metadata": {},
   "outputs": [],
   "source": [
    "import numpy as np\n",
    "import sympy\n",
    "from sympy import sqrt\n",
    "import multiprocessing\n",
    "import pickle"
   ]
  },
  {
   "cell_type": "markdown",
   "metadata": {},
   "source": [
    "### Representing the states\n",
    "\n",
    "A state, in general, can be written as a weighted superposition of the basis states. We work in the basis $|J, m_J, I_1, m_1, I_2, m_2\\rangle$.\n",
    "\n",
    "The operations we can define on the basis states are:\n",
    "\n",
    "- construction: e.g. calling `BasisState(QN)` creates a basis state with quantum numbers `QN = (J, mJ, I1, m1, I2, m2)`;\n",
    "- equality testing;\n",
    "- inner product, returning either 0 or 1;\n",
    "- superposition and scalar multiplication, returning a `State` object\n",
    "- a convenience function to print out all quantum numbers"
   ]
  },
  {
   "cell_type": "code",
   "execution_count": 2,
   "metadata": {},
   "outputs": [],
   "source": [
    "class BasisState:\n",
    "    # constructor\n",
    "    def __init__(self, J, mJ, I1, m1, I2, m2):\n",
    "        self.J, self.mJ  = J, mJ\n",
    "        self.I1, self.m1 = I1, m1\n",
    "        self.I2, self.m2 = I2, m2\n",
    "\n",
    "    # equality testing\n",
    "    def __eq__(self, other):\n",
    "        return self.J==other.J and self.mJ==other.mJ \\\n",
    "                    and self.I1==other.I1 and self.I2==other.I2 \\\n",
    "                    and self.m1==other.m1 and self.m2==other.m2\n",
    "\n",
    "    # inner product\n",
    "    def __matmul__(self, other):\n",
    "        if self == other:\n",
    "            return 1\n",
    "        else:\n",
    "            return 0\n",
    "\n",
    "    # superposition: addition\n",
    "    def __add__(self, other):\n",
    "        if self == other:\n",
    "            return State([ (2,self) ])\n",
    "        else:\n",
    "            return State([\n",
    "                (1,self), (1,other)\n",
    "            ])\n",
    "\n",
    "    # superposition: subtraction\n",
    "    def __sub__(self, other):\n",
    "        return self + (-1)*other\n",
    "\n",
    "    # scalar product (psi * a)\n",
    "    def __mul__(self, a):\n",
    "        return State([ (a, self) ])\n",
    "\n",
    "    # scalar product (a * psi)\n",
    "    def __rmul__(self, a):\n",
    "        return self * a\n",
    "    \n",
    "    def print_quantum_numbers(self):\n",
    "        print( self.J,\"%+d\"%self.mJ,\"%+0.1f\"%self.m1,\"%+0.1f\"%self.m2 )"
   ]
  },
  {
   "cell_type": "markdown",
   "metadata": {},
   "source": [
    "A general state `State` can have any number of components, so let's represent it as an list of pairs `(amp, psi)`, where `amp` is the relative amplitude of a component, and `psi` is a basis state. The same component must not appear twice on the list.\n",
    "\n",
    "There are three operations we can define on the states:\n",
    "\n",
    "- construction\n",
    "- superposition: concatenate component arrays and return a `State`\n",
    "- scalar multiplication `a * psi` and `psi * a`, division, negation\n",
    "- component-wise inner product `psi1 @ psi2`, where `psi1` is a bra, and `psi2` a ket, returning a complex number\n",
    "\n",
    "In addition, I define an iterator method to loop through the components, and the `__getitem__()` method to access the components (which are not necessarily in any particular order!). See [Classes/Iterators](https://docs.python.org/3/tutorial/classes.html#iterators) for details."
   ]
  },
  {
   "cell_type": "code",
   "execution_count": 3,
   "metadata": {},
   "outputs": [],
   "source": [
    "class State:\n",
    "    # constructor\n",
    "    def __init__(self, data=[], remove_zero_amp_cpts=True):\n",
    "        # check for duplicates\n",
    "        for i in range(len(data)):\n",
    "            amp1,cpt1 = data[i][0], data[i][1]\n",
    "            for amp2,cpt2 in data[i+1:]:\n",
    "                if cpt1 == cpt2:\n",
    "                    raise AssertionError(\"duplicate components!\")\n",
    "        # remove components with zero amplitudes\n",
    "        if remove_zero_amp_cpts:\n",
    "            self.data = [(amp,cpt) for amp,cpt in data if amp!=0]\n",
    "        else:\n",
    "            self.data = data\n",
    "        # for iteration over the State\n",
    "        self.index = len(self.data)\n",
    "\n",
    "    # superposition: addition\n",
    "    # (highly inefficient and ugly but should work)\n",
    "    def __add__(self, other):\n",
    "        data = []\n",
    "        # add components that are in self but not in other\n",
    "        for amp1,cpt1 in self.data:\n",
    "            only_in_self = True\n",
    "            for amp2,cpt2 in other.data:\n",
    "                if cpt2 == cpt1:\n",
    "                    only_in_self = False\n",
    "            if only_in_self:\n",
    "                data.append((amp1,cpt1))\n",
    "        # add components that are in other but not in self\n",
    "        for amp1,cpt1 in other.data:\n",
    "            only_in_other = True\n",
    "            for amp2,cpt2 in self.data:\n",
    "                if cpt2 == cpt1:\n",
    "                    only_in_other = False\n",
    "            if only_in_other:\n",
    "                data.append((amp1,cpt1))\n",
    "        # add components that are both in self and in other\n",
    "        for amp1,cpt1 in self.data:\n",
    "            for amp2,cpt2 in other.data:\n",
    "                if cpt2 == cpt1:\n",
    "                    data.append((amp1+amp2,cpt1))\n",
    "        return State(data)\n",
    "                \n",
    "    # superposition: subtraction\n",
    "    def __sub__(self, other):\n",
    "        return self + -1*other\n",
    "\n",
    "    # scalar product (psi * a)\n",
    "    def __mul__(self, a):\n",
    "        return State( [(a*amp,psi) for amp,psi in self.data] )\n",
    "\n",
    "    # scalar product (a * psi)\n",
    "    def __rmul__(self, a):\n",
    "        return self * a\n",
    "    \n",
    "    # scalar division (psi / a)\n",
    "    def __truediv__(self, a):\n",
    "        return self * (1/a)\n",
    "    \n",
    "    # negation\n",
    "    def __neg__(self):\n",
    "        return -1 * self\n",
    "    \n",
    "    # inner product\n",
    "    def __matmul__(self, other):\n",
    "        result = 0\n",
    "        for amp1,psi1 in self.data:\n",
    "            for amp2,psi2 in other.data:\n",
    "                result += amp1.conjugate()*amp2 * (psi1@psi2)\n",
    "        return result\n",
    "\n",
    "    # iterator methods\n",
    "    def __iter__(self):\n",
    "        return self\n",
    "    \n",
    "    def __next__(self):\n",
    "        if self.index == 0:\n",
    "            raise StopIteration\n",
    "        self.index -= 1\n",
    "        return self.data[self.index]\n",
    "    \n",
    "    # direct access to a component\n",
    "    def __getitem__(self, i):\n",
    "        return self.data[i]"
   ]
  },
  {
   "cell_type": "markdown",
   "metadata": {},
   "source": [
    "### Operators in Python\n",
    "\n",
    "Define QM operators as Python functions that take `BasisState` objects, and return `State` objects. Since we are interested in finding matrix elements, we only need the action of operators on the basis states (but it'd be easy to generalize using a `for` loop).\n",
    "\n",
    "The easiest operators to define are the diagonal ones $J^2, J_z, I_{1z}, I_{2z}$, which just multiply the state by their eigenvalue:"
   ]
  },
  {
   "cell_type": "code",
   "execution_count": 4,
   "metadata": {},
   "outputs": [],
   "source": [
    "def J2(psi):\n",
    "    return State([(psi.J*(psi.J+1),psi)])\n",
    "\n",
    "def Jz(psi):\n",
    "    return State([(psi.mJ,psi)])\n",
    "\n",
    "def I1z(psi):\n",
    "    return State([(psi.m1,psi)])\n",
    "\n",
    "def I2z(psi):\n",
    "    return State([(psi.m2,psi)])"
   ]
  },
  {
   "cell_type": "markdown",
   "metadata": {},
   "source": [
    "The other angular momentum operators we can obtain through the ladder operators\n",
    "\n",
    "$$ J_\\pm=J_x\\pm iJ_y. $$\n",
    "\n",
    "These are defined through their action on the basis states as (Sakurai eqns 3.5.39-40)\n",
    "\n",
    "$$ J_\\pm|J,m\\rangle=\\sqrt{(j\\mp m)(j\\pm m+1)}|jm\\pm1\\rangle. $$\n",
    "\n",
    "Similarly, $I_{1\\pm},I_{2\\pm}$ act on the $|I_1,m_1\\rangle$ and $|I_2,m_2\\rangle$ subspaces in the same way."
   ]
  },
  {
   "cell_type": "code",
   "execution_count": 5,
   "metadata": {},
   "outputs": [],
   "source": [
    "def Jp(psi):\n",
    "    amp = sqrt((psi.J-psi.mJ)*(psi.J+psi.mJ+1))\n",
    "    ket = BasisState(psi.J, psi.mJ+1, psi.I1, psi.m1, psi.I2, psi.m2)\n",
    "    return State([(amp,ket)])\n",
    "\n",
    "def Jm(psi):\n",
    "    amp = sqrt((psi.J+psi.mJ)*(psi.J-psi.mJ+1))\n",
    "    ket = BasisState(psi.J, psi.mJ-1, psi.I1, psi.m1, psi.I2, psi.m2)\n",
    "    return State([(amp,ket)])\n",
    "\n",
    "def I1p(psi):\n",
    "    amp = sqrt((psi.I1-psi.m1)*(psi.I1+psi.m1+1))\n",
    "    ket = BasisState(psi.J, psi.mJ, psi.I1, psi.m1+1, psi.I2, psi.m2)\n",
    "    return State([(amp,ket)])\n",
    "\n",
    "def I1m(psi):\n",
    "    amp = sqrt((psi.I1+psi.m1)*(psi.I1-psi.m1+1))\n",
    "    ket = BasisState(psi.J, psi.mJ, psi.I1, psi.m1-1, psi.I2, psi.m2)\n",
    "    return State([(amp,ket)])\n",
    "\n",
    "def I2p(psi):\n",
    "    amp = sqrt((psi.I2-psi.m2)*(psi.I2+psi.m2+1))\n",
    "    ket = BasisState(psi.J, psi.mJ, psi.I1, psi.m1, psi.I2, psi.m2+1)\n",
    "    return State([(amp,ket)])\n",
    "\n",
    "def I2m(psi):\n",
    "    amp = sqrt((psi.I2+psi.m2)*(psi.I2-psi.m2+1))\n",
    "    ket = BasisState(psi.J, psi.mJ, psi.I1, psi.m1, psi.I2, psi.m2-1)\n",
    "    return State([(amp,ket)])"
   ]
  },
  {
   "cell_type": "markdown",
   "metadata": {},
   "source": [
    "In terms of the above-defined ladder operators, we can write\n",
    "\n",
    "$$J_x=\\frac{1}{2}(J_++J_-);\\quad\n",
    "J_y=\\frac{1}{2i}(J_+-J_-),$$\n",
    "\n",
    "and similarly for $I_{1x}, I_{1y}$ and $I_{2x}, I_{2y}$."
   ]
  },
  {
   "cell_type": "code",
   "execution_count": 6,
   "metadata": {},
   "outputs": [],
   "source": [
    "def Jx(psi):\n",
    "    return half*( Jp(psi) + Jm(psi) )\n",
    "\n",
    "def Jy(psi):\n",
    "    return -half*1j*( Jp(psi) - Jm(psi) )\n",
    "\n",
    "def I1x(psi):\n",
    "    return half*( I1p(psi) + I1m(psi) )\n",
    "\n",
    "def I1y(psi):\n",
    "    return -half*1j*( I1p(psi) - I1m(psi) )\n",
    "\n",
    "def I2x(psi):\n",
    "    return half*( I2p(psi) + I2m(psi) )\n",
    "\n",
    "def I2y(psi):\n",
    "    return -half*1j*( I2p(psi) - I2m(psi) )"
   ]
  },
  {
   "cell_type": "markdown",
   "metadata": {},
   "source": [
    "### Composition of operators\n",
    "\n",
    "All operators defined above can only accept `BasisStates` as their inputs, and they all return `States` as output. To allow composition of operators,\n",
    "\n",
    "$$\\hat A\\hat B|\\psi\\rangle=\\hat A(\\hat B(|\\psi\\rangle)),$$\n",
    "\n",
    "define the following function."
   ]
  },
  {
   "cell_type": "code",
   "execution_count": 7,
   "metadata": {},
   "outputs": [],
   "source": [
    "def com(A, B, psi):\n",
    "    ABpsi = State()\n",
    "    # operate with A on all components in B|psi>\n",
    "    for amp,cpt in B(psi):\n",
    "        ABpsi += amp * A(cpt)\n",
    "    return ABpsi"
   ]
  },
  {
   "cell_type": "markdown",
   "metadata": {},
   "source": [
    "### Rotational term\n",
    "\n",
    "The simplest term in the Hamiltonian simply gives the rotational levels:\n",
    "\n",
    "$$H_\\text{rot}=B_\\text{rot}\\vec J^2.$$"
   ]
  },
  {
   "cell_type": "code",
   "execution_count": 8,
   "metadata": {},
   "outputs": [],
   "source": [
    "def Hrot(psi):\n",
    "    return Brot * J2(psi)"
   ]
  },
  {
   "cell_type": "markdown",
   "metadata": {},
   "source": [
    "### Electron magnetic hyperfine operator\n",
    "Since the B state is a triplet pi state, it has electron magnetic hyperfine structure. The coupling is described by the Hamiltonian $ H_{\\mathrm{mhf}} = a\\, \\mathbf{I} \\cdot \\mathbf{L} + b\\, \\mathbf{I} \\cdot \\mathbf{S} +c \\,I_z\\, S_z  $ which reduces to $ H_{\\mathrm{mhf}}^{eff} =  [a \\,L_z + (b+c)\\, S_z]\\,I_z = h_\\Omega \\, I_z $ since the raising and lowering operators for L and S (electron orbital and spin angular momentum) only couple different electronic states which are very far in energy and thus the effect of the off-diagonal elements is strongly suppressed. The z-direction in $I_z$ is along the internuclear axis of the molecule and therefore when evaluating the matrix elements one needs to rotate the spin operator to the lab fixed frame. This results in non-zero matrix elements between states with different J.\n",
    "\n",
    "In the uncoupled basis these matrix elements are given by\n",
    "\n",
    "\\begin{equation*}\n",
    "\\mathrm{<J, m_J, \\Omega, I_1, m_1, I_2, m_2 |\\, I_z(Tl)\\, | J', m'_J, \\Omega', I'_1, m'_1, I'_2, m'_2>} \\\\\n",
    "= - \n",
    "\\begin{pmatrix}\n",
    "J & 1 & J' \\\\\n",
    "-\\Omega & 0 & \\Omega'\n",
    "\\end{pmatrix}\n",
    "\\lbrack (2J+1)(2J'+1)I_1(I_1+1)(2I_1+1) \\rbrack^{\\frac{1}{2}} \\delta_{I_2,I'_2} \\delta_{m_2,m'_2} \\\\\n",
    "\\sum_{p=\\,-1}^{+1} (-1)^{p-m_J+I_1-m_1}\n",
    "\\begin{pmatrix}\n",
    "J & 1 & J' \\\\\n",
    "-m_J & -p & m'_J\n",
    "\\end{pmatrix}\n",
    "\\begin{pmatrix}\n",
    "I_1 & 1 & I'_1 \\\\\n",
    "-m_1 & p & m'_1\n",
    "\\end{pmatrix}\n",
    "\\end{equation*}\n",
    "\n",
    "for Tl and \n",
    "\n",
    "\\begin{equation*}\n",
    "\\mathrm{<J, m_J, \\Omega, I_1, m_1, I_2, m_2 |\\, I_z(Tl)\\, | J', m'_J, \\Omega', I'_1, m'_1, I'_2, m'_2>} \\\\\n",
    "= - \n",
    "\\begin{pmatrix}\n",
    "J & 1 & J' \\\\\n",
    "-\\Omega & 0 & \\Omega'\n",
    "\\end{pmatrix}\n",
    "\\lbrack (2J+1)(2J'+1)I_2(I_2+1)(2I_2+1) \\rbrack^{\\frac{1}{2}} \\delta_{I_1,I'_1} \\delta_{m_1,m'_1} \\\\\n",
    "\\sum_{p=\\,-1}^{+1} (-1)^{p-m_J+I_2-m_2}\n",
    "\\begin{pmatrix}\n",
    "J & 1 & J' \\\\\n",
    "-m_J & -p & m'_J\n",
    "\\end{pmatrix}\n",
    "\\begin{pmatrix}\n",
    "I_2 & 1 & I'_2 \\\\\n",
    "-m_2 & p & m'_2\n",
    "\\end{pmatrix}\n",
    "\\end{equation*}\n",
    "\n",
    "for F"
   ]
  },
  {
   "cell_type": "code",
   "execution_count": 9,
   "metadata": {},
   "outputs": [],
   "source": [
    "#Import Wigner 3j symbol\n",
    "from sympy.physics.wigner import wigner_3j\n",
    "\n",
    "def H_mhf_Tl(psi):\n",
    "    #Find the quantum numbers of the input state\n",
    "    J = psi.J\n",
    "    mJ = psi.mJ\n",
    "    I1 = psi.I1\n",
    "    m1 = psi.m1\n",
    "    I2 = psi.I2\n",
    "    m2 = psi.m2\n",
    "    omega = 1\n",
    "    \n",
    "    #I1, I2 and m2 must be the same for non-zero matrix element\n",
    "    I2prime = I2\n",
    "    m2prime = m2\n",
    "    I1prime = I1\n",
    "    \n",
    "    #Initialize container for storing states and matrix elements\n",
    "    data = []\n",
    "    \n",
    "    #Loop over the possible values of quantum numbers for which the matrix element can be non-zero\n",
    "    #Need Jprime = J+1 ... |J-1|\n",
    "    for Jprime in np.arange(np.abs(J-1), J+2):\n",
    "        #Evaluate the part of the matrix element that is common for all p\n",
    "        common_coefficient = -h1_Tl*wigner_3j(J, 1, Jprime, -omega, 0, omega)*sqrt((2*J+1)*(2*Jprime+1)*I1*(I1+1)*(2*I1+1))\n",
    "        \n",
    "        #Loop over the spherical tensor components of I1:\n",
    "        for p in np.arange(-1,2):\n",
    "            #To have non-zero matrix element need mJ-p = mJprime\n",
    "            mJprime = mJ + p\n",
    "            \n",
    "            #Also need m2 - p = m2prime\n",
    "            m1prime = m1 - p\n",
    "            \n",
    "            #Check that mJprime and m2prime are physical\n",
    "            if np.abs(mJprime) <= Jprime and np.abs(m1prime) <= I1prime:\n",
    "                #Calculate rest of matrix element\n",
    "                p_factor = ((-1)**(p-mJ+I1-m1)*wigner_3j(J, 1, Jprime, -mJ, -p, mJprime)\n",
    "                               *wigner_3j(I1, 1, I1prime, -m1, p, m1prime))\n",
    "                               \n",
    "                amp = common_coefficient*p_factor\n",
    "                basis_state = BasisState(Jprime, mJprime, I1prime, m1prime, I2prime, m2prime)\n",
    "                if amp != 0:\n",
    "                    data.append((amp, basis_state))\n",
    "    \n",
    "    return State(data)\n",
    "            "
   ]
  },
  {
   "cell_type": "code",
   "execution_count": 10,
   "metadata": {},
   "outputs": [],
   "source": [
    "def H_mhf_F(psi):\n",
    "    #Find the quantum numbers of the input state\n",
    "    J = psi.J\n",
    "    mJ = psi.mJ\n",
    "    I1 = psi.I1\n",
    "    m1 = psi.m1\n",
    "    I2 = psi.I2\n",
    "    m2 = psi.m2\n",
    "    omega = 1\n",
    "    \n",
    "    #I1, I2 and m1 must be the same for non-zero matrix element\n",
    "    I1prime = I1\n",
    "    m1prime = m1\n",
    "    I2prime = I2\n",
    "    \n",
    "    #Initialize container for storing states and matrix elements\n",
    "    data = []\n",
    "    \n",
    "    #Loop over the possible values of quantum numbers for which the matrix element can be non-zero\n",
    "    #Need Jprime = J+1 ... |J-1|\n",
    "    for Jprime in np.arange(np.abs(J-1), J+2):\n",
    "        #Evaluate the part of the matrix element that is common for all p\n",
    "        common_coefficient = -h1_F*wigner_3j(J, 1, Jprime, -omega, 0, omega)*sqrt((2*J+1)*(2*Jprime+1)*I2*(I2+1)*(2*I2+1))\n",
    "        \n",
    "        #Loop over the spherical tensor components of I2:\n",
    "        for p in np.arange(-1,2):\n",
    "            #To have non-zero matrix element need mJ-p = mJprime\n",
    "            mJprime = mJ + p\n",
    "            \n",
    "            #Also need m2 - p = m2prime\n",
    "            m2prime = m2 - p\n",
    "            \n",
    "            #Check that mJprime and m2prime are physical\n",
    "            if np.abs(mJprime) <= Jprime and np.abs(m2prime) <= I2prime:\n",
    "                #Calculate rest of matrix element\n",
    "                p_factor = ((-1)**(p-mJ+I2-m2)*wigner_3j(J, 1, Jprime, -mJ, -p, mJprime)\n",
    "                               *wigner_3j(I2, 1, I2prime, -m2, p, m2prime))\n",
    "                               \n",
    "                amp = common_coefficient*p_factor\n",
    "                basis_state = BasisState(Jprime, mJprime, I1prime, m1prime, I2prime, m2prime)\n",
    "                if amp != 0:\n",
    "                    data.append((amp, basis_state))\n",
    "        \n",
    "        \n",
    "    return State(data)"
   ]
  },
  {
   "cell_type": "code",
   "execution_count": 11,
   "metadata": {},
   "outputs": [],
   "source": [
    "def Hff(psi):\n",
    "    return Hrot(psi) + H_mhf_Tl(psi) + H_mhf_F(psi)"
   ]
  },
  {
   "cell_type": "markdown",
   "metadata": {},
   "source": [
    "### Finding the matrix elements\n",
    "\n",
    "With all the operators defined, we can evaluate the matrix elements for a given range of quantum numbers. We shall need to generate a non-integer range list (e.g., from -3/2 to +3/2):"
   ]
  },
  {
   "cell_type": "code",
   "execution_count": 12,
   "metadata": {},
   "outputs": [],
   "source": [
    "def ni_range(x0, x1, dx=1):\n",
    "    # sanity check arguments\n",
    "    if dx==0:\n",
    "        raise ValueError(\"invalid parameters: dx==0\")\n",
    "    if x0>x1 and dx>=0:\n",
    "        raise ValueError(\"invalid parameters: x0>x1 and dx>=0\")\n",
    "    if x0<x1 and dx<=0:\n",
    "        raise ValueError(\"invalid parameters: x0<x1 and dx<=0\")\n",
    "        \n",
    "    # generate range list\n",
    "    range_list = []\n",
    "    x = x0\n",
    "    while x < x1:\n",
    "        range_list.append(sympy.Number(x))\n",
    "        x += dx\n",
    "    return range_list"
   ]
  },
  {
   "cell_type": "markdown",
   "metadata": {},
   "source": [
    "Define constants for TlF:"
   ]
  },
  {
   "cell_type": "code",
   "execution_count": 17,
   "metadata": {},
   "outputs": [],
   "source": [
    "half = sympy.Rational(1,2)\n",
    "#half = 0.5\n",
    "\n",
    "Jmin = sympy.Integer(1)\n",
    "Jmax = sympy.Integer(3) # max J value in Hamiltonian\n",
    "#Jmax = 6\n",
    "I_Tl = half             # I1 in Ramsey's notation\n",
    "I_F  = half             # I2 in Ramsey's notation\n",
    "\n",
    "Brot = sympy.symbols('Brot')\n",
    "h1_Tl, h1_F = sympy.symbols('h1_Tl h1_F')\n",
    "c1, c2, c3, c4 = sympy.symbols('c1 c2 c3 c4')\n",
    "D_TlF = sympy.symbols('D_TlF')\n",
    "mu_J, mu_Tl, mu_F = sympy.symbols('mu_J mu_Tl mu_F')"
   ]
  },
  {
   "cell_type": "markdown",
   "metadata": {},
   "source": [
    " Write down the basis as a list of `BasisState` components:"
   ]
  },
  {
   "cell_type": "code",
   "execution_count": 18,
   "metadata": {},
   "outputs": [],
   "source": [
    "QN = [BasisState(J,mJ,I_Tl,m1,I_F,m2)\n",
    "      for J  in ni_range(Jmin, Jmax+1)\n",
    "      for mJ in ni_range(-J,J+1)\n",
    "      for m1 in ni_range(-I_Tl,I_Tl+1)\n",
    "      for m2 in ni_range(-I_F,I_F+1)\n",
    "     ]\n",
    "\n",
    "#Write down a basis where the mJ, m1 and m2 values all sum to zero so mF = 0\n",
    "# QN = []\n",
    "\n",
    "# for J in np.arange(Jmin, Jmax+1):\n",
    "#     for m1 in np.arange(-I_Tl,I_Tl+1):\n",
    "#         for m2 in np.arange(-I_F,I_F+1):\n",
    "#             mJ = -m1-m2\n",
    "            \n",
    "#             if np.abs(mJ) <= J:\n",
    "#                 QN.append(BasisState(J,mJ,I_Tl,m1,I_F,m2))"
   ]
  },
  {
   "cell_type": "markdown",
   "metadata": {},
   "source": [
    "The field-free and Stark/Zeeman components of the Hamiltonian then have the matrix elements (evaluate using `multiprocessing` to speed things up)"
   ]
  },
  {
   "cell_type": "code",
   "execution_count": 19,
   "metadata": {},
   "outputs": [
    {
     "name": "stderr",
     "output_type": "stream",
     "text": [
      "60it [00:26,  2.30it/s]"
     ]
    },
    {
     "name": "stdout",
     "output_type": "stream",
     "text": [
      "Wall time: 26.1 s\n"
     ]
    },
    {
     "name": "stderr",
     "output_type": "stream",
     "text": [
      "\n"
     ]
    }
   ],
   "source": [
    "%%time\n",
    "from tqdm import tqdm\n",
    "\n",
    "def HMatElems(H, QN=QN):\n",
    "    result = sympy.zeros(len(QN),len(QN))\n",
    "    for i,a in tqdm(enumerate(QN)):\n",
    "        for j,b in enumerate(QN):\n",
    "            result[i,j] = (1*a)@H(b)\n",
    "            \n",
    "    return result\n",
    "\n",
    "H_ops = [Hff]\n",
    "Hff_m = HMatElems(Hff)"
   ]
  },
  {
   "cell_type": "markdown",
   "metadata": {},
   "source": [
    "Store the result of the calculation as text files and Python `pickle`s:"
   ]
  },
  {
   "cell_type": "code",
   "execution_count": 20,
   "metadata": {},
   "outputs": [],
   "source": [
    "with open(\"B_hamiltonians_symbolic.py\", 'wb') as f:\n",
    "    pickle.dump(\n",
    "        {\n",
    "            \"Hff\" : Hff_m\n",
    "        },\n",
    "        f\n",
    "    )"
   ]
  },
  {
   "cell_type": "code",
   "execution_count": null,
   "metadata": {},
   "outputs": [],
   "source": [
    "with open(\"B_hamiltonians_symbolic.txt\", 'w') as f:\n",
    "    f.write(\n",
    "        str(\n",
    "            {\n",
    "                \"Hff\" : Hff_m\n",
    "            }\n",
    "        )\n",
    "    )"
   ]
  },
  {
   "cell_type": "code",
   "execution_count": null,
   "metadata": {},
   "outputs": [],
   "source": []
  }
 ],
 "metadata": {
  "kernelspec": {
   "display_name": "Python 3",
   "language": "python",
   "name": "python3"
  },
  "language_info": {
   "codemirror_mode": {
    "name": "ipython",
    "version": 3
   },
   "file_extension": ".py",
   "mimetype": "text/x-python",
   "name": "python",
   "nbconvert_exporter": "python",
   "pygments_lexer": "ipython3",
   "version": "3.7.6"
  }
 },
 "nbformat": 4,
 "nbformat_minor": 2
}
