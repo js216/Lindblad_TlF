{
 "cells": [
  {
   "cell_type": "markdown",
   "metadata": {},
   "source": [
    "# Branching ratios with uncertainties\n",
    "The goal of this notebook is to calculate the branching ratios and their uncertainties for spontaneous decay from the $B^3\\Pi_1$ state of TlF.\n",
    "\n",
    "Import packages:"
   ]
  },
  {
   "cell_type": "code",
   "execution_count": 38,
   "metadata": {},
   "outputs": [
    {
     "name": "stdout",
     "output_type": "stream",
     "text": [
      "The autoreload extension is already loaded. To reload it, use:\n",
      "  %reload_ext autoreload\n"
     ]
    }
   ],
   "source": [
    "%load_ext autoreload\n",
    "%autoreload 2\n",
    "\n",
    "import sys\n",
    "import pickle\n",
    "import numpy as np\n",
    "import sympy\n",
    "from numpy.random import normal\n",
    "from tqdm.notebook import tqdm\n",
    "import matplotlib.pyplot as plt\n",
    "%matplotlib notebook\n",
    "\n",
    "#Custom classes for defining molecular states and some convenience functions for them\n",
    "sys.path.append('./molecular-state-classes-and-functions/')\n",
    "from classes import UncoupledBasisState, CoupledBasisState, State\n",
    "from functions import (make_hamiltonian, make_hamiltonian_B, make_QN, ni_range, vector_to_state,\n",
    "                        find_state_idx_from_state, make_transform_matrix, matrix_to_states, reorder_evecs)\n",
    "\n",
    "#Some useful extra functions\n",
    "from extra_functions import calculate_BR, find_exact_states, find_exact_states_V"
   ]
  },
  {
   "cell_type": "markdown",
   "metadata": {},
   "source": [
    "## X-state hamiltonian\n",
    "Generate Hamiltonian for X-state"
   ]
  },
  {
   "cell_type": "code",
   "execution_count": 53,
   "metadata": {},
   "outputs": [],
   "source": [
    "#Load Hamiltonian from file\n",
    "H_X_uc = make_hamiltonian(\"./Saved Hamiltonians/TlF_X_state_hamiltonian_J0to4.pickle\")\n",
    "\n",
    "#Hamiltonian on file is in uncoupled angular momentum basis. Transform it to coupled.\n",
    "#Load transform matrix\n",
    "with open(\"./Saved Hamiltonians/UC_to_C_j0to4.pickle\",\"rb\") as f:\n",
    "    S_trans = pickle.load(f)\n",
    "\n",
    "#Transform matrix\n",
    "E = np.array((0,0,0))\n",
    "B = np.array((0,0,0.001)) #Very small magnetic field is used to ensure mF is a good quantum number \n",
    "H_X =  S_trans.conj().T @ H_X_uc(E, B) @ S_trans\n",
    "\n",
    "#Define basis to which the Hamiltonian was transformed\n",
    "Jmin = 0\n",
    "Jmax = 4\n",
    "I_F = 1/2\n",
    "I_Tl = 1/2\n",
    "QN_X = [CoupledBasisState(F,mF,F1,J,I_F,I_Tl, electronic_state='X', P = (-1)**J, Omega = 0)\n",
    "    for J  in ni_range(Jmin, Jmax+1)\n",
    "    for F1 in ni_range(np.abs(J-I_F),J+I_F+1)\n",
    "    for F in ni_range(np.abs(F1-I_Tl),F1+I_Tl+1)\n",
    "    for mF in ni_range(-F, F+1)\n",
    "    ]\n",
    "\n",
    "#Diagonalize the Hamiltonian (also making sure V is as close as identity matrix as possible\n",
    "# in terms of ordering of states)\n",
    "D, V = np.linalg.eigh(H_X)\n",
    "V_ref_X = np.eye(V.shape[0])\n",
    "D, V = reorder_evecs(V,D,V_ref_X)\n",
    "H_X_diag = V.conj().T @ H_X @ V\n",
    "\n",
    "#Define new basis based on eigenstates of H_X:\n",
    "QN_X_diag = matrix_to_states(V, QN_X)"
   ]
  },
  {
   "cell_type": "code",
   "execution_count": 54,
   "metadata": {},
   "outputs": [],
   "source": [
    "#Define what states are to be included in the simulation\n",
    "Js_g = [0,1,2,3,4] # J values to be included\n",
    "I_F = 1/2 #Fluorine nuclear spin\n",
    "I_Tl = 1/2 #Thallium nuclear spin\n",
    "\n",
    "#Generate a list of approximate ground states\n",
    "ground_states_approx = [1*CoupledBasisState(F,mF,F1,J,I_F,I_Tl, electronic_state='X', P = (-1)**J, Omega = 0)\n",
    "                  for J  in Js_g\n",
    "                  for F1 in ni_range(np.abs(J-I_F),J+I_F+1)\n",
    "                  for F in ni_range(np.abs(F1-I_Tl),F1+I_Tl+1)\n",
    "                  for mF in ni_range(-F, F+1)\n",
    "                 ]\n",
    "ground_states = find_exact_states(ground_states_approx, H_X_diag, QN_X_diag, V_ref = V_ref_X)\n",
    "\n",
    "#Define what states are to be included in the simulation\n",
    "J = 1\n",
    "F1 = 3/2\n",
    "F = 1\n",
    "#Generate a list of excited states\n",
    "excited_states_approx = [1*CoupledBasisState(F,mF,F1,J,I_F,I_Tl, electronic_state='B', P = -1, Omega = 1)\n",
    "                  for mF in ni_range(-F, F+1)\n",
    "                 ]"
   ]
  },
  {
   "cell_type": "markdown",
   "metadata": {},
   "source": [
    "## B-state Hamiltonian\n",
    "Generate Hamiltonian for B-state"
   ]
  },
  {
   "cell_type": "code",
   "execution_count": 199,
   "metadata": {},
   "outputs": [],
   "source": [
    "#Define the basis that the Hamiltonian is in\n",
    "Jmin = 1\n",
    "Jmax = 3\n",
    "I_F = 1/2\n",
    "I_Tl = 1/2\n",
    "Ps = [-1, 1]\n",
    "QN_B = [1*CoupledBasisState(F,mF,F1,J,I_F,I_Tl,P = P, Omega = 1, electronic_state='B')\n",
    "    for J  in ni_range(Jmin, Jmax+1)\n",
    "    for F1 in ni_range(np.abs(J-I_F),J+I_F+1)\n",
    "    for F in ni_range(np.abs(F1-I_Tl),F1+I_Tl+1)\n",
    "    for mF in ni_range(-F, F+1)\n",
    "    for P in Ps\n",
    "    ]"
   ]
  },
  {
   "cell_type": "code",
   "execution_count": 215,
   "metadata": {},
   "outputs": [],
   "source": [
    "#Load Hamiltonian from file\n",
    "# path = \"./Saved Hamiltonians/B_state_hamiltonian_J1to5_P_estates_separate.pickle\"\n",
    "#path = \"./Saved Hamiltonians/B_state_hamiltonian_J1to3_P_estates_separate.pickle\"\n",
    "path = \"./Saved Hamiltonians/B_hamiltonians_symbolic_coupled_P_1to3.pickle\"\n",
    "\n",
    "\n",
    "with open(path, 'rb') as f:\n",
    "    hamiltonians = pickle.load(f)\n",
    "\n",
    "    variables = [\n",
    "        *sympy.symbols('Brot Drot H_const'),\n",
    "        *sympy.symbols('h1_Tl h1_F'),\n",
    "        sympy.symbols('q'),\n",
    "        sympy.symbols('c_Tl'),\n",
    "        sympy.symbols('c1p_Tl'),\n",
    "        sympy.symbols('mu_B'),\n",
    "        *sympy.symbols('gS gL')\n",
    "    ]\n",
    "\n",
    "    lambdified_hamiltonians = {\n",
    "        H_name : sympy.lambdify(variables, H_matrix)\n",
    "        for H_name, H_matrix in hamiltonians.items()\n",
    "    }\n",
    "\n",
    "    #Constants in MHz\n",
    "    Brot = 1\n",
    "    Drot = 1\n",
    "    H_const = 1\n",
    "    h1_Tl = 1\n",
    "    h1_F = 1\n",
    "    q = 1\n",
    "    c_Tl = 1\n",
    "    c1p_Tl = 1\n",
    "    mu_B = 1\n",
    "    gL = 1\n",
    "    gS = 2\n",
    "\n",
    "    Hams_B = {\n",
    "        H_name : H_fn(\n",
    "            Brot, Drot, H_const,\n",
    "            h1_Tl, h1_F,\n",
    "            q,\n",
    "            c_Tl,\n",
    "            c1p_Tl,\n",
    "            mu_B,\n",
    "            gS, gL\n",
    "        )\n",
    "        for H_name, H_fn in lambdified_hamiltonians.items()\n",
    "    }"
   ]
  },
  {
   "cell_type": "code",
   "execution_count": 216,
   "metadata": {},
   "outputs": [
    {
     "data": {
      "text/plain": [
       "dict_keys(['Hrot', 'H_mhf_Tl', 'H_mhf_F', 'H_LD', 'H_cp1_Tl', 'H_c_Tl', 'HZz'])"
      ]
     },
     "execution_count": 216,
     "metadata": {},
     "output_type": "execute_result"
    }
   ],
   "source": [
    "Hams_B.keys()"
   ]
  },
  {
   "cell_type": "code",
   "execution_count": 202,
   "metadata": {},
   "outputs": [
    {
     "name": "stdout",
     "output_type": "stream",
     "text": [
      "<class 'numpy.ndarray'>\n",
      "<class 'numpy.ndarray'>\n",
      "<class 'numpy.ndarray'>\n",
      "<class 'numpy.ndarray'>\n",
      "<class 'numpy.ndarray'>\n",
      "<class 'numpy.ndarray'>\n",
      "<class 'numpy.ndarray'>\n",
      "<class 'numpy.ndarray'>\n",
      "<class 'numpy.ndarray'>\n",
      "<class 'numpy.ndarray'>\n"
     ]
    }
   ],
   "source": [
    "for key in list(H.keys()):\n",
    "    print(type(H[key]))"
   ]
  },
  {
   "cell_type": "code",
   "execution_count": 203,
   "metadata": {},
   "outputs": [
    {
     "data": {
      "text/plain": [
       "numpy.ndarray"
      ]
     },
     "execution_count": 203,
     "metadata": {},
     "output_type": "execute_result"
    }
   ],
   "source": [
    "type(H[\"Hrot\"])"
   ]
  },
  {
   "cell_type": "code",
   "execution_count": 204,
   "metadata": {},
   "outputs": [],
   "source": [
    "# Define a function that generates the B-state Hamiltonian for given constants\n",
    "def make_B_hamiltonian(H, Brot, Drot, H_const, h1_Tl, h1_F, q, c_Tl, c1p_Tl):\n",
    "    H_B = (2*np.pi*(Brot*H[\"Hrot\"] +h1_Tl*H[\"H_mhf_Tl\"]+h1_F*H[\"H_mhf_F\"]+c_Tl*H[\"H_c_Tl\"]\n",
    "                    +c1p_Tl*H[\"H_cp1_Tl\"]+q*H[\"H_LD\"]+H[\"HZz\"]*1))\n",
    "           \n",
    "    return H_B\n",
    "\n",
    "# def make_B_hamiltonian(H, Brot, Drot, H_const, h1_Tl, h1_F, q, c_Tl, c1p_Tl):\n",
    "#     H_B = (2*np.pi*(Brot*H[\"J2\"] - Drot*H[\"J4\"] + H_const*H[\"J6\"]+h1_Tl*H[\"H_mhf_Tl\"]+h1_F*H[\"H_mhf_F\"]+c_Tl*H[\"H_c_Tl\"]\n",
    "#                     +c1p_Tl*H[\"H_cp1_Tl\"]+q*H[\"H_LD\"]+H[\"HZz\"]*1))\n",
    "           \n",
    "#     return H_B\n",
    "           \n",
    "# Define a function that calculates branching ratio for given excited state and the uncertainty in it\n",
    "# by repeatedly diagonalizing the B-state Hamiltonian\n",
    "def calculate_br_and_error(Ntrials = 1000):\n",
    "    #Define arrays of parameters\n",
    "    Brot = normal(6687.879e6,0.0026e6, size = Ntrials)\n",
    "    Drot = normal(0.010869e6,0.000027e6, size = Ntrials)\n",
    "    H_const = normal(-8.1,0.6, size = Ntrials)*1e-2\n",
    "    h1_Tl = normal(28789e6,42e6, size = Ntrials)\n",
    "    h1_F = normal(861e6,20e6, size = Ntrials)\n",
    "    q = normal(2.423e6,0, size = Ntrials)\n",
    "    c_Tl = normal(-7.83e6,1.57e6, size = Ntrials)\n",
    "    c1p_Tl = normal(11.17e6,3e6, size = Ntrials)\n",
    "           \n",
    "    BRs_F0 = []\n",
    "    BRs_F1 = []\n",
    "    for i in tqdm(range(0, Ntrials)):\n",
    "        H_B = make_B_hamiltonian(Brot[i], Drot[i], H_const[i], h1_Tl[i], h1_F[i], q[i], c_Tl[i], c1p_Tl[i])\n",
    "        \n",
    "        #Diagonalize the Hamiltonian\n",
    "        D,V = np.linalg.eigh(H_B)\n",
    "        tol = 1e-3\n",
    "        V[np.abs(V) < tol] = 0\n",
    "        V_ref_B = np.eye(H_B.shape[0])\n",
    "        D, V = reorder_evecs(V,D,V_ref_B)\n",
    "        H_B_diag = V.conj().T @ H_B @ V\n",
    "                \n",
    "        #Find exact eigenstates for excited state\n",
    "        J = 1\n",
    "        F1 = 3/2\n",
    "        F = 1\n",
    "        excited_states_approx = [1*CoupledBasisState(F,0,F1,J,I_F,I_Tl, electronic_state='B', P = -1, Omega = 1)]\n",
    "        excited_states = find_exact_states_V(excited_states_approx, H_B, V, QN_B, V_ref=V_ref_B)\n",
    "                \n",
    "        #Calculate branching ratios to all states from B, J = 1,  \n",
    "        BRs = calculate_BR(excited_states[0],ground_states)\n",
    "        \n",
    "        #Find branching ratio to J = 0, F = 0:\n",
    "        BRs_F0.append(BRs[0])\n",
    "        \n",
    "        #Find branching ratio to J = 0, F = 1:\n",
    "        BRs_F1.append(BRs[1]+BRs[2]+BRs[3])\n",
    "        \n",
    "    return np.array(BRs_F0), np.array(BRs_F1)"
   ]
  },
  {
   "cell_type": "code",
   "execution_count": 205,
   "metadata": {},
   "outputs": [
    {
     "data": {
      "application/vnd.jupyter.widget-view+json": {
       "model_id": "29748abb32514805ab02ff731849a880",
       "version_major": 2,
       "version_minor": 0
      },
      "text/plain": [
       "HBox(children=(FloatProgress(value=0.0), HTML(value='')))"
      ]
     },
     "metadata": {},
     "output_type": "display_data"
    },
    {
     "name": "stdout",
     "output_type": "stream",
     "text": [
      "\n"
     ]
    },
    {
     "ename": "TypeError",
     "evalue": "make_B_hamiltonian() missing 1 required positional argument: 'c1p_Tl'",
     "output_type": "error",
     "traceback": [
      "\u001b[1;31m---------------------------------------------------------------------------\u001b[0m",
      "\u001b[1;31mTypeError\u001b[0m                                 Traceback (most recent call last)",
      "\u001b[1;32m<ipython-input-205-f916e9227568>\u001b[0m in \u001b[0;36m<module>\u001b[1;34m\u001b[0m\n\u001b[1;32m----> 1\u001b[1;33m \u001b[0mBRs_F0\u001b[0m\u001b[1;33m,\u001b[0m \u001b[0mBRs_F1\u001b[0m \u001b[1;33m=\u001b[0m \u001b[0mcalculate_br_and_error\u001b[0m\u001b[1;33m(\u001b[0m\u001b[0mNtrials\u001b[0m\u001b[1;33m=\u001b[0m\u001b[1;36m100\u001b[0m\u001b[1;33m)\u001b[0m\u001b[1;33m\u001b[0m\u001b[1;33m\u001b[0m\u001b[0m\n\u001b[0m\u001b[0;32m      2\u001b[0m \u001b[1;33m\u001b[0m\u001b[0m\n",
      "\u001b[1;32m<ipython-input-204-dd1c0f1b1cc5>\u001b[0m in \u001b[0;36mcalculate_br_and_error\u001b[1;34m(Ntrials)\u001b[0m\n\u001b[0;32m     22\u001b[0m     \u001b[0mBRs_F1\u001b[0m \u001b[1;33m=\u001b[0m \u001b[1;33m[\u001b[0m\u001b[1;33m]\u001b[0m\u001b[1;33m\u001b[0m\u001b[1;33m\u001b[0m\u001b[0m\n\u001b[0;32m     23\u001b[0m     \u001b[1;32mfor\u001b[0m \u001b[0mi\u001b[0m \u001b[1;32min\u001b[0m \u001b[0mtqdm\u001b[0m\u001b[1;33m(\u001b[0m\u001b[0mrange\u001b[0m\u001b[1;33m(\u001b[0m\u001b[1;36m0\u001b[0m\u001b[1;33m,\u001b[0m \u001b[0mNtrials\u001b[0m\u001b[1;33m)\u001b[0m\u001b[1;33m)\u001b[0m\u001b[1;33m:\u001b[0m\u001b[1;33m\u001b[0m\u001b[1;33m\u001b[0m\u001b[0m\n\u001b[1;32m---> 24\u001b[1;33m         \u001b[0mH_B\u001b[0m \u001b[1;33m=\u001b[0m \u001b[0mmake_B_hamiltonian\u001b[0m\u001b[1;33m(\u001b[0m\u001b[0mBrot\u001b[0m\u001b[1;33m[\u001b[0m\u001b[0mi\u001b[0m\u001b[1;33m]\u001b[0m\u001b[1;33m,\u001b[0m \u001b[0mDrot\u001b[0m\u001b[1;33m[\u001b[0m\u001b[0mi\u001b[0m\u001b[1;33m]\u001b[0m\u001b[1;33m,\u001b[0m \u001b[0mH_const\u001b[0m\u001b[1;33m[\u001b[0m\u001b[0mi\u001b[0m\u001b[1;33m]\u001b[0m\u001b[1;33m,\u001b[0m \u001b[0mh1_Tl\u001b[0m\u001b[1;33m[\u001b[0m\u001b[0mi\u001b[0m\u001b[1;33m]\u001b[0m\u001b[1;33m,\u001b[0m \u001b[0mh1_F\u001b[0m\u001b[1;33m[\u001b[0m\u001b[0mi\u001b[0m\u001b[1;33m]\u001b[0m\u001b[1;33m,\u001b[0m \u001b[0mq\u001b[0m\u001b[1;33m[\u001b[0m\u001b[0mi\u001b[0m\u001b[1;33m]\u001b[0m\u001b[1;33m,\u001b[0m \u001b[0mc_Tl\u001b[0m\u001b[1;33m[\u001b[0m\u001b[0mi\u001b[0m\u001b[1;33m]\u001b[0m\u001b[1;33m,\u001b[0m \u001b[0mc1p_Tl\u001b[0m\u001b[1;33m[\u001b[0m\u001b[0mi\u001b[0m\u001b[1;33m]\u001b[0m\u001b[1;33m)\u001b[0m\u001b[1;33m\u001b[0m\u001b[1;33m\u001b[0m\u001b[0m\n\u001b[0m\u001b[0;32m     25\u001b[0m \u001b[1;33m\u001b[0m\u001b[0m\n\u001b[0;32m     26\u001b[0m         \u001b[1;31m#Diagonalize the Hamiltonian\u001b[0m\u001b[1;33m\u001b[0m\u001b[1;33m\u001b[0m\u001b[1;33m\u001b[0m\u001b[0m\n",
      "\u001b[1;31mTypeError\u001b[0m: make_B_hamiltonian() missing 1 required positional argument: 'c1p_Tl'"
     ]
    }
   ],
   "source": [
    "BRs_F0, BRs_F1 = calculate_br_and_error(Ntrials=100)\n",
    "\n"
   ]
  },
  {
   "cell_type": "code",
   "execution_count": null,
   "metadata": {},
   "outputs": [],
   "source": [
    "# Plot histograms of the branching ratios\n",
    "fig, ax = plt.subplots(1,2)\n",
    "ax[0].hist(BRs_F0)\n",
    "ax[0].set_title(\"Branching ratio to F = 0\")\n",
    "ax[1].hist(BRs_F1)\n",
    "ax[1].set_title(\"Branching ratio to F = 1\")\n"
   ]
  },
  {
   "cell_type": "code",
   "execution_count": null,
   "metadata": {},
   "outputs": [],
   "source": [
    "fig, ax = plt.subplots()\n",
    "ratios = BRs_F0/BRs_F1\n",
    "ax.hist(ratios)"
   ]
  },
  {
   "cell_type": "code",
   "execution_count": null,
   "metadata": {},
   "outputs": [],
   "source": [
    "np.median(ratios)"
   ]
  },
  {
   "cell_type": "markdown",
   "metadata": {},
   "source": [
    "## Testing"
   ]
  },
  {
   "cell_type": "code",
   "execution_count": 207,
   "metadata": {},
   "outputs": [
    {
     "name": "stdout",
     "output_type": "stream",
     "text": [
      "-0.4076+0.0000j x |B, J = 1, F1 = 3/2, F = 1, mF = 0, I1 = 1/2, I2 = 1/2, P = -1, Omega = 1>\n",
      "+0.7456+0.0000j x |B, J = 1, F1 = 3/2, F = 1, mF = 0, I1 = 1/2, I2 = 1/2, P = 1, Omega = 1>\n",
      "-0.2529+0.0000j x |B, J = 2, F1 = 3/2, F = 1, mF = 0, I1 = 1/2, I2 = 1/2, P = -1, Omega = 1>\n",
      "+0.4626+0.0000j x |B, J = 2, F1 = 3/2, F = 1, mF = 0, I1 = 1/2, I2 = 1/2, P = 1, Omega = 1>\n",
      "0.07385184909862749\n",
      "0.03692592491402266\n"
     ]
    }
   ],
   "source": [
    "#Constants in MHz\n",
    "Brot = 6687.879e6\n",
    "Drot = -0.010869e6\n",
    "H_const = 8.1e-2\n",
    "h1_Tl = 28789e6\n",
    "h1_F = 861e6\n",
    "q = 2.423e6\n",
    "c_Tl = -7.83e6\n",
    "c1p_Tl = 11.17e6\n",
    "mu_B = 1\n",
    "gL = 1\n",
    "gS = 2\n",
    "\n",
    "# H_B = make_hamiltonian_B(\"./Saved Hamiltonians/B_state_hamiltonian_J1to5_P_estates_separate.pickle\")\n",
    "# H_B = make_hamiltonian_B(\"./Saved Hamiltonians/B_hamiltonians_symbolic_coupled_P_1to3.pickle\")\n",
    "\n",
    "# H_B = make_B_hamiltonian(Hams_B, Brot, Drot, H_const, h1_Tl, h1_F, q, c_Tl, c1p_Tl)\n",
    "\n",
    "H_B = (2*np.pi*(Brot*Hams_B[\"J2\"] - Drot*Hams_B[\"J4\"] + H_const*Hams_B[\"J6\"]+h1_Tl*Hams_B[\"H_mhf_Tl\"]+h1_F*Hams_B[\"H_mhf_F\"]\n",
    "                +c_Tl*Hams_B[\"H_c_Tl\"]+c1p_Tl*Hams_B[\"H_cp1_Tl\"]+q*Hams_B[\"H_LD\"]+Hams_B[\"HZz\"]*1))\n",
    "\n",
    "#Diagonalize the Hamiltonian\n",
    "D,V = np.linalg.eigh(H_B)\n",
    "# tol = 1e-3\n",
    "# V[np.abs(V) < tol] = 0\n",
    "V_ref_B = np.eye(H_B.shape[0])\n",
    "D, V = reorder_evecs(V,D,V_ref_B)\n",
    "H_B_diag = V.conj().T @ H_B @ V\n",
    "\n",
    "#Define new basis based on eigenstates of H_B\n",
    "QN_B_diag = matrix_to_states(V, QN_B)\n",
    "\n",
    "#Find exact eigenstates for excited state\n",
    "J = 1\n",
    "F1 = 3/2\n",
    "F = 1\n",
    "excited_states_approx = [1*CoupledBasisState(F,0,F1,J,I_F,I_Tl, electronic_state='B', P = -1, Omega = 1)]\n",
    "# excited_states = find_exact_states_V(excited_states_approx, H_B, V, QN_B, V_ref=V_ref_B)\n",
    "excited_states = find_exact_states(excited_states_approx, H_B_diag, QN_B_diag, V_ref=V_ref_B)\n",
    "\n",
    "excited_states[0].print_state()\n",
    "\n",
    "#Calculate branching ratios to all states from B, J = 1,  \n",
    "BRs = calculate_BR(excited_states[0],ground_states)\n",
    "\n",
    "BR_F0 = BRs[0]\n",
    "BR_F1 = np.sum(BRs[1:4])\n",
    "print(BR_F0)\n",
    "print(BR_F1)"
   ]
  },
  {
   "cell_type": "code",
   "execution_count": 208,
   "metadata": {},
   "outputs": [
    {
     "data": {
      "text/plain": [
       "array([[-6.40067159e+09,  0.00000000e+00,  0.00000000e+00, ...,\n",
       "         0.00000000e+00,  0.00000000e+00,  0.00000000e+00],\n",
       "       [ 0.00000000e+00, -6.40067159e+09,  0.00000000e+00, ...,\n",
       "         0.00000000e+00,  0.00000000e+00,  0.00000000e+00],\n",
       "       [ 0.00000000e+00,  0.00000000e+00, -6.40067160e+09, ...,\n",
       "         0.00000000e+00,  0.00000000e+00,  0.00000000e+00],\n",
       "       ...,\n",
       "       [ 0.00000000e+00,  0.00000000e+00,  0.00000000e+00, ...,\n",
       "         5.26874859e+11,  0.00000000e+00,  0.00000000e+00],\n",
       "       [ 0.00000000e+00,  0.00000000e+00,  0.00000000e+00, ...,\n",
       "         0.00000000e+00,  5.26874859e+11,  0.00000000e+00],\n",
       "       [ 0.00000000e+00,  0.00000000e+00,  0.00000000e+00, ...,\n",
       "         0.00000000e+00,  0.00000000e+00,  5.26874859e+11]])"
      ]
     },
     "execution_count": 208,
     "metadata": {},
     "output_type": "execute_result"
    }
   ],
   "source": [
    "H_B"
   ]
  },
  {
   "cell_type": "code",
   "execution_count": 212,
   "metadata": {},
   "outputs": [
    {
     "data": {
      "text/plain": [
       "array([[-9.00661612e+09,  0.00000000e+00,  0.00000000e+00, ...,\n",
       "         0.00000000e+00,  0.00000000e+00,  0.00000000e+00],\n",
       "       [ 0.00000000e+00, -9.10724762e+09,  0.00000000e+00, ...,\n",
       "         0.00000000e+00,  0.00000000e+00,  0.00000000e+00],\n",
       "       [ 0.00000000e+00,  0.00000000e+00, -5.40006776e+09, ...,\n",
       "         0.00000000e+00,  0.00000000e+00,  0.00000000e+00],\n",
       "       ...,\n",
       "       [ 0.00000000e+00,  0.00000000e+00,  0.00000000e+00, ...,\n",
       "         5.27418914e+11,  0.00000000e+00,  0.00000000e+00],\n",
       "       [ 0.00000000e+00,  0.00000000e+00,  0.00000000e+00, ...,\n",
       "         0.00000000e+00,  5.27496329e+11,  0.00000000e+00],\n",
       "       [ 0.00000000e+00,  0.00000000e+00,  0.00000000e+00, ...,\n",
       "         0.00000000e+00,  0.00000000e+00,  5.27418914e+11]])"
      ]
     },
     "execution_count": 212,
     "metadata": {},
     "output_type": "execute_result"
    }
   ],
   "source": [
    "H_B_correct"
   ]
  },
  {
   "cell_type": "code",
   "execution_count": 209,
   "metadata": {},
   "outputs": [],
   "source": [
    "# D_correct = D\n",
    "# H_B_correct = H_B"
   ]
  },
  {
   "cell_type": "code",
   "execution_count": 210,
   "metadata": {},
   "outputs": [
    {
     "data": {
      "text/plain": [
       "array([-1.43344748, -1.44946348, -0.86979794, -0.88578527, -0.86979794,\n",
       "       -0.88578527, -0.86979794, -0.88578527, 12.63116625, 12.64887098,\n",
       "       12.63116625, 12.64887098, 12.63116625, 12.64887098, 12.94799515,\n",
       "       12.96597   , 12.94799516, 12.96597   , 12.94799516, 12.96597   ,\n",
       "       12.94799516, 12.96597   , 12.94799516, 12.96597   , 40.29959543,\n",
       "       40.31389404, 40.29959543, 40.31389404, 40.29959544, 40.31389404,\n",
       "       40.88146456, 40.89550353, 40.88146457, 40.89550353, 40.88146457,\n",
       "       40.89550353, 40.88146457, 40.89550353, 40.88146457, 40.89550353,\n",
       "       39.6326908 , 39.61878525, 39.6326908 , 39.61878525, 39.6326908 ,\n",
       "       39.61878525, 39.6326908 , 39.61878525, 39.63269081, 39.61878525,\n",
       "       39.86305336, 39.84893432, 39.86305336, 39.84893432, 39.86305336,\n",
       "       39.84893432, 39.86305336, 39.84893432, 39.86305336, 39.84893433,\n",
       "       39.86305337, 39.84893433, 39.86305337, 39.84893433, 80.44398011,\n",
       "       80.40985587, 80.44398012, 80.40985587, 80.44398012, 80.40985587,\n",
       "       80.44398012, 80.40985587, 80.44398012, 80.40985587, 80.78710078,\n",
       "       80.7531824 , 80.78710078, 80.7531824 , 80.78710078, 80.7531824 ,\n",
       "       80.78710078, 80.75318241, 80.78710078, 80.75318241, 80.78710079,\n",
       "       80.75318241, 80.78710079, 80.75318241, 83.7152135 , 83.70288191,\n",
       "       83.7152135 , 83.70288191, 83.7152135 , 83.70288192, 83.7152135 ,\n",
       "       83.70288192, 83.7152135 , 83.70288192, 83.7152135 , 83.70288192,\n",
       "       83.7152135 , 83.70288192, 83.95364822, 83.94132722, 83.95364822,\n",
       "       83.94132722, 83.95364822, 83.94132722, 83.95364822, 83.94132722,\n",
       "       83.95364822, 83.94132722, 83.95364823, 83.94132723, 83.95364823,\n",
       "       83.94132723, 83.95364823, 83.94132723, 83.95364823, 83.94132723])"
      ]
     },
     "execution_count": 210,
     "metadata": {},
     "output_type": "execute_result"
    }
   ],
   "source": [
    "D_correct/(2*np.pi*1e9)"
   ]
  },
  {
   "cell_type": "code",
   "execution_count": 211,
   "metadata": {},
   "outputs": [
    {
     "data": {
      "text/plain": [
       "array([-1.01869852, -1.01869852, -1.01869852, -1.01869852, -1.01869852,\n",
       "       -1.01869852, -1.01869852, -1.01869852, 12.83852625, 12.83852625,\n",
       "       12.83852625, 12.83852625, 12.83852625, 12.83852625, 12.83852625,\n",
       "       12.83852625, 12.83852625, 12.83852625, 12.83852625, 12.83852625,\n",
       "       12.83852625, 12.83852625, 12.83852625, 12.83852625, 40.66494053,\n",
       "       40.66494053, 40.66494053, 40.66494053, 40.66494053, 40.66494053,\n",
       "       40.66494052, 40.66494052, 40.66494053, 40.66494053, 40.66494053,\n",
       "       40.66494053, 40.66494053, 40.66494053, 40.66494053, 40.66494053,\n",
       "       39.76563821, 39.76563821, 39.76563821, 39.76563821, 39.76563821,\n",
       "       39.76563821, 39.76563821, 39.76563821, 39.76563822, 39.76563822,\n",
       "       39.76563821, 39.76563821, 39.76563821, 39.76563821, 39.76563821,\n",
       "       39.76563821, 39.76563821, 39.76563821, 39.76563821, 39.76563821,\n",
       "       39.76563822, 39.76563822, 39.76563822, 39.76563822, 80.61814036,\n",
       "       80.61814036, 80.61814036, 80.61814036, 80.61814036, 80.61814036,\n",
       "       80.61814037, 80.61814037, 80.61814037, 80.61814037, 80.61814036,\n",
       "       80.61814036, 80.61814036, 80.61814036, 80.61814036, 80.61814036,\n",
       "       80.61814036, 80.61814036, 80.61814037, 80.61814037, 80.61814037,\n",
       "       80.61814037, 80.61814037, 80.61814037, 83.85473827, 83.85473827,\n",
       "       83.85473827, 83.85473827, 83.85473827, 83.85473827, 83.85473828,\n",
       "       83.85473828, 83.85473828, 83.85473828, 83.85473828, 83.85473828,\n",
       "       83.85473828, 83.85473828, 83.85473827, 83.85473827, 83.85473827,\n",
       "       83.85473827, 83.85473827, 83.85473827, 83.85473827, 83.85473827,\n",
       "       83.85473828, 83.85473828, 83.85473828, 83.85473828, 83.85473828,\n",
       "       83.85473828, 83.85473828, 83.85473828, 83.85473828, 83.85473828])"
      ]
     },
     "execution_count": 211,
     "metadata": {},
     "output_type": "execute_result"
    }
   ],
   "source": [
    "D/(2*np.pi*1e9)"
   ]
  },
  {
   "cell_type": "code",
   "execution_count": 182,
   "metadata": {},
   "outputs": [
    {
     "data": {
      "text/plain": [
       "array([[-1.439450e+10,  0.000000e+00,  0.000000e+00, ...,  0.000000e+00,\n",
       "         0.000000e+00,  0.000000e+00],\n",
       "       [ 0.000000e+00, -1.439450e+10,  0.000000e+00, ...,  0.000000e+00,\n",
       "         0.000000e+00,  0.000000e+00],\n",
       "       [ 0.000000e+00,  0.000000e+00, -1.439450e+10, ...,  0.000000e+00,\n",
       "         0.000000e+00,  0.000000e+00],\n",
       "       ...,\n",
       "       [ 0.000000e+00,  0.000000e+00,  0.000000e+00, ...,  3.598625e+09,\n",
       "         0.000000e+00,  0.000000e+00],\n",
       "       [ 0.000000e+00,  0.000000e+00,  0.000000e+00, ...,  0.000000e+00,\n",
       "         3.598625e+09,  0.000000e+00],\n",
       "       [ 0.000000e+00,  0.000000e+00,  0.000000e+00, ...,  0.000000e+00,\n",
       "         0.000000e+00,  3.598625e+09]])"
      ]
     },
     "execution_count": 182,
     "metadata": {},
     "output_type": "execute_result"
    }
   ],
   "source": [
    "H[\"H_mhf_Tl\"]*h1_Tl"
   ]
  },
  {
   "cell_type": "code",
   "execution_count": 138,
   "metadata": {},
   "outputs": [
    {
     "data": {
      "text/plain": [
       "array([[  4,   0,   0, ...,   0,   0,   0],\n",
       "       [  0,   4,   0, ...,   0,   0,   0],\n",
       "       [  0,   0,   4, ...,   0,   0,   0],\n",
       "       ...,\n",
       "       [  0,   0,   0, ..., 144,   0,   0],\n",
       "       [  0,   0,   0, ...,   0, 144,   0],\n",
       "       [  0,   0,   0, ...,   0,   0, 144]])"
      ]
     },
     "execution_count": 138,
     "metadata": {},
     "output_type": "execute_result"
    }
   ],
   "source": [
    "H[\"J4\"]"
   ]
  }
 ],
 "metadata": {
  "kernelspec": {
   "display_name": "Python 3",
   "language": "python",
   "name": "python3"
  },
  "language_info": {
   "codemirror_mode": {
    "name": "ipython",
    "version": 3
   },
   "file_extension": ".py",
   "mimetype": "text/x-python",
   "name": "python",
   "nbconvert_exporter": "python",
   "pygments_lexer": "ipython3",
   "version": "3.8.3"
  }
 },
 "nbformat": 4,
 "nbformat_minor": 4
}
