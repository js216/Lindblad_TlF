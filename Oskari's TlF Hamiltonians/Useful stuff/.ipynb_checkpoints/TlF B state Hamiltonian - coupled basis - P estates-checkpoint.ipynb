{
 "cells": [
  {
   "cell_type": "markdown",
   "metadata": {},
   "source": [
    "# TlF B state Hamiltonian\n",
    "## Intro\n",
    "This notebook evaluates the Hamiltonian for the B state of thallium fluoride."
   ]
  },
  {
   "cell_type": "code",
   "execution_count": 27,
   "metadata": {},
   "outputs": [],
   "source": [
    "import numpy as np\n",
    "import sympy\n",
    "from numpy import sqrt\n",
    "import multiprocessing\n",
    "import pickle\n",
    "\n",
    "def threej_f(j1,j2,j3,m1,m2,m3):\n",
    "    return complex(wigner_3j(j1,j2,j3,m1,m2,m3))\n",
    "\n",
    "def sixj_f(j1,j2,j3,j4,j5,j6):\n",
    "    return complex(wigner_6j(j1,j2,j3,j4,j5,j6))\n"
   ]
  },
  {
   "cell_type": "markdown",
   "metadata": {},
   "source": [
    "### Representing the states\n",
    "\n",
    "Import class that represents molecular states from 'molecular-state-classes-and-functions'"
   ]
  },
  {
   "cell_type": "code",
   "execution_count": 28,
   "metadata": {},
   "outputs": [],
   "source": [
    "import sys\n",
    "sys.path.append('./molecular-state-classes-and-functions/')\n",
    "\n",
    "from classes import CoupledBasisState, State"
   ]
  },
  {
   "cell_type": "markdown",
   "metadata": {},
   "source": [
    "### Defining operators"
   ]
  },
  {
   "cell_type": "markdown",
   "metadata": {},
   "source": [
    "### Rotational term\n",
    "\n",
    "The simplest term in the Hamiltonian simply gives the rotational levels:\n",
    "\n",
    "$$H_\\text{rot}=B_\\text{rot}\\vec J^2.$$"
   ]
  },
  {
   "cell_type": "code",
   "execution_count": 29,
   "metadata": {},
   "outputs": [],
   "source": [
    "def J2(psi):\n",
    "    return State([(psi.J*(psi.J+1),psi)])\n",
    "\n",
    "def J4(psi):\n",
    "    return State([( (psi.J*(psi.J+1))**2, psi)])\n",
    "\n",
    "def J6(psi):\n",
    "    return State([( (psi.J*(psi.J+1))**3, psi)])\n",
    "\n",
    "def Hrot(psi):        \n",
    "    return Brot * J2(psi) - Drot * J4(psi) + H_const * J6(psi)"
   ]
  },
  {
   "cell_type": "markdown",
   "metadata": {},
   "source": [
    "### $\\Lambda$-doubling term\n",
    "Couples terms with opposite values of $\\Omega$ and shifts e-parity terms up in energy and f-parity down in energy"
   ]
  },
  {
   "cell_type": "code",
   "execution_count": 30,
   "metadata": {},
   "outputs": [],
   "source": [
    "def H_LD(psi):\n",
    "    J = psi.J\n",
    "    I1 = psi.I1\n",
    "    I2 = psi.I2\n",
    "    F1 = psi.F1\n",
    "    F = psi.F\n",
    "    mF = psi.mF\n",
    "    P = psi.P\n",
    "    S = 0\n",
    "    \n",
    "    data = []\n",
    "    \n",
    "    def ME(J,Jprime,Omega,Omegaprime):\n",
    "        amp = (q*(-1)**(J-Omegaprime)/(2*np.sqrt(6)) * wigner_3j(J,2,J,-Omegaprime,Omegaprime-Omega, Omega)\n",
    "               *np.sqrt((2*J-1)*2*J*(2*J+1)*(2*J+2)*(2*J+3)) )\n",
    "\n",
    "        return amp\n",
    "    \n",
    "    for Pprime in [-1,1]:\n",
    "        amp = (P *(-1)**(J-S) * ME(J,J,1,-1) + Pprime*(-1)**(J-S) * ME(J,J,-1,1))/2\n",
    "        ket = CoupledBasisState(F, mF, F1, J, I1, I2, P = Pprime)\n",
    "        \n",
    "        #If matrix element is non-zero, add to list\n",
    "        if amp != 0:\n",
    "            data.append((amp, ket))\n",
    "\n",
    "    return State(data)"
   ]
  },
  {
   "cell_type": "markdown",
   "metadata": {},
   "source": [
    "### Electron magnetic hyperfine operator\n",
    "Since the B state is a triplet pi state, it has electron magnetic hyperfine structure. The coupling is described by the Hamiltonian $ H_{\\mathrm{mhf}} = a\\, \\mathbf{I} \\cdot \\mathbf{L} + b\\, \\mathbf{I} \\cdot \\mathbf{S} +c \\,I_z\\, S_z  $ which reduces to $ H_{\\mathrm{mhf}}^{eff} =  [a \\,L_z + (b+c)\\, S_z]\\,I_z = h_\\Omega \\, I_z $ since the raising and lowering operators for L and S (electron orbital and spin angular momentum) only couple different electronic states which are very far in energy and thus the effect of the off-diagonal elements is strongly suppressed. The matrix elements are given in eqns 5 and 6 in Norggard et al 2017."
   ]
  },
  {
   "cell_type": "code",
   "execution_count": 31,
   "metadata": {},
   "outputs": [],
   "source": [
    "#Import Wigner 3j symbol\n",
    "from sympy.physics.wigner import wigner_3j, wigner_6j\n",
    "\n",
    "def H_mhf_Tl(psi):\n",
    "    #Find the quantum numbers of the input state\n",
    "    J = psi.J\n",
    "    I1 = psi.I1\n",
    "    I2 = psi.I2\n",
    "    F1 = psi.F1\n",
    "    F = psi.F\n",
    "    mF = psi.mF\n",
    "    Omega = psi.Omega\n",
    "    P = psi.P\n",
    "    \n",
    "    #I1, I2, F1 and F and mF are the same for both states\n",
    "    I1prime = I1\n",
    "    I2prime = I2\n",
    "    F1prime = F1\n",
    "    mFprime = mF\n",
    "    Fprime = F\n",
    "    \n",
    "    #Container for the states and amplitudes\n",
    "    data = []\n",
    "    \n",
    "    #Loop over possible values of Jprime\n",
    "    for Jprime in np.arange(np.abs(J-1),J+2):\n",
    "\n",
    "        #Check that the Jprime and Fprime values are physical\n",
    "        if np.abs(Fprime-Jprime) <= (I1+I2):\n",
    "            #Calculate matrix element\n",
    "            try:\n",
    "                amp = h1_Tl*((-1)**(J+Jprime+F1+I1-Omega) \n",
    "                       * wigner_6j(I1, Jprime, F1, J, I1, 1) \n",
    "                       * wigner_3j(J, 1, Jprime, -Omega, 0, Omega)\n",
    "                       * sqrt((2*J+1)*(2*Jprime+1)*I1*(I1+1)*(2*I1+1)))\n",
    "\n",
    "            except ValueError: \n",
    "                amp = 0\n",
    "\n",
    "            basis_state = CoupledBasisState(Fprime, mFprime, F1prime, Jprime, I1prime, I2prime, Omega = psi.Omega, P = P)\n",
    "\n",
    "            #If matrix element is non-zero, add to list\n",
    "            if amp != 0:\n",
    "                data.append((amp, basis_state))\n",
    "                       \n",
    "    return State(data)\n",
    "            "
   ]
  },
  {
   "cell_type": "code",
   "execution_count": 32,
   "metadata": {},
   "outputs": [],
   "source": [
    "def H_mhf_F(psi):\n",
    "    #Find the quantum numbers of the input state\n",
    "    J = psi.J\n",
    "    I1 = psi.I1\n",
    "    I2 = psi.I2\n",
    "    F1 = psi.F1\n",
    "    F = psi.F\n",
    "    mF = psi.mF\n",
    "    Omega = psi.Omega\n",
    "    P = psi.P\n",
    "    \n",
    "    #I1, I2, F and mF are the same for both states\n",
    "    I1prime = I1\n",
    "    I2prime = I2\n",
    "    Fprime = F\n",
    "    mFprime = mF\n",
    "    \n",
    "    #Initialize container for storing states and matrix elements\n",
    "    data = []\n",
    "    \n",
    "    #Loop over the possible values of quantum numbers for which the matrix element can be non-zero\n",
    "    #Need Jprime = J+1 ... |J-1|\n",
    "    for Jprime in np.arange(np.abs(J-1), J+2):\n",
    "        \n",
    "        #Loop over possible values of F1prime\n",
    "        for F1prime in np.arange(np.abs(Jprime-I1), Jprime+I1+1):\n",
    "            try:\n",
    "                amp = h1_F*((-1)**(2*F1prime+F+2*J+1+I1+I2-Omega) \n",
    "                       * wigner_6j(I2, F1prime, F, F1, I2, 1)\n",
    "                       * wigner_6j(Jprime, F1prime, I1, F1, J, 1) \n",
    "                       * wigner_3j(J, 1, Jprime,-Omega,0,Omega)\n",
    "                       * sqrt((2*F1+1)*(2*F1prime+1)*(2*J+1)*(2*Jprime+1)*I2*(I2+1)*(2*I2+1)))\n",
    "\n",
    "            except ValueError: \n",
    "                amp = 0\n",
    "\n",
    "            basis_state = CoupledBasisState(Fprime, mFprime, F1prime, Jprime, I1prime, I2prime, P = P)\n",
    "\n",
    "            #If matrix element is non-zero, add to list\n",
    "            if amp != 0:\n",
    "                data.append((amp, basis_state))\n",
    "\n",
    "        \n",
    "    return State(data)"
   ]
  },
  {
   "cell_type": "markdown",
   "metadata": {},
   "source": [
    "### C(Tl) - term\n",
    "The $c_1 I_{Tl}\\cdot J$ term as written down in Norrgard 2017."
   ]
  },
  {
   "cell_type": "code",
   "execution_count": 33,
   "metadata": {},
   "outputs": [],
   "source": [
    "def H_c_Tl(psi):\n",
    "    #Find the quantum numbers of the input state\n",
    "    J = psi.J\n",
    "    I1 = psi.I1\n",
    "    I2 = psi.I2\n",
    "    F1 = psi.F1\n",
    "    F = psi.F\n",
    "    mF = psi.mF\n",
    "    \n",
    "    #I1, I2, F and mF are the same for both states\n",
    "    Jprime = J\n",
    "    I1prime = I1\n",
    "    I2prime = I2\n",
    "    Fprime = F\n",
    "    F1prime = F1\n",
    "    mFprime = mF\n",
    "    \n",
    "    #Initialize container for storing states and matrix elements\n",
    "    data = []\n",
    "    \n",
    "    #Calculate matrix element\n",
    "    amp = c_Tl*(-1)**(J+F1+I1)*wigner_6j(I1,J,F1,J,I1,1)*np.sqrt(J*(J+1)*(2*J+1)*I1*(I1+1)*(2*I1+1))\n",
    "\n",
    "    basis_state = CoupledBasisState(Fprime, mFprime, F1prime, Jprime, I1prime, I2prime, P = psi.P)\n",
    "\n",
    "    #If matrix element is non-zero, add to list\n",
    "    if amp != 0:\n",
    "        data.append((amp, basis_state))\n",
    "        \n",
    "        \n",
    "    return State(data)"
   ]
  },
  {
   "cell_type": "markdown",
   "metadata": {},
   "source": [
    "### C'(Tl) - term\n",
    "Coding up the C'(Tl) -term from Brown 1978 \"A determination of fundamental Zeeman parameters for the OH radical\".\n",
    "\n",
    "The matrix elements were derived by Eric Norrgard:"
   ]
  },
  {
   "cell_type": "code",
   "execution_count": 34,
   "metadata": {},
   "outputs": [],
   "source": [
    "def H_cp1_Tl(psi):\n",
    "    #Find the quantum numbers of the input state\n",
    "    J = psi.J\n",
    "    I1 = psi.I1\n",
    "    I2 = psi.I2\n",
    "    F1 = psi.F1\n",
    "    F = psi.F\n",
    "    mF = psi.mF\n",
    "    Omega = psi.Omega\n",
    "    P = psi.P\n",
    "    \n",
    "    #I1, I2, F and mF are the same for both states\n",
    "    I1prime = I1\n",
    "    I2prime = I2\n",
    "    Fprime = F\n",
    "    F1prime = F1\n",
    "    mFprime = mF\n",
    "    \n",
    "    #Total spin is 1\n",
    "    S = 0\n",
    "    \n",
    "    #Omegaprime is negative of Omega\n",
    "    Omegaprime = -Omega\n",
    "    \n",
    "    #Calculate the correct value of q\n",
    "    q = Omegaprime\n",
    "    \n",
    "    #Initialize container for storing states and matrix elements\n",
    "    data = []\n",
    "    \n",
    "    def ME(J,Jprime,Omega,Omegaprime):\n",
    "        q = Omegaprime\n",
    "        amp = (-0.5*c1p_Tl * (-1)**(-J+Jprime-Omegaprime+F1+I1) * np.sqrt((2*Jprime+1)*(2*J+1)*I1*(I1+1)*(2*I1+1))\n",
    "               * wigner_6j(I1, J, F1, Jprime, I1, 1)\n",
    "               *((-1)**(J)*wigner_3j(Jprime,1,J,-Omegaprime,q,0)*wigner_3j(J,1,J,0,q,Omega)*np.sqrt(J*(J+1)*(2*J+1))\n",
    "                   + ((-1)**(Jprime)*wigner_3j(Jprime,1,Jprime,-Omegaprime,q,0)*wigner_3j(Jprime,1,J,0,q,Omega)\n",
    "                      *np.sqrt(Jprime*(Jprime+1)*(2*Jprime+1))\n",
    "               )\n",
    "               ))\n",
    "        \n",
    "        return amp\n",
    "        \n",
    "    \n",
    "    #Loop over the possible values of quantum numbers for which the matrix element can be non-zero\n",
    "    #Need Jprime = J+1 ... |J-1|\n",
    "    for Jprime in range(np.abs(J-1), J+2):\n",
    "        for Pprime in [-1,1]:\n",
    "            amp = ((P*(-1)**(J-S) * ME(J,Jprime,1,-1) + Pprime*(-1)**(Jprime-S) * ME(J,Jprime,-1,1))\n",
    "                    *(-1)**float((J-Jprime) !=0)/2) \n",
    "                   \n",
    "                   \n",
    "            ket = CoupledBasisState(Fprime, mFprime, F1prime, Jprime, I1prime, I2prime, P = Pprime)\n",
    "\n",
    "            #If matrix element is non-zero, add to list\n",
    "            if amp != 0:\n",
    "                data.append((amp, ket))\n",
    "            \n",
    "    \n",
    "    return State(data)                   \n",
    "                   \n",
    "\n",
    "    "
   ]
  },
  {
   "cell_type": "code",
   "execution_count": 35,
   "metadata": {},
   "outputs": [],
   "source": [
    "def Hff(psi):\n",
    "    return Hrot(psi) + H_mhf_Tl(psi) + H_mhf_F(psi) + H_LD(psi) + H_cp1_Tl(psi)"
   ]
  },
  {
   "cell_type": "markdown",
   "metadata": {},
   "source": [
    "## Zeeman Hamiltonian\n",
    "9/7/2020: Haven't checked that this part works properly yet"
   ]
  },
  {
   "cell_type": "code",
   "execution_count": 36,
   "metadata": {},
   "outputs": [],
   "source": [
    "# def HZ_p(p,psi):\n",
    "#     #Find the quantum numbers of the input state\n",
    "#     J = psi.J\n",
    "#     I1 = psi.I1\n",
    "#     I2 = psi.I2\n",
    "#     F1 = psi.F1\n",
    "#     F = psi.F\n",
    "#     mF = psi.mF\n",
    "#     Omega = psi.Omega\n",
    "#     P = psi.P\n",
    "#     S = 1\n",
    "    \n",
    "#     #Set some quantum numbers for the other state\n",
    "#     I1prime = I1\n",
    "#     I2prime = I2\n",
    "#     mFprime = p+mF\n",
    "#     Pprime = P\n",
    "#     q = Omegaprime - Omega\n",
    "    \n",
    "#     def ME(J,Jprime,F1,F1prime,F,Fprime,Omega,Omegaprime):\n",
    "#         amp = ( (-1)**(Fprime+F+F1prime+F1+I1+I2-Omegaprime-mFprime)\n",
    "#                            * np.sqrt((2*F+1)*(2*Fprime+1)*(2*F1+1)*(2*F1prime+1)*(2*J+1)*(2*Jprime+1))\n",
    "#                            * sixj_f(F1,F,I2,Fprime,F1prime,1) * sixj_f(J,F1,I1,F1prime,Jprime,1)\n",
    "#                            * threej_f(Jprime,1,J,-Omegaprime,q,Omega) * threej_f(Fprime,1,F,-mFprime,p,mF)\n",
    "#                            * (gS*(-1)**(S)*threej_f(S,1,S,0,0,0) * np.sqrt(S*(S+1)*(2*S+1))\n",
    "#                              + gL * Omega))\n",
    "#         return amp\n",
    "    \n",
    "#     #Initialize container for storing states and matrix elements\n",
    "#     data = []\n",
    "    \n",
    "#     #Loop over the possible values of quantum numbers for which the matrix element can be non-zero\n",
    "#     #Need Jprime = J+1 ... |J-1|\n",
    "#     for Jprime in ni_range(np.abs(J-1), J+2):\n",
    "#         for F1prime in ni_range(np.abs(Jprime-I1), Jprime+I1+1):\n",
    "#             for Fprime in ni_range(np.abs(F1prime-I2), F1prime+I2+1):\n",
    "#                 if np.abs(F-Fprime) <= 1 and np.abs(F1-F1prime) <= 1:\n",
    "#                     amp = (P*(-1)**(J+S) * ME(J,Jprime,F1,F1prime,F,Fprime,1,-1) \n",
    "#                             + Pprime*(-1)**(Jprime+S) * ME(J,Jprime,F1,F1prime,F,Fprime,-1,1))\n",
    "\n",
    "               \n",
    "#                     ket = CoupledBasisState(Fprime, mFprime, F1prime, Jprime, I1prime, I2prime, Omegaprime)\n",
    "\n",
    "#                     #If matrix element is non-zero, add to list\n",
    "#                     if amp != 0:\n",
    "#                         data.append((amp, ket))\n",
    "                    \n",
    "                    \n",
    "#     return State(data)    "
   ]
  },
  {
   "cell_type": "code",
   "execution_count": 37,
   "metadata": {},
   "outputs": [],
   "source": [
    "def HZx(psi):\n",
    "    return mu_B * ( HZ_p(-1,psi) - HZ_p(+1,psi) ) / np.sqrt(2)\n",
    "\n",
    "def HZy(psi):\n",
    "    return mu_B * 1j * ( HZ_p(-1,psi) + HZ_p(+1,psi) ) / np.sqrt(2)\n",
    "\n",
    "def HZz(psi):\n",
    "    return mu_B * HZ_p(0,psi)\n",
    "\n",
    "def HZz(psi):\n",
    "    return mu_B * psi.mF *psi"
   ]
  },
  {
   "cell_type": "code",
   "execution_count": null,
   "metadata": {},
   "outputs": [],
   "source": []
  },
  {
   "cell_type": "markdown",
   "metadata": {},
   "source": [
    "### Finding the matrix elements\n",
    "\n",
    "With all the operators defined, we can evaluate the matrix elements for a given range of quantum numbers. We shall need to generate a non-integer range list (e.g., from -3/2 to +3/2):"
   ]
  },
  {
   "cell_type": "code",
   "execution_count": 38,
   "metadata": {},
   "outputs": [],
   "source": [
    "def ni_range(x0, x1, dx=1):\n",
    "    # sanity check arguments\n",
    "    if dx==0:\n",
    "        raise ValueError(\"invalid parameters: dx==0\")\n",
    "    if x0>x1 and dx>=0:\n",
    "        raise ValueError(\"invalid parameters: x0>x1 and dx>=0\")\n",
    "    if x0<x1 and dx<=0:\n",
    "        raise ValueError(\"invalid parameters: x0<x1 and dx<=0\")\n",
    "        \n",
    "    # generate range list\n",
    "    range_list = []\n",
    "    x = x0\n",
    "    while x < x1:\n",
    "        range_list.append(x)\n",
    "        x += dx\n",
    "    return range_list"
   ]
  },
  {
   "cell_type": "markdown",
   "metadata": {},
   "source": [
    "Define constants for TlF:"
   ]
  },
  {
   "cell_type": "code",
   "execution_count": 43,
   "metadata": {},
   "outputs": [],
   "source": [
    "# half = sympy.Rational(1,2)\n",
    "half = 0.5\n",
    "\n",
    "Jmin = 1\n",
    "Jmax = 3 # max J value in Hamiltonian\n",
    "#Jmax = 6\n",
    "I_Tl = half             # I1 in Ramsey's notation\n",
    "I_F  = half             # I2 in Ramsey's notation\n",
    "\n",
    "Brot, Drot, H_const = sympy.symbols('Brot Drot H_const')\n",
    "h1_Tl, h1_F = sympy.symbols('h1_Tl h1_F')\n",
    "q = sympy.symbols('q')\n",
    "c_Tl = sympy.symbols('c_Tl')\n",
    "c1p_Tl = sympy.symbols('c1p_Tl')\n",
    "mu_B = sympy.symbols('mu_B')\n",
    "gS, gL = sympy.symbols('gS gL')"
   ]
  },
  {
   "cell_type": "markdown",
   "metadata": {},
   "source": [
    " Write down the basis as a list of `CoupledBasisState` components:"
   ]
  },
  {
   "cell_type": "code",
   "execution_count": 44,
   "metadata": {},
   "outputs": [],
   "source": [
    "Ps = [-1, 1]\n",
    "# QN = [CoupledBasisState(F,mF,F1,J,I_F,I_Tl,P = P, Omega = 1)\n",
    "#       for J  in ni_range(Jmin, Jmax+1)\n",
    "#       for F1 in ni_range(np.abs(J-I_F),J+I_F+1)\n",
    "#       for F in ni_range(np.abs(F1-I_Tl),F1+I_Tl+1)\n",
    "#       for mF in ni_range(-F, F+1)\n",
    "#       for P in Ps\n",
    "#      ]\n",
    "\n",
    "#mF = 0 below; useful for branching ratio calculations\n",
    "QN = [CoupledBasisState(F,0,F1,J,I_F,I_Tl,P = P, Omega = 1)\n",
    "      for J  in ni_range(Jmin, Jmax+1)\n",
    "      for F1 in ni_range(np.abs(J-I_F),J+I_F+1)\n",
    "      for F in ni_range(np.abs(F1-I_Tl),F1+I_Tl+1)\n",
    "      for P in Ps\n",
    "     ]"
   ]
  },
  {
   "cell_type": "markdown",
   "metadata": {},
   "source": [
    "The field-free and Stark/Zeeman components of the Hamiltonian then have the matrix elements (evaluate using `multiprocessing` to speed things up)"
   ]
  },
  {
   "cell_type": "code",
   "execution_count": 45,
   "metadata": {},
   "outputs": [
    {
     "data": {
      "application/vnd.jupyter.widget-view+json": {
       "model_id": "6e4cb9c91cb94c61b0ceb5238971ae1c",
       "version_major": 2,
       "version_minor": 0
      },
      "text/plain": [
       "HBox(children=(FloatProgress(value=1.0, bar_style='info', max=1.0), HTML(value='')))"
      ]
     },
     "metadata": {},
     "output_type": "display_data"
    },
    {
     "name": "stdout",
     "output_type": "stream",
     "text": [
      "\n"
     ]
    },
    {
     "data": {
      "application/vnd.jupyter.widget-view+json": {
       "model_id": "1d8dbc5ae2a748c1b9336e855275d7c4",
       "version_major": 2,
       "version_minor": 0
      },
      "text/plain": [
       "HBox(children=(FloatProgress(value=1.0, bar_style='info', max=1.0), HTML(value='')))"
      ]
     },
     "metadata": {},
     "output_type": "display_data"
    },
    {
     "name": "stdout",
     "output_type": "stream",
     "text": [
      "\n"
     ]
    },
    {
     "data": {
      "application/vnd.jupyter.widget-view+json": {
       "model_id": "15a40ef693a9414db5821f24bb25993a",
       "version_major": 2,
       "version_minor": 0
      },
      "text/plain": [
       "HBox(children=(FloatProgress(value=1.0, bar_style='info', max=1.0), HTML(value='')))"
      ]
     },
     "metadata": {},
     "output_type": "display_data"
    },
    {
     "name": "stdout",
     "output_type": "stream",
     "text": [
      "\n"
     ]
    },
    {
     "data": {
      "application/vnd.jupyter.widget-view+json": {
       "model_id": "77aef7da8279416e8346ecbe4a77b600",
       "version_major": 2,
       "version_minor": 0
      },
      "text/plain": [
       "HBox(children=(FloatProgress(value=1.0, bar_style='info', max=1.0), HTML(value='')))"
      ]
     },
     "metadata": {},
     "output_type": "display_data"
    },
    {
     "name": "stdout",
     "output_type": "stream",
     "text": [
      "\n"
     ]
    },
    {
     "data": {
      "application/vnd.jupyter.widget-view+json": {
       "model_id": "480115018f5640328f9c9ec6e948c111",
       "version_major": 2,
       "version_minor": 0
      },
      "text/plain": [
       "HBox(children=(FloatProgress(value=1.0, bar_style='info', max=1.0), HTML(value='')))"
      ]
     },
     "metadata": {},
     "output_type": "display_data"
    },
    {
     "name": "stdout",
     "output_type": "stream",
     "text": [
      "\n"
     ]
    },
    {
     "data": {
      "application/vnd.jupyter.widget-view+json": {
       "model_id": "59f98c427c324c57a0d60e55f858ff49",
       "version_major": 2,
       "version_minor": 0
      },
      "text/plain": [
       "HBox(children=(FloatProgress(value=1.0, bar_style='info', max=1.0), HTML(value='')))"
      ]
     },
     "metadata": {},
     "output_type": "display_data"
    },
    {
     "name": "stdout",
     "output_type": "stream",
     "text": [
      "\n"
     ]
    },
    {
     "data": {
      "application/vnd.jupyter.widget-view+json": {
       "model_id": "9f0f1bb1a922498f993a10ff62c98b6f",
       "version_major": 2,
       "version_minor": 0
      },
      "text/plain": [
       "HBox(children=(FloatProgress(value=1.0, bar_style='info', max=1.0), HTML(value='')))"
      ]
     },
     "metadata": {},
     "output_type": "display_data"
    },
    {
     "name": "stdout",
     "output_type": "stream",
     "text": [
      "\n"
     ]
    },
    {
     "data": {
      "application/vnd.jupyter.widget-view+json": {
       "model_id": "e104a21a17d24ea5abf7627e5e2544c7",
       "version_major": 2,
       "version_minor": 0
      },
      "text/plain": [
       "HBox(children=(FloatProgress(value=1.0, bar_style='info', max=1.0), HTML(value='')))"
      ]
     },
     "metadata": {},
     "output_type": "display_data"
    },
    {
     "name": "stdout",
     "output_type": "stream",
     "text": [
      "\n"
     ]
    },
    {
     "data": {
      "application/vnd.jupyter.widget-view+json": {
       "model_id": "dee27c17dfcd421d85b02ff0203077b6",
       "version_major": 2,
       "version_minor": 0
      },
      "text/plain": [
       "HBox(children=(FloatProgress(value=1.0, bar_style='info', max=1.0), HTML(value='')))"
      ]
     },
     "metadata": {},
     "output_type": "display_data"
    },
    {
     "name": "stdout",
     "output_type": "stream",
     "text": [
      "\n",
      "Wall time: 2min 27s\n"
     ]
    }
   ],
   "source": [
    "%%time\n",
    "from tqdm.notebook import tqdm\n",
    "\n",
    "def HMatElems(H, QN=QN):\n",
    "    result = sympy.zeros(len(QN),len(QN))\n",
    "    for i,a in tqdm(enumerate(QN)):\n",
    "        for j,b in enumerate(QN):\n",
    "            result[i,j] = (1*a)@H(b)\n",
    "            \n",
    "    return result\n",
    "\n",
    "H_ops = [HZz, J2, J4, J6, H_mhf_Tl, H_mhf_F, H_c_Tl, H_cp1_Tl, H_LD]\n",
    "\n",
    "HZz_m, J2_m, J4_m, J6_m, H_mhf_Tl_m, H_mhf_F_m, H_c_Tl_m, H_cp1_Tl_m, H_LD_m = map(HMatElems, H_ops)"
   ]
  },
  {
   "cell_type": "markdown",
   "metadata": {},
   "source": [
    "Store the result of the calculation as text files and Python `pickle`s:"
   ]
  },
  {
   "cell_type": "code",
   "execution_count": 46,
   "metadata": {},
   "outputs": [],
   "source": [
    "with open(\"./Saved Hamiltonians/B_state_hamiltonian_J1to3_P_estates_separate.pickle\", 'wb') as f:\n",
    "    pickle.dump(\n",
    "        {\n",
    "            \"Hrot\" : Hrot_m,\n",
    "            \"J2\" : J2_m,\n",
    "            \"J4\" : J4_m,\n",
    "            \"J6\" : J6_m,\n",
    "            \"H_mhf_Tl\": H_mhf_Tl_m,\n",
    "            \"H_mhf_F\": H_mhf_F_m,\n",
    "            \"H_LD\": H_LD_m,\n",
    "            \"H_cp1_Tl\": H_cp1_Tl_m,\n",
    "            \"H_c_Tl\": H_c_Tl_m,\n",
    "            \"HZz\" : HZz_m\n",
    "        },\n",
    "        f\n",
    "    )"
   ]
  },
  {
   "cell_type": "code",
   "execution_count": 90,
   "metadata": {},
   "outputs": [],
   "source": [
    "H_test = sympy.lambdify(c1p_Tl,H_cp1_Tl_m)\n",
    "m = H_test(1)"
   ]
  },
  {
   "cell_type": "code",
   "execution_count": 91,
   "metadata": {},
   "outputs": [
    {
     "data": {
      "text/plain": [
       "True"
      ]
     },
     "execution_count": 91,
     "metadata": {},
     "output_type": "execute_result"
    }
   ],
   "source": [
    "np.allclose(m,m.conj().T)"
   ]
  },
  {
   "cell_type": "code",
   "execution_count": null,
   "metadata": {},
   "outputs": [],
   "source": []
  }
 ],
 "metadata": {
  "kernelspec": {
   "display_name": "Python 3",
   "language": "python",
   "name": "python3"
  },
  "language_info": {
   "codemirror_mode": {
    "name": "ipython",
    "version": 3
   },
   "file_extension": ".py",
   "mimetype": "text/x-python",
   "name": "python",
   "nbconvert_exporter": "python",
   "pygments_lexer": "ipython3",
   "version": "3.8.3"
  }
 },
 "nbformat": 4,
 "nbformat_minor": 4
}
