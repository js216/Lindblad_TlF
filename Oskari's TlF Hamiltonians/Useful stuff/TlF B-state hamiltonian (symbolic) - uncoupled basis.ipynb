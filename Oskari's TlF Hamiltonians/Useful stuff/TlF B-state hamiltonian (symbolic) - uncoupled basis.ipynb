{
 "cells": [
  {
   "cell_type": "markdown",
   "metadata": {},
   "source": [
    "# TlF B state Hamiltonian\n",
    "## Intro\n",
    "This notebook evaluates the Hamiltonian for the B state of thallium fluoride."
   ]
  },
  {
   "cell_type": "code",
   "execution_count": 1,
   "metadata": {},
   "outputs": [],
   "source": [
    "import numpy as np\n",
    "import sympy\n",
    "from numpy import sqrt\n",
    "import multiprocessing\n",
    "import pickle\n",
    "\n",
    "from sympy.physics.wigner import wigner_3j\n",
    "# from py3nj import wigner3j\n",
    "\n",
    "def threej_f(j1,j2,j3,m1,m2,m3):\n",
    "    return complex(wigner_3j(j1,j2,j3,m1,m2,m3))\n"
   ]
  },
  {
   "cell_type": "markdown",
   "metadata": {},
   "source": [
    "### Representing the states\n",
    "\n",
    "A state, in general, can be written as a weighted superposition of the basis states. We work in the basis $|J, m_J, I_1, m_1, I_2, m_2\\rangle$.\n",
    "\n",
    "The operations we can define on the basis states are:\n",
    "\n",
    "- construction: e.g. calling `BasisState(QN)` creates a basis state with quantum numbers `QN = (J, mJ, I1, m1, I2, m2)`;\n",
    "- equality testing;\n",
    "- inner product, returning either 0 or 1;\n",
    "- superposition and scalar multiplication, returning a `State` object\n",
    "- a convenience function to print out all quantum numbers"
   ]
  },
  {
   "cell_type": "code",
   "execution_count": 2,
   "metadata": {},
   "outputs": [],
   "source": [
    "class BasisState:\n",
    "    # constructor\n",
    "    def __init__(self, J, mJ, I1, m1, I2, m2, Omega):\n",
    "        self.J, self.mJ  = J, mJ\n",
    "        self.I1, self.m1 = I1, m1\n",
    "        self.I2, self.m2 = I2, m2\n",
    "        self.Omega = Omega\n",
    "\n",
    "    # equality testing\n",
    "    def __eq__(self, other):\n",
    "        return self.J==other.J and self.mJ==other.mJ \\\n",
    "                    and self.I1==other.I1 and self.I2==other.I2 \\\n",
    "                    and self.m1==other.m1 and self.m2==other.m2 \\\n",
    "                    and self.Omega == other.Omega\n",
    "\n",
    "    # inner product\n",
    "    def __matmul__(self, other):\n",
    "        if self == other:\n",
    "            return 1\n",
    "        else:\n",
    "            return 0\n",
    "\n",
    "    # superposition: addition\n",
    "    def __add__(self, other):\n",
    "        if self == other:\n",
    "            return State([ (2,self) ])\n",
    "        else:\n",
    "            return State([\n",
    "                (1,self), (1,other)\n",
    "            ])\n",
    "\n",
    "    # superposition: subtraction\n",
    "    def __sub__(self, other):\n",
    "        return self + (-1)*other\n",
    "\n",
    "    # scalar product (psi * a)\n",
    "    def __mul__(self, a):\n",
    "        return State([ (a, self) ])\n",
    "\n",
    "    # scalar product (a * psi)\n",
    "    def __rmul__(self, a):\n",
    "        return self * a\n",
    "    \n",
    "    def print_quantum_numbers(self):\n",
    "        print( self.J,\"%+d\"%self.mJ,\"%+0.1f\"%self.m1,\"%+0.1f\"%self.m2 )"
   ]
  },
  {
   "cell_type": "markdown",
   "metadata": {},
   "source": [
    "A general state `State` can have any number of components, so let's represent it as an list of pairs `(amp, psi)`, where `amp` is the relative amplitude of a component, and `psi` is a basis state. The same component must not appear twice on the list.\n",
    "\n",
    "There are three operations we can define on the states:\n",
    "\n",
    "- construction\n",
    "- superposition: concatenate component arrays and return a `State`\n",
    "- scalar multiplication `a * psi` and `psi * a`, division, negation\n",
    "- component-wise inner product `psi1 @ psi2`, where `psi1` is a bra, and `psi2` a ket, returning a complex number\n",
    "\n",
    "In addition, I define an iterator method to loop through the components, and the `__getitem__()` method to access the components (which are not necessarily in any particular order!). See [Classes/Iterators](https://docs.python.org/3/tutorial/classes.html#iterators) for details."
   ]
  },
  {
   "cell_type": "code",
   "execution_count": 3,
   "metadata": {},
   "outputs": [],
   "source": [
    "class State:\n",
    "    # constructor\n",
    "    def __init__(self, data=[], remove_zero_amp_cpts=True):\n",
    "        # check for duplicates\n",
    "        for i in range(len(data)):\n",
    "            amp1,cpt1 = data[i][0], data[i][1]\n",
    "            for amp2,cpt2 in data[i+1:]:\n",
    "                if cpt1 == cpt2:\n",
    "                    raise AssertionError(\"duplicate components!\")\n",
    "        # remove components with zero amplitudes\n",
    "        if remove_zero_amp_cpts:\n",
    "            self.data = [(amp,cpt) for amp,cpt in data if amp!=0]\n",
    "        else:\n",
    "            self.data = data\n",
    "        # for iteration over the State\n",
    "        self.index = len(self.data)\n",
    "\n",
    "    # superposition: addition\n",
    "    # (highly inefficient and ugly but should work)\n",
    "    def __add__(self, other):\n",
    "        data = []\n",
    "        # add components that are in self but not in other\n",
    "        for amp1,cpt1 in self.data:\n",
    "            only_in_self = True\n",
    "            for amp2,cpt2 in other.data:\n",
    "                if cpt2 == cpt1:\n",
    "                    only_in_self = False\n",
    "            if only_in_self:\n",
    "                data.append((amp1,cpt1))\n",
    "        # add components that are in other but not in self\n",
    "        for amp1,cpt1 in other.data:\n",
    "            only_in_other = True\n",
    "            for amp2,cpt2 in self.data:\n",
    "                if cpt2 == cpt1:\n",
    "                    only_in_other = False\n",
    "            if only_in_other:\n",
    "                data.append((amp1,cpt1))\n",
    "        # add components that are both in self and in other\n",
    "        for amp1,cpt1 in self.data:\n",
    "            for amp2,cpt2 in other.data:\n",
    "                if cpt2 == cpt1:\n",
    "                    data.append((amp1+amp2,cpt1))\n",
    "        return State(data)\n",
    "                \n",
    "    # superposition: subtraction\n",
    "    def __sub__(self, other):\n",
    "        return self + -1*other\n",
    "\n",
    "    # scalar product (psi * a)\n",
    "    def __mul__(self, a):\n",
    "        return State( [(a*amp,psi) for amp,psi in self.data] )\n",
    "\n",
    "    # scalar product (a * psi)\n",
    "    def __rmul__(self, a):\n",
    "        return self * a\n",
    "    \n",
    "    # scalar division (psi / a)\n",
    "    def __truediv__(self, a):\n",
    "        return self * (1/a)\n",
    "    \n",
    "    # negation\n",
    "    def __neg__(self):\n",
    "        return -1 * self\n",
    "    \n",
    "    # inner product\n",
    "    def __matmul__(self, other):\n",
    "        result = 0\n",
    "        for amp1,psi1 in self.data:\n",
    "            for amp2,psi2 in other.data:\n",
    "                result += amp1.conjugate()*amp2 * (psi1@psi2)\n",
    "        return result\n",
    "\n",
    "    # iterator methods\n",
    "    def __iter__(self):\n",
    "        return self\n",
    "    \n",
    "    def __next__(self):\n",
    "        if self.index == 0:\n",
    "            raise StopIteration\n",
    "        self.index -= 1\n",
    "        return self.data[self.index]\n",
    "    \n",
    "    # direct access to a component\n",
    "    def __getitem__(self, i):\n",
    "        return self.data[i]"
   ]
  },
  {
   "cell_type": "markdown",
   "metadata": {},
   "source": [
    "### Operators in Python\n",
    "\n",
    "Define QM operators as Python functions that take `BasisState` objects, and return `State` objects. Since we are interested in finding matrix elements, we only need the action of operators on the basis states (but it'd be easy to generalize using a `for` loop).\n",
    "\n",
    "The easiest operators to define are the diagonal ones $J^2, J_z, I_{1z}, I_{2z}$, which just multiply the state by their eigenvalue:"
   ]
  },
  {
   "cell_type": "code",
   "execution_count": 4,
   "metadata": {},
   "outputs": [],
   "source": [
    "def J2(psi):\n",
    "    return State([(psi.J*(psi.J+1),psi)])\n",
    "\n",
    "def J4(psi):\n",
    "    return State([( (psi.J*(psi.J+1))**2, psi)])\n",
    "\n",
    "def J6(psi):\n",
    "    return State([( (psi.J*(psi.J+1))**3, psi)])\n",
    "\n",
    "def Jz(psi):\n",
    "    return State([(psi.mJ,psi)])\n",
    "\n",
    "def I1z(psi):\n",
    "    return State([(psi.m1,psi)])\n",
    "\n",
    "def I2z(psi):\n",
    "    return State([(psi.m2,psi)])"
   ]
  },
  {
   "cell_type": "markdown",
   "metadata": {},
   "source": [
    "The other angular momentum operators we can obtain through the ladder operators\n",
    "\n",
    "$$ J_\\pm=J_x\\pm iJ_y. $$\n",
    "\n",
    "These are defined through their action on the basis states as (Sakurai eqns 3.5.39-40)\n",
    "\n",
    "$$ J_\\pm|J,m\\rangle=\\sqrt{(j\\mp m)(j\\pm m+1)}|jm\\pm1\\rangle. $$\n",
    "\n",
    "Similarly, $I_{1\\pm},I_{2\\pm}$ act on the $|I_1,m_1\\rangle$ and $|I_2,m_2\\rangle$ subspaces in the same way."
   ]
  },
  {
   "cell_type": "code",
   "execution_count": 5,
   "metadata": {},
   "outputs": [],
   "source": [
    "def Jp(psi):\n",
    "    amp = sqrt((psi.J-psi.mJ)*(psi.J+psi.mJ+1))\n",
    "    ket = BasisState(psi.J, psi.mJ+1, psi.I1, psi.m1, psi.I2, psi.m2, psi.Omega)\n",
    "    return State([(amp,ket)])\n",
    "\n",
    "def Jm(psi):\n",
    "    amp = sqrt((psi.J+psi.mJ)*(psi.J-psi.mJ+1))\n",
    "    ket = BasisState(psi.J, psi.mJ-1, psi.I1, psi.m1, psi.I2, psi.m2, psi.Omega)\n",
    "    return State([(amp,ket)])\n",
    "\n",
    "def I1p(psi):\n",
    "    amp = sqrt((psi.I1-psi.m1)*(psi.I1+psi.m1+1))\n",
    "    ket = BasisState(psi.J, psi.mJ, psi.I1, psi.m1+1, psi.I2, psi.m2, psi.Omega)\n",
    "    return State([(amp,ket)])\n",
    "\n",
    "def I1m(psi):\n",
    "    amp = sqrt((psi.I1+psi.m1)*(psi.I1-psi.m1+1))\n",
    "    ket = BasisState(psi.J, psi.mJ, psi.I1, psi.m1-1, psi.I2, psi.m2, psi.Omega)\n",
    "    return State([(amp,ket)])\n",
    "\n",
    "def I2p(psi):\n",
    "    amp = sqrt((psi.I2-psi.m2)*(psi.I2+psi.m2+1))\n",
    "    ket = BasisState(psi.J, psi.mJ, psi.I1, psi.m1, psi.I2, psi.m2+1, psi.Omega)\n",
    "    return State([(amp,ket)])\n",
    "\n",
    "def I2m(psi):\n",
    "    amp = sqrt((psi.I2+psi.m2)*(psi.I2-psi.m2+1))\n",
    "    ket = BasisState(psi.J, psi.mJ, psi.I1, psi.m1, psi.I2, psi.m2-1, psi.Omega)\n",
    "    return State([(amp,ket)])"
   ]
  },
  {
   "cell_type": "markdown",
   "metadata": {},
   "source": [
    "In terms of the above-defined ladder operators, we can write\n",
    "\n",
    "$$J_x=\\frac{1}{2}(J_++J_-);\\quad\n",
    "J_y=\\frac{1}{2i}(J_+-J_-),$$\n",
    "\n",
    "and similarly for $I_{1x}, I_{1y}$ and $I_{2x}, I_{2y}$."
   ]
  },
  {
   "cell_type": "code",
   "execution_count": 6,
   "metadata": {},
   "outputs": [],
   "source": [
    "def Jx(psi):\n",
    "    return half*( Jp(psi) + Jm(psi) )\n",
    "\n",
    "def Jy(psi):\n",
    "    return -half*1j*( Jp(psi) - Jm(psi) )\n",
    "\n",
    "def I1x(psi):\n",
    "    return half*( I1p(psi) + I1m(psi) )\n",
    "\n",
    "def I1y(psi):\n",
    "    return -half*1j*( I1p(psi) - I1m(psi) )\n",
    "\n",
    "def I2x(psi):\n",
    "    return half*( I2p(psi) + I2m(psi) )\n",
    "\n",
    "def I2y(psi):\n",
    "    return -half*1j*( I2p(psi) - I2m(psi) )"
   ]
  },
  {
   "cell_type": "markdown",
   "metadata": {},
   "source": [
    "### Composition of operators\n",
    "\n",
    "All operators defined above can only accept `BasisStates` as their inputs, and they all return `States` as output. To allow composition of operators,\n",
    "\n",
    "$$\\hat A\\hat B|\\psi\\rangle=\\hat A(\\hat B(|\\psi\\rangle)),$$\n",
    "\n",
    "define the following function."
   ]
  },
  {
   "cell_type": "code",
   "execution_count": 7,
   "metadata": {},
   "outputs": [],
   "source": [
    "def com(A, B, psi):\n",
    "    ABpsi = State()\n",
    "    # operate with A on all components in B|psi>\n",
    "    for amp,cpt in B(psi):\n",
    "        ABpsi += amp * A(cpt)\n",
    "    return ABpsi"
   ]
  },
  {
   "cell_type": "markdown",
   "metadata": {},
   "source": [
    "### Rotational term\n",
    "\n",
    "The simplest term in the Hamiltonian simply gives the rotational levels:\n",
    "\n",
    "$$H_\\text{rot}=B_\\text{rot}\\vec J^2.$$"
   ]
  },
  {
   "cell_type": "code",
   "execution_count": 8,
   "metadata": {},
   "outputs": [],
   "source": [
    "def Hrot(psi):        \n",
    "    return Brot * J2(psi) - Drot * J4(psi) + H_const * J6(psi)"
   ]
  },
  {
   "cell_type": "markdown",
   "metadata": {},
   "source": [
    "### $\\Lambda$-doubling term\n",
    "Couples terms with opposite values of $\\Omega$ and shifts e-parity terms up in energy and f-parity down in energy"
   ]
  },
  {
   "cell_type": "code",
   "execution_count": 9,
   "metadata": {},
   "outputs": [],
   "source": [
    "def H_LD(psi):\n",
    "    J = psi.J\n",
    "    mJ = psi.mJ\n",
    "    I1 = psi.I1\n",
    "    m1 = psi.m1\n",
    "    I2 = psi.I2\n",
    "    m2 = psi.m2\n",
    "    Omega = psi.Omega\n",
    "    Omegaprime = -Omega\n",
    "    \n",
    "    amp = (q*(-1)**(J-Omegaprime)/(2*np.sqrt(6)) * wigner_3j(J,2,J,-Omegaprime,Omegaprime-Omega, Omega)\n",
    "           *np.sqrt((2*J-1)*2*J*(2*J+1)*(2*J+2)*(2*J+3)) )\n",
    "    ket = BasisState(J, mJ, I1, m1, I2, m2, Omegaprime)\n",
    "    \n",
    "    return State([(amp,ket)])"
   ]
  },
  {
   "cell_type": "markdown",
   "metadata": {},
   "source": [
    "### C'(Tl) - term\n",
    "Coding up the C'(Tl) -term from Brown 1978 \"A determination of fundamental Zeeman parameters for the OH radical\".\n",
    "\n",
    "First as given by Brown in eqn A12:"
   ]
  },
  {
   "cell_type": "code",
   "execution_count": 10,
   "metadata": {},
   "outputs": [],
   "source": [
    "def H_c1p(psi):\n",
    "    #Find the quantum numbers of the input state\n",
    "    J = psi.J\n",
    "    mJ = psi.mJ\n",
    "    I1 = psi.I1\n",
    "    m1 = psi.m1\n",
    "    I2 = psi.I2\n",
    "    m2 = psi.m2\n",
    "    Omega = psi.Omega\n",
    "    \n",
    "    #I1, I2 and m2 must be the same for non-zero matrix element\n",
    "    I1prime = I1\n",
    "    m2prime = m2\n",
    "    I2prime = I2\n",
    "    \n",
    "    #To have non-zero matrix element need OmegaPrime = -Omega\n",
    "    Omegaprime = -Omega\n",
    "    \n",
    "    #q is chosen such that q == Omegaprime\n",
    "    q = Omega\n",
    "    \n",
    "    #Initialize container for storing states and matrix elements\n",
    "    data = []\n",
    "    \n",
    "    #Loop over the possible values of quantum numbers for which the matrix element can be non-zero\n",
    "    #Need Jprime = J+1 ... |J-1|\n",
    "    for Jprime in range(np.abs(J-1), J+2):    \n",
    "        #Loop over possible values of mJprime and m1prime\n",
    "        for mJprime in ni_range(-Jprime,Jprime+1):\n",
    "            #Must have mJ+m1 = mJprime + m1prime\n",
    "            m1prime = mJ+m1-mJprime\n",
    "            if np.abs(m1prime <= I1):\n",
    "                #Evaluate the matrix element\n",
    "\n",
    "                #Matrix element for T(J)T(I)\n",
    "                term1 = ((-1)**(Jprime-Omegaprime+I1-m1-q+mJprime)*np.sqrt(Jprime*(Jprime+1)*(2*Jprime+1)**2*(2*J+1)*I1*(I1+1)\n",
    "                                                                           *(2*I1+1))\n",
    "                         * threej_f(Jprime,1,J,-mJprime,mJprime-mJ, mJ) * threej_f(I1,1,I1,-m1prime, m1prime-m1, m1)\n",
    "                         * threej_f(Jprime, 1, J, 0, -q, Omega) * threej_f(Jprime, 1, Jprime, -Omegaprime, -q, 0))\n",
    "\n",
    "                #Matrix element for T(I)T(J)\n",
    "                term2 = ((-1)**(mJprime+J-Omegaprime+I1-m1-q)*np.sqrt(J*(J+1)*(2*J+1)**2*(2*Jprime+1)*I1*(I1+1)\n",
    "                                                                                   *(2*I1+1))\n",
    "                        *threej_f(Jprime,1,J,-mJprime,mJprime-mJ,mJ) * threej_f(Jprime,1,J,-Omegaprime,-q,0)\n",
    "                        *threej_f(J,1,J,0,-q,Omega) * threej_f(I1,1,I1,-m1prime, m1prime-m1, m1))\n",
    "\n",
    "                amp = c_Tl_p *0.5*(term1+term2)\n",
    "\n",
    "                basis_state = BasisState(Jprime, mJprime, I1prime, m1prime, I2prime, m2prime, Omegaprime)\n",
    "\n",
    "                if amp != 0:\n",
    "                        data.append((amp, basis_state))\n",
    "                    \n",
    "    return State(data)"
   ]
  },
  {
   "cell_type": "markdown",
   "metadata": {},
   "source": [
    "### Electron magnetic hyperfine operator\n",
    "Since the B state is a triplet pi state, it has electron magnetic hyperfine structure. The coupling is described by the Hamiltonian $ H_{\\mathrm{mhf}} = a\\, \\mathbf{I} \\cdot \\mathbf{L} + b\\, \\mathbf{I} \\cdot \\mathbf{S} +c \\,I_z\\, S_z  $ which reduces to $ H_{\\mathrm{mhf}}^{eff} =  [a \\,L_z + (b+c)\\, S_z]\\,I_z = h_\\Omega \\, I_z $ since the raising and lowering operators for L and S (electron orbital and spin angular momentum) only couple different electronic states which are very far in energy and thus the effect of the off-diagonal elements is strongly suppressed. The z-direction in $I_z$ is along the internuclear axis of the molecule and therefore when evaluating the matrix elements one needs to rotate the spin operator to the lab fixed frame. This results in non-zero matrix elements between states with different J.\n",
    "\n",
    "In the uncoupled basis these matrix elements are given by\n",
    "\n",
    "\\begin{equation*}\n",
    "\\mathrm{<J, m_J, \\Omega, I_1, m_1, I_2, m_2 |\\, I_z(Tl)\\, | J', m'_J, \\Omega', I'_1, m'_1, I'_2, m'_2>} \\\\\n",
    "= - \n",
    "\\begin{pmatrix}\n",
    "J & 1 & J' \\\\\n",
    "-\\Omega & 0 & \\Omega'\n",
    "\\end{pmatrix}\n",
    "\\lbrack (2J+1)(2J'+1)I_1(I_1+1)(2I_1+1) \\rbrack^{\\frac{1}{2}} \\delta_{I_2,I'_2} \\delta_{m_2,m'_2} \\\\\n",
    "\\sum_{p=\\,-1}^{+1} (-1)^{p-m_J+I_1-m_1}\n",
    "\\begin{pmatrix}\n",
    "J & 1 & J' \\\\\n",
    "-m_J & -p & m'_J\n",
    "\\end{pmatrix}\n",
    "\\begin{pmatrix}\n",
    "I_1 & 1 & I'_1 \\\\\n",
    "-m_1 & p & m'_1\n",
    "\\end{pmatrix}\n",
    "\\end{equation*}\n",
    "\n",
    "for Tl and \n",
    "\n",
    "\\begin{equation*}\n",
    "\\mathrm{<J, m_J, \\Omega, I_1, m_1, I_2, m_2 |\\, I_z(Tl)\\, | J', m'_J, \\Omega', I'_1, m'_1, I'_2, m'_2>} \\\\\n",
    "= - \n",
    "\\begin{pmatrix}\n",
    "J & 1 & J' \\\\\n",
    "-\\Omega & 0 & \\Omega'\n",
    "\\end{pmatrix}\n",
    "\\lbrack (2J+1)(2J'+1)I_2(I_2+1)(2I_2+1) \\rbrack^{\\frac{1}{2}} \\delta_{I_1,I'_1} \\delta_{m_1,m'_1} \\\\\n",
    "\\sum_{p=\\,-1}^{+1} (-1)^{p-m_J+I_2-m_2}\n",
    "\\begin{pmatrix}\n",
    "J & 1 & J' \\\\\n",
    "-m_J & -p & m'_J\n",
    "\\end{pmatrix}\n",
    "\\begin{pmatrix}\n",
    "I_2 & 1 & I'_2 \\\\\n",
    "-m_2 & p & m'_2\n",
    "\\end{pmatrix}\n",
    "\\end{equation*}\n",
    "\n",
    "for F"
   ]
  },
  {
   "cell_type": "code",
   "execution_count": 11,
   "metadata": {},
   "outputs": [],
   "source": [
    "#Import Wigner 3j symbol\n",
    "from sympy.physics.wigner import wigner_3j\n",
    "\n",
    "def H_mhf_Tl(psi):\n",
    "    #Find the quantum numbers of the input state\n",
    "    J = psi.J\n",
    "    mJ = psi.mJ\n",
    "    I1 = psi.I1\n",
    "    m1 = psi.m1\n",
    "    I2 = psi.I2\n",
    "    m2 = psi.m2\n",
    "    Omega = psi.Omega\n",
    "    \n",
    "    #I1, I2 and m2 must be the same for non-zero matrix element\n",
    "    I2prime = I2\n",
    "    m2prime = m2\n",
    "    I1prime = I1\n",
    "    \n",
    "    #Initialize container for storing states and matrix elements\n",
    "    data = []\n",
    "    \n",
    "    #Loop over the possible values of quantum numbers for which the matrix element can be non-zero\n",
    "    #Need Jprime = J+1 ... |J-1|\n",
    "    for Jprime in np.arange(np.abs(J-1), J+2):\n",
    "        #Evaluate the part of the matrix element that is common for all p\n",
    "        common_coefficient = h1_Tl*wigner_3j(J, 1, Jprime, -Omega, 0, Omega)*sqrt((2*J+1)*(2*Jprime+1)*I1*(I1+1)*(2*I1+1))\n",
    "        \n",
    "        #Loop over the spherical tensor components of I1:\n",
    "        for p in np.arange(-1,2):\n",
    "            #To have non-zero matrix element need mJ-p = mJprime\n",
    "            mJprime = mJ + p\n",
    "            \n",
    "            #Also need m2 - p = m2prime\n",
    "            m1prime = m1 - p\n",
    "            \n",
    "            #Check that mJprime and m2prime are physical\n",
    "            if np.abs(mJprime) <= Jprime and np.abs(m1prime) <= I1prime:\n",
    "                #Calculate rest of matrix element\n",
    "                p_factor = ((-1)**(p-mJ+I1-m1-Omega)*wigner_3j(J, 1, Jprime, -mJ, -p, mJprime)\n",
    "                               *wigner_3j(I1, 1, I1prime, -m1, p, m1prime))\n",
    "                               \n",
    "                amp = Omega*common_coefficient*p_factor\n",
    "                basis_state = BasisState(Jprime, mJprime, I1prime, m1prime, I2prime, m2prime, psi.Omega)\n",
    "                if amp != 0:\n",
    "                    data.append((amp, basis_state))\n",
    "    \n",
    "    return State(data)\n",
    "            "
   ]
  },
  {
   "cell_type": "code",
   "execution_count": 12,
   "metadata": {},
   "outputs": [],
   "source": [
    "def H_mhf_F(psi):\n",
    "    #Find the quantum numbers of the input state\n",
    "    J = psi.J\n",
    "    mJ = psi.mJ\n",
    "    I1 = psi.I1\n",
    "    m1 = psi.m1\n",
    "    I2 = psi.I2\n",
    "    m2 = psi.m2\n",
    "    Omega = psi.Omega\n",
    "    \n",
    "    #I1, I2 and m1 must be the same for non-zero matrix element\n",
    "    I1prime = I1\n",
    "    m1prime = m1\n",
    "    I2prime = I2\n",
    "    \n",
    "    #Initialize container for storing states and matrix elements\n",
    "    data = []\n",
    "    \n",
    "    #Loop over the possible values of quantum numbers for which the matrix element can be non-zero\n",
    "    #Need Jprime = J+1 ... |J-1|\n",
    "    for Jprime in np.arange(np.abs(J-1), J+2):\n",
    "        #Evaluate the part of the matrix element that is common for all p\n",
    "        common_coefficient = h1_F*wigner_3j(J, 1, Jprime, -Omega, 0, Omega)*sqrt((2*J+1)*(2*Jprime+1)*I2*(I2+1)*(2*I2+1))\n",
    "        \n",
    "        #Loop over the spherical tensor components of I2:\n",
    "        for p in np.arange(-1,2):\n",
    "            #To have non-zero matrix element need mJ-p = mJprime\n",
    "            mJprime = mJ + p\n",
    "            \n",
    "            #Also need m2 - p = m2prime\n",
    "            m2prime = m2 - p\n",
    "            \n",
    "            #Check that mJprime and m2prime are physical\n",
    "            if np.abs(mJprime) <= Jprime and np.abs(m2prime) <= I2prime:\n",
    "                #Calculate rest of matrix element\n",
    "                p_factor = ((-1)**(p-mJ+I2-m2-Omega)*wigner_3j(J, 1, Jprime, -mJ, -p, mJprime)\n",
    "                               *wigner_3j(I2, 1, I2prime, -m2, p, m2prime))\n",
    "                               \n",
    "                amp = Omega*common_coefficient*p_factor\n",
    "                basis_state = BasisState(Jprime, mJprime, I1prime, m1prime, I2prime, m2prime, psi.Omega)\n",
    "                if amp != 0:\n",
    "                    data.append((amp, basis_state))\n",
    "        \n",
    "        \n",
    "    return State(data)"
   ]
  },
  {
   "cell_type": "markdown",
   "metadata": {},
   "source": [
    "### $c_1$-term\n",
    "Familiar from the X-state Hamiltonian"
   ]
  },
  {
   "cell_type": "code",
   "execution_count": 13,
   "metadata": {},
   "outputs": [],
   "source": [
    "def Hc1(psi):\n",
    "    return c1 * ( com(I1z,Jz,psi) + half*(com(I1p,Jm,psi)+com(I1m,Jp,psi)) )"
   ]
  },
  {
   "cell_type": "code",
   "execution_count": 14,
   "metadata": {},
   "outputs": [],
   "source": [
    "def Hff(psi):\n",
    "    return Hrot(psi)  + H_mhf_Tl(psi) + H_mhf_F(psi) + Hc1(psi)#+ H_LD(psi)"
   ]
  },
  {
   "cell_type": "markdown",
   "metadata": {},
   "source": [
    "### Stark Hamiltonian\n",
    "\n",
    "Again splitting the Hamiltonian into the three spatial components, we have\n",
    "\n",
    "$$H^\\text{S}=-\\vec d\\cdot\\vec E\n",
    "= E_xH^\\text{S}_x+E_yH^\\text{S}_y+E_zH^\\text{S}_z.\n",
    "= e(E_{-1}r_{-1} + E_{0}r_{0} + E_{1}r_{1})\n",
    "$$\n",
    "\n",
    "The matrix elements are given by \n",
    "\n",
    "$$\n",
    "\\langle J', m_J', \\Omega |d_p| J, m_J, \\Omega\\rangle = \\langle d \\rangle (-1)^{m_J'- \\Omega'}\\left[(2J+1)(2J'+1)\\right]^{1/2} \\mathrm{ThreeJ(J',1,J,-m_j',p,m_J) }\\mathrm{ThreeJ(J',1',J,-\\Omega',\\Omega'-\\Omega,\\Omega)}\n",
    "$$"
   ]
  },
  {
   "cell_type": "code",
   "execution_count": 15,
   "metadata": {},
   "outputs": [],
   "source": [
    "def d_p(p,psi):\n",
    "    #Find the quantum numbers of the input state\n",
    "    J = psi.J\n",
    "    mJ = psi.mJ\n",
    "    I1 = psi.I1\n",
    "    m1 = psi.m1\n",
    "    I2 = psi.I2\n",
    "    m2 = psi.m2\n",
    "    Omega = psi.Omega\n",
    "    \n",
    "    #The other state must have the same value for I1,m1,I2,m2,mJ and Omega\n",
    "    I1prime = I1\n",
    "    m1prime = m1\n",
    "    I2prime = I2\n",
    "    m2prime = m2\n",
    "    Omegaprime = Omega\n",
    "    mJprime = mJ+p\n",
    "    q = Omegaprime - Omega\n",
    "    \n",
    "    #Initialize container for storing states and matrix elements\n",
    "    data = []\n",
    "    \n",
    "    #Loop over possible values of Jprime\n",
    "    for Jprime in range(np.abs(J-1),J+2):\n",
    "        amp = ((-1)**(mJprime - Omegaprime) * np.sqrt((2*J+1)*(2*Jprime+1))\n",
    "               * threej_f(Jprime,1,J,-mJprime,p, mJ) * threej_f(Jprime,1,J,-Omegaprime,q, Omega))\n",
    "\n",
    "        basis_state = BasisState(Jprime, mJprime, I1prime, m1prime, I2prime, m2prime, Omegaprime)\n",
    "\n",
    "\n",
    "        if amp != 0:\n",
    "            data.append((amp, basis_state))\n",
    "\n",
    "                  \n",
    "    return State(data)    "
   ]
  },
  {
   "cell_type": "code",
   "execution_count": 16,
   "metadata": {},
   "outputs": [],
   "source": [
    "def HSx(psi):\n",
    "    return -D_TlF * ( d_p(-1,psi) - d_p(+1,psi) ) / np.sqrt(2)\n",
    "\n",
    "def HSy(psi):\n",
    "    return -D_TlF * 1j * ( d_p(-1,psi) + d_p(+1,psi) ) / np.sqrt(2)\n",
    "\n",
    "def HSz(psi):\n",
    "    return -D_TlF * d_p(0,psi)"
   ]
  },
  {
   "cell_type": "markdown",
   "metadata": {},
   "source": [
    "### Zeeman Hamiltonian\n",
    "Only defining for B-field along z for now"
   ]
  },
  {
   "cell_type": "code",
   "execution_count": 17,
   "metadata": {},
   "outputs": [],
   "source": [
    "def HZz(psi):\n",
    "    #Find the quantum numbers of the input state\n",
    "    J = psi.J\n",
    "    mJ = psi.mJ\n",
    "    I1 = psi.I1\n",
    "    m1 = psi.m1\n",
    "    I2 = psi.I2\n",
    "    m2 = psi.m2\n",
    "    Omega = psi.Omega\n",
    "    S = 1\n",
    "    \n",
    "    #The other state must have the same value for I1,m1,I2,m2,mJ and Omega\n",
    "    I1prime = I1\n",
    "    m1prime = m1\n",
    "    I2prime = I2\n",
    "    m2prime = m2\n",
    "    Omegaprime = Omega\n",
    "    mJprime = mJ\n",
    "    \n",
    "    #Initialize container for storing states and matrix elements\n",
    "    data = []\n",
    "    \n",
    "    #Loop over possible values of Jprime\n",
    "    for Jprime in range(np.abs(J-1),J+2):\n",
    "        \n",
    "        #Electron orbital angular momentum term\n",
    "        L_term = (gL * Omega *np.sqrt((2*J+1)*(2*Jprime+1)) * (-1)**(mJprime-Omegaprime)\n",
    "                  * threej_f(Jprime,1,J,-mJprime,0,mJ) * threej_f(Jprime,1,J,-Omegaprime,0,Omega))\n",
    "        \n",
    "        #Electron spin term\n",
    "        S_term = (gS * np.sqrt((2*J+1)*(2*Jprime+1)) * (-1)**(mJprime-Omegaprime)\n",
    "                  * threej_f(Jprime,1,J,-mJprime,0,mJ) * threej_f(Jprime,1,J,-Omegaprime,0,Omega)\n",
    "                  * (-1)**(S)*threej_f(S,1,S,0,0,0) * np.sqrt(S*(S+1)*(2*S+1)))\n",
    "        \n",
    "        amp = L_term+S_term\n",
    "        basis_state = BasisState(Jprime, mJprime, I1prime, m1prime, I2prime, m2prime, Omegaprime)\n",
    "        \n",
    "        \n",
    "        if amp != 0:\n",
    "            data.append((amp, basis_state))\n",
    "                  \n",
    "                  \n",
    "    return State(data)    "
   ]
  },
  {
   "cell_type": "markdown",
   "metadata": {},
   "source": [
    "### Finding the matrix elements\n",
    "\n",
    "With all the operators defined, we can evaluate the matrix elements for a given range of quantum numbers. We shall need to generate a non-integer range list (e.g., from -3/2 to +3/2):"
   ]
  },
  {
   "cell_type": "code",
   "execution_count": 18,
   "metadata": {},
   "outputs": [],
   "source": [
    "def ni_range(x0, x1, dx=1):\n",
    "    # sanity check arguments\n",
    "    if dx==0:\n",
    "        raise ValueError(\"invalid parameters: dx==0\")\n",
    "    if x0>x1 and dx>=0:\n",
    "        raise ValueError(\"invalid parameters: x0>x1 and dx>=0\")\n",
    "    if x0<x1 and dx<=0:\n",
    "        raise ValueError(\"invalid parameters: x0<x1 and dx<=0\")\n",
    "        \n",
    "    # generate range list\n",
    "    range_list = []\n",
    "    x = x0\n",
    "    while x < x1:\n",
    "        range_list.append(x)\n",
    "        x += dx\n",
    "    return range_list"
   ]
  },
  {
   "cell_type": "markdown",
   "metadata": {},
   "source": [
    "Define constants for TlF:"
   ]
  },
  {
   "cell_type": "code",
   "execution_count": 19,
   "metadata": {},
   "outputs": [],
   "source": [
    "# half = sympy.Rational(1,2)\n",
    "half = 0.5\n",
    "\n",
    "Jmin = 1\n",
    "Jmax = 10 # max J value in Hamiltonian\n",
    "I_Tl = half             # I1 in Ramsey's notation\n",
    "I_F  = half             # I2 in Ramsey's notation\n",
    "\n",
    "Brot, Drot, H_const = sympy.symbols('Brot Drot H_const')\n",
    "h1_Tl, h1_F = sympy.symbols('h1_Tl h1_F')\n",
    "q = sympy.symbols('q')\n",
    "c1 = sympy.symbols('c1')\n",
    "c_Tl_p = sympy.symbols('c_Tl_p')\n",
    "D_TlF = sympy.symbols('D_TlF')\n",
    "gL, gS = sympy.symbols('gL gS')"
   ]
  },
  {
   "cell_type": "markdown",
   "metadata": {},
   "source": [
    " Write down the basis as a list of `BasisState` components:"
   ]
  },
  {
   "cell_type": "code",
   "execution_count": 20,
   "metadata": {},
   "outputs": [],
   "source": [
    "Omegas = [-1,1]\n",
    "# QN = [BasisState(J,mJ,I_Tl,m1,I_F,m2, Omega)\n",
    "#       for J  in ni_range(Jmin, Jmax+1)\n",
    "#       for mJ in ni_range(-J,J+1)\n",
    "#       for m1 in ni_range(-I_Tl,I_Tl+1)\n",
    "#       for m2 in ni_range(-I_F,I_F+1)\n",
    "#       for Omega in Omegas\n",
    "#      ]\n",
    "\n",
    "#Write down a basis where the mJ, m1 and m2 values all sum to zero so mF = 0\n",
    "QN = []\n",
    "\n",
    "for Omega in Omegas:\n",
    "    for J in np.arange(Jmin, Jmax+1):\n",
    "        for m1 in np.arange(-I_Tl,I_Tl+1):\n",
    "            for m2 in np.arange(-I_F,I_F+1):\n",
    "                mJ = 0-m1-m2\n",
    "\n",
    "                if np.abs(mJ) <= J:\n",
    "                    QN.append(BasisState(J,mJ,I_Tl,m1,I_F,m2, Omega))"
   ]
  },
  {
   "cell_type": "markdown",
   "metadata": {},
   "source": [
    "The field-free and Stark/Zeeman components of the Hamiltonian then have the matrix elements (evaluate using `multiprocessing` to speed things up)"
   ]
  },
  {
   "cell_type": "code",
   "execution_count": 21,
   "metadata": {},
   "outputs": [
    {
     "data": {
      "application/vnd.jupyter.widget-view+json": {
       "model_id": "858601dcd2b64a1fa2929681d79858e1",
       "version_major": 2,
       "version_minor": 0
      },
      "text/plain": [
       "HBox(children=(FloatProgress(value=1.0, bar_style='info', max=1.0), HTML(value='')))"
      ]
     },
     "metadata": {},
     "output_type": "display_data"
    },
    {
     "name": "stdout",
     "output_type": "stream",
     "text": [
      "\n"
     ]
    },
    {
     "data": {
      "application/vnd.jupyter.widget-view+json": {
       "model_id": "ecad29bfaa174a20a9d5f8c561dd5732",
       "version_major": 2,
       "version_minor": 0
      },
      "text/plain": [
       "HBox(children=(FloatProgress(value=1.0, bar_style='info', max=1.0), HTML(value='')))"
      ]
     },
     "metadata": {},
     "output_type": "display_data"
    },
    {
     "name": "stdout",
     "output_type": "stream",
     "text": [
      "\n"
     ]
    },
    {
     "data": {
      "application/vnd.jupyter.widget-view+json": {
       "model_id": "8628c351b0024f9280bd0362db64b61c",
       "version_major": 2,
       "version_minor": 0
      },
      "text/plain": [
       "HBox(children=(FloatProgress(value=1.0, bar_style='info', max=1.0), HTML(value='')))"
      ]
     },
     "metadata": {},
     "output_type": "display_data"
    },
    {
     "name": "stdout",
     "output_type": "stream",
     "text": [
      "\n"
     ]
    },
    {
     "data": {
      "application/vnd.jupyter.widget-view+json": {
       "model_id": "20743bc892154bfaa3650855eaae0ddf",
       "version_major": 2,
       "version_minor": 0
      },
      "text/plain": [
       "HBox(children=(FloatProgress(value=1.0, bar_style='info', max=1.0), HTML(value='')))"
      ]
     },
     "metadata": {},
     "output_type": "display_data"
    },
    {
     "name": "stdout",
     "output_type": "stream",
     "text": [
      "\n"
     ]
    },
    {
     "data": {
      "application/vnd.jupyter.widget-view+json": {
       "model_id": "252bee2cc3974014a4f16c7c3dec46fb",
       "version_major": 2,
       "version_minor": 0
      },
      "text/plain": [
       "HBox(children=(FloatProgress(value=1.0, bar_style='info', max=1.0), HTML(value='')))"
      ]
     },
     "metadata": {},
     "output_type": "display_data"
    },
    {
     "name": "stdout",
     "output_type": "stream",
     "text": [
      "\n"
     ]
    },
    {
     "data": {
      "application/vnd.jupyter.widget-view+json": {
       "model_id": "e53dc51bdfa04d7fad025c8f3b1a1697",
       "version_major": 2,
       "version_minor": 0
      },
      "text/plain": [
       "HBox(children=(FloatProgress(value=1.0, bar_style='info', max=1.0), HTML(value='')))"
      ]
     },
     "metadata": {},
     "output_type": "display_data"
    },
    {
     "name": "stdout",
     "output_type": "stream",
     "text": [
      "\n"
     ]
    },
    {
     "data": {
      "application/vnd.jupyter.widget-view+json": {
       "model_id": "61b5a5cda81147b4a37caaaf23b9b385",
       "version_major": 2,
       "version_minor": 0
      },
      "text/plain": [
       "HBox(children=(FloatProgress(value=1.0, bar_style='info', max=1.0), HTML(value='')))"
      ]
     },
     "metadata": {},
     "output_type": "display_data"
    },
    {
     "name": "stdout",
     "output_type": "stream",
     "text": [
      "\n"
     ]
    },
    {
     "data": {
      "application/vnd.jupyter.widget-view+json": {
       "model_id": "344a294fcea342f4ac1e55bc3067c0e6",
       "version_major": 2,
       "version_minor": 0
      },
      "text/plain": [
       "HBox(children=(FloatProgress(value=1.0, bar_style='info', max=1.0), HTML(value='')))"
      ]
     },
     "metadata": {},
     "output_type": "display_data"
    },
    {
     "name": "stdout",
     "output_type": "stream",
     "text": [
      "\n"
     ]
    },
    {
     "data": {
      "application/vnd.jupyter.widget-view+json": {
       "model_id": "dc59b1a866804df399d5ca91193be361",
       "version_major": 2,
       "version_minor": 0
      },
      "text/plain": [
       "HBox(children=(FloatProgress(value=1.0, bar_style='info', max=1.0), HTML(value='')))"
      ]
     },
     "metadata": {},
     "output_type": "display_data"
    },
    {
     "name": "stdout",
     "output_type": "stream",
     "text": [
      "\n"
     ]
    },
    {
     "data": {
      "application/vnd.jupyter.widget-view+json": {
       "model_id": "57cc30b185cf4da4b3261da40c9a7bb5",
       "version_major": 2,
       "version_minor": 0
      },
      "text/plain": [
       "HBox(children=(FloatProgress(value=1.0, bar_style='info', max=1.0), HTML(value='')))"
      ]
     },
     "metadata": {},
     "output_type": "display_data"
    },
    {
     "name": "stdout",
     "output_type": "stream",
     "text": [
      "\n",
      "Wall time: 3min 59s\n"
     ]
    }
   ],
   "source": [
    "%%time\n",
    "from tqdm.notebook import tqdm\n",
    "\n",
    "def HMatElems(H, QN=QN):\n",
    "    result = sympy.zeros(len(QN),len(QN))\n",
    "    for i,a in tqdm(enumerate(QN)):\n",
    "        for j,b in enumerate(QN):\n",
    "            result[i,j] = (1*a)@H(b)\n",
    "            \n",
    "    return result\n",
    "\n",
    "H_ops = [HZz, HSx, HSy, HSz,Hrot, H_mhf_Tl, H_mhf_F, Hc1, H_LD, H_c1p]\n",
    "HZz, HSx_m, HSy_m, HSz_m, Hrot_m, H_mhf_Tl_m, H_mhf_F_m, Hc1_m, H_LD_m, H_c1p_m = map(HMatElems, H_ops)\n",
    "\n",
    "# Hff_m = HMatElems(Hff)\n"
   ]
  },
  {
   "cell_type": "markdown",
   "metadata": {},
   "source": [
    "Store the result of the calculation as text files and Python `pickle`s:"
   ]
  },
  {
   "cell_type": "code",
   "execution_count": 22,
   "metadata": {},
   "outputs": [],
   "source": [
    "with open(\"./Saved Hamiltonians/B_hamiltonians_symbolic_J1to10_mF0.py\", 'wb') as f:\n",
    "    pickle.dump(\n",
    "        {\n",
    "            \"Hrot\" : Hrot_m,\n",
    "            \"H_mhf_Tl\": H_mhf_Tl_m,\n",
    "            \"H_mhf_F\": H_mhf_F_m,\n",
    "            \"Hc1\":Hc1_m,\n",
    "            \"H_LD\": H_LD_m,\n",
    "            \"H_c1_p\" : H_c1p_m,\n",
    "#             \"HSx\" : HSx_m,\n",
    "#             \"HSy\" : HSy_m,\n",
    "#             \"HSz\" : HSz_m,\n",
    "#             \"HZz\" : HZz_m\n",
    "        },\n",
    "        f\n",
    "    )"
   ]
  },
  {
   "cell_type": "code",
   "execution_count": null,
   "metadata": {},
   "outputs": [],
   "source": []
  }
 ],
 "metadata": {
  "kernelspec": {
   "display_name": "Python 3",
   "language": "python",
   "name": "python3"
  },
  "language_info": {
   "codemirror_mode": {
    "name": "ipython",
    "version": 3
   },
   "file_extension": ".py",
   "mimetype": "text/x-python",
   "name": "python",
   "nbconvert_exporter": "python",
   "pygments_lexer": "ipython3",
   "version": "3.7.4"
  }
 },
 "nbformat": 4,
 "nbformat_minor": 2
}
